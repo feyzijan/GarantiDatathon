{
 "cells": [
  {
   "cell_type": "code",
   "execution_count": 243,
   "metadata": {},
   "outputs": [],
   "source": [
    "import pandas as pd\n",
    "import os"
   ]
  },
  {
   "cell_type": "code",
   "execution_count": 244,
   "metadata": {},
   "outputs": [],
   "source": [
    "path = os.path.join('OriginalData', 'skills.csv')\n",
    "data = pd.read_csv(path)"
   ]
  },
  {
   "cell_type": "code",
   "execution_count": 245,
   "metadata": {},
   "outputs": [
    {
     "data": {
      "text/html": [
       "<div>\n",
       "<style scoped>\n",
       "    .dataframe tbody tr th:only-of-type {\n",
       "        vertical-align: middle;\n",
       "    }\n",
       "\n",
       "    .dataframe tbody tr th {\n",
       "        vertical-align: top;\n",
       "    }\n",
       "\n",
       "    .dataframe thead th {\n",
       "        text-align: right;\n",
       "    }\n",
       "</style>\n",
       "<table border=\"1\" class=\"dataframe\">\n",
       "  <thead>\n",
       "    <tr style=\"text-align: right;\">\n",
       "      <th></th>\n",
       "      <th>user_id</th>\n",
       "      <th>skill</th>\n",
       "    </tr>\n",
       "  </thead>\n",
       "  <tbody>\n",
       "    <tr>\n",
       "      <th>0</th>\n",
       "      <td>1</td>\n",
       "      <td>Mühendislik</td>\n",
       "    </tr>\n",
       "    <tr>\n",
       "      <th>1</th>\n",
       "      <td>1</td>\n",
       "      <td>Eğitim</td>\n",
       "    </tr>\n",
       "    <tr>\n",
       "      <th>2</th>\n",
       "      <td>2</td>\n",
       "      <td>Android</td>\n",
       "    </tr>\n",
       "    <tr>\n",
       "      <th>3</th>\n",
       "      <td>2</td>\n",
       "      <td>Java</td>\n",
       "    </tr>\n",
       "    <tr>\n",
       "      <th>4</th>\n",
       "      <td>2</td>\n",
       "      <td>3D Studio Max</td>\n",
       "    </tr>\n",
       "    <tr>\n",
       "      <th>...</th>\n",
       "      <td>...</td>\n",
       "      <td>...</td>\n",
       "    </tr>\n",
       "    <tr>\n",
       "      <th>1398438</th>\n",
       "      <td>66273</td>\n",
       "      <td>CI/CD</td>\n",
       "    </tr>\n",
       "    <tr>\n",
       "      <th>1398439</th>\n",
       "      <td>66273</td>\n",
       "      <td>Terraform</td>\n",
       "    </tr>\n",
       "    <tr>\n",
       "      <th>1398440</th>\n",
       "      <td>66273</td>\n",
       "      <td>MongoDB</td>\n",
       "    </tr>\n",
       "    <tr>\n",
       "      <th>1398441</th>\n",
       "      <td>66273</td>\n",
       "      <td>Go (Programming Language)</td>\n",
       "    </tr>\n",
       "    <tr>\n",
       "      <th>1398442</th>\n",
       "      <td>66273</td>\n",
       "      <td>Packer</td>\n",
       "    </tr>\n",
       "  </tbody>\n",
       "</table>\n",
       "<p>1398443 rows × 2 columns</p>\n",
       "</div>"
      ],
      "text/plain": [
       "         user_id                      skill\n",
       "0              1                Mühendislik\n",
       "1              1                     Eğitim\n",
       "2              2                    Android\n",
       "3              2                       Java\n",
       "4              2              3D Studio Max\n",
       "...          ...                        ...\n",
       "1398438    66273                      CI/CD\n",
       "1398439    66273                  Terraform\n",
       "1398440    66273                    MongoDB\n",
       "1398441    66273  Go (Programming Language)\n",
       "1398442    66273                     Packer\n",
       "\n",
       "[1398443 rows x 2 columns]"
      ]
     },
     "execution_count": 245,
     "metadata": {},
     "output_type": "execute_result"
    }
   ],
   "source": [
    "data"
   ]
  },
  {
   "cell_type": "code",
   "execution_count": 246,
   "metadata": {},
   "outputs": [
    {
     "data": {
      "text/plain": [
       "(1398443, 2)"
      ]
     },
     "execution_count": 246,
     "metadata": {},
     "output_type": "execute_result"
    }
   ],
   "source": [
    "# Show amount of rows\n",
    "data.shape"
   ]
  },
  {
   "cell_type": "code",
   "execution_count": 247,
   "metadata": {},
   "outputs": [
    {
     "data": {
      "text/plain": [
       "53025"
      ]
     },
     "execution_count": 247,
     "metadata": {},
     "output_type": "execute_result"
    }
   ],
   "source": [
    "# Show amount of unique skills\n",
    "data['skill'].nunique()"
   ]
  },
  {
   "cell_type": "code",
   "execution_count": 248,
   "metadata": {},
   "outputs": [],
   "source": [
    "# Lowercase all the skills\n",
    "data['skill'] = data['skill'].str.lower()"
   ]
  },
  {
   "cell_type": "code",
   "execution_count": 249,
   "metadata": {},
   "outputs": [],
   "source": [
    "# remove trailing and leading spaces\n",
    "data['skill'] = data['skill'].str.strip()"
   ]
  },
  {
   "cell_type": "code",
   "execution_count": 250,
   "metadata": {},
   "outputs": [],
   "source": [
    "# if key is found in dataframe, we will rename to value from this dict\n",
    "skill_rename_dict = {\n",
    "    'sql': 'sql',\n",
    "    'selenium': 'selenium',\n",
    "    'microsoft': 'microsoft',\n",
    "    'amazon': 'aws',\n",
    "    'aws': 'aws',\n",
    "    'liderlik': 'leadership',\n",
    "    'lider': 'leadership',\n",
    "    'oyun': 'game',\n",
    "    'agile': 'agile',\n",
    "    'algorit': 'algorithm',\n",
    "    'program': 'programming',\n",
    "    'proje': 'project',\n",
    "    'web': 'web',\n",
    "}\n",
    "\n",
    "# Rename now\n",
    "for key, value in skill_rename_dict.items():\n",
    "    data['skill'] = data['skill'].apply(lambda x: value if key in x else x)"
   ]
  },
  {
   "cell_type": "code",
   "execution_count": 252,
   "metadata": {},
   "outputs": [],
   "source": [
    "# Rows to drop\n",
    "drop_keywords = ['eğitim', 'mühendislik',\n",
    "                'yabancı dil', 'yabancı dil bilgisi',\n",
    "                'yabancı', 'ingilizce', 'i̇ngilizce', 'almanca', 'fransızca',\n",
    "                'rusça', 'arapça', 'türkçe'\n",
    "                ]\n",
    "# If keyword is found in skill name, we will drop the row\n",
    "for keyword in drop_keywords:\n",
    "    data = data[~data['skill'].str.contains(keyword)]"
   ]
  },
  {
   "cell_type": "code",
   "execution_count": 253,
   "metadata": {},
   "outputs": [],
   "source": [
    "# Drop rows where skill is only found once in the dataset\n",
    "data = data.groupby('skill').filter(lambda x: len(x) > 1)"
   ]
  },
  {
   "cell_type": "code",
   "execution_count": 254,
   "metadata": {},
   "outputs": [],
   "source": [
    "# Remove duplicates\n",
    "data = data.drop_duplicates()"
   ]
  },
  {
   "cell_type": "code",
   "execution_count": 255,
   "metadata": {},
   "outputs": [
    {
     "data": {
      "text/plain": [
       "23451"
      ]
     },
     "execution_count": 255,
     "metadata": {},
     "output_type": "execute_result"
    }
   ],
   "source": [
    "# Show amount of unique skills after cleaning\n",
    "data['skill'].nunique()"
   ]
  },
  {
   "cell_type": "code",
   "execution_count": 256,
   "metadata": {},
   "outputs": [
    {
     "data": {
      "text/plain": [
       "sql                       34539\n",
       "java                      24911\n",
       "javascript                24304\n",
       "c#                        23745\n",
       "programming               23002\n",
       "                          ...  \n",
       "time sensitive network        1\n",
       "hxc                           1\n",
       "igaming                       1\n",
       "neo                           1\n",
       "b-pro                         1\n",
       "Name: skill, Length: 23451, dtype: int64"
      ]
     },
     "execution_count": 256,
     "metadata": {},
     "output_type": "execute_result"
    }
   ],
   "source": [
    "# Show skills that appear the most\n",
    "data['skill'].value_counts()"
   ]
  },
  {
   "cell_type": "code",
   "execution_count": 257,
   "metadata": {},
   "outputs": [
    {
     "data": {
      "text/plain": [
       "(1272196, 2)"
      ]
     },
     "execution_count": 257,
     "metadata": {},
     "output_type": "execute_result"
    }
   ],
   "source": [
    "# Show amount of rows\n",
    "data.shape"
   ]
  },
  {
   "cell_type": "code",
   "execution_count": 258,
   "metadata": {},
   "outputs": [],
   "source": [
    "# We show how many different skills a user has\n",
    "data = data.groupby('user_id')['skill'].nunique().reset_index()\n",
    "# Rename skill into skill_count\n",
    "data = data.rename(columns={'skill': 'skill_count'})"
   ]
  },
  {
   "cell_type": "code",
   "execution_count": 259,
   "metadata": {},
   "outputs": [],
   "source": [
    "# Save data to a new csv file in PreparedData folder\n",
    "data.to_csv(os.path.join('PreparedData', 'skills.csv'), index=False)"
   ]
  }
 ],
 "metadata": {
  "kernelspec": {
   "display_name": "Python 3",
   "language": "python",
   "name": "python3"
  },
  "language_info": {
   "codemirror_mode": {
    "name": "ipython",
    "version": 3
   },
   "file_extension": ".py",
   "mimetype": "text/x-python",
   "name": "python",
   "nbconvert_exporter": "python",
   "pygments_lexer": "ipython3",
   "version": "3.11.1"
  },
  "orig_nbformat": 4,
  "vscode": {
   "interpreter": {
    "hash": "aee8b7b246df8f9039afb4144a1f6fd8d2ca17a180786b69acc140d282b71a49"
   }
  }
 },
 "nbformat": 4,
 "nbformat_minor": 2
}
