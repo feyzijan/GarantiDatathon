{
 "cells": [
  {
   "cell_type": "code",
   "execution_count": 908,
   "metadata": {},
   "outputs": [],
   "source": [
    "import pandas as pd\n",
    "import os"
   ]
  },
  {
   "cell_type": "code",
   "execution_count": 909,
   "metadata": {},
   "outputs": [],
   "source": [
    "path = os.path.join('OriginalData', 'skills.csv')\n",
    "data = pd.read_csv(path)\n",
    "data_backup = data.copy()"
   ]
  },
  {
   "cell_type": "code",
   "execution_count": 910,
   "metadata": {},
   "outputs": [],
   "source": [
    "data = data.head(1000)"
   ]
  },
  {
   "cell_type": "code",
   "execution_count": 911,
   "metadata": {},
   "outputs": [
    {
     "data": {
      "text/plain": [
       "481"
      ]
     },
     "execution_count": 911,
     "metadata": {},
     "output_type": "execute_result"
    }
   ],
   "source": [
    "# Show amount of unique skills\n",
    "data['skill'].nunique()"
   ]
  },
  {
   "cell_type": "code",
   "execution_count": 912,
   "metadata": {},
   "outputs": [],
   "source": [
    "# Lowercase all the skills\n",
    "data['skill'] = data['skill'].str.lower()"
   ]
  },
  {
   "cell_type": "code",
   "execution_count": 913,
   "metadata": {},
   "outputs": [],
   "source": [
    "# remove trailing and leading spaces\n",
    "data['skill'] = data['skill'].str.strip()"
   ]
  },
  {
   "cell_type": "code",
   "execution_count": 914,
   "metadata": {},
   "outputs": [],
   "source": [
    "# Remove skills that are longer than 3 words\n",
    "data['skill'] = data['skill'].str.split().apply(lambda x: ' '.join(x[:3]))"
   ]
  },
  {
   "cell_type": "code",
   "execution_count": 915,
   "metadata": {},
   "outputs": [],
   "source": [
    "from fuzzywuzzy import fuzz\n",
    "from collections import defaultdict\n",
    "\n",
    "def group_strings(strings, reference_strings, similarity_threshold):\n",
    "    groups = defaultdict(list)\n",
    "    for i, string1 in enumerate(reference_strings):\n",
    "        for j, string2 in enumerate(strings):\n",
    "            similarity = fuzz.token_set_ratio(string1, string2)\n",
    "            if similarity >= similarity_threshold:\n",
    "                groups[string1].append(string2)\n",
    "    return groups"
   ]
  },
  {
   "cell_type": "code",
   "execution_count": 916,
   "metadata": {},
   "outputs": [
    {
     "data": {
      "text/plain": [
       "['web',\n",
       " 'programming',\n",
       " 'c',\n",
       " 'c++',\n",
       " 'python',\n",
       " 'java',\n",
       " '.net',\n",
       " 'command line',\n",
       " 'yapay zeka',\n",
       " 'project',\n",
       " 'testing',\n",
       " 'git',\n",
       " 'oyun',\n",
       " 'development',\n",
       " 'latex',\n",
       " 'math',\n",
       " 'technology',\n",
       " 'data',\n",
       " 'database',\n",
       " 'mühendis',\n",
       " 'sorun',\n",
       " 'object oriented',\n",
       " 'code',\n",
       " 'linux',\n",
       " 'windows',\n",
       " 'mac',\n",
       " 'android',\n",
       " 'ios',\n",
       " 'sql',\n",
       " 'database',\n",
       " 'network',\n",
       " 'security',\n",
       " 'cloud',\n",
       " 'devops',\n",
       " 'data',\n",
       " 'machine learning',\n",
       " 'finance',\n",
       " 'marketing',\n",
       " 'business',\n",
       " 'i̇ş',\n",
       " 'pazarlama',\n",
       " 'design',\n",
       " 'photoshop',\n",
       " 'illustrator',\n",
       " 'indesign',\n",
       " 'after effects',\n",
       " 'premiere',\n",
       " '3d',\n",
       " 'animation',\n",
       " 'video',\n",
       " 'audio',\n",
       " 'motion graphics']"
      ]
     },
     "execution_count": 916,
     "metadata": {},
     "output_type": "execute_result"
    }
   ],
   "source": [
    "it_groups = [\"Web\", \"Programming\", \"C\", \"C++\", \"Python\", \"Java\", \".NET\", \"command line\", \"yapay zeka\", \"Project\", \"Testing\", \"Git\", \"Oyun\", \"Development\", \"LaTeX\", \"Math\", \"Technology\", \"Data\", \"Database\", \"Mühendis\", \"Sorun\", \"Object Oriented\", \"Code\"]\n",
    "it_groups += [\"Linux\", \"Windows\", \"Mac\", \"Android\", \"iOS\", \"SQL\", \"Database\", \"Network\", \"Security\", \"Cloud\", \"DevOps\", \"Data\", \"Machine Learning\"]\n",
    "business_group = [\"Finance\", \"Marketing\", \"Business\", \"İş\", \"Pazarlama\", ]\n",
    "design_group = [\"Design\", \"Photoshop\", \"Illustrator\", \"InDesign\", \"After Effects\", \"Premiere\", \"3D\", \"Animation\", \"Video\", \"Audio\", \"Motion Graphics\"]\n",
    "# Lower all the groups\n",
    "it_groups = [x.lower() for x in it_groups]\n",
    "business_group = [x.lower() for x in business_group]\n",
    "design_group = [x.lower() for x in design_group]\n",
    "skill_groups = it_groups + business_group + design_group\n",
    "skill_groups"
   ]
  },
  {
   "cell_type": "code",
   "execution_count": 917,
   "metadata": {},
   "outputs": [],
   "source": [
    "skills = data.skill.unique().tolist()\n",
    "skills.sort()"
   ]
  },
  {
   "cell_type": "code",
   "execution_count": 918,
   "metadata": {},
   "outputs": [],
   "source": [
    "skill_groups = group_strings(skills, skill_groups, 50)"
   ]
  },
  {
   "cell_type": "code",
   "execution_count": 919,
   "metadata": {},
   "outputs": [],
   "source": [
    "# Combine it skills\n",
    "it_skills = []\n",
    "for key, value in skill_groups.items():\n",
    "    if key in it_groups:\n",
    "        it_skills += value\n",
    "it_skills = list(set(it_skills))\n",
    "it_skills.sort()\n",
    "\n",
    "\n",
    "\n",
    "# Combine business skills\n",
    "business_skills = []\n",
    "for key, value in skill_groups.items():\n",
    "    if key in business_group:\n",
    "        business_skills += value\n",
    "business_skills = list(set(business_skills))\n",
    "business_skills.sort()\n",
    "\n",
    "# Combine design skills\n",
    "design_skills = []\n",
    "for key, value in skill_groups.items():\n",
    "    if key in design_group:\n",
    "        design_skills += value\n",
    "design_skills = list(set(design_skills))\n",
    "design_skills.sort()\n"
   ]
  },
  {
   "cell_type": "code",
   "execution_count": 920,
   "metadata": {},
   "outputs": [],
   "source": [
    "# Create a new column for the skill groups count for each user\n",
    "data['it_skills_count'] = 0\n",
    "data['business_skills_count'] = 0\n",
    "data['design_skills_count'] = 0\n"
   ]
  },
  {
   "cell_type": "code",
   "execution_count": 921,
   "metadata": {},
   "outputs": [],
   "source": [
    "# Group the data by user\n",
    "grouped_data = data.groupby('user_id')\n",
    "\n",
    "# For each user, count the number of skills in each group\n",
    "for user_id, group in grouped_data:\n",
    "    # Get the skills of the user\n",
    "    skills = group['skill'].tolist()\n",
    "    # Count the number of skills in each group\n",
    "    it_skills_count = len([x for x in skills if x in it_skills])\n",
    "    business_skills_count = len([x for x in skills if x in business_skills])\n",
    "    design_skills_count = len([x for x in skills if x in design_skills])\n",
    "\n",
    "    # Update the data\n",
    "    data.loc[data['user_id'] == user_id, 'it_skills_count'] = it_skills_count\n",
    "    data.loc[data['user_id'] == user_id, 'business_skills_count'] = business_skills_count\n",
    "    data.loc[data['user_id'] == user_id, 'design_skills_count'] = design_skills_count\n",
    "\n",
    "# Drop the skill column\n",
    "data = data.drop(columns=['skill'])\n",
    "\n",
    "# Drop duplicates\n",
    "data = data.drop_duplicates()"
   ]
  },
  {
   "cell_type": "code",
   "execution_count": 923,
   "metadata": {},
   "outputs": [],
   "source": [
    "# Save data to a new csv file in PreparedData folder\n",
    "data.to_csv(os.path.join('PreparedData', 'skills.csv'), index=False)"
   ]
  }
 ],
 "metadata": {
  "kernelspec": {
   "display_name": "Python 3",
   "language": "python",
   "name": "python3"
  },
  "language_info": {
   "codemirror_mode": {
    "name": "ipython",
    "version": 3
   },
   "file_extension": ".py",
   "mimetype": "text/x-python",
   "name": "python",
   "nbconvert_exporter": "python",
   "pygments_lexer": "ipython3",
   "version": "3.11.1"
  },
  "orig_nbformat": 4,
  "vscode": {
   "interpreter": {
    "hash": "aee8b7b246df8f9039afb4144a1f6fd8d2ca17a180786b69acc140d282b71a49"
   }
  }
 },
 "nbformat": 4,
 "nbformat_minor": 2
}
