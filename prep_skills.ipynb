{
 "cells": [
  {
   "cell_type": "code",
   "execution_count": 240,
   "metadata": {},
   "outputs": [],
   "source": [
    "import pandas as pd\n",
    "import os"
   ]
  },
  {
   "cell_type": "code",
   "execution_count": 241,
   "metadata": {},
   "outputs": [],
   "source": [
    "path = os.path.join('OriginalData', 'skills.csv')\n",
    "data = pd.read_csv(path)"
   ]
  },
  {
   "cell_type": "code",
   "execution_count": 242,
   "metadata": {},
   "outputs": [
    {
     "data": {
      "text/html": [
       "<div>\n",
       "<style scoped>\n",
       "    .dataframe tbody tr th:only-of-type {\n",
       "        vertical-align: middle;\n",
       "    }\n",
       "\n",
       "    .dataframe tbody tr th {\n",
       "        vertical-align: top;\n",
       "    }\n",
       "\n",
       "    .dataframe thead th {\n",
       "        text-align: right;\n",
       "    }\n",
       "</style>\n",
       "<table border=\"1\" class=\"dataframe\">\n",
       "  <thead>\n",
       "    <tr style=\"text-align: right;\">\n",
       "      <th></th>\n",
       "      <th>user_id</th>\n",
       "      <th>skill</th>\n",
       "    </tr>\n",
       "  </thead>\n",
       "  <tbody>\n",
       "    <tr>\n",
       "      <th>0</th>\n",
       "      <td>1</td>\n",
       "      <td>Mühendislik</td>\n",
       "    </tr>\n",
       "    <tr>\n",
       "      <th>1</th>\n",
       "      <td>1</td>\n",
       "      <td>Eğitim</td>\n",
       "    </tr>\n",
       "    <tr>\n",
       "      <th>2</th>\n",
       "      <td>2</td>\n",
       "      <td>Android</td>\n",
       "    </tr>\n",
       "    <tr>\n",
       "      <th>3</th>\n",
       "      <td>2</td>\n",
       "      <td>Java</td>\n",
       "    </tr>\n",
       "    <tr>\n",
       "      <th>4</th>\n",
       "      <td>2</td>\n",
       "      <td>3D Studio Max</td>\n",
       "    </tr>\n",
       "    <tr>\n",
       "      <th>...</th>\n",
       "      <td>...</td>\n",
       "      <td>...</td>\n",
       "    </tr>\n",
       "    <tr>\n",
       "      <th>1398438</th>\n",
       "      <td>66273</td>\n",
       "      <td>CI/CD</td>\n",
       "    </tr>\n",
       "    <tr>\n",
       "      <th>1398439</th>\n",
       "      <td>66273</td>\n",
       "      <td>Terraform</td>\n",
       "    </tr>\n",
       "    <tr>\n",
       "      <th>1398440</th>\n",
       "      <td>66273</td>\n",
       "      <td>MongoDB</td>\n",
       "    </tr>\n",
       "    <tr>\n",
       "      <th>1398441</th>\n",
       "      <td>66273</td>\n",
       "      <td>Go (Programming Language)</td>\n",
       "    </tr>\n",
       "    <tr>\n",
       "      <th>1398442</th>\n",
       "      <td>66273</td>\n",
       "      <td>Packer</td>\n",
       "    </tr>\n",
       "  </tbody>\n",
       "</table>\n",
       "<p>1398443 rows × 2 columns</p>\n",
       "</div>"
      ],
      "text/plain": [
       "         user_id                      skill\n",
       "0              1                Mühendislik\n",
       "1              1                     Eğitim\n",
       "2              2                    Android\n",
       "3              2                       Java\n",
       "4              2              3D Studio Max\n",
       "...          ...                        ...\n",
       "1398438    66273                      CI/CD\n",
       "1398439    66273                  Terraform\n",
       "1398440    66273                    MongoDB\n",
       "1398441    66273  Go (Programming Language)\n",
       "1398442    66273                     Packer\n",
       "\n",
       "[1398443 rows x 2 columns]"
      ]
     },
     "execution_count": 242,
     "metadata": {},
     "output_type": "execute_result"
    }
   ],
   "source": [
    "data"
   ]
  },
  {
   "cell_type": "code",
   "execution_count": 243,
   "metadata": {},
   "outputs": [
    {
     "data": {
      "text/plain": [
       "53025"
      ]
     },
     "execution_count": 243,
     "metadata": {},
     "output_type": "execute_result"
    }
   ],
   "source": [
    "# Show amount of unique skills\n",
    "data['skill'].nunique()"
   ]
  },
  {
   "cell_type": "code",
   "execution_count": 244,
   "metadata": {},
   "outputs": [],
   "source": [
    "# Lowercase all the skills\n",
    "data['skill'] = data['skill'].str.lower()"
   ]
  },
  {
   "cell_type": "code",
   "execution_count": 245,
   "metadata": {},
   "outputs": [],
   "source": [
    "# remove trailing and leading spaces\n",
    "data['skill'] = data['skill'].str.strip()"
   ]
  },
  {
   "cell_type": "code",
   "execution_count": 246,
   "metadata": {},
   "outputs": [],
   "source": [
    "# Rename SQL skills into SQL, by checking if SQL is in the skill name\n",
    "data['skill'] = data['skill'].apply(lambda x: 'sql' if 'sql' in x else x)"
   ]
  },
  {
   "cell_type": "code",
   "execution_count": 247,
   "metadata": {},
   "outputs": [],
   "source": [
    "# Selenium\n",
    "data['skill'] = data['skill'].apply(lambda x: 'selenium' if 'selenium' in x else x)"
   ]
  },
  {
   "cell_type": "code",
   "execution_count": 248,
   "metadata": {},
   "outputs": [],
   "source": [
    "# Microsoft\n",
    "data['skill'] = data['skill'].apply(lambda x: 'microsoft' if 'microsoft' in x else x)"
   ]
  },
  {
   "cell_type": "code",
   "execution_count": 249,
   "metadata": {},
   "outputs": [],
   "source": [
    "# Amazon\n",
    "data['skill'] = data['skill'].apply(lambda x: 'aws' if 'amazon' in x or 'aws' in x else x)"
   ]
  },
  {
   "cell_type": "code",
   "execution_count": 250,
   "metadata": {},
   "outputs": [],
   "source": [
    "# Liderlik\n",
    "data['skill'] = data['skill'].apply(lambda x: 'leadership' if 'liderlik' in x or 'lider' in x else x)"
   ]
  },
  {
   "cell_type": "code",
   "execution_count": 251,
   "metadata": {},
   "outputs": [],
   "source": [
    "# Oyun\n",
    "data['skill'] = data['skill'].apply(lambda x: 'game' if 'oyun' in x else x)"
   ]
  },
  {
   "cell_type": "code",
   "execution_count": 252,
   "metadata": {},
   "outputs": [],
   "source": [
    "# drop rows where skill is 'eğitim' or 'mühendislik' since we have other csv for this\n",
    "data = data[data['skill'] != 'eğitim']\n",
    "data = data[data['skill'] != 'mühendislik']"
   ]
  },
  {
   "cell_type": "code",
   "execution_count": 253,
   "metadata": {},
   "outputs": [],
   "source": [
    "# drop rows about language, since we have other csv for this\n",
    "data = data[data['skill'] != 'yabancı dil']\n",
    "data = data[data['skill'] != 'yabancı']\n",
    "data = data[data['skill'] != 'i̇ngilizce']\n",
    "data = data[data['skill'] != 'ingilizce']\n",
    "data = data[data['skill'] != 'almanca']\n",
    "data = data[data['skill'] != 'fransızca']\n",
    "data = data[data['skill'] != 'yabancı dil(ingilizce)']"
   ]
  },
  {
   "cell_type": "code",
   "execution_count": 254,
   "metadata": {},
   "outputs": [],
   "source": [
    "# Drop rows where skill is only found once in the dataset\n",
    "data = data.groupby('skill').filter(lambda x: len(x) > 1)"
   ]
  },
  {
   "cell_type": "code",
   "execution_count": 255,
   "metadata": {},
   "outputs": [],
   "source": [
    "# Remove duplicates\n",
    "data = data.drop_duplicates()"
   ]
  },
  {
   "cell_type": "code",
   "execution_count": 256,
   "metadata": {},
   "outputs": [
    {
     "data": {
      "text/plain": [
       "24555"
      ]
     },
     "execution_count": 256,
     "metadata": {},
     "output_type": "execute_result"
    }
   ],
   "source": [
    "# Show amount of unique skills after cleaning\n",
    "data['skill'].nunique()"
   ]
  },
  {
   "cell_type": "code",
   "execution_count": 257,
   "metadata": {},
   "outputs": [],
   "source": [
    "# One hot encode the skills within the dataframe\n",
    "#data = pd.get_dummies(data, columns=['skill'])"
   ]
  },
  {
   "cell_type": "code",
   "execution_count": 258,
   "metadata": {},
   "outputs": [
    {
     "data": {
      "text/html": [
       "<div>\n",
       "<style scoped>\n",
       "    .dataframe tbody tr th:only-of-type {\n",
       "        vertical-align: middle;\n",
       "    }\n",
       "\n",
       "    .dataframe tbody tr th {\n",
       "        vertical-align: top;\n",
       "    }\n",
       "\n",
       "    .dataframe thead th {\n",
       "        text-align: right;\n",
       "    }\n",
       "</style>\n",
       "<table border=\"1\" class=\"dataframe\">\n",
       "  <thead>\n",
       "    <tr style=\"text-align: right;\">\n",
       "      <th></th>\n",
       "      <th>user_id</th>\n",
       "      <th>skill</th>\n",
       "    </tr>\n",
       "  </thead>\n",
       "  <tbody>\n",
       "    <tr>\n",
       "      <th>2</th>\n",
       "      <td>2</td>\n",
       "      <td>android</td>\n",
       "    </tr>\n",
       "    <tr>\n",
       "      <th>3</th>\n",
       "      <td>2</td>\n",
       "      <td>java</td>\n",
       "    </tr>\n",
       "    <tr>\n",
       "      <th>4</th>\n",
       "      <td>2</td>\n",
       "      <td>3d studio max</td>\n",
       "    </tr>\n",
       "    <tr>\n",
       "      <th>5</th>\n",
       "      <td>2</td>\n",
       "      <td>müşteri hizmetleri</td>\n",
       "    </tr>\n",
       "    <tr>\n",
       "      <th>6</th>\n",
       "      <td>2</td>\n",
       "      <td>microsoft</td>\n",
       "    </tr>\n",
       "    <tr>\n",
       "      <th>...</th>\n",
       "      <td>...</td>\n",
       "      <td>...</td>\n",
       "    </tr>\n",
       "    <tr>\n",
       "      <th>1398438</th>\n",
       "      <td>66273</td>\n",
       "      <td>ci/cd</td>\n",
       "    </tr>\n",
       "    <tr>\n",
       "      <th>1398439</th>\n",
       "      <td>66273</td>\n",
       "      <td>terraform</td>\n",
       "    </tr>\n",
       "    <tr>\n",
       "      <th>1398440</th>\n",
       "      <td>66273</td>\n",
       "      <td>mongodb</td>\n",
       "    </tr>\n",
       "    <tr>\n",
       "      <th>1398441</th>\n",
       "      <td>66273</td>\n",
       "      <td>go (programming language)</td>\n",
       "    </tr>\n",
       "    <tr>\n",
       "      <th>1398442</th>\n",
       "      <td>66273</td>\n",
       "      <td>packer</td>\n",
       "    </tr>\n",
       "  </tbody>\n",
       "</table>\n",
       "<p>1308639 rows × 2 columns</p>\n",
       "</div>"
      ],
      "text/plain": [
       "         user_id                      skill\n",
       "2              2                    android\n",
       "3              2                       java\n",
       "4              2              3d studio max\n",
       "5              2         müşteri hizmetleri\n",
       "6              2                  microsoft\n",
       "...          ...                        ...\n",
       "1398438    66273                      ci/cd\n",
       "1398439    66273                  terraform\n",
       "1398440    66273                    mongodb\n",
       "1398441    66273  go (programming language)\n",
       "1398442    66273                     packer\n",
       "\n",
       "[1308639 rows x 2 columns]"
      ]
     },
     "execution_count": 258,
     "metadata": {},
     "output_type": "execute_result"
    }
   ],
   "source": [
    "data"
   ]
  },
  {
   "cell_type": "code",
   "execution_count": 259,
   "metadata": {},
   "outputs": [],
   "source": [
    "# Save data to a new csv file in PreparedData folder\n",
    "data.to_csv(os.path.join('PreparedData', 'skills.csv'), index=False)"
   ]
  }
 ],
 "metadata": {
  "kernelspec": {
   "display_name": "Python 3",
   "language": "python",
   "name": "python3"
  },
  "language_info": {
   "codemirror_mode": {
    "name": "ipython",
    "version": 3
   },
   "file_extension": ".py",
   "mimetype": "text/x-python",
   "name": "python",
   "nbconvert_exporter": "python",
   "pygments_lexer": "ipython3",
   "version": "3.11.1"
  },
  "orig_nbformat": 4,
  "vscode": {
   "interpreter": {
    "hash": "aee8b7b246df8f9039afb4144a1f6fd8d2ca17a180786b69acc140d282b71a49"
   }
  }
 },
 "nbformat": 4,
 "nbformat_minor": 2
}
