{
 "cells": [
  {
   "cell_type": "code",
   "execution_count": 278,
   "metadata": {
    "ExecuteTime": {
     "end_time": "2023-01-15T17:48:51.114425Z",
     "start_time": "2023-01-15T17:48:51.108919Z"
    }
   },
   "outputs": [],
   "source": [
    "import matplotlib.pyplot as plt\n",
    "import numpy as np\n",
    "import matplotlib.pyplot as plt\n",
    "import matplotlib\n",
    "import pandas as pd\n",
    "pd.set_option('display.max_columns', None)\n",
    "from tensorflow import keras\n",
    "from tensorflow.keras.models import Sequential\n",
    "from sklearn.preprocessing import StandardScaler\n",
    "from tensorflow.keras.models import Sequential\n",
    "from tensorflow.keras.layers import Dense\n",
    "from tensorflow.keras.utils import *\n",
    "from sklearn.model_selection import train_test_split \n",
    "from sklearn.utils import shuffle\n",
    "from tensorflow.keras.callbacks import EarlyStopping\n",
    "from tensorflow.keras.metrics import RootMeanSquaredError\n",
    "import tensorflow as tf"
   ]
  },
  {
   "cell_type": "markdown",
   "metadata": {},
   "source": [
    "Load Data"
   ]
  },
  {
   "cell_type": "code",
   "execution_count": 279,
   "metadata": {
    "ExecuteTime": {
     "end_time": "2023-01-15T17:48:24.933310Z",
     "start_time": "2023-01-15T17:48:24.772191Z"
    }
   },
   "outputs": [],
   "source": [
    "df_test = pd.read_csv(\"PreparedData/test.csv\")\n",
    "df_train = pd.read_csv(\"PreparedData/train.csv\")"
   ]
  },
  {
   "cell_type": "markdown",
   "metadata": {},
   "source": [
    "## Final Tweaks to Data before feeding into Neural Network"
   ]
  },
  {
   "attachments": {},
   "cell_type": "markdown",
   "metadata": {},
   "source": [
    "One hot encode"
   ]
  },
  {
   "cell_type": "code",
   "execution_count": 280,
   "metadata": {},
   "outputs": [
    {
     "data": {
      "text/html": [
       "<div>\n",
       "<style scoped>\n",
       "    .dataframe tbody tr th:only-of-type {\n",
       "        vertical-align: middle;\n",
       "    }\n",
       "\n",
       "    .dataframe tbody tr th {\n",
       "        vertical-align: top;\n",
       "    }\n",
       "\n",
       "    .dataframe thead th {\n",
       "        text-align: right;\n",
       "    }\n",
       "</style>\n",
       "<table border=\"1\" class=\"dataframe\">\n",
       "  <thead>\n",
       "    <tr style=\"text-align: right;\">\n",
       "      <th></th>\n",
       "      <th>user_id</th>\n",
       "      <th>moved_after_2019</th>\n",
       "      <th>companies_worked</th>\n",
       "      <th>max_duration</th>\n",
       "      <th>Business</th>\n",
       "      <th>Design</th>\n",
       "      <th>IT</th>\n",
       "      <th>Other</th>\n",
       "      <th>N_Skills</th>\n",
       "      <th>English</th>\n",
       "      <th>German</th>\n",
       "      <th>Turkish</th>\n",
       "      <th>French</th>\n",
       "      <th>Spanish</th>\n",
       "      <th>Chinese</th>\n",
       "      <th>NLanguages</th>\n",
       "      <th>start_date_edu</th>\n",
       "      <th>end_date_edu</th>\n",
       "      <th>degree_edu</th>\n",
       "      <th>location_Netherlands</th>\n",
       "      <th>location_Other</th>\n",
       "      <th>location_Turkey</th>\n",
       "      <th>location_United Kingdom</th>\n",
       "      <th>field_edu_Engineering</th>\n",
       "      <th>field_edu_Other</th>\n",
       "      <th>field_edu_Science</th>\n",
       "    </tr>\n",
       "  </thead>\n",
       "  <tbody>\n",
       "    <tr>\n",
       "      <th>0</th>\n",
       "      <td>1301</td>\n",
       "      <td>1</td>\n",
       "      <td>4</td>\n",
       "      <td>1645</td>\n",
       "      <td>2</td>\n",
       "      <td>0</td>\n",
       "      <td>4</td>\n",
       "      <td>17</td>\n",
       "      <td>23</td>\n",
       "      <td>3</td>\n",
       "      <td>0</td>\n",
       "      <td>5</td>\n",
       "      <td>0</td>\n",
       "      <td>0</td>\n",
       "      <td>0</td>\n",
       "      <td>4</td>\n",
       "      <td>2100-01-01</td>\n",
       "      <td>2100-01-01</td>\n",
       "      <td>2</td>\n",
       "      <td>0</td>\n",
       "      <td>0</td>\n",
       "      <td>1</td>\n",
       "      <td>0</td>\n",
       "      <td>0</td>\n",
       "      <td>1</td>\n",
       "      <td>0</td>\n",
       "    </tr>\n",
       "    <tr>\n",
       "      <th>1</th>\n",
       "      <td>6950</td>\n",
       "      <td>0</td>\n",
       "      <td>4</td>\n",
       "      <td>1402</td>\n",
       "      <td>0</td>\n",
       "      <td>0</td>\n",
       "      <td>17</td>\n",
       "      <td>32</td>\n",
       "      <td>49</td>\n",
       "      <td>3</td>\n",
       "      <td>0</td>\n",
       "      <td>0</td>\n",
       "      <td>0</td>\n",
       "      <td>0</td>\n",
       "      <td>0</td>\n",
       "      <td>3</td>\n",
       "      <td>2100-01-01</td>\n",
       "      <td>2100-01-01</td>\n",
       "      <td>1</td>\n",
       "      <td>0</td>\n",
       "      <td>0</td>\n",
       "      <td>1</td>\n",
       "      <td>0</td>\n",
       "      <td>0</td>\n",
       "      <td>1</td>\n",
       "      <td>0</td>\n",
       "    </tr>\n",
       "    <tr>\n",
       "      <th>2</th>\n",
       "      <td>4880</td>\n",
       "      <td>0</td>\n",
       "      <td>4</td>\n",
       "      <td>1216</td>\n",
       "      <td>0</td>\n",
       "      <td>2</td>\n",
       "      <td>4</td>\n",
       "      <td>15</td>\n",
       "      <td>21</td>\n",
       "      <td>2</td>\n",
       "      <td>0</td>\n",
       "      <td>5</td>\n",
       "      <td>0</td>\n",
       "      <td>0</td>\n",
       "      <td>0</td>\n",
       "      <td>2</td>\n",
       "      <td>2100-01-01</td>\n",
       "      <td>2100-01-01</td>\n",
       "      <td>2</td>\n",
       "      <td>0</td>\n",
       "      <td>0</td>\n",
       "      <td>1</td>\n",
       "      <td>0</td>\n",
       "      <td>0</td>\n",
       "      <td>1</td>\n",
       "      <td>0</td>\n",
       "    </tr>\n",
       "    <tr>\n",
       "      <th>3</th>\n",
       "      <td>26046</td>\n",
       "      <td>0</td>\n",
       "      <td>1</td>\n",
       "      <td>1856</td>\n",
       "      <td>0</td>\n",
       "      <td>0</td>\n",
       "      <td>7</td>\n",
       "      <td>23</td>\n",
       "      <td>30</td>\n",
       "      <td>2</td>\n",
       "      <td>0</td>\n",
       "      <td>0</td>\n",
       "      <td>0</td>\n",
       "      <td>0</td>\n",
       "      <td>0</td>\n",
       "      <td>2</td>\n",
       "      <td>2100-01-01</td>\n",
       "      <td>2100-01-01</td>\n",
       "      <td>1</td>\n",
       "      <td>0</td>\n",
       "      <td>0</td>\n",
       "      <td>1</td>\n",
       "      <td>0</td>\n",
       "      <td>0</td>\n",
       "      <td>0</td>\n",
       "      <td>0</td>\n",
       "    </tr>\n",
       "    <tr>\n",
       "      <th>4</th>\n",
       "      <td>11005</td>\n",
       "      <td>0</td>\n",
       "      <td>3</td>\n",
       "      <td>2769</td>\n",
       "      <td>0</td>\n",
       "      <td>1</td>\n",
       "      <td>10</td>\n",
       "      <td>37</td>\n",
       "      <td>48</td>\n",
       "      <td>3</td>\n",
       "      <td>0</td>\n",
       "      <td>5</td>\n",
       "      <td>0</td>\n",
       "      <td>0</td>\n",
       "      <td>0</td>\n",
       "      <td>3</td>\n",
       "      <td>2100-01-01</td>\n",
       "      <td>2100-01-01</td>\n",
       "      <td>1</td>\n",
       "      <td>0</td>\n",
       "      <td>0</td>\n",
       "      <td>1</td>\n",
       "      <td>0</td>\n",
       "      <td>0</td>\n",
       "      <td>1</td>\n",
       "      <td>0</td>\n",
       "    </tr>\n",
       "  </tbody>\n",
       "</table>\n",
       "</div>"
      ],
      "text/plain": [
       "   user_id  moved_after_2019  companies_worked  max_duration  Business  \\\n",
       "0     1301                 1                 4          1645         2   \n",
       "1     6950                 0                 4          1402         0   \n",
       "2     4880                 0                 4          1216         0   \n",
       "3    26046                 0                 1          1856         0   \n",
       "4    11005                 0                 3          2769         0   \n",
       "\n",
       "   Design  IT  Other  N_Skills  English  German  Turkish  French  Spanish  \\\n",
       "0       0   4     17        23        3       0        5       0        0   \n",
       "1       0  17     32        49        3       0        0       0        0   \n",
       "2       2   4     15        21        2       0        5       0        0   \n",
       "3       0   7     23        30        2       0        0       0        0   \n",
       "4       1  10     37        48        3       0        5       0        0   \n",
       "\n",
       "   Chinese  NLanguages start_date_edu end_date_edu  degree_edu  \\\n",
       "0        0           4     2100-01-01   2100-01-01           2   \n",
       "1        0           3     2100-01-01   2100-01-01           1   \n",
       "2        0           2     2100-01-01   2100-01-01           2   \n",
       "3        0           2     2100-01-01   2100-01-01           1   \n",
       "4        0           3     2100-01-01   2100-01-01           1   \n",
       "\n",
       "   location_Netherlands  location_Other  location_Turkey  \\\n",
       "0                     0               0                1   \n",
       "1                     0               0                1   \n",
       "2                     0               0                1   \n",
       "3                     0               0                1   \n",
       "4                     0               0                1   \n",
       "\n",
       "   location_United Kingdom  field_edu_Engineering  field_edu_Other  \\\n",
       "0                        0                      0                1   \n",
       "1                        0                      0                1   \n",
       "2                        0                      0                1   \n",
       "3                        0                      0                0   \n",
       "4                        0                      0                1   \n",
       "\n",
       "   field_edu_Science  \n",
       "0                  0  \n",
       "1                  0  \n",
       "2                  0  \n",
       "3                  0  \n",
       "4                  0  "
      ]
     },
     "execution_count": 280,
     "metadata": {},
     "output_type": "execute_result"
    }
   ],
   "source": [
    "df_train = pd.get_dummies(df_train,columns= [\"location\",\"field_edu\"], drop_first=True)\n",
    "df_train.head(5)"
   ]
  },
  {
   "cell_type": "code",
   "execution_count": 281,
   "metadata": {},
   "outputs": [
    {
     "data": {
      "text/html": [
       "<div>\n",
       "<style scoped>\n",
       "    .dataframe tbody tr th:only-of-type {\n",
       "        vertical-align: middle;\n",
       "    }\n",
       "\n",
       "    .dataframe tbody tr th {\n",
       "        vertical-align: top;\n",
       "    }\n",
       "\n",
       "    .dataframe thead th {\n",
       "        text-align: right;\n",
       "    }\n",
       "</style>\n",
       "<table border=\"1\" class=\"dataframe\">\n",
       "  <thead>\n",
       "    <tr style=\"text-align: right;\">\n",
       "      <th></th>\n",
       "      <th>user_id</th>\n",
       "      <th>moved_after_2019</th>\n",
       "      <th>companies_worked</th>\n",
       "      <th>max_duration</th>\n",
       "      <th>Business</th>\n",
       "      <th>Design</th>\n",
       "      <th>IT</th>\n",
       "      <th>Other</th>\n",
       "      <th>N_Skills</th>\n",
       "      <th>English</th>\n",
       "      <th>German</th>\n",
       "      <th>Turkish</th>\n",
       "      <th>French</th>\n",
       "      <th>Spanish</th>\n",
       "      <th>Chinese</th>\n",
       "      <th>NLanguages</th>\n",
       "      <th>start_date_edu</th>\n",
       "      <th>end_date_edu</th>\n",
       "      <th>degree_edu</th>\n",
       "      <th>location_Netherlands</th>\n",
       "      <th>location_Other</th>\n",
       "      <th>location_Turkey</th>\n",
       "      <th>location_United Kingdom</th>\n",
       "      <th>field_edu_Engineering</th>\n",
       "      <th>field_edu_Other</th>\n",
       "      <th>field_edu_Science</th>\n",
       "    </tr>\n",
       "  </thead>\n",
       "  <tbody>\n",
       "    <tr>\n",
       "      <th>0</th>\n",
       "      <td>17449</td>\n",
       "      <td>2</td>\n",
       "      <td>3</td>\n",
       "      <td>4017</td>\n",
       "      <td>1</td>\n",
       "      <td>0</td>\n",
       "      <td>11</td>\n",
       "      <td>22</td>\n",
       "      <td>34</td>\n",
       "      <td>2</td>\n",
       "      <td>0</td>\n",
       "      <td>4</td>\n",
       "      <td>0</td>\n",
       "      <td>0</td>\n",
       "      <td>0</td>\n",
       "      <td>2</td>\n",
       "      <td>2100-01-01</td>\n",
       "      <td>2100-01-01</td>\n",
       "      <td>1</td>\n",
       "      <td>0</td>\n",
       "      <td>0</td>\n",
       "      <td>1</td>\n",
       "      <td>0</td>\n",
       "      <td>1</td>\n",
       "      <td>0</td>\n",
       "      <td>0</td>\n",
       "    </tr>\n",
       "    <tr>\n",
       "      <th>1</th>\n",
       "      <td>33967</td>\n",
       "      <td>2</td>\n",
       "      <td>2</td>\n",
       "      <td>730</td>\n",
       "      <td>2</td>\n",
       "      <td>9</td>\n",
       "      <td>1</td>\n",
       "      <td>19</td>\n",
       "      <td>31</td>\n",
       "      <td>5</td>\n",
       "      <td>0</td>\n",
       "      <td>5</td>\n",
       "      <td>0</td>\n",
       "      <td>0</td>\n",
       "      <td>1</td>\n",
       "      <td>2</td>\n",
       "      <td>2100-01-01</td>\n",
       "      <td>2100-01-01</td>\n",
       "      <td>4</td>\n",
       "      <td>0</td>\n",
       "      <td>0</td>\n",
       "      <td>1</td>\n",
       "      <td>0</td>\n",
       "      <td>0</td>\n",
       "      <td>1</td>\n",
       "      <td>0</td>\n",
       "    </tr>\n",
       "    <tr>\n",
       "      <th>2</th>\n",
       "      <td>2110</td>\n",
       "      <td>2</td>\n",
       "      <td>2</td>\n",
       "      <td>0</td>\n",
       "      <td>3</td>\n",
       "      <td>0</td>\n",
       "      <td>2</td>\n",
       "      <td>8</td>\n",
       "      <td>13</td>\n",
       "      <td>2</td>\n",
       "      <td>1</td>\n",
       "      <td>5</td>\n",
       "      <td>0</td>\n",
       "      <td>0</td>\n",
       "      <td>0</td>\n",
       "      <td>4</td>\n",
       "      <td>2100-01-01</td>\n",
       "      <td>2100-01-01</td>\n",
       "      <td>2</td>\n",
       "      <td>0</td>\n",
       "      <td>0</td>\n",
       "      <td>1</td>\n",
       "      <td>0</td>\n",
       "      <td>0</td>\n",
       "      <td>1</td>\n",
       "      <td>0</td>\n",
       "    </tr>\n",
       "    <tr>\n",
       "      <th>3</th>\n",
       "      <td>55082</td>\n",
       "      <td>2</td>\n",
       "      <td>2</td>\n",
       "      <td>2011</td>\n",
       "      <td>0</td>\n",
       "      <td>0</td>\n",
       "      <td>12</td>\n",
       "      <td>25</td>\n",
       "      <td>37</td>\n",
       "      <td>2</td>\n",
       "      <td>0</td>\n",
       "      <td>2</td>\n",
       "      <td>0</td>\n",
       "      <td>0</td>\n",
       "      <td>0</td>\n",
       "      <td>1</td>\n",
       "      <td>2100-01-01</td>\n",
       "      <td>2100-01-01</td>\n",
       "      <td>1</td>\n",
       "      <td>0</td>\n",
       "      <td>0</td>\n",
       "      <td>1</td>\n",
       "      <td>0</td>\n",
       "      <td>0</td>\n",
       "      <td>0</td>\n",
       "      <td>0</td>\n",
       "    </tr>\n",
       "    <tr>\n",
       "      <th>4</th>\n",
       "      <td>37165</td>\n",
       "      <td>2</td>\n",
       "      <td>1</td>\n",
       "      <td>944</td>\n",
       "      <td>0</td>\n",
       "      <td>0</td>\n",
       "      <td>0</td>\n",
       "      <td>4</td>\n",
       "      <td>4</td>\n",
       "      <td>4</td>\n",
       "      <td>0</td>\n",
       "      <td>5</td>\n",
       "      <td>0</td>\n",
       "      <td>0</td>\n",
       "      <td>0</td>\n",
       "      <td>2</td>\n",
       "      <td>2100-01-01</td>\n",
       "      <td>2100-01-01</td>\n",
       "      <td>1</td>\n",
       "      <td>0</td>\n",
       "      <td>0</td>\n",
       "      <td>1</td>\n",
       "      <td>0</td>\n",
       "      <td>1</td>\n",
       "      <td>0</td>\n",
       "      <td>0</td>\n",
       "    </tr>\n",
       "  </tbody>\n",
       "</table>\n",
       "</div>"
      ],
      "text/plain": [
       "   user_id  moved_after_2019  companies_worked  max_duration  Business  \\\n",
       "0    17449                 2                 3          4017         1   \n",
       "1    33967                 2                 2           730         2   \n",
       "2     2110                 2                 2             0         3   \n",
       "3    55082                 2                 2          2011         0   \n",
       "4    37165                 2                 1           944         0   \n",
       "\n",
       "   Design  IT  Other  N_Skills  English  German  Turkish  French  Spanish  \\\n",
       "0       0  11     22        34        2       0        4       0        0   \n",
       "1       9   1     19        31        5       0        5       0        0   \n",
       "2       0   2      8        13        2       1        5       0        0   \n",
       "3       0  12     25        37        2       0        2       0        0   \n",
       "4       0   0      4         4        4       0        5       0        0   \n",
       "\n",
       "   Chinese  NLanguages start_date_edu end_date_edu  degree_edu  \\\n",
       "0        0           2     2100-01-01   2100-01-01           1   \n",
       "1        1           2     2100-01-01   2100-01-01           4   \n",
       "2        0           4     2100-01-01   2100-01-01           2   \n",
       "3        0           1     2100-01-01   2100-01-01           1   \n",
       "4        0           2     2100-01-01   2100-01-01           1   \n",
       "\n",
       "   location_Netherlands  location_Other  location_Turkey  \\\n",
       "0                     0               0                1   \n",
       "1                     0               0                1   \n",
       "2                     0               0                1   \n",
       "3                     0               0                1   \n",
       "4                     0               0                1   \n",
       "\n",
       "   location_United Kingdom  field_edu_Engineering  field_edu_Other  \\\n",
       "0                        0                      1                0   \n",
       "1                        0                      0                1   \n",
       "2                        0                      0                1   \n",
       "3                        0                      0                0   \n",
       "4                        0                      1                0   \n",
       "\n",
       "   field_edu_Science  \n",
       "0                  0  \n",
       "1                  0  \n",
       "2                  0  \n",
       "3                  0  \n",
       "4                  0  "
      ]
     },
     "execution_count": 281,
     "metadata": {},
     "output_type": "execute_result"
    }
   ],
   "source": [
    "df_test = pd.get_dummies(df_test,columns= [\"location\",\"field_edu\"], drop_first=True)\n",
    "df_test.head(5)"
   ]
  },
  {
   "attachments": {},
   "cell_type": "markdown",
   "metadata": {},
   "source": [
    "Drop some columns"
   ]
  },
  {
   "cell_type": "code",
   "execution_count": 282,
   "metadata": {},
   "outputs": [],
   "source": [
    "df_train.drop([\"start_date_edu\",\"end_date_edu\"], axis=1, inplace=True)\n",
    "df_test.drop([\"start_date_edu\",\"end_date_edu\"], axis=1, inplace=True)"
   ]
  },
  {
   "cell_type": "code",
   "execution_count": 283,
   "metadata": {},
   "outputs": [
    {
     "data": {
      "text/html": [
       "<div>\n",
       "<style scoped>\n",
       "    .dataframe tbody tr th:only-of-type {\n",
       "        vertical-align: middle;\n",
       "    }\n",
       "\n",
       "    .dataframe tbody tr th {\n",
       "        vertical-align: top;\n",
       "    }\n",
       "\n",
       "    .dataframe thead th {\n",
       "        text-align: right;\n",
       "    }\n",
       "</style>\n",
       "<table border=\"1\" class=\"dataframe\">\n",
       "  <thead>\n",
       "    <tr style=\"text-align: right;\">\n",
       "      <th></th>\n",
       "      <th>user_id</th>\n",
       "      <th>moved_after_2019</th>\n",
       "      <th>companies_worked</th>\n",
       "      <th>max_duration</th>\n",
       "      <th>Business</th>\n",
       "      <th>Design</th>\n",
       "      <th>IT</th>\n",
       "      <th>Other</th>\n",
       "      <th>N_Skills</th>\n",
       "      <th>English</th>\n",
       "      <th>German</th>\n",
       "      <th>Turkish</th>\n",
       "      <th>French</th>\n",
       "      <th>Spanish</th>\n",
       "      <th>Chinese</th>\n",
       "      <th>NLanguages</th>\n",
       "      <th>degree_edu</th>\n",
       "      <th>location_Netherlands</th>\n",
       "      <th>location_Other</th>\n",
       "      <th>location_Turkey</th>\n",
       "      <th>location_United Kingdom</th>\n",
       "      <th>field_edu_Engineering</th>\n",
       "      <th>field_edu_Other</th>\n",
       "      <th>field_edu_Science</th>\n",
       "    </tr>\n",
       "  </thead>\n",
       "  <tbody>\n",
       "    <tr>\n",
       "      <th>0</th>\n",
       "      <td>1301</td>\n",
       "      <td>1</td>\n",
       "      <td>4</td>\n",
       "      <td>1645</td>\n",
       "      <td>2</td>\n",
       "      <td>0</td>\n",
       "      <td>4</td>\n",
       "      <td>17</td>\n",
       "      <td>23</td>\n",
       "      <td>3</td>\n",
       "      <td>0</td>\n",
       "      <td>5</td>\n",
       "      <td>0</td>\n",
       "      <td>0</td>\n",
       "      <td>0</td>\n",
       "      <td>4</td>\n",
       "      <td>2</td>\n",
       "      <td>0</td>\n",
       "      <td>0</td>\n",
       "      <td>1</td>\n",
       "      <td>0</td>\n",
       "      <td>0</td>\n",
       "      <td>1</td>\n",
       "      <td>0</td>\n",
       "    </tr>\n",
       "    <tr>\n",
       "      <th>1</th>\n",
       "      <td>6950</td>\n",
       "      <td>0</td>\n",
       "      <td>4</td>\n",
       "      <td>1402</td>\n",
       "      <td>0</td>\n",
       "      <td>0</td>\n",
       "      <td>17</td>\n",
       "      <td>32</td>\n",
       "      <td>49</td>\n",
       "      <td>3</td>\n",
       "      <td>0</td>\n",
       "      <td>0</td>\n",
       "      <td>0</td>\n",
       "      <td>0</td>\n",
       "      <td>0</td>\n",
       "      <td>3</td>\n",
       "      <td>1</td>\n",
       "      <td>0</td>\n",
       "      <td>0</td>\n",
       "      <td>1</td>\n",
       "      <td>0</td>\n",
       "      <td>0</td>\n",
       "      <td>1</td>\n",
       "      <td>0</td>\n",
       "    </tr>\n",
       "    <tr>\n",
       "      <th>2</th>\n",
       "      <td>4880</td>\n",
       "      <td>0</td>\n",
       "      <td>4</td>\n",
       "      <td>1216</td>\n",
       "      <td>0</td>\n",
       "      <td>2</td>\n",
       "      <td>4</td>\n",
       "      <td>15</td>\n",
       "      <td>21</td>\n",
       "      <td>2</td>\n",
       "      <td>0</td>\n",
       "      <td>5</td>\n",
       "      <td>0</td>\n",
       "      <td>0</td>\n",
       "      <td>0</td>\n",
       "      <td>2</td>\n",
       "      <td>2</td>\n",
       "      <td>0</td>\n",
       "      <td>0</td>\n",
       "      <td>1</td>\n",
       "      <td>0</td>\n",
       "      <td>0</td>\n",
       "      <td>1</td>\n",
       "      <td>0</td>\n",
       "    </tr>\n",
       "    <tr>\n",
       "      <th>3</th>\n",
       "      <td>26046</td>\n",
       "      <td>0</td>\n",
       "      <td>1</td>\n",
       "      <td>1856</td>\n",
       "      <td>0</td>\n",
       "      <td>0</td>\n",
       "      <td>7</td>\n",
       "      <td>23</td>\n",
       "      <td>30</td>\n",
       "      <td>2</td>\n",
       "      <td>0</td>\n",
       "      <td>0</td>\n",
       "      <td>0</td>\n",
       "      <td>0</td>\n",
       "      <td>0</td>\n",
       "      <td>2</td>\n",
       "      <td>1</td>\n",
       "      <td>0</td>\n",
       "      <td>0</td>\n",
       "      <td>1</td>\n",
       "      <td>0</td>\n",
       "      <td>0</td>\n",
       "      <td>0</td>\n",
       "      <td>0</td>\n",
       "    </tr>\n",
       "    <tr>\n",
       "      <th>4</th>\n",
       "      <td>11005</td>\n",
       "      <td>0</td>\n",
       "      <td>3</td>\n",
       "      <td>2769</td>\n",
       "      <td>0</td>\n",
       "      <td>1</td>\n",
       "      <td>10</td>\n",
       "      <td>37</td>\n",
       "      <td>48</td>\n",
       "      <td>3</td>\n",
       "      <td>0</td>\n",
       "      <td>5</td>\n",
       "      <td>0</td>\n",
       "      <td>0</td>\n",
       "      <td>0</td>\n",
       "      <td>3</td>\n",
       "      <td>1</td>\n",
       "      <td>0</td>\n",
       "      <td>0</td>\n",
       "      <td>1</td>\n",
       "      <td>0</td>\n",
       "      <td>0</td>\n",
       "      <td>1</td>\n",
       "      <td>0</td>\n",
       "    </tr>\n",
       "  </tbody>\n",
       "</table>\n",
       "</div>"
      ],
      "text/plain": [
       "   user_id  moved_after_2019  companies_worked  max_duration  Business  \\\n",
       "0     1301                 1                 4          1645         2   \n",
       "1     6950                 0                 4          1402         0   \n",
       "2     4880                 0                 4          1216         0   \n",
       "3    26046                 0                 1          1856         0   \n",
       "4    11005                 0                 3          2769         0   \n",
       "\n",
       "   Design  IT  Other  N_Skills  English  German  Turkish  French  Spanish  \\\n",
       "0       0   4     17        23        3       0        5       0        0   \n",
       "1       0  17     32        49        3       0        0       0        0   \n",
       "2       2   4     15        21        2       0        5       0        0   \n",
       "3       0   7     23        30        2       0        0       0        0   \n",
       "4       1  10     37        48        3       0        5       0        0   \n",
       "\n",
       "   Chinese  NLanguages  degree_edu  location_Netherlands  location_Other  \\\n",
       "0        0           4           2                     0               0   \n",
       "1        0           3           1                     0               0   \n",
       "2        0           2           2                     0               0   \n",
       "3        0           2           1                     0               0   \n",
       "4        0           3           1                     0               0   \n",
       "\n",
       "   location_Turkey  location_United Kingdom  field_edu_Engineering  \\\n",
       "0                1                        0                      0   \n",
       "1                1                        0                      0   \n",
       "2                1                        0                      0   \n",
       "3                1                        0                      0   \n",
       "4                1                        0                      0   \n",
       "\n",
       "   field_edu_Other  field_edu_Science  \n",
       "0                1                  0  \n",
       "1                1                  0  \n",
       "2                1                  0  \n",
       "3                0                  0  \n",
       "4                1                  0  "
      ]
     },
     "execution_count": 283,
     "metadata": {},
     "output_type": "execute_result"
    }
   ],
   "source": [
    "df_train.head()"
   ]
  },
  {
   "attachments": {},
   "cell_type": "markdown",
   "metadata": {
    "ExecuteTime": {
     "end_time": "2023-01-15T17:48:26.005478Z",
     "start_time": "2023-01-15T17:48:25.946883Z"
    }
   },
   "source": [
    "Standard scaling"
   ]
  },
  {
   "cell_type": "code",
   "execution_count": 284,
   "metadata": {},
   "outputs": [],
   "source": [
    "from sklearn.preprocessing import StandardScaler\n",
    "\n",
    "\n",
    "scaler = StandardScaler()\n",
    "train_scale = df_train[['max_duration','Business', 'Design', 'IT', 'Other', 'N_Skills']]\n",
    "scaler.fit(train_scale)\n",
    "X_scaled = scaler.transform(train_scale)\n",
    "df_train[['max_duration','Business', 'Design', 'IT', 'Other', 'N_Skills']] = X_scaled\n",
    "\n",
    "\n",
    "scaler = StandardScaler()\n",
    "test_scale  = df_test[['max_duration','Business', 'Design', 'IT', 'Other', 'N_Skills']]\n",
    "scaler.fit(train_scale)\n",
    "X_scaled = scaler.transform(test_scale)\n",
    "df_test[['max_duration','Business', 'Design', 'IT', 'Other', 'N_Skills']] = X_scaled\n"
   ]
  },
  {
   "attachments": {},
   "cell_type": "markdown",
   "metadata": {},
   "source": [
    "Drop user id column"
   ]
  },
  {
   "cell_type": "code",
   "execution_count": 285,
   "metadata": {},
   "outputs": [],
   "source": [
    "train_users = df_train['user_id']\n",
    "test_users = df_test['user_id']\n",
    "\n",
    "df_train = df_train.drop(['user_id'], axis=1)\n",
    "df_test = df_test.drop(['user_id'], axis=1)"
   ]
  },
  {
   "cell_type": "code",
   "execution_count": 286,
   "metadata": {},
   "outputs": [
    {
     "data": {
      "text/plain": [
       "Index(['moved_after_2019', 'companies_worked', 'max_duration', 'Business',\n",
       "       'Design', 'IT', 'Other', 'N_Skills', 'English', 'German', 'Turkish',\n",
       "       'French', 'Spanish', 'Chinese', 'NLanguages', 'degree_edu',\n",
       "       'location_Netherlands', 'location_Other', 'location_Turkey',\n",
       "       'location_United Kingdom', 'field_edu_Engineering', 'field_edu_Other',\n",
       "       'field_edu_Science'],\n",
       "      dtype='object')"
      ]
     },
     "execution_count": 286,
     "metadata": {},
     "output_type": "execute_result"
    }
   ],
   "source": [
    "df_train.columns"
   ]
  },
  {
   "cell_type": "markdown",
   "metadata": {},
   "source": [
    "Split into test and train data"
   ]
  },
  {
   "cell_type": "code",
   "execution_count": 287,
   "metadata": {
    "ExecuteTime": {
     "end_time": "2023-01-15T17:48:27.312958Z",
     "start_time": "2023-01-15T17:48:27.252348Z"
    }
   },
   "outputs": [],
   "source": [
    "y = df_train['moved_after_2019']\n",
    "#y_test = df_test['Litres']\n",
    "\n",
    "df_train = df_train.drop(labels=['moved_after_2019'],axis=1)\n",
    "\n",
    "X_test = df_test.drop(labels=['moved_after_2019'],axis=1)\n"
   ]
  },
  {
   "cell_type": "code",
   "execution_count": 288,
   "metadata": {
    "ExecuteTime": {
     "end_time": "2023-01-15T17:48:27.638084Z",
     "start_time": "2023-01-15T17:48:27.630229Z"
    }
   },
   "outputs": [],
   "source": [
    "# Test train split\n",
    "X_train, X_train_test, y_train, y_train_test = train_test_split(df_train, y, test_size=0.2, random_state=42)\n",
    "\n",
    "# Train valid split\n",
    "X_train, X_valid, y_train, y_valid = train_test_split(X_train, y_train, test_size=0.2, random_state=42)\n"
   ]
  },
  {
   "cell_type": "markdown",
   "metadata": {},
   "source": [
    "Performance Plotting Functions"
   ]
  },
  {
   "cell_type": "code",
   "execution_count": 289,
   "metadata": {
    "ExecuteTime": {
     "end_time": "2023-01-15T17:48:28.446157Z",
     "start_time": "2023-01-15T17:48:28.426039Z"
    }
   },
   "outputs": [],
   "source": [
    "def model_evolution_loss(history,y_lim1=0,y_lim2=0.75):  \n",
    "    # summarize history for loss\n",
    "    plt.ylim(y_lim1,y_lim2)\n",
    "    plt.plot(history.history['val_loss'],color='r',label=\"Validation\")\n",
    "    plt.plot(history.history['loss'],color='b',label=\"Training\")\n",
    "    plt.title('model loss')\n",
    "    plt.ylabel('loss')\n",
    "    plt.xlabel('epoch')\n",
    "    plt.legend()\n",
    "    plt.show()\n",
    "\n",
    "# Evaluate accuracy on training set\n",
    "def test_set_evalution(model, X_train, X_valid, y_train, y_valid,X_train_test,y_train_test):\n",
    "    print(\"Train set evaluation:\", model.evaluate(X_train,y_train))\n",
    "    print(\"Valid set evaluation:\", model.evaluate(X_valid,y_valid))\n",
    "    print(\"Test set evaluation:\", model.evaluate(X_train_test,y_train_test))"
   ]
  },
  {
   "cell_type": "code",
   "execution_count": 290,
   "metadata": {
    "ExecuteTime": {
     "end_time": "2023-01-15T17:48:32.677856Z",
     "start_time": "2023-01-15T17:48:32.666088Z"
    }
   },
   "outputs": [
    {
     "data": {
      "text/plain": [
       "22"
      ]
     },
     "execution_count": 290,
     "metadata": {},
     "output_type": "execute_result"
    }
   ],
   "source": [
    "n_input = X_train.shape[1]\n",
    "n_input"
   ]
  },
  {
   "cell_type": "markdown",
   "metadata": {},
   "source": [
    "Design NN"
   ]
  },
  {
   "attachments": {},
   "cell_type": "markdown",
   "metadata": {},
   "source": [
    "NN1"
   ]
  },
  {
   "cell_type": "code",
   "execution_count": 291,
   "metadata": {},
   "outputs": [
    {
     "name": "stdout",
     "output_type": "stream",
     "text": [
      "Epoch 1/100\n",
      "27/27 [==============================] - 1s 11ms/step - loss: 0.5513 - accuracy: 0.7495 - val_loss: 0.5236 - val_accuracy: 0.7455\n",
      "Epoch 2/100\n",
      "27/27 [==============================] - 0s 6ms/step - loss: 0.5003 - accuracy: 0.7560 - val_loss: 0.5056 - val_accuracy: 0.7471\n",
      "Epoch 3/100\n",
      "27/27 [==============================] - 0s 6ms/step - loss: 0.4880 - accuracy: 0.7622 - val_loss: 0.4973 - val_accuracy: 0.7508\n",
      "Epoch 4/100\n",
      "27/27 [==============================] - 0s 6ms/step - loss: 0.4822 - accuracy: 0.7643 - val_loss: 0.4935 - val_accuracy: 0.7502\n",
      "Epoch 5/100\n",
      "27/27 [==============================] - 0s 7ms/step - loss: 0.4771 - accuracy: 0.7642 - val_loss: 0.4892 - val_accuracy: 0.7519\n",
      "Epoch 6/100\n",
      "27/27 [==============================] - 0s 6ms/step - loss: 0.4747 - accuracy: 0.7663 - val_loss: 0.4940 - val_accuracy: 0.7468\n",
      "Epoch 7/100\n",
      "27/27 [==============================] - 0s 6ms/step - loss: 0.4717 - accuracy: 0.7668 - val_loss: 0.4854 - val_accuracy: 0.7537\n",
      "Epoch 8/100\n",
      "27/27 [==============================] - 0s 6ms/step - loss: 0.4692 - accuracy: 0.7672 - val_loss: 0.4875 - val_accuracy: 0.7524\n",
      "Epoch 9/100\n",
      "27/27 [==============================] - 0s 6ms/step - loss: 0.4677 - accuracy: 0.7682 - val_loss: 0.4840 - val_accuracy: 0.7505\n",
      "Epoch 10/100\n",
      "27/27 [==============================] - 0s 7ms/step - loss: 0.4648 - accuracy: 0.7694 - val_loss: 0.4804 - val_accuracy: 0.7522\n",
      "Epoch 11/100\n",
      "27/27 [==============================] - 0s 8ms/step - loss: 0.4621 - accuracy: 0.7700 - val_loss: 0.4795 - val_accuracy: 0.7512\n",
      "Epoch 12/100\n",
      "27/27 [==============================] - 0s 7ms/step - loss: 0.4601 - accuracy: 0.7709 - val_loss: 0.4796 - val_accuracy: 0.7537\n",
      "Epoch 13/100\n",
      "27/27 [==============================] - 0s 7ms/step - loss: 0.4567 - accuracy: 0.7717 - val_loss: 0.4745 - val_accuracy: 0.7554\n",
      "Epoch 14/100\n",
      "27/27 [==============================] - 0s 5ms/step - loss: 0.4545 - accuracy: 0.7714 - val_loss: 0.4716 - val_accuracy: 0.7554\n",
      "Epoch 15/100\n",
      "27/27 [==============================] - 0s 5ms/step - loss: 0.4525 - accuracy: 0.7734 - val_loss: 0.4836 - val_accuracy: 0.7522\n",
      "Epoch 16/100\n",
      "27/27 [==============================] - 0s 6ms/step - loss: 0.4513 - accuracy: 0.7729 - val_loss: 0.4702 - val_accuracy: 0.7558\n",
      "Epoch 17/100\n",
      "27/27 [==============================] - 0s 7ms/step - loss: 0.4495 - accuracy: 0.7714 - val_loss: 0.4723 - val_accuracy: 0.7554\n",
      "Epoch 18/100\n",
      "27/27 [==============================] - 0s 5ms/step - loss: 0.4474 - accuracy: 0.7721 - val_loss: 0.4671 - val_accuracy: 0.7547\n",
      "Epoch 19/100\n",
      "27/27 [==============================] - 0s 4ms/step - loss: 0.4441 - accuracy: 0.7750 - val_loss: 0.4672 - val_accuracy: 0.7555\n",
      "Epoch 20/100\n",
      "27/27 [==============================] - 0s 4ms/step - loss: 0.4418 - accuracy: 0.7762 - val_loss: 0.4653 - val_accuracy: 0.7574\n",
      "Epoch 21/100\n",
      "27/27 [==============================] - 0s 5ms/step - loss: 0.4407 - accuracy: 0.7754 - val_loss: 0.4651 - val_accuracy: 0.7603\n",
      "Epoch 22/100\n",
      "27/27 [==============================] - 0s 6ms/step - loss: 0.4378 - accuracy: 0.7754 - val_loss: 0.4629 - val_accuracy: 0.7583\n",
      "Epoch 23/100\n",
      "27/27 [==============================] - 0s 6ms/step - loss: 0.4360 - accuracy: 0.7742 - val_loss: 0.4709 - val_accuracy: 0.7590\n",
      "Epoch 24/100\n",
      "27/27 [==============================] - 0s 6ms/step - loss: 0.4352 - accuracy: 0.7783 - val_loss: 0.4612 - val_accuracy: 0.7589\n",
      "Epoch 25/100\n",
      "27/27 [==============================] - 0s 6ms/step - loss: 0.4336 - accuracy: 0.7767 - val_loss: 0.4607 - val_accuracy: 0.7542\n",
      "Epoch 26/100\n",
      "27/27 [==============================] - 0s 6ms/step - loss: 0.4335 - accuracy: 0.7781 - val_loss: 0.4617 - val_accuracy: 0.7540\n",
      "Epoch 27/100\n",
      "27/27 [==============================] - 0s 5ms/step - loss: 0.4297 - accuracy: 0.7811 - val_loss: 0.4581 - val_accuracy: 0.7592\n",
      "Epoch 28/100\n",
      "27/27 [==============================] - 0s 5ms/step - loss: 0.4280 - accuracy: 0.7783 - val_loss: 0.4590 - val_accuracy: 0.7585\n",
      "Epoch 29/100\n",
      "27/27 [==============================] - 0s 6ms/step - loss: 0.4263 - accuracy: 0.7810 - val_loss: 0.4572 - val_accuracy: 0.7592\n",
      "Epoch 30/100\n",
      "27/27 [==============================] - 0s 6ms/step - loss: 0.4251 - accuracy: 0.7824 - val_loss: 0.4562 - val_accuracy: 0.7612\n",
      "Epoch 31/100\n",
      "27/27 [==============================] - 0s 5ms/step - loss: 0.4226 - accuracy: 0.7826 - val_loss: 0.4550 - val_accuracy: 0.7569\n",
      "Epoch 32/100\n",
      "27/27 [==============================] - 0s 5ms/step - loss: 0.4225 - accuracy: 0.7842 - val_loss: 0.4576 - val_accuracy: 0.7619\n",
      "Epoch 33/100\n",
      "27/27 [==============================] - 0s 5ms/step - loss: 0.4208 - accuracy: 0.7845 - val_loss: 0.4575 - val_accuracy: 0.7596\n",
      "Epoch 34/100\n",
      "27/27 [==============================] - 0s 6ms/step - loss: 0.4201 - accuracy: 0.7845 - val_loss: 0.4572 - val_accuracy: 0.7590\n",
      "Epoch 35/100\n",
      "27/27 [==============================] - 0s 7ms/step - loss: 0.4199 - accuracy: 0.7849 - val_loss: 0.4550 - val_accuracy: 0.7611\n",
      "Epoch 36/100\n",
      "27/27 [==============================] - 0s 6ms/step - loss: 0.4167 - accuracy: 0.7860 - val_loss: 0.4562 - val_accuracy: 0.7595\n"
     ]
    }
   ],
   "source": [
    "inputs = tf.keras.Input(shape=(n_input,))\n",
    "x = tf.keras.layers.Dense(128, activation='relu')(inputs)\n",
    "x = tf.keras.layers.Dense(64, activation='relu')(x)\n",
    "x = tf.keras.layers.Dense(32, activation='relu')(x)\n",
    "outputs = tf.keras.layers.Dense(1, activation='sigmoid')(x)\n",
    "\n",
    "\n",
    "model = tf.keras.Model(inputs=inputs, outputs=outputs)\n",
    "\n",
    "# Compiling the model with binary crossentropy loss and categorical accuracy metrics\n",
    "model.compile(optimizer='adam', loss='binary_crossentropy', metrics=['accuracy'])\n",
    "\n",
    "# Fitting the model with your training data\n",
    "#model.fit(X_train, y_train, epochs=10, batch_size=32)\n",
    "early_stopping = EarlyStopping(monitor='val_loss', mode='min', patience=5, restore_best_weights=True)\n",
    "\n",
    "history = model.fit(X_train, y_train, epochs=100, batch_size = 1024,validation_data=(X_valid,y_valid), verbose=1,callbacks=[early_stopping])\n"
   ]
  },
  {
   "cell_type": "code",
   "execution_count": 292,
   "metadata": {
    "ExecuteTime": {
     "end_time": "2023-01-15T17:48:33.944284Z",
     "start_time": "2023-01-15T17:48:33.764940Z"
    }
   },
   "outputs": [
    {
     "data": {
      "text/plain": [
       "' model = Sequential()\\n\\n# hidden layers\\n\\nmodel.add(Dense(units=16, activation=\\'relu\\', input_dim=n_input))\\nmodel.add(Dense(units=16,activation=\\'relu\\'))\\nmodel.add(Dense(units=16,activation=\\'relu\\'))\\nmodel.add(Dense(units=8,activation=\\'relu\\'))\\nmodel.add(Dense(units=8,activation=\\'relu\\'))\\n\\n# final layer\\nmodel.add(Dense(units=1,activation=tf.keras.layers.ThresholdedReLU(theta=0.5,)))\\n\\n# Compile model\\nmodel.compile(loss=tf.keras.losses.CategoricalCrossentropy(), optimizer=\\'SGD\\', metrics=[\"CategoricalAccuracy\"])\\n\\n# Train NN with Early stopping on valid\\nearly_stopping = EarlyStopping(monitor=\\'val_loss\\', mode=\\'min\\', patience=5, restore_best_weights=True)\\n\\nhistory = model.fit(X_train, y_train, epochs=100, batch_size = 1024,validation_data=(X_valid,y_valid), verbose=1,callbacks=[early_stopping])\\n '"
      ]
     },
     "execution_count": 292,
     "metadata": {},
     "output_type": "execute_result"
    }
   ],
   "source": [
    "\"\"\" model = Sequential()\n",
    "\n",
    "# hidden layers\n",
    "\n",
    "model.add(Dense(units=16, activation='relu', input_dim=n_input))\n",
    "model.add(Dense(units=16,activation='relu'))\n",
    "model.add(Dense(units=16,activation='relu'))\n",
    "model.add(Dense(units=8,activation='relu'))\n",
    "model.add(Dense(units=8,activation='relu'))\n",
    "\n",
    "# final layer\n",
    "model.add(Dense(units=1,activation=tf.keras.layers.ThresholdedReLU(theta=0.5,)))\n",
    "\n",
    "# Compile model\n",
    "model.compile(loss=tf.keras.losses.CategoricalCrossentropy(), optimizer='SGD', metrics=[\"CategoricalAccuracy\"])\n",
    "\n",
    "# Train NN with Early stopping on valid\n",
    "early_stopping = EarlyStopping(monitor='val_loss', mode='min', patience=5, restore_best_weights=True)\n",
    "\n",
    "history = model.fit(X_train, y_train, epochs=100, batch_size = 1024,validation_data=(X_valid,y_valid), verbose=1,callbacks=[early_stopping])\n",
    " \"\"\""
   ]
  },
  {
   "cell_type": "code",
   "execution_count": 293,
   "metadata": {
    "ExecuteTime": {
     "end_time": "2023-01-15T17:48:47.509313Z",
     "start_time": "2023-01-15T17:48:47.489893Z"
    }
   },
   "outputs": [
    {
     "data": {
      "text/plain": [
       "dict_keys(['loss', 'accuracy', 'val_loss', 'val_accuracy'])"
      ]
     },
     "execution_count": 293,
     "metadata": {},
     "output_type": "execute_result"
    }
   ],
   "source": [
    "history.history.keys()"
   ]
  },
  {
   "cell_type": "code",
   "execution_count": 294,
   "metadata": {
    "ExecuteTime": {
     "end_time": "2023-01-15T17:48:35.941497Z",
     "start_time": "2023-01-15T17:48:35.756768Z"
    }
   },
   "outputs": [
    {
     "data": {
      "image/png": "[encoded data removed]",
      "text/plain": [
       "<Figure size 640x480 with 1 Axes>"
      ]
     },
     "metadata": {},
     "output_type": "display_data"
    }
   ],
   "source": [
    "# Plot model evolution\n",
    "model_evolution_loss(history,y_lim1=0.4,y_lim2=0.7)"
   ]
  },
  {
   "cell_type": "code",
   "execution_count": 295,
   "metadata": {},
   "outputs": [
    {
     "name": "stdout",
     "output_type": "stream",
     "text": [
      "862/862 [==============================] - 2s 3ms/step - loss: 0.4185 - accuracy: 0.7858\n",
      "Train set evaluation: [0.4184766113758087, 0.7858386635780334]\n",
      "216/216 [==============================] - 1s 3ms/step - loss: 0.4550 - accuracy: 0.7571\n",
      "Valid set evaluation: [0.45496058464050293, 0.7571449279785156]\n",
      "270/270 [==============================] - 1s 3ms/step - loss: 0.4478 - accuracy: 0.7650\n",
      "Test set evaluation: [0.4478234350681305, 0.7649721503257751]\n",
      "270/270 [==============================] - 1s 3ms/step - loss: 0.4478 - accuracy: 0.7650\n"
     ]
    },
    {
     "data": {
      "text/plain": [
       "[0.4478234350681305, 0.7649721503257751]"
      ]
     },
     "execution_count": 295,
     "metadata": {},
     "output_type": "execute_result"
    }
   ],
   "source": [
    "# print metrics\n",
    "test_set_evalution(model, X_train, X_valid, y_train, y_valid,X_train_test,y_train_test)\n",
    "model.evaluate(X_train_test,y_train_test)"
   ]
  },
  {
   "attachments": {},
   "cell_type": "markdown",
   "metadata": {},
   "source": [
    "Apply thresholding anad evaluate accuracy"
   ]
  },
  {
   "cell_type": "code",
   "execution_count": 296,
   "metadata": {},
   "outputs": [
    {
     "name": "stdout",
     "output_type": "stream",
     "text": [
      "862/862 [==============================] - 1s 1ms/step\n",
      "216/216 [==============================] - 0s 1ms/step\n",
      "270/270 [==============================] - 0s 1ms/step\n"
     ]
    }
   ],
   "source": [
    "y_train_pred = model.predict(X_train)\n",
    "y_valid_pred = model.predict(X_valid)\n",
    "y_train_test_pred = model.predict(X_train_test)"
   ]
  },
  {
   "cell_type": "code",
   "execution_count": 297,
   "metadata": {},
   "outputs": [
    {
     "name": "stdout",
     "output_type": "stream",
     "text": [
      "(27568, 22) (6893, 22) (8616, 22)\n"
     ]
    }
   ],
   "source": [
    "print(X_train.shape,X_valid.shape,X_train_test.shape)"
   ]
  },
  {
   "cell_type": "code",
   "execution_count": 298,
   "metadata": {},
   "outputs": [
    {
     "name": "stdout",
     "output_type": "stream",
     "text": [
      "(27568, 1) (6893, 1) (8616, 1)\n"
     ]
    }
   ],
   "source": [
    "print(y_train_pred.shape,y_valid_pred.shape,y_train_test_pred.shape)"
   ]
  },
  {
   "cell_type": "code",
   "execution_count": 299,
   "metadata": {},
   "outputs": [],
   "source": [
    "y_train_pred[ y_train_pred > 0.5 ] = 1\n",
    "y_train_pred[ y_train_pred <= 0.5 ] = 0\n",
    "# do the same for the other arrays\n",
    "y_valid_pred[ y_valid_pred > 0.5 ] = 1\n",
    "y_valid_pred[ y_valid_pred <= 0.5 ] = 0\n",
    "y_train_test_pred[ y_train_test_pred > 0.5 ] = 1\n",
    "y_train_test_pred[ y_train_test_pred <= 0.5 ] = 0"
   ]
  },
  {
   "cell_type": "code",
   "execution_count": 300,
   "metadata": {},
   "outputs": [],
   "source": [
    "from sklearn.metrics import accuracy_score"
   ]
  },
  {
   "cell_type": "code",
   "execution_count": 301,
   "metadata": {},
   "outputs": [
    {
     "name": "stdout",
     "output_type": "stream",
     "text": [
      "0.7858386535113174\n",
      "0.757144929638764\n",
      "0.7649721448467967\n"
     ]
    }
   ],
   "source": [
    "print(accuracy_score(y_train, y_train_pred))\n",
    "print(accuracy_score(y_valid, y_valid_pred))\n",
    "print(accuracy_score(y_train_test, y_train_test_pred))"
   ]
  },
  {
   "cell_type": "code",
   "execution_count": 314,
   "metadata": {},
   "outputs": [
    {
     "name": "stdout",
     "output_type": "stream",
     "text": [
      "0.24332559489262914\n",
      "0.25562164514725083\n",
      "0.24500928505106778\n"
     ]
    }
   ],
   "source": [
    "print(y_train.mean())\n",
    "print(y_valid.mean())\n",
    "print(y_train_test.mean())"
   ]
  },
  {
   "cell_type": "markdown",
   "metadata": {},
   "source": [
    "## Now do prediction"
   ]
  },
  {
   "cell_type": "code",
   "execution_count": 337,
   "metadata": {},
   "outputs": [
    {
     "data": {
      "text/plain": [
       "(13255, 22)"
      ]
     },
     "execution_count": 337,
     "metadata": {},
     "output_type": "execute_result"
    }
   ],
   "source": [
    "X_test.shape"
   ]
  },
  {
   "cell_type": "code",
   "execution_count": 338,
   "metadata": {},
   "outputs": [
    {
     "name": "stdout",
     "output_type": "stream",
     "text": [
      "415/415 [==============================] - 1s 2ms/step\n"
     ]
    }
   ],
   "source": [
    "y_test_pred = model.predict(X_test) "
   ]
  },
  {
   "cell_type": "code",
   "execution_count": 339,
   "metadata": {},
   "outputs": [
    {
     "name": "stdout",
     "output_type": "stream",
     "text": [
      "(13255, 22)\n",
      "(13255, 1)\n",
      "0.19989377\n",
      "2649.592\n"
     ]
    }
   ],
   "source": [
    "print(X_test.shape)\n",
    "print(y_test_pred.shape)\n",
    "print(y_test_pred.mean())\n",
    "print(y_test_pred.sum())"
   ]
  },
  {
   "cell_type": "code",
   "execution_count": 341,
   "metadata": {},
   "outputs": [],
   "source": [
    "threshold = 0.6"
   ]
  },
  {
   "cell_type": "code",
   "execution_count": 342,
   "metadata": {},
   "outputs": [],
   "source": [
    "y_test_pred[y_test_pred < threshold] = 0\n",
    "y_test_pred[y_test_pred >= threshold] = 1"
   ]
  },
  {
   "cell_type": "code",
   "execution_count": 343,
   "metadata": {},
   "outputs": [
    {
     "data": {
      "text/plain": [
       "0.024519049"
      ]
     },
     "execution_count": 343,
     "metadata": {},
     "output_type": "execute_result"
    }
   ],
   "source": [
    "y_test_pred.mean()"
   ]
  },
  {
   "cell_type": "code",
   "execution_count": 344,
   "metadata": {},
   "outputs": [],
   "source": [
    "submission = pd.read_csv(\"OriginalData\\submission.csv\")"
   ]
  },
  {
   "cell_type": "code",
   "execution_count": 345,
   "metadata": {},
   "outputs": [
    {
     "data": {
      "text/html": [
       "<div>\n",
       "<style scoped>\n",
       "    .dataframe tbody tr th:only-of-type {\n",
       "        vertical-align: middle;\n",
       "    }\n",
       "\n",
       "    .dataframe tbody tr th {\n",
       "        vertical-align: top;\n",
       "    }\n",
       "\n",
       "    .dataframe thead th {\n",
       "        text-align: right;\n",
       "    }\n",
       "</style>\n",
       "<table border=\"1\" class=\"dataframe\">\n",
       "  <thead>\n",
       "    <tr style=\"text-align: right;\">\n",
       "      <th></th>\n",
       "      <th>user_id</th>\n",
       "      <th>moved_after_2019</th>\n",
       "    </tr>\n",
       "  </thead>\n",
       "  <tbody>\n",
       "    <tr>\n",
       "      <th>0</th>\n",
       "      <td>17449</td>\n",
       "      <td>NaN</td>\n",
       "    </tr>\n",
       "    <tr>\n",
       "      <th>1</th>\n",
       "      <td>33967</td>\n",
       "      <td>NaN</td>\n",
       "    </tr>\n",
       "    <tr>\n",
       "      <th>2</th>\n",
       "      <td>2110</td>\n",
       "      <td>NaN</td>\n",
       "    </tr>\n",
       "    <tr>\n",
       "      <th>3</th>\n",
       "      <td>55082</td>\n",
       "      <td>NaN</td>\n",
       "    </tr>\n",
       "    <tr>\n",
       "      <th>4</th>\n",
       "      <td>37165</td>\n",
       "      <td>NaN</td>\n",
       "    </tr>\n",
       "  </tbody>\n",
       "</table>\n",
       "</div>"
      ],
      "text/plain": [
       "   user_id  moved_after_2019\n",
       "0    17449               NaN\n",
       "1    33967               NaN\n",
       "2     2110               NaN\n",
       "3    55082               NaN\n",
       "4    37165               NaN"
      ]
     },
     "execution_count": 345,
     "metadata": {},
     "output_type": "execute_result"
    }
   ],
   "source": [
    "submission.head()"
   ]
  },
  {
   "cell_type": "code",
   "execution_count": 346,
   "metadata": {},
   "outputs": [
    {
     "data": {
      "text/html": [
       "<div>\n",
       "<style scoped>\n",
       "    .dataframe tbody tr th:only-of-type {\n",
       "        vertical-align: middle;\n",
       "    }\n",
       "\n",
       "    .dataframe tbody tr th {\n",
       "        vertical-align: top;\n",
       "    }\n",
       "\n",
       "    .dataframe thead th {\n",
       "        text-align: right;\n",
       "    }\n",
       "</style>\n",
       "<table border=\"1\" class=\"dataframe\">\n",
       "  <thead>\n",
       "    <tr style=\"text-align: right;\">\n",
       "      <th></th>\n",
       "      <th>user_id</th>\n",
       "      <th>moved_after_2019</th>\n",
       "    </tr>\n",
       "  </thead>\n",
       "  <tbody>\n",
       "    <tr>\n",
       "      <th>0</th>\n",
       "      <td>17449</td>\n",
       "      <td>0</td>\n",
       "    </tr>\n",
       "    <tr>\n",
       "      <th>1</th>\n",
       "      <td>33967</td>\n",
       "      <td>0</td>\n",
       "    </tr>\n",
       "    <tr>\n",
       "      <th>2</th>\n",
       "      <td>2110</td>\n",
       "      <td>0</td>\n",
       "    </tr>\n",
       "    <tr>\n",
       "      <th>3</th>\n",
       "      <td>55082</td>\n",
       "      <td>0</td>\n",
       "    </tr>\n",
       "    <tr>\n",
       "      <th>4</th>\n",
       "      <td>37165</td>\n",
       "      <td>0</td>\n",
       "    </tr>\n",
       "    <tr>\n",
       "      <th>...</th>\n",
       "      <td>...</td>\n",
       "      <td>...</td>\n",
       "    </tr>\n",
       "    <tr>\n",
       "      <th>13250</th>\n",
       "      <td>32847</td>\n",
       "      <td>0</td>\n",
       "    </tr>\n",
       "    <tr>\n",
       "      <th>13251</th>\n",
       "      <td>20054</td>\n",
       "      <td>0</td>\n",
       "    </tr>\n",
       "    <tr>\n",
       "      <th>13252</th>\n",
       "      <td>7029</td>\n",
       "      <td>0</td>\n",
       "    </tr>\n",
       "    <tr>\n",
       "      <th>13253</th>\n",
       "      <td>56130</td>\n",
       "      <td>0</td>\n",
       "    </tr>\n",
       "    <tr>\n",
       "      <th>13254</th>\n",
       "      <td>16036</td>\n",
       "      <td>0</td>\n",
       "    </tr>\n",
       "  </tbody>\n",
       "</table>\n",
       "<p>13255 rows × 2 columns</p>\n",
       "</div>"
      ],
      "text/plain": [
       "       user_id  moved_after_2019\n",
       "0        17449                 0\n",
       "1        33967                 0\n",
       "2         2110                 0\n",
       "3        55082                 0\n",
       "4        37165                 0\n",
       "...        ...               ...\n",
       "13250    32847                 0\n",
       "13251    20054                 0\n",
       "13252     7029                 0\n",
       "13253    56130                 0\n",
       "13254    16036                 0\n",
       "\n",
       "[13255 rows x 2 columns]"
      ]
     },
     "execution_count": 346,
     "metadata": {},
     "output_type": "execute_result"
    }
   ],
   "source": [
    "submission.moved_after_2019 = y_test_pred.astype(int)\n",
    "submission"
   ]
  },
  {
   "cell_type": "code",
   "execution_count": 348,
   "metadata": {},
   "outputs": [],
   "source": [
    "submission.to_csv(f\"Submissions\\submission_t{threshold}.csv\",index=False)"
   ]
  },
  {
   "cell_type": "code",
   "execution_count": 326,
   "metadata": {},
   "outputs": [
    {
     "data": {
      "text/plain": [
       "0.1847604677480196"
      ]
     },
     "execution_count": 326,
     "metadata": {},
     "output_type": "execute_result"
    }
   ],
   "source": [
    "submission.moved_after_2019.mean()"
   ]
  },
  {
   "cell_type": "code",
   "execution_count": 276,
   "metadata": {},
   "outputs": [
    {
     "data": {
      "text/html": [
       "<div>\n",
       "<style scoped>\n",
       "    .dataframe tbody tr th:only-of-type {\n",
       "        vertical-align: middle;\n",
       "    }\n",
       "\n",
       "    .dataframe tbody tr th {\n",
       "        vertical-align: top;\n",
       "    }\n",
       "\n",
       "    .dataframe thead th {\n",
       "        text-align: right;\n",
       "    }\n",
       "</style>\n",
       "<table border=\"1\" class=\"dataframe\">\n",
       "  <thead>\n",
       "    <tr style=\"text-align: right;\">\n",
       "      <th></th>\n",
       "      <th>user_id</th>\n",
       "      <th>moved_after_2019</th>\n",
       "    </tr>\n",
       "  </thead>\n",
       "  <tbody>\n",
       "    <tr>\n",
       "      <th>0</th>\n",
       "      <td>17449</td>\n",
       "      <td>0.0</td>\n",
       "    </tr>\n",
       "    <tr>\n",
       "      <th>1</th>\n",
       "      <td>33967</td>\n",
       "      <td>0.0</td>\n",
       "    </tr>\n",
       "    <tr>\n",
       "      <th>2</th>\n",
       "      <td>2110</td>\n",
       "      <td>0.0</td>\n",
       "    </tr>\n",
       "    <tr>\n",
       "      <th>3</th>\n",
       "      <td>55082</td>\n",
       "      <td>0.0</td>\n",
       "    </tr>\n",
       "    <tr>\n",
       "      <th>4</th>\n",
       "      <td>37165</td>\n",
       "      <td>0.0</td>\n",
       "    </tr>\n",
       "    <tr>\n",
       "      <th>...</th>\n",
       "      <td>...</td>\n",
       "      <td>...</td>\n",
       "    </tr>\n",
       "    <tr>\n",
       "      <th>13250</th>\n",
       "      <td>32847</td>\n",
       "      <td>0.0</td>\n",
       "    </tr>\n",
       "    <tr>\n",
       "      <th>13251</th>\n",
       "      <td>20054</td>\n",
       "      <td>0.0</td>\n",
       "    </tr>\n",
       "    <tr>\n",
       "      <th>13252</th>\n",
       "      <td>7029</td>\n",
       "      <td>0.0</td>\n",
       "    </tr>\n",
       "    <tr>\n",
       "      <th>13253</th>\n",
       "      <td>56130</td>\n",
       "      <td>0.0</td>\n",
       "    </tr>\n",
       "    <tr>\n",
       "      <th>13254</th>\n",
       "      <td>16036</td>\n",
       "      <td>1.0</td>\n",
       "    </tr>\n",
       "  </tbody>\n",
       "</table>\n",
       "<p>13255 rows × 2 columns</p>\n",
       "</div>"
      ],
      "text/plain": [
       "       user_id  moved_after_2019\n",
       "0        17449               0.0\n",
       "1        33967               0.0\n",
       "2         2110               0.0\n",
       "3        55082               0.0\n",
       "4        37165               0.0\n",
       "...        ...               ...\n",
       "13250    32847               0.0\n",
       "13251    20054               0.0\n",
       "13252     7029               0.0\n",
       "13253    56130               0.0\n",
       "13254    16036               1.0\n",
       "\n",
       "[13255 rows x 2 columns]"
      ]
     },
     "execution_count": 276,
     "metadata": {},
     "output_type": "execute_result"
    }
   ],
   "source": []
  }
 ],
 "metadata": {
  "kernelspec": {
   "display_name": "Python 3 (ipykernel)",
   "language": "python",
   "name": "python3"
  },
  "language_info": {
   "codemirror_mode": {
    "name": "ipython",
    "version": 3
   },
   "file_extension": ".py",
   "mimetype": "text/x-python",
   "name": "python",
   "nbconvert_exporter": "python",
   "pygments_lexer": "ipython3",
   "version": "3.10.8"
  },
  "vscode": {
   "interpreter": {
    "hash": "0572de3ec0de3db14d810fe000b3b4fa7d1570197df366e4e138b540c1876b21"
   }
  }
 },
 "nbformat": 4,
 "nbformat_minor": 2
}
