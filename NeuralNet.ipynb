{
 "cells": [
  {
   "cell_type": "code",
   "execution_count": 92,
   "metadata": {
    "ExecuteTime": {
     "end_time": "2023-01-15T17:48:51.114425Z",
     "start_time": "2023-01-15T17:48:51.108919Z"
    }
   },
   "outputs": [],
   "source": [
    "import matplotlib.pyplot as plt\n",
    "\n",
    "import numpy as np\n",
    "import matplotlib.pyplot as plt\n",
    "import matplotlib\n",
    "import pandas as pd\n",
    "pd.set_option('display.max_columns', None)\n",
    "from tensorflow import keras\n",
    "from tensorflow.keras.models import Sequential\n",
    "from sklearn.preprocessing import StandardScaler\n",
    "from tensorflow.keras.models import Sequential\n",
    "from tensorflow.keras.layers import Dense\n",
    "from tensorflow.keras.utils import *\n",
    "from sklearn.model_selection import train_test_split \n",
    "from sklearn.utils import shuffle\n",
    "from tensorflow.keras.callbacks import EarlyStopping"
   ]
  },
  {
   "cell_type": "code",
   "execution_count": 93,
   "metadata": {
    "ExecuteTime": {
     "end_time": "2023-01-15T17:48:23.938353Z",
     "start_time": "2023-01-15T17:48:23.933969Z"
    }
   },
   "outputs": [],
   "source": [
    "cutoff = False\n",
    "cutoff_threshold = 1\n",
    "remove_zero = True"
   ]
  },
  {
   "cell_type": "markdown",
   "metadata": {},
   "source": [
    "Load Data"
   ]
  },
  {
   "cell_type": "code",
   "execution_count": 94,
   "metadata": {
    "ExecuteTime": {
     "end_time": "2023-01-15T17:48:24.933310Z",
     "start_time": "2023-01-15T17:48:24.772191Z"
    }
   },
   "outputs": [],
   "source": [
    "df_test = pd.read_csv(\"PreparedData/test.csv\")\n",
    "df_train = pd.read_csv(\"PreparedData/train.csv\")"
   ]
  },
  {
   "attachments": {},
   "cell_type": "markdown",
   "metadata": {},
   "source": [
    "One hot encode"
   ]
  },
  {
   "cell_type": "code",
   "execution_count": 95,
   "metadata": {},
   "outputs": [
    {
     "data": {
      "text/html": [
       "<div>\n",
       "<style scoped>\n",
       "    .dataframe tbody tr th:only-of-type {\n",
       "        vertical-align: middle;\n",
       "    }\n",
       "\n",
       "    .dataframe tbody tr th {\n",
       "        vertical-align: top;\n",
       "    }\n",
       "\n",
       "    .dataframe thead th {\n",
       "        text-align: right;\n",
       "    }\n",
       "</style>\n",
       "<table border=\"1\" class=\"dataframe\">\n",
       "  <thead>\n",
       "    <tr style=\"text-align: right;\">\n",
       "      <th></th>\n",
       "      <th>user_id</th>\n",
       "      <th>moved_after_2019</th>\n",
       "      <th>companies_worked</th>\n",
       "      <th>max_duration</th>\n",
       "      <th>Business</th>\n",
       "      <th>Design</th>\n",
       "      <th>IT</th>\n",
       "      <th>Other</th>\n",
       "      <th>N_Skills</th>\n",
       "      <th>English</th>\n",
       "      <th>German</th>\n",
       "      <th>Turkish</th>\n",
       "      <th>French</th>\n",
       "      <th>Spanish</th>\n",
       "      <th>Chinese</th>\n",
       "      <th>NLanguages</th>\n",
       "      <th>start_date_edu</th>\n",
       "      <th>end_date_edu</th>\n",
       "      <th>degree_edu</th>\n",
       "      <th>location_Netherlands</th>\n",
       "      <th>location_Other</th>\n",
       "      <th>location_Turkey</th>\n",
       "      <th>location_United Kingdom</th>\n",
       "      <th>field_edu_Engineering</th>\n",
       "      <th>field_edu_Other</th>\n",
       "      <th>field_edu_Science</th>\n",
       "    </tr>\n",
       "  </thead>\n",
       "  <tbody>\n",
       "    <tr>\n",
       "      <th>0</th>\n",
       "      <td>1301</td>\n",
       "      <td>1</td>\n",
       "      <td>4</td>\n",
       "      <td>1645</td>\n",
       "      <td>2</td>\n",
       "      <td>0</td>\n",
       "      <td>4</td>\n",
       "      <td>17</td>\n",
       "      <td>23</td>\n",
       "      <td>3</td>\n",
       "      <td>0</td>\n",
       "      <td>5</td>\n",
       "      <td>0</td>\n",
       "      <td>0</td>\n",
       "      <td>0</td>\n",
       "      <td>4</td>\n",
       "      <td>2100-01-01</td>\n",
       "      <td>2100-01-01</td>\n",
       "      <td>2</td>\n",
       "      <td>0</td>\n",
       "      <td>0</td>\n",
       "      <td>1</td>\n",
       "      <td>0</td>\n",
       "      <td>0</td>\n",
       "      <td>1</td>\n",
       "      <td>0</td>\n",
       "    </tr>\n",
       "    <tr>\n",
       "      <th>1</th>\n",
       "      <td>6950</td>\n",
       "      <td>0</td>\n",
       "      <td>4</td>\n",
       "      <td>1402</td>\n",
       "      <td>0</td>\n",
       "      <td>0</td>\n",
       "      <td>17</td>\n",
       "      <td>32</td>\n",
       "      <td>49</td>\n",
       "      <td>3</td>\n",
       "      <td>0</td>\n",
       "      <td>0</td>\n",
       "      <td>0</td>\n",
       "      <td>0</td>\n",
       "      <td>0</td>\n",
       "      <td>3</td>\n",
       "      <td>2100-01-01</td>\n",
       "      <td>2100-01-01</td>\n",
       "      <td>1</td>\n",
       "      <td>0</td>\n",
       "      <td>0</td>\n",
       "      <td>1</td>\n",
       "      <td>0</td>\n",
       "      <td>0</td>\n",
       "      <td>1</td>\n",
       "      <td>0</td>\n",
       "    </tr>\n",
       "    <tr>\n",
       "      <th>2</th>\n",
       "      <td>4880</td>\n",
       "      <td>0</td>\n",
       "      <td>4</td>\n",
       "      <td>1216</td>\n",
       "      <td>0</td>\n",
       "      <td>2</td>\n",
       "      <td>4</td>\n",
       "      <td>15</td>\n",
       "      <td>21</td>\n",
       "      <td>2</td>\n",
       "      <td>0</td>\n",
       "      <td>5</td>\n",
       "      <td>0</td>\n",
       "      <td>0</td>\n",
       "      <td>0</td>\n",
       "      <td>2</td>\n",
       "      <td>2100-01-01</td>\n",
       "      <td>2100-01-01</td>\n",
       "      <td>2</td>\n",
       "      <td>0</td>\n",
       "      <td>0</td>\n",
       "      <td>1</td>\n",
       "      <td>0</td>\n",
       "      <td>0</td>\n",
       "      <td>1</td>\n",
       "      <td>0</td>\n",
       "    </tr>\n",
       "    <tr>\n",
       "      <th>3</th>\n",
       "      <td>26046</td>\n",
       "      <td>0</td>\n",
       "      <td>1</td>\n",
       "      <td>1856</td>\n",
       "      <td>0</td>\n",
       "      <td>0</td>\n",
       "      <td>7</td>\n",
       "      <td>23</td>\n",
       "      <td>30</td>\n",
       "      <td>2</td>\n",
       "      <td>0</td>\n",
       "      <td>0</td>\n",
       "      <td>0</td>\n",
       "      <td>0</td>\n",
       "      <td>0</td>\n",
       "      <td>2</td>\n",
       "      <td>2100-01-01</td>\n",
       "      <td>2100-01-01</td>\n",
       "      <td>1</td>\n",
       "      <td>0</td>\n",
       "      <td>0</td>\n",
       "      <td>1</td>\n",
       "      <td>0</td>\n",
       "      <td>0</td>\n",
       "      <td>0</td>\n",
       "      <td>0</td>\n",
       "    </tr>\n",
       "    <tr>\n",
       "      <th>4</th>\n",
       "      <td>11005</td>\n",
       "      <td>0</td>\n",
       "      <td>3</td>\n",
       "      <td>2769</td>\n",
       "      <td>0</td>\n",
       "      <td>1</td>\n",
       "      <td>10</td>\n",
       "      <td>37</td>\n",
       "      <td>48</td>\n",
       "      <td>3</td>\n",
       "      <td>0</td>\n",
       "      <td>5</td>\n",
       "      <td>0</td>\n",
       "      <td>0</td>\n",
       "      <td>0</td>\n",
       "      <td>3</td>\n",
       "      <td>2100-01-01</td>\n",
       "      <td>2100-01-01</td>\n",
       "      <td>1</td>\n",
       "      <td>0</td>\n",
       "      <td>0</td>\n",
       "      <td>1</td>\n",
       "      <td>0</td>\n",
       "      <td>0</td>\n",
       "      <td>1</td>\n",
       "      <td>0</td>\n",
       "    </tr>\n",
       "  </tbody>\n",
       "</table>\n",
       "</div>"
      ],
      "text/plain": [
       "   user_id  moved_after_2019  companies_worked  max_duration  Business  \\\n",
       "0     1301                 1                 4          1645         2   \n",
       "1     6950                 0                 4          1402         0   \n",
       "2     4880                 0                 4          1216         0   \n",
       "3    26046                 0                 1          1856         0   \n",
       "4    11005                 0                 3          2769         0   \n",
       "\n",
       "   Design  IT  Other  N_Skills  English  German  Turkish  French  Spanish  \\\n",
       "0       0   4     17        23        3       0        5       0        0   \n",
       "1       0  17     32        49        3       0        0       0        0   \n",
       "2       2   4     15        21        2       0        5       0        0   \n",
       "3       0   7     23        30        2       0        0       0        0   \n",
       "4       1  10     37        48        3       0        5       0        0   \n",
       "\n",
       "   Chinese  NLanguages start_date_edu end_date_edu  degree_edu  \\\n",
       "0        0           4     2100-01-01   2100-01-01           2   \n",
       "1        0           3     2100-01-01   2100-01-01           1   \n",
       "2        0           2     2100-01-01   2100-01-01           2   \n",
       "3        0           2     2100-01-01   2100-01-01           1   \n",
       "4        0           3     2100-01-01   2100-01-01           1   \n",
       "\n",
       "   location_Netherlands  location_Other  location_Turkey  \\\n",
       "0                     0               0                1   \n",
       "1                     0               0                1   \n",
       "2                     0               0                1   \n",
       "3                     0               0                1   \n",
       "4                     0               0                1   \n",
       "\n",
       "   location_United Kingdom  field_edu_Engineering  field_edu_Other  \\\n",
       "0                        0                      0                1   \n",
       "1                        0                      0                1   \n",
       "2                        0                      0                1   \n",
       "3                        0                      0                0   \n",
       "4                        0                      0                1   \n",
       "\n",
       "   field_edu_Science  \n",
       "0                  0  \n",
       "1                  0  \n",
       "2                  0  \n",
       "3                  0  \n",
       "4                  0  "
      ]
     },
     "execution_count": 95,
     "metadata": {},
     "output_type": "execute_result"
    }
   ],
   "source": [
    "# Feature Engineering (one hot encode)\n",
    "df_train = pd.get_dummies(df_train,columns= [\"location\",\"field_edu\"], drop_first=True)\n",
    "df_train.head(5)"
   ]
  },
  {
   "cell_type": "code",
   "execution_count": 96,
   "metadata": {},
   "outputs": [
    {
     "data": {
      "text/html": [
       "<div>\n",
       "<style scoped>\n",
       "    .dataframe tbody tr th:only-of-type {\n",
       "        vertical-align: middle;\n",
       "    }\n",
       "\n",
       "    .dataframe tbody tr th {\n",
       "        vertical-align: top;\n",
       "    }\n",
       "\n",
       "    .dataframe thead th {\n",
       "        text-align: right;\n",
       "    }\n",
       "</style>\n",
       "<table border=\"1\" class=\"dataframe\">\n",
       "  <thead>\n",
       "    <tr style=\"text-align: right;\">\n",
       "      <th></th>\n",
       "      <th>user_id</th>\n",
       "      <th>moved_after_2019</th>\n",
       "      <th>companies_worked</th>\n",
       "      <th>max_duration</th>\n",
       "      <th>Business</th>\n",
       "      <th>Design</th>\n",
       "      <th>IT</th>\n",
       "      <th>Other</th>\n",
       "      <th>N_Skills</th>\n",
       "      <th>English</th>\n",
       "      <th>German</th>\n",
       "      <th>Turkish</th>\n",
       "      <th>French</th>\n",
       "      <th>Spanish</th>\n",
       "      <th>Chinese</th>\n",
       "      <th>NLanguages</th>\n",
       "      <th>start_date_edu</th>\n",
       "      <th>end_date_edu</th>\n",
       "      <th>degree_edu</th>\n",
       "      <th>location_Netherlands</th>\n",
       "      <th>location_Other</th>\n",
       "      <th>location_Turkey</th>\n",
       "      <th>location_United Kingdom</th>\n",
       "      <th>field_edu_Engineering</th>\n",
       "      <th>field_edu_Other</th>\n",
       "      <th>field_edu_Science</th>\n",
       "    </tr>\n",
       "  </thead>\n",
       "  <tbody>\n",
       "    <tr>\n",
       "      <th>0</th>\n",
       "      <td>17449</td>\n",
       "      <td>2</td>\n",
       "      <td>3</td>\n",
       "      <td>4017</td>\n",
       "      <td>1</td>\n",
       "      <td>0</td>\n",
       "      <td>11</td>\n",
       "      <td>22</td>\n",
       "      <td>34</td>\n",
       "      <td>2</td>\n",
       "      <td>0</td>\n",
       "      <td>4</td>\n",
       "      <td>0</td>\n",
       "      <td>0</td>\n",
       "      <td>0</td>\n",
       "      <td>2</td>\n",
       "      <td>2100-01-01</td>\n",
       "      <td>2100-01-01</td>\n",
       "      <td>1</td>\n",
       "      <td>0</td>\n",
       "      <td>0</td>\n",
       "      <td>1</td>\n",
       "      <td>0</td>\n",
       "      <td>1</td>\n",
       "      <td>0</td>\n",
       "      <td>0</td>\n",
       "    </tr>\n",
       "    <tr>\n",
       "      <th>1</th>\n",
       "      <td>33967</td>\n",
       "      <td>2</td>\n",
       "      <td>2</td>\n",
       "      <td>730</td>\n",
       "      <td>2</td>\n",
       "      <td>9</td>\n",
       "      <td>1</td>\n",
       "      <td>19</td>\n",
       "      <td>31</td>\n",
       "      <td>5</td>\n",
       "      <td>0</td>\n",
       "      <td>5</td>\n",
       "      <td>0</td>\n",
       "      <td>0</td>\n",
       "      <td>1</td>\n",
       "      <td>2</td>\n",
       "      <td>2100-01-01</td>\n",
       "      <td>2100-01-01</td>\n",
       "      <td>4</td>\n",
       "      <td>0</td>\n",
       "      <td>0</td>\n",
       "      <td>1</td>\n",
       "      <td>0</td>\n",
       "      <td>0</td>\n",
       "      <td>1</td>\n",
       "      <td>0</td>\n",
       "    </tr>\n",
       "    <tr>\n",
       "      <th>2</th>\n",
       "      <td>2110</td>\n",
       "      <td>2</td>\n",
       "      <td>2</td>\n",
       "      <td>0</td>\n",
       "      <td>3</td>\n",
       "      <td>0</td>\n",
       "      <td>2</td>\n",
       "      <td>8</td>\n",
       "      <td>13</td>\n",
       "      <td>2</td>\n",
       "      <td>1</td>\n",
       "      <td>5</td>\n",
       "      <td>0</td>\n",
       "      <td>0</td>\n",
       "      <td>0</td>\n",
       "      <td>4</td>\n",
       "      <td>2100-01-01</td>\n",
       "      <td>2100-01-01</td>\n",
       "      <td>2</td>\n",
       "      <td>0</td>\n",
       "      <td>0</td>\n",
       "      <td>1</td>\n",
       "      <td>0</td>\n",
       "      <td>0</td>\n",
       "      <td>1</td>\n",
       "      <td>0</td>\n",
       "    </tr>\n",
       "    <tr>\n",
       "      <th>3</th>\n",
       "      <td>55082</td>\n",
       "      <td>2</td>\n",
       "      <td>2</td>\n",
       "      <td>2011</td>\n",
       "      <td>0</td>\n",
       "      <td>0</td>\n",
       "      <td>12</td>\n",
       "      <td>25</td>\n",
       "      <td>37</td>\n",
       "      <td>2</td>\n",
       "      <td>0</td>\n",
       "      <td>2</td>\n",
       "      <td>0</td>\n",
       "      <td>0</td>\n",
       "      <td>0</td>\n",
       "      <td>1</td>\n",
       "      <td>2100-01-01</td>\n",
       "      <td>2100-01-01</td>\n",
       "      <td>1</td>\n",
       "      <td>0</td>\n",
       "      <td>0</td>\n",
       "      <td>1</td>\n",
       "      <td>0</td>\n",
       "      <td>0</td>\n",
       "      <td>0</td>\n",
       "      <td>0</td>\n",
       "    </tr>\n",
       "    <tr>\n",
       "      <th>4</th>\n",
       "      <td>37165</td>\n",
       "      <td>2</td>\n",
       "      <td>1</td>\n",
       "      <td>944</td>\n",
       "      <td>0</td>\n",
       "      <td>0</td>\n",
       "      <td>0</td>\n",
       "      <td>4</td>\n",
       "      <td>4</td>\n",
       "      <td>4</td>\n",
       "      <td>0</td>\n",
       "      <td>5</td>\n",
       "      <td>0</td>\n",
       "      <td>0</td>\n",
       "      <td>0</td>\n",
       "      <td>2</td>\n",
       "      <td>2100-01-01</td>\n",
       "      <td>2100-01-01</td>\n",
       "      <td>1</td>\n",
       "      <td>0</td>\n",
       "      <td>0</td>\n",
       "      <td>1</td>\n",
       "      <td>0</td>\n",
       "      <td>1</td>\n",
       "      <td>0</td>\n",
       "      <td>0</td>\n",
       "    </tr>\n",
       "  </tbody>\n",
       "</table>\n",
       "</div>"
      ],
      "text/plain": [
       "   user_id  moved_after_2019  companies_worked  max_duration  Business  \\\n",
       "0    17449                 2                 3          4017         1   \n",
       "1    33967                 2                 2           730         2   \n",
       "2     2110                 2                 2             0         3   \n",
       "3    55082                 2                 2          2011         0   \n",
       "4    37165                 2                 1           944         0   \n",
       "\n",
       "   Design  IT  Other  N_Skills  English  German  Turkish  French  Spanish  \\\n",
       "0       0  11     22        34        2       0        4       0        0   \n",
       "1       9   1     19        31        5       0        5       0        0   \n",
       "2       0   2      8        13        2       1        5       0        0   \n",
       "3       0  12     25        37        2       0        2       0        0   \n",
       "4       0   0      4         4        4       0        5       0        0   \n",
       "\n",
       "   Chinese  NLanguages start_date_edu end_date_edu  degree_edu  \\\n",
       "0        0           2     2100-01-01   2100-01-01           1   \n",
       "1        1           2     2100-01-01   2100-01-01           4   \n",
       "2        0           4     2100-01-01   2100-01-01           2   \n",
       "3        0           1     2100-01-01   2100-01-01           1   \n",
       "4        0           2     2100-01-01   2100-01-01           1   \n",
       "\n",
       "   location_Netherlands  location_Other  location_Turkey  \\\n",
       "0                     0               0                1   \n",
       "1                     0               0                1   \n",
       "2                     0               0                1   \n",
       "3                     0               0                1   \n",
       "4                     0               0                1   \n",
       "\n",
       "   location_United Kingdom  field_edu_Engineering  field_edu_Other  \\\n",
       "0                        0                      1                0   \n",
       "1                        0                      0                1   \n",
       "2                        0                      0                1   \n",
       "3                        0                      0                0   \n",
       "4                        0                      1                0   \n",
       "\n",
       "   field_edu_Science  \n",
       "0                  0  \n",
       "1                  0  \n",
       "2                  0  \n",
       "3                  0  \n",
       "4                  0  "
      ]
     },
     "execution_count": 96,
     "metadata": {},
     "output_type": "execute_result"
    }
   ],
   "source": [
    "df_test = pd.get_dummies(df_test,columns= [\"location\",\"field_edu\"], drop_first=True)\n",
    "df_test.head(5)"
   ]
  },
  {
   "attachments": {},
   "cell_type": "markdown",
   "metadata": {},
   "source": [
    "Drop some columns"
   ]
  },
  {
   "cell_type": "code",
   "execution_count": 97,
   "metadata": {},
   "outputs": [],
   "source": [
    "df_train.drop([\"start_date_edu\",\"end_date_edu\"], axis=1, inplace=True)\n",
    "df_test.drop([\"start_date_edu\",\"end_date_edu\"], axis=1, inplace=True)"
   ]
  },
  {
   "cell_type": "code",
   "execution_count": 98,
   "metadata": {},
   "outputs": [
    {
     "data": {
      "text/html": [
       "<div>\n",
       "<style scoped>\n",
       "    .dataframe tbody tr th:only-of-type {\n",
       "        vertical-align: middle;\n",
       "    }\n",
       "\n",
       "    .dataframe tbody tr th {\n",
       "        vertical-align: top;\n",
       "    }\n",
       "\n",
       "    .dataframe thead th {\n",
       "        text-align: right;\n",
       "    }\n",
       "</style>\n",
       "<table border=\"1\" class=\"dataframe\">\n",
       "  <thead>\n",
       "    <tr style=\"text-align: right;\">\n",
       "      <th></th>\n",
       "      <th>user_id</th>\n",
       "      <th>moved_after_2019</th>\n",
       "      <th>companies_worked</th>\n",
       "      <th>max_duration</th>\n",
       "      <th>Business</th>\n",
       "      <th>Design</th>\n",
       "      <th>IT</th>\n",
       "      <th>Other</th>\n",
       "      <th>N_Skills</th>\n",
       "      <th>English</th>\n",
       "      <th>German</th>\n",
       "      <th>Turkish</th>\n",
       "      <th>French</th>\n",
       "      <th>Spanish</th>\n",
       "      <th>Chinese</th>\n",
       "      <th>NLanguages</th>\n",
       "      <th>degree_edu</th>\n",
       "      <th>location_Netherlands</th>\n",
       "      <th>location_Other</th>\n",
       "      <th>location_Turkey</th>\n",
       "      <th>location_United Kingdom</th>\n",
       "      <th>field_edu_Engineering</th>\n",
       "      <th>field_edu_Other</th>\n",
       "      <th>field_edu_Science</th>\n",
       "    </tr>\n",
       "  </thead>\n",
       "  <tbody>\n",
       "    <tr>\n",
       "      <th>0</th>\n",
       "      <td>1301</td>\n",
       "      <td>1</td>\n",
       "      <td>4</td>\n",
       "      <td>1645</td>\n",
       "      <td>2</td>\n",
       "      <td>0</td>\n",
       "      <td>4</td>\n",
       "      <td>17</td>\n",
       "      <td>23</td>\n",
       "      <td>3</td>\n",
       "      <td>0</td>\n",
       "      <td>5</td>\n",
       "      <td>0</td>\n",
       "      <td>0</td>\n",
       "      <td>0</td>\n",
       "      <td>4</td>\n",
       "      <td>2</td>\n",
       "      <td>0</td>\n",
       "      <td>0</td>\n",
       "      <td>1</td>\n",
       "      <td>0</td>\n",
       "      <td>0</td>\n",
       "      <td>1</td>\n",
       "      <td>0</td>\n",
       "    </tr>\n",
       "    <tr>\n",
       "      <th>1</th>\n",
       "      <td>6950</td>\n",
       "      <td>0</td>\n",
       "      <td>4</td>\n",
       "      <td>1402</td>\n",
       "      <td>0</td>\n",
       "      <td>0</td>\n",
       "      <td>17</td>\n",
       "      <td>32</td>\n",
       "      <td>49</td>\n",
       "      <td>3</td>\n",
       "      <td>0</td>\n",
       "      <td>0</td>\n",
       "      <td>0</td>\n",
       "      <td>0</td>\n",
       "      <td>0</td>\n",
       "      <td>3</td>\n",
       "      <td>1</td>\n",
       "      <td>0</td>\n",
       "      <td>0</td>\n",
       "      <td>1</td>\n",
       "      <td>0</td>\n",
       "      <td>0</td>\n",
       "      <td>1</td>\n",
       "      <td>0</td>\n",
       "    </tr>\n",
       "    <tr>\n",
       "      <th>2</th>\n",
       "      <td>4880</td>\n",
       "      <td>0</td>\n",
       "      <td>4</td>\n",
       "      <td>1216</td>\n",
       "      <td>0</td>\n",
       "      <td>2</td>\n",
       "      <td>4</td>\n",
       "      <td>15</td>\n",
       "      <td>21</td>\n",
       "      <td>2</td>\n",
       "      <td>0</td>\n",
       "      <td>5</td>\n",
       "      <td>0</td>\n",
       "      <td>0</td>\n",
       "      <td>0</td>\n",
       "      <td>2</td>\n",
       "      <td>2</td>\n",
       "      <td>0</td>\n",
       "      <td>0</td>\n",
       "      <td>1</td>\n",
       "      <td>0</td>\n",
       "      <td>0</td>\n",
       "      <td>1</td>\n",
       "      <td>0</td>\n",
       "    </tr>\n",
       "    <tr>\n",
       "      <th>3</th>\n",
       "      <td>26046</td>\n",
       "      <td>0</td>\n",
       "      <td>1</td>\n",
       "      <td>1856</td>\n",
       "      <td>0</td>\n",
       "      <td>0</td>\n",
       "      <td>7</td>\n",
       "      <td>23</td>\n",
       "      <td>30</td>\n",
       "      <td>2</td>\n",
       "      <td>0</td>\n",
       "      <td>0</td>\n",
       "      <td>0</td>\n",
       "      <td>0</td>\n",
       "      <td>0</td>\n",
       "      <td>2</td>\n",
       "      <td>1</td>\n",
       "      <td>0</td>\n",
       "      <td>0</td>\n",
       "      <td>1</td>\n",
       "      <td>0</td>\n",
       "      <td>0</td>\n",
       "      <td>0</td>\n",
       "      <td>0</td>\n",
       "    </tr>\n",
       "    <tr>\n",
       "      <th>4</th>\n",
       "      <td>11005</td>\n",
       "      <td>0</td>\n",
       "      <td>3</td>\n",
       "      <td>2769</td>\n",
       "      <td>0</td>\n",
       "      <td>1</td>\n",
       "      <td>10</td>\n",
       "      <td>37</td>\n",
       "      <td>48</td>\n",
       "      <td>3</td>\n",
       "      <td>0</td>\n",
       "      <td>5</td>\n",
       "      <td>0</td>\n",
       "      <td>0</td>\n",
       "      <td>0</td>\n",
       "      <td>3</td>\n",
       "      <td>1</td>\n",
       "      <td>0</td>\n",
       "      <td>0</td>\n",
       "      <td>1</td>\n",
       "      <td>0</td>\n",
       "      <td>0</td>\n",
       "      <td>1</td>\n",
       "      <td>0</td>\n",
       "    </tr>\n",
       "  </tbody>\n",
       "</table>\n",
       "</div>"
      ],
      "text/plain": [
       "   user_id  moved_after_2019  companies_worked  max_duration  Business  \\\n",
       "0     1301                 1                 4          1645         2   \n",
       "1     6950                 0                 4          1402         0   \n",
       "2     4880                 0                 4          1216         0   \n",
       "3    26046                 0                 1          1856         0   \n",
       "4    11005                 0                 3          2769         0   \n",
       "\n",
       "   Design  IT  Other  N_Skills  English  German  Turkish  French  Spanish  \\\n",
       "0       0   4     17        23        3       0        5       0        0   \n",
       "1       0  17     32        49        3       0        0       0        0   \n",
       "2       2   4     15        21        2       0        5       0        0   \n",
       "3       0   7     23        30        2       0        0       0        0   \n",
       "4       1  10     37        48        3       0        5       0        0   \n",
       "\n",
       "   Chinese  NLanguages  degree_edu  location_Netherlands  location_Other  \\\n",
       "0        0           4           2                     0               0   \n",
       "1        0           3           1                     0               0   \n",
       "2        0           2           2                     0               0   \n",
       "3        0           2           1                     0               0   \n",
       "4        0           3           1                     0               0   \n",
       "\n",
       "   location_Turkey  location_United Kingdom  field_edu_Engineering  \\\n",
       "0                1                        0                      0   \n",
       "1                1                        0                      0   \n",
       "2                1                        0                      0   \n",
       "3                1                        0                      0   \n",
       "4                1                        0                      0   \n",
       "\n",
       "   field_edu_Other  field_edu_Science  \n",
       "0                1                  0  \n",
       "1                1                  0  \n",
       "2                1                  0  \n",
       "3                0                  0  \n",
       "4                1                  0  "
      ]
     },
     "execution_count": 98,
     "metadata": {},
     "output_type": "execute_result"
    }
   ],
   "source": [
    "df_train.head()"
   ]
  },
  {
   "attachments": {},
   "cell_type": "markdown",
   "metadata": {
    "ExecuteTime": {
     "end_time": "2023-01-15T17:48:26.005478Z",
     "start_time": "2023-01-15T17:48:25.946883Z"
    }
   },
   "source": [
    "Standard scaling"
   ]
  },
  {
   "cell_type": "code",
   "execution_count": 99,
   "metadata": {},
   "outputs": [],
   "source": [
    "from sklearn.preprocessing import StandardScaler\n",
    "\n",
    "train_scale = df_train[['max_duration','Business', 'Design', 'IT', 'Other', 'N_Skills']]\n",
    "test_scale  = df_test[['max_duration','Business', 'Design', 'IT', 'Other', 'N_Skills']]\n",
    "\n",
    "scaler = StandardScaler()\n",
    "scaler.fit(train_scale)\n",
    "X_scaled = scaler.transform(train_scale)\n",
    "df_train[['max_duration','Business', 'Design', 'IT', 'Other', 'N_Skills']] = X_scaled\n",
    "\n",
    "scaler = StandardScaler()\n",
    "scaler.fit(train_scale)\n",
    "X_scaled = scaler.transform(test_scale)\n",
    "df_test[['max_duration','Business', 'Design', 'IT', 'Other', 'N_Skills']] = X_scaled\n"
   ]
  },
  {
   "attachments": {},
   "cell_type": "markdown",
   "metadata": {},
   "source": [
    "Drop user id column"
   ]
  },
  {
   "cell_type": "code",
   "execution_count": 100,
   "metadata": {},
   "outputs": [],
   "source": [
    "train_users = df_train['user_id']\n",
    "test_users = df_test['user_id']\n",
    "\n",
    "df_train = df_train.drop(['user_id'], axis=1)\n",
    "df_test = df_test.drop(['user_id'], axis=1)"
   ]
  },
  {
   "cell_type": "code",
   "execution_count": 101,
   "metadata": {},
   "outputs": [
    {
     "data": {
      "text/plain": [
       "Index(['moved_after_2019', 'companies_worked', 'max_duration', 'Business',\n",
       "       'Design', 'IT', 'Other', 'N_Skills', 'English', 'German', 'Turkish',\n",
       "       'French', 'Spanish', 'Chinese', 'NLanguages', 'degree_edu',\n",
       "       'location_Netherlands', 'location_Other', 'location_Turkey',\n",
       "       'location_United Kingdom', 'field_edu_Engineering', 'field_edu_Other',\n",
       "       'field_edu_Science'],\n",
       "      dtype='object')"
      ]
     },
     "execution_count": 101,
     "metadata": {},
     "output_type": "execute_result"
    }
   ],
   "source": [
    "df_train.columns"
   ]
  },
  {
   "cell_type": "markdown",
   "metadata": {},
   "source": [
    "Split into test and train data"
   ]
  },
  {
   "cell_type": "code",
   "execution_count": 102,
   "metadata": {
    "ExecuteTime": {
     "end_time": "2023-01-15T17:48:27.312958Z",
     "start_time": "2023-01-15T17:48:27.252348Z"
    }
   },
   "outputs": [],
   "source": [
    "y= df_train['moved_after_2019']\n",
    "#y_test = df_test['Litres']\n",
    "\n",
    "df_train = df_train.drop(labels=['moved_after_2019'],axis=1)\n",
    "\n",
    "X_test = df_test.drop(labels=['moved_after_2019'],axis=1)\n",
    "\n"
   ]
  },
  {
   "cell_type": "code",
   "execution_count": 103,
   "metadata": {
    "ExecuteTime": {
     "end_time": "2023-01-15T17:48:27.638084Z",
     "start_time": "2023-01-15T17:48:27.630229Z"
    }
   },
   "outputs": [],
   "source": [
    "# Test train split\n",
    "X_train, X_train_test, y_train, y_train_test = train_test_split(df_train, y, test_size=0.2, random_state=42)\n",
    "\n",
    "# Train valid split\n",
    "X_train, X_valid, y_train, y_valid = train_test_split(X_train, y_train, test_size=0.2, random_state=42)\n"
   ]
  },
  {
   "cell_type": "markdown",
   "metadata": {},
   "source": [
    "Performance Plotting Functions"
   ]
  },
  {
   "cell_type": "code",
   "execution_count": 104,
   "metadata": {
    "ExecuteTime": {
     "end_time": "2023-01-15T17:48:28.446157Z",
     "start_time": "2023-01-15T17:48:28.426039Z"
    }
   },
   "outputs": [],
   "source": [
    "def model_evolution_loss(history,y_lim1=0,y_lim2=2):  \n",
    "    # summarize history for loss\n",
    "    plt.ylim(y_lim1,y_lim2)\n",
    "    plt.plot(history.history['val_loss'],color='r',label=\"Validation\")\n",
    "    plt.plot(history.history['loss'],color='b',label=\"Training\")\n",
    "    plt.title('model loss')\n",
    "    plt.ylabel('loss')\n",
    "    plt.xlabel('epoch')\n",
    "    plt.legend()\n",
    "    plt.show()\n",
    "\n",
    "# Evaluate accuracy on training set\n",
    "def test_set_evalution(model, X_train, X_valid, y_train, y_valid,X_train_test,y_train_test):\n",
    "    print(\"Train set evaluation:\", model.evaluate(X_train,y_train))\n",
    "    print(\"Valid set evaluation:\", model.evaluate(X_valid,y_valid))\n",
    "    print(\"Test set evaluation:\", model.evaluate(X_train_test,y_train_test))"
   ]
  },
  {
   "cell_type": "code",
   "execution_count": 105,
   "metadata": {
    "ExecuteTime": {
     "end_time": "2023-01-15T17:48:32.677856Z",
     "start_time": "2023-01-15T17:48:32.666088Z"
    }
   },
   "outputs": [
    {
     "data": {
      "text/plain": [
       "22"
      ]
     },
     "execution_count": 105,
     "metadata": {},
     "output_type": "execute_result"
    }
   ],
   "source": [
    "n_input = X_train.shape[1]\n",
    "n_input"
   ]
  },
  {
   "cell_type": "markdown",
   "metadata": {},
   "source": [
    "Design NN"
   ]
  },
  {
   "cell_type": "code",
   "execution_count": 106,
   "metadata": {
    "ExecuteTime": {
     "end_time": "2023-01-15T17:48:33.944284Z",
     "start_time": "2023-01-15T17:48:33.764940Z"
    }
   },
   "outputs": [],
   "source": [
    "from tensorflow.keras.metrics import RootMeanSquaredError\n",
    "\n",
    "\n",
    "model = Sequential()\n",
    "\n",
    "# hidden layers\n",
    "\n",
    "model.add(Dense(units=16, activation='relu', input_dim=n_input))\n",
    "model.add(Dense(units=16,activation='relu'))\n",
    "model.add(Dense(units=16,activation='relu'))\n",
    "model.add(Dense(units=8,activation='relu'))\n",
    "model.add(Dense(units=8,activation='relu'))\n",
    "\n",
    "# final layer\n",
    "model.add(Dense(units=1,activation='sigmoid'))"
   ]
  },
  {
   "cell_type": "code",
   "execution_count": 107,
   "metadata": {},
   "outputs": [],
   "source": [
    "import tensorflow as tf"
   ]
  },
  {
   "cell_type": "code",
   "execution_count": 108,
   "metadata": {},
   "outputs": [
    {
     "name": "stdout",
     "output_type": "stream",
     "text": [
      "Epoch 1/100\n",
      "27/27 [==============================] - 1s 14ms/step - loss: 0.0000e+00 - categorical_accuracy: 1.0000 - val_loss: 0.0000e+00 - val_categorical_accuracy: 1.0000\n",
      "Epoch 2/100\n",
      "27/27 [==============================] - 0s 6ms/step - loss: 0.0000e+00 - categorical_accuracy: 1.0000 - val_loss: 0.0000e+00 - val_categorical_accuracy: 1.0000\n",
      "Epoch 3/100\n",
      "27/27 [==============================] - 0s 5ms/step - loss: nan - categorical_accuracy: 1.0000 - val_loss: nan - val_categorical_accuracy: 1.0000\n",
      "Epoch 4/100\n",
      "27/27 [==============================] - 0s 5ms/step - loss: nan - categorical_accuracy: 1.0000 - val_loss: nan - val_categorical_accuracy: 1.0000\n",
      "Epoch 5/100\n",
      "27/27 [==============================] - 0s 6ms/step - loss: nan - categorical_accuracy: 1.0000 - val_loss: nan - val_categorical_accuracy: 1.0000\n",
      "Epoch 6/100\n",
      "27/27 [==============================] - 0s 7ms/step - loss: nan - categorical_accuracy: 1.0000 - val_loss: nan - val_categorical_accuracy: 1.0000\n"
     ]
    }
   ],
   "source": [
    "# Define custom optmizer?\n",
    "#from keras.optimizers import SGD\n",
    "#opt = SGD(learning_rate=0.1, momentum=0.9)\n",
    "\n",
    "# Compile model\n",
    "model.compile(loss=tf.keras.losses.CategoricalCrossentropy(), optimizer='SGD', metrics=[\"CategoricalAccuracy\"])\n",
    "\n",
    "# Train NN with Early stopping on valid\n",
    "early_stopping = EarlyStopping(monitor='val_loss', mode='min', patience=5, restore_best_weights=True)\n",
    "\n",
    "history = model.fit(X_train, y_train, epochs=100, batch_size = 1024,validation_data=(X_valid,y_valid), verbose=1,callbacks=[early_stopping])\n"
   ]
  },
  {
   "cell_type": "code",
   "execution_count": 109,
   "metadata": {
    "ExecuteTime": {
     "end_time": "2023-01-15T17:48:47.509313Z",
     "start_time": "2023-01-15T17:48:47.489893Z"
    }
   },
   "outputs": [
    {
     "data": {
      "text/plain": [
       "dict_keys(['loss', 'categorical_accuracy', 'val_loss', 'val_categorical_accuracy'])"
      ]
     },
     "execution_count": 109,
     "metadata": {},
     "output_type": "execute_result"
    }
   ],
   "source": [
    "history.history.keys()"
   ]
  },
  {
   "cell_type": "code",
   "execution_count": 110,
   "metadata": {
    "ExecuteTime": {
     "end_time": "2023-01-15T17:48:35.941497Z",
     "start_time": "2023-01-15T17:48:35.756768Z"
    }
   },
   "outputs": [
    {
     "data": {
      "image/png": "[encoded data removed]",
      "text/plain": [
       "<Figure size 640x480 with 1 Axes>"
      ]
     },
     "metadata": {},
     "output_type": "display_data"
    }
   ],
   "source": [
    "# Plot model evolution\n",
    "model_evolution_loss(history)"
   ]
  },
  {
   "cell_type": "code",
   "execution_count": 111,
   "metadata": {},
   "outputs": [
    {
     "name": "stdout",
     "output_type": "stream",
     "text": [
      "862/862 [==============================] - 3s 3ms/step - loss: 0.0000e+00 - categorical_accuracy: 1.0000\n",
      "Train set evaluation: [0.0, 1.0]\n",
      "216/216 [==============================] - 1s 3ms/step - loss: 0.0000e+00 - categorical_accuracy: 1.0000\n",
      "Valid set evaluation: [0.0, 1.0]\n",
      "270/270 [==============================] - 1s 3ms/step - loss: 0.0000e+00 - categorical_accuracy: 1.0000\n",
      "Test set evaluation: [0.0, 1.0]\n",
      "270/270 [==============================] - 1s 3ms/step - loss: 0.0000e+00 - categorical_accuracy: 1.0000\n"
     ]
    },
    {
     "data": {
      "text/plain": [
       "[0.0, 1.0]"
      ]
     },
     "execution_count": 111,
     "metadata": {},
     "output_type": "execute_result"
    }
   ],
   "source": [
    "# print metrics\n",
    "test_set_evalution(model, X_train, X_valid, y_train, y_valid,X_train_test,y_train_test)\n",
    "model.evaluate(X_train_test,y_train_test)"
   ]
  },
  {
   "cell_type": "markdown",
   "metadata": {},
   "source": [
    "## Now do prediction"
   ]
  },
  {
   "cell_type": "code",
   "execution_count": 117,
   "metadata": {},
   "outputs": [
    {
     "name": "stdout",
     "output_type": "stream",
     "text": [
      "415/415 [==============================] - 1s 2ms/step\n"
     ]
    }
   ],
   "source": [
    "y_test_pred = model.predict(X_test) "
   ]
  },
  {
   "cell_type": "code",
   "execution_count": 118,
   "metadata": {},
   "outputs": [],
   "source": [
    "y_test_pred[y_test_pred < 0.5] = 0\n",
    "y_test_pred[y_test_pred > 0.5] = 1"
   ]
  },
  {
   "cell_type": "code",
   "execution_count": 119,
   "metadata": {},
   "outputs": [
    {
     "data": {
      "text/plain": [
       "4.0"
      ]
     },
     "execution_count": 119,
     "metadata": {},
     "output_type": "execute_result"
    }
   ],
   "source": [
    "y_test_pred.sum()"
   ]
  },
  {
   "cell_type": "code",
   "execution_count": null,
   "metadata": {},
   "outputs": [],
   "source": []
  },
  {
   "cell_type": "code",
   "execution_count": 29,
   "metadata": {},
   "outputs": [],
   "source": [
    "index_values = np.linspace(0,n-1,n)\n",
    "df_pred = pd.DataFrame(data = y_test_pred)\n",
    "df_pred.columns=[\"Litres\"]\n",
    "df_pred.index.name = 'index'"
   ]
  },
  {
   "cell_type": "code",
   "execution_count": 30,
   "metadata": {},
   "outputs": [],
   "source": [
    "df_pred.to_csv(r\"C:\\Users\\feyzi\\OneDrive - Imperial College London\\Programming\\ShellDatathonNew\\ShellDatathon\\SubmissionAttempts\\MyTestSubmission.csv\")"
   ]
  },
  {
   "cell_type": "markdown",
   "metadata": {},
   "source": [
    "Plot the weekly liter sum to see estimate"
   ]
  },
  {
   "cell_type": "code",
   "execution_count": 31,
   "metadata": {},
   "outputs": [],
   "source": [
    "df_test.Litres = y_test_pred"
   ]
  },
  {
   "cell_type": "code",
   "execution_count": 32,
   "metadata": {},
   "outputs": [],
   "source": [
    "df = pd.concat([df_train_og,df_test])"
   ]
  },
  {
   "cell_type": "code",
   "execution_count": 33,
   "metadata": {},
   "outputs": [
    {
     "name": "stderr",
     "output_type": "stream",
     "text": [
      "C:\\Users\\feyzi\\AppData\\Local\\Temp\\ipykernel_13204\\1437299923.py:7: FutureWarning: The default value of numeric_only in DataFrameGroupBy.sum is deprecated. In a future version, numeric_only will default to False. Either specify numeric_only or select only columns which should be valid for the function.\n",
      "  df1 = df1.groupby(by=[\"WeekStarting\"],axis=0).sum()\n",
      "C:\\Users\\feyzi\\AppData\\Local\\Temp\\ipykernel_13204\\1437299923.py:19: FutureWarning: The default value of numeric_only in DataFrameGroupBy.sum is deprecated. In a future version, numeric_only will default to False. Either specify numeric_only or select only columns which should be valid for the function.\n",
      "  df2 = df2.groupby(by=[\"WeekStarting\"],axis=0).sum()\n"
     ]
    },
    {
     "data": {
      "text/plain": [
       "<matplotlib.patches.Polygon at 0x225b851e530>"
      ]
     },
     "execution_count": 33,
     "metadata": {},
     "output_type": "execute_result"
    },
    {
     "data": {
      "image/png": "[encoded data removed]",
      "text/plain": [
       "<Figure size 1000x700 with 1 Axes>"
      ]
     },
     "metadata": {},
     "output_type": "display_data"
    },
    {
     "data": {
      "image/png": "[encoded data removed]",
      "text/plain": [
       "<Figure size 1000x700 with 1 Axes>"
      ]
     },
     "metadata": {},
     "output_type": "display_data"
    }
   ],
   "source": [
    "#Benzin\n",
    "\n",
    "\n",
    "fig, ax = plt.subplots()\n",
    "fig.set_size_inches(10, 7, forward=True)\n",
    "df1 = df[df[\"Benzin\"] == 1]\n",
    "df1 = df1.groupby(by=[\"WeekStarting\"],axis=0).sum()\n",
    "df1.reset_index(inplace=True)\n",
    "benzin_sales = df1.Litres\n",
    "dates = df1[\"WeekStarting\"]\n",
    "plt.plot(dates,benzin_sales,color='r',label=\"Benzin (son sene pred)\")\n",
    "ax.set_title(\"Petrol Sales with 2019 predictions\")\n",
    "ax.legend()\n",
    "ax.axvspan(\"2019-01-01\", \"2020-01-01\", color=\"blue\", alpha=0.3)\n",
    "\n",
    "fig, ax = plt.subplots()\n",
    "fig.set_size_inches(10, 7, forward=True)\n",
    "df2 = df[df[\"Motorin\"] == 1]\n",
    "df2 = df2.groupby(by=[\"WeekStarting\"],axis=0).sum()\n",
    "df2.reset_index(inplace=True)\n",
    "motorin_sales = df2.Litres\n",
    "dates = df2[\"WeekStarting\"]\n",
    "plt.plot(dates,motorin_sales,label=\"Motorin(son sene pred)\")\n",
    "ax.set_title(\"Diesel/Motorin Sales with 2019 predictions\")\n",
    "ax.legend()\n",
    "\n",
    "# highlight a time range\n",
    "ax.axvspan(\"2019-01-01\", \"2020-01-01\", color=\"blue\", alpha=0.3)\n",
    "\n",
    "#plt.plot(dates,motorin_sales/4.2)"
   ]
  },
  {
   "cell_type": "code",
   "execution_count": null,
   "metadata": {},
   "outputs": [],
   "source": []
  },
  {
   "cell_type": "code",
   "execution_count": null,
   "metadata": {},
   "outputs": [],
   "source": []
  }
 ],
 "metadata": {
  "kernelspec": {
   "display_name": "Python 3 (ipykernel)",
   "language": "python",
   "name": "python3"
  },
  "language_info": {
   "codemirror_mode": {
    "name": "ipython",
    "version": 3
   },
   "file_extension": ".py",
   "mimetype": "text/x-python",
   "name": "python",
   "nbconvert_exporter": "python",
   "pygments_lexer": "ipython3",
   "version": "3.10.8"
  },
  "vscode": {
   "interpreter": {
    "hash": "0572de3ec0de3db14d810fe000b3b4fa7d1570197df366e4e138b540c1876b21"
   }
  }
 },
 "nbformat": 4,
 "nbformat_minor": 2
}
