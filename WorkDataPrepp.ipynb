{
 "cells": [
  {
   "attachments": {},
   "cell_type": "markdown",
   "metadata": {},
   "source": [
    "# Preparing the work_experiences.csv file"
   ]
  },
  {
   "cell_type": "code",
   "execution_count": 119,
   "metadata": {},
   "outputs": [],
   "source": [
    "import pandas as pd\n",
    "import os\n",
    "import numpy as np"
   ]
  },
  {
   "cell_type": "code",
   "execution_count": 120,
   "metadata": {},
   "outputs": [],
   "source": [
    "path = os.path.join('OriginalData', 'work_experiences.csv')\n",
    "data = pd.read_csv(path)"
   ]
  },
  {
   "cell_type": "code",
   "execution_count": 121,
   "metadata": {},
   "outputs": [
    {
     "data": {
      "text/html": [
       "<div>\n",
       "<style scoped>\n",
       "    .dataframe tbody tr th:only-of-type {\n",
       "        vertical-align: middle;\n",
       "    }\n",
       "\n",
       "    .dataframe tbody tr th {\n",
       "        vertical-align: top;\n",
       "    }\n",
       "\n",
       "    .dataframe thead th {\n",
       "        text-align: right;\n",
       "    }\n",
       "</style>\n",
       "<table border=\"1\" class=\"dataframe\">\n",
       "  <thead>\n",
       "    <tr style=\"text-align: right;\">\n",
       "      <th></th>\n",
       "      <th>user_id</th>\n",
       "      <th>company_id</th>\n",
       "      <th>location</th>\n",
       "      <th>start_year_month</th>\n",
       "    </tr>\n",
       "  </thead>\n",
       "  <tbody>\n",
       "    <tr>\n",
       "      <th>0</th>\n",
       "      <td>53442</td>\n",
       "      <td>2651</td>\n",
       "      <td>Istanbul, Turkey</td>\n",
       "      <td>201509</td>\n",
       "    </tr>\n",
       "    <tr>\n",
       "      <th>1</th>\n",
       "      <td>34558</td>\n",
       "      <td>815</td>\n",
       "      <td>Istanbul, Turkey</td>\n",
       "      <td>201210</td>\n",
       "    </tr>\n",
       "    <tr>\n",
       "      <th>2</th>\n",
       "      <td>63761</td>\n",
       "      <td>26354</td>\n",
       "      <td>NaN</td>\n",
       "      <td>200010</td>\n",
       "    </tr>\n",
       "    <tr>\n",
       "      <th>3</th>\n",
       "      <td>10738</td>\n",
       "      <td>89</td>\n",
       "      <td>NaN</td>\n",
       "      <td>201610</td>\n",
       "    </tr>\n",
       "    <tr>\n",
       "      <th>4</th>\n",
       "      <td>8711</td>\n",
       "      <td>3113</td>\n",
       "      <td>Istanbul, Turkey</td>\n",
       "      <td>201801</td>\n",
       "    </tr>\n",
       "    <tr>\n",
       "      <th>...</th>\n",
       "      <td>...</td>\n",
       "      <td>...</td>\n",
       "      <td>...</td>\n",
       "      <td>...</td>\n",
       "    </tr>\n",
       "    <tr>\n",
       "      <th>187014</th>\n",
       "      <td>22180</td>\n",
       "      <td>15065</td>\n",
       "      <td>Gebze</td>\n",
       "      <td>201205</td>\n",
       "    </tr>\n",
       "    <tr>\n",
       "      <th>187015</th>\n",
       "      <td>55822</td>\n",
       "      <td>25076</td>\n",
       "      <td>stajer</td>\n",
       "      <td>201506</td>\n",
       "    </tr>\n",
       "    <tr>\n",
       "      <th>187016</th>\n",
       "      <td>13750</td>\n",
       "      <td>1607</td>\n",
       "      <td>NaN</td>\n",
       "      <td>201901</td>\n",
       "    </tr>\n",
       "    <tr>\n",
       "      <th>187017</th>\n",
       "      <td>3679</td>\n",
       "      <td>1414</td>\n",
       "      <td>Ankara, Turkey</td>\n",
       "      <td>201807</td>\n",
       "    </tr>\n",
       "    <tr>\n",
       "      <th>187018</th>\n",
       "      <td>40056</td>\n",
       "      <td>14626</td>\n",
       "      <td>İstanbul, Türkiye</td>\n",
       "      <td>201303</td>\n",
       "    </tr>\n",
       "  </tbody>\n",
       "</table>\n",
       "<p>187019 rows × 4 columns</p>\n",
       "</div>"
      ],
      "text/plain": [
       "        user_id  company_id           location  start_year_month\n",
       "0         53442        2651   Istanbul, Turkey            201509\n",
       "1         34558         815   Istanbul, Turkey            201210\n",
       "2         63761       26354                NaN            200010\n",
       "3         10738          89                NaN            201610\n",
       "4          8711        3113   Istanbul, Turkey            201801\n",
       "...         ...         ...                ...               ...\n",
       "187014    22180       15065              Gebze            201205\n",
       "187015    55822       25076             stajer            201506\n",
       "187016    13750        1607                NaN            201901\n",
       "187017     3679        1414     Ankara, Turkey            201807\n",
       "187018    40056       14626  İstanbul, Türkiye            201303\n",
       "\n",
       "[187019 rows x 4 columns]"
      ]
     },
     "execution_count": 121,
     "metadata": {},
     "output_type": "execute_result"
    }
   ],
   "source": [
    "data"
   ]
  },
  {
   "cell_type": "code",
   "execution_count": 122,
   "metadata": {},
   "outputs": [
    {
     "data": {
      "text/plain": [
       "user_id                 0\n",
       "company_id              0\n",
       "location            61414\n",
       "start_year_month        0\n",
       "dtype: int64"
      ]
     },
     "execution_count": 122,
     "metadata": {},
     "output_type": "execute_result"
    }
   ],
   "source": [
    "# Show summary of NaN values\n",
    "data.isnull().sum()"
   ]
  },
  {
   "cell_type": "code",
   "execution_count": 123,
   "metadata": {},
   "outputs": [
    {
     "data": {
      "text/plain": [
       "user_id             57079\n",
       "company_id          20837\n",
       "location             6127\n",
       "start_year_month      397\n",
       "dtype: int64"
      ]
     },
     "execution_count": 123,
     "metadata": {},
     "output_type": "execute_result"
    }
   ],
   "source": [
    "# Show how many unique values there are for each column\n",
    "data.nunique()"
   ]
  },
  {
   "attachments": {},
   "cell_type": "markdown",
   "metadata": {},
   "source": [
    "Change - Assume Nan locations are unknown"
   ]
  },
  {
   "cell_type": "code",
   "execution_count": 124,
   "metadata": {},
   "outputs": [],
   "source": [
    "data.fillna('Unknown', inplace=True)"
   ]
  },
  {
   "attachments": {},
   "cell_type": "markdown",
   "metadata": {},
   "source": [
    "Format date"
   ]
  },
  {
   "cell_type": "code",
   "execution_count": 125,
   "metadata": {},
   "outputs": [],
   "source": [
    "# Put a '-' at in between the year and day in the format \"yyyydd\"\n",
    "data['start_year_month'] = data['start_year_month'].apply(lambda x: str(x)[:4] + '-' + str(x)[4:])\n",
    "# Turn the start_year_month column into a datetime object\n",
    "data['start_year_month'] = pd.to_datetime(data['start_year_month'], format='%Y-%m')\n",
    "# Rename the column to \"start_date\"\n",
    "data.rename(columns={'start_year_month': 'start_date'}, inplace=True)"
   ]
  },
  {
   "attachments": {},
   "cell_type": "markdown",
   "metadata": {},
   "source": [
    "Sort by user "
   ]
  },
  {
   "cell_type": "code",
   "execution_count": 126,
   "metadata": {},
   "outputs": [],
   "source": [
    "data.sort_values(by='user_id', ascending=True, inplace=True)"
   ]
  },
  {
   "cell_type": "code",
   "execution_count": 127,
   "metadata": {},
   "outputs": [
    {
     "data": {
      "text/html": [
       "<div>\n",
       "<style scoped>\n",
       "    .dataframe tbody tr th:only-of-type {\n",
       "        vertical-align: middle;\n",
       "    }\n",
       "\n",
       "    .dataframe tbody tr th {\n",
       "        vertical-align: top;\n",
       "    }\n",
       "\n",
       "    .dataframe thead th {\n",
       "        text-align: right;\n",
       "    }\n",
       "</style>\n",
       "<table border=\"1\" class=\"dataframe\">\n",
       "  <thead>\n",
       "    <tr style=\"text-align: right;\">\n",
       "      <th></th>\n",
       "      <th>user_id</th>\n",
       "      <th>company_id</th>\n",
       "      <th>location</th>\n",
       "      <th>start_date</th>\n",
       "    </tr>\n",
       "  </thead>\n",
       "  <tbody>\n",
       "    <tr>\n",
       "      <th>147720</th>\n",
       "      <td>0</td>\n",
       "      <td>0</td>\n",
       "      <td>Serbest Çalışmalar</td>\n",
       "      <td>2005-09-01</td>\n",
       "    </tr>\n",
       "    <tr>\n",
       "      <th>174454</th>\n",
       "      <td>0</td>\n",
       "      <td>0</td>\n",
       "      <td>Visual Studio Asp.Net Developer</td>\n",
       "      <td>2005-09-01</td>\n",
       "    </tr>\n",
       "    <tr>\n",
       "      <th>180157</th>\n",
       "      <td>2</td>\n",
       "      <td>10</td>\n",
       "      <td>Mersin, Turkey</td>\n",
       "      <td>2018-06-01</td>\n",
       "    </tr>\n",
       "    <tr>\n",
       "      <th>19762</th>\n",
       "      <td>2</td>\n",
       "      <td>7</td>\n",
       "      <td>Elazig, Turkey</td>\n",
       "      <td>2017-06-01</td>\n",
       "    </tr>\n",
       "    <tr>\n",
       "      <th>760</th>\n",
       "      <td>2</td>\n",
       "      <td>9</td>\n",
       "      <td>Elazig, Turkey</td>\n",
       "      <td>2016-12-01</td>\n",
       "    </tr>\n",
       "  </tbody>\n",
       "</table>\n",
       "</div>"
      ],
      "text/plain": [
       "        user_id  company_id                         location start_date\n",
       "147720        0           0               Serbest Çalışmalar 2005-09-01\n",
       "174454        0           0  Visual Studio Asp.Net Developer 2005-09-01\n",
       "180157        2          10                   Mersin, Turkey 2018-06-01\n",
       "19762         2           7                   Elazig, Turkey 2017-06-01\n",
       "760           2           9                   Elazig, Turkey 2016-12-01"
      ]
     },
     "execution_count": 127,
     "metadata": {},
     "output_type": "execute_result"
    }
   ],
   "source": [
    "data.head()"
   ]
  },
  {
   "attachments": {},
   "cell_type": "markdown",
   "metadata": {},
   "source": [
    "Mark people who started work after 2019"
   ]
  },
  {
   "cell_type": "code",
   "execution_count": 128,
   "metadata": {},
   "outputs": [],
   "source": [
    "data[\"StartAfter2019\"] = 0 \n",
    "data.loc[data['start_date'] >= '2019-01-01',\"StartAfter2019\"] = 1"
   ]
  },
  {
   "attachments": {},
   "cell_type": "markdown",
   "metadata": {},
   "source": [
    "Create #companies changed column"
   ]
  },
  {
   "cell_type": "code",
   "execution_count": 129,
   "metadata": {},
   "outputs": [],
   "source": [
    "# Create a new column called \"companies_changed\" for each user_id\n",
    "# This column will be the amount of companies the user has changed\n",
    "data['companies_worked'] = data.groupby('user_id')['company_id'].transform('nunique')"
   ]
  },
  {
   "attachments": {},
   "cell_type": "markdown",
   "metadata": {},
   "source": [
    "## The location column is all over the place, so we normalize it."
   ]
  },
  {
   "attachments": {},
   "cell_type": "markdown",
   "metadata": {},
   "source": [
    "Some users worked only in turkey, others abroad and/or in Turkey\n",
    "Mark users as TR, MIX, or Other if unknown"
   ]
  },
  {
   "cell_type": "code",
   "execution_count": 130,
   "metadata": {},
   "outputs": [],
   "source": [
    "# save location data for inspection\n",
    "data.location.value_counts().to_frame().to_csv('locations.csv')"
   ]
  },
  {
   "cell_type": "code",
   "execution_count": 131,
   "metadata": {},
   "outputs": [],
   "source": [
    "# Make country column lowercase\n",
    "data['location'] = data['location'].apply(lambda x: str(x).lower())"
   ]
  },
  {
   "cell_type": "code",
   "execution_count": 132,
   "metadata": {},
   "outputs": [],
   "source": [
    "from unidecode import unidecode"
   ]
  },
  {
   "cell_type": "code",
   "execution_count": 133,
   "metadata": {},
   "outputs": [],
   "source": [
    "data.location = data.location.astype(str)\n",
    "locations =  data.location.unique().tolist()\n",
    "locations = [unidecode(string) for string in locations]\n",
    "locations.sort()"
   ]
  },
  {
   "cell_type": "code",
   "execution_count": 134,
   "metadata": {},
   "outputs": [],
   "source": [
    "from fuzzywuzzy import fuzz\n",
    "from collections import defaultdict\n",
    "\n",
    "def group_strings(strings, reference_strings, similarity_threshold):\n",
    "    groups = {key: [] for key in reference_strings.keys()}\n",
    "    groups[\"Other\"] = []\n",
    "    key_list = [key for key in reference_strings.keys()]\n",
    "    for i, string1 in enumerate(strings):\n",
    "        max_similarity = 0\n",
    "        similarities = []\n",
    "        for key, values in reference_strings.items():\n",
    "            similarities.append(max([fuzz.partial_ratio(string1, val) for val in values]))\n",
    "        idx = np.argmax(similarities)\n",
    "        if similarities[idx] >= similarity_threshold:\n",
    "            groups[key_list[idx]].append((string1,similarities[idx]))\n",
    "        else:\n",
    "            groups[\"Other\"].append((string1,similarities[idx]))\n",
    "    for key in groups.keys():\n",
    "        groups[key] = [string for string, sim in sorted(groups[key], key=lambda x: -x[1])]\n",
    "    return groups"
   ]
  },
  {
   "cell_type": "code",
   "execution_count": 135,
   "metadata": {},
   "outputs": [],
   "source": [
    "location_groups = {\n",
    "    \"TR\":[\"Turkey\", \"Türkiye\",\"Adana\", \"Adiyaman\", \"Afyonkarahisar\", \"Agri\", \"Aksaray\", \"Amasya\", \"Ankara\", \"Antalya\", \"Ardahan\", \"Artvin\", \"Aydin\", \n",
    "    \"Balikesir\", \"Bartin\", \"Batman\", \"Bayburt\", \"Bilecik\", \"Bingol\", \"Bitlis\", \"Bolu\", \"Burdur\", \"Bursa\", \"Canakkale\", \"Cankiri\", \"Corum\", \"Denizli\",\n",
    "     \"Diyarbakir\", \"Düzce\", \"Edirne\", \"Elazig\", \"Erzincan\", \"Erzurum\", \"EskiSehir\", \"Gaziantep\", \"Giresun\", \"GümüShane\", \"HakkAri\", \"Hatay\", \"Igdir\", \n",
    "     \"Isparta\", \"İstanbul\", \"İzmir\", \"Kahramanmaras\", \"Karabük\", \"Karaman\", \"Kars\", \"Kastamonu\", \"Kayseri\", \"Kilis\", \"Kirikkale\", \"Kirklareli\", \"KirSehir\",\n",
    "      \"Kocaeli\", \"Konya\", \"Kütahya\", \"Malatya\", \"Manisa\", \"Mardin\", \"Mersin\", \"Mugla\", \"MuS\", \"NevSehir\", \"Nigde\", \"Ordu\", \"Osmaniye\", \"Rize\", \"Sakarya\", \n",
    "      \"Samsun\", \"Sanliurfa\", \"Siirt\", \"Sinop\", \"Sivas\", \"Sirnak\", \"Tekirdag\", \"Tokat\", \"Trabzon\", \"Tunceli\", \"USak\", \"Van\", \"Yalova\", \"Yozgat\", \"Zonguldak\",\n",
    "      \"Akbank\"],\n",
    "    \"Unsure\":[\"Unknown\"]\n",
    "}"
   ]
  },
  {
   "cell_type": "code",
   "execution_count": 136,
   "metadata": {},
   "outputs": [],
   "source": [
    "groups= group_strings(locations, location_groups, 60)"
   ]
  },
  {
   "cell_type": "code",
   "execution_count": 137,
   "metadata": {},
   "outputs": [],
   "source": [
    "for key,value in groups.items():\n",
    "    data.loc[data.location.isin(groups[key]), \"country\"]  = key"
   ]
  },
  {
   "attachments": {},
   "cell_type": "markdown",
   "metadata": {},
   "source": [
    "New features for working days"
   ]
  },
  {
   "cell_type": "code",
   "execution_count": 143,
   "metadata": {},
   "outputs": [],
   "source": [
    "# Create a new column called \"max_duration\" for each user_id\n",
    "# This is the maximum difference between the start dates of the user's work experiences\n",
    "data['max_duration'] = data.groupby('user_id')['start_date'].transform('max') - data.groupby('user_id')['start_date'].transform('min')"
   ]
  },
  {
   "cell_type": "code",
   "execution_count": 144,
   "metadata": {},
   "outputs": [],
   "source": [
    "# For rows where the max_duration is 0, calculate the time between it's start_date and today\n",
    "data.loc[data['max_duration'] == '0 days', 'max_duration'] = pd.to_datetime('2019-01-01') - data.loc[data['max_duration'] == '0 days', 'start_date']"
   ]
  },
  {
   "cell_type": "code",
   "execution_count": 145,
   "metadata": {},
   "outputs": [
    {
     "data": {
      "text/html": [
       "<div>\n",
       "<style scoped>\n",
       "    .dataframe tbody tr th:only-of-type {\n",
       "        vertical-align: middle;\n",
       "    }\n",
       "\n",
       "    .dataframe tbody tr th {\n",
       "        vertical-align: top;\n",
       "    }\n",
       "\n",
       "    .dataframe thead th {\n",
       "        text-align: right;\n",
       "    }\n",
       "</style>\n",
       "<table border=\"1\" class=\"dataframe\">\n",
       "  <thead>\n",
       "    <tr style=\"text-align: right;\">\n",
       "      <th></th>\n",
       "      <th>user_id</th>\n",
       "      <th>company_id</th>\n",
       "      <th>location</th>\n",
       "      <th>start_date</th>\n",
       "      <th>StartAfter2019</th>\n",
       "      <th>companies_worked</th>\n",
       "      <th>country</th>\n",
       "      <th>max_duration</th>\n",
       "    </tr>\n",
       "  </thead>\n",
       "  <tbody>\n",
       "    <tr>\n",
       "      <th>44058</th>\n",
       "      <td>53442</td>\n",
       "      <td>2651</td>\n",
       "      <td>istanbul, turkey</td>\n",
       "      <td>2018-02-01</td>\n",
       "      <td>0</td>\n",
       "      <td>3</td>\n",
       "      <td>TR</td>\n",
       "      <td>1918 days</td>\n",
       "    </tr>\n",
       "    <tr>\n",
       "      <th>57313</th>\n",
       "      <td>53442</td>\n",
       "      <td>3803</td>\n",
       "      <td>unknown</td>\n",
       "      <td>2013-09-01</td>\n",
       "      <td>0</td>\n",
       "      <td>3</td>\n",
       "      <td>Unsure</td>\n",
       "      <td>1918 days</td>\n",
       "    </tr>\n",
       "    <tr>\n",
       "      <th>23603</th>\n",
       "      <td>53442</td>\n",
       "      <td>4957</td>\n",
       "      <td>kocaeli, türkiye</td>\n",
       "      <td>2012-11-01</td>\n",
       "      <td>0</td>\n",
       "      <td>3</td>\n",
       "      <td>NaN</td>\n",
       "      <td>1918 days</td>\n",
       "    </tr>\n",
       "    <tr>\n",
       "      <th>0</th>\n",
       "      <td>53442</td>\n",
       "      <td>2651</td>\n",
       "      <td>istanbul, turkey</td>\n",
       "      <td>2015-09-01</td>\n",
       "      <td>0</td>\n",
       "      <td>3</td>\n",
       "      <td>TR</td>\n",
       "      <td>1918 days</td>\n",
       "    </tr>\n",
       "  </tbody>\n",
       "</table>\n",
       "</div>"
      ],
      "text/plain": [
       "       user_id  company_id          location start_date  StartAfter2019  \\\n",
       "44058    53442        2651  istanbul, turkey 2018-02-01               0   \n",
       "57313    53442        3803           unknown 2013-09-01               0   \n",
       "23603    53442        4957  kocaeli, türkiye 2012-11-01               0   \n",
       "0        53442        2651  istanbul, turkey 2015-09-01               0   \n",
       "\n",
       "       companies_worked country max_duration  \n",
       "44058                 3      TR    1918 days  \n",
       "57313                 3  Unsure    1918 days  \n",
       "23603                 3     NaN    1918 days  \n",
       "0                     3      TR    1918 days  "
      ]
     },
     "execution_count": 145,
     "metadata": {},
     "output_type": "execute_result"
    }
   ],
   "source": [
    "# Show user 53442\n",
    "data[data['user_id'] == 53442]"
   ]
  },
  {
   "cell_type": "code",
   "execution_count": 147,
   "metadata": {},
   "outputs": [],
   "source": [
    "# Drop location column\n",
    "data.drop('location', axis=1, inplace=True)\n",
    "# Drop start_date column\n",
    "data.drop('start_date', axis=1, inplace=True)"
   ]
  },
  {
   "attachments": {},
   "cell_type": "markdown",
   "metadata": {},
   "source": [
    "Now we only want a single row for each user_id, a summary cleaned up for each user"
   ]
  },
  {
   "cell_type": "code",
   "execution_count": 148,
   "metadata": {},
   "outputs": [
    {
     "data": {
      "text/html": [
       "<div>\n",
       "<style scoped>\n",
       "    .dataframe tbody tr th:only-of-type {\n",
       "        vertical-align: middle;\n",
       "    }\n",
       "\n",
       "    .dataframe tbody tr th {\n",
       "        vertical-align: top;\n",
       "    }\n",
       "\n",
       "    .dataframe thead th {\n",
       "        text-align: right;\n",
       "    }\n",
       "</style>\n",
       "<table border=\"1\" class=\"dataframe\">\n",
       "  <thead>\n",
       "    <tr style=\"text-align: right;\">\n",
       "      <th></th>\n",
       "      <th>user_id</th>\n",
       "      <th>company_id</th>\n",
       "      <th>StartAfter2019</th>\n",
       "      <th>companies_worked</th>\n",
       "      <th>country</th>\n",
       "      <th>max_duration</th>\n",
       "    </tr>\n",
       "  </thead>\n",
       "  <tbody>\n",
       "    <tr>\n",
       "      <th>44058</th>\n",
       "      <td>53442</td>\n",
       "      <td>2651</td>\n",
       "      <td>0</td>\n",
       "      <td>3</td>\n",
       "      <td>TR</td>\n",
       "      <td>1918 days</td>\n",
       "    </tr>\n",
       "    <tr>\n",
       "      <th>57313</th>\n",
       "      <td>53442</td>\n",
       "      <td>3803</td>\n",
       "      <td>0</td>\n",
       "      <td>3</td>\n",
       "      <td>Unsure</td>\n",
       "      <td>1918 days</td>\n",
       "    </tr>\n",
       "    <tr>\n",
       "      <th>23603</th>\n",
       "      <td>53442</td>\n",
       "      <td>4957</td>\n",
       "      <td>0</td>\n",
       "      <td>3</td>\n",
       "      <td>NaN</td>\n",
       "      <td>1918 days</td>\n",
       "    </tr>\n",
       "    <tr>\n",
       "      <th>0</th>\n",
       "      <td>53442</td>\n",
       "      <td>2651</td>\n",
       "      <td>0</td>\n",
       "      <td>3</td>\n",
       "      <td>TR</td>\n",
       "      <td>1918 days</td>\n",
       "    </tr>\n",
       "  </tbody>\n",
       "</table>\n",
       "</div>"
      ],
      "text/plain": [
       "       user_id  company_id  StartAfter2019  companies_worked country  \\\n",
       "44058    53442        2651               0                 3      TR   \n",
       "57313    53442        3803               0                 3  Unsure   \n",
       "23603    53442        4957               0                 3     NaN   \n",
       "0        53442        2651               0                 3      TR   \n",
       "\n",
       "      max_duration  \n",
       "44058    1918 days  \n",
       "57313    1918 days  \n",
       "23603    1918 days  \n",
       "0        1918 days  "
      ]
     },
     "execution_count": 148,
     "metadata": {},
     "output_type": "execute_result"
    }
   ],
   "source": [
    "# Show user 53442\n",
    "data[data['user_id'] == 53442]"
   ]
  },
  {
   "cell_type": "code",
   "execution_count": 149,
   "metadata": {},
   "outputs": [],
   "source": [
    "# Drop company_id column\n",
    "data.drop('company_id', axis=1, inplace=True)\n",
    "# Leave only the first row for each user_id\n",
    "data.drop_duplicates(subset='user_id', keep='first', inplace=True)"
   ]
  },
  {
   "cell_type": "code",
   "execution_count": 150,
   "metadata": {},
   "outputs": [
    {
     "data": {
      "text/html": [
       "<div>\n",
       "<style scoped>\n",
       "    .dataframe tbody tr th:only-of-type {\n",
       "        vertical-align: middle;\n",
       "    }\n",
       "\n",
       "    .dataframe tbody tr th {\n",
       "        vertical-align: top;\n",
       "    }\n",
       "\n",
       "    .dataframe thead th {\n",
       "        text-align: right;\n",
       "    }\n",
       "</style>\n",
       "<table border=\"1\" class=\"dataframe\">\n",
       "  <thead>\n",
       "    <tr style=\"text-align: right;\">\n",
       "      <th></th>\n",
       "      <th>user_id</th>\n",
       "      <th>StartAfter2019</th>\n",
       "      <th>companies_worked</th>\n",
       "      <th>country</th>\n",
       "      <th>max_duration</th>\n",
       "    </tr>\n",
       "  </thead>\n",
       "  <tbody>\n",
       "    <tr>\n",
       "      <th>95334</th>\n",
       "      <td>53018</td>\n",
       "      <td>0</td>\n",
       "      <td>4</td>\n",
       "      <td>TR</td>\n",
       "      <td>1765 days</td>\n",
       "    </tr>\n",
       "  </tbody>\n",
       "</table>\n",
       "</div>"
      ],
      "text/plain": [
       "       user_id  StartAfter2019  companies_worked country max_duration\n",
       "95334    53018               0                 4      TR    1765 days"
      ]
     },
     "execution_count": 150,
     "metadata": {},
     "output_type": "execute_result"
    }
   ],
   "source": [
    "# Show user 53442\n",
    "data[data['user_id'] == 53018]"
   ]
  },
  {
   "attachments": {},
   "cell_type": "markdown",
   "metadata": {},
   "source": [
    "- Sort and convert days to int"
   ]
  },
  {
   "cell_type": "code",
   "execution_count": 151,
   "metadata": {},
   "outputs": [],
   "source": [
    "data.sort_values(by='user_id', inplace=True)\n",
    "data.max_duration = data.max_duration.apply(lambda x: x.days)"
   ]
  },
  {
   "cell_type": "code",
   "execution_count": 152,
   "metadata": {},
   "outputs": [
    {
     "data": {
      "text/html": [
       "<div>\n",
       "<style scoped>\n",
       "    .dataframe tbody tr th:only-of-type {\n",
       "        vertical-align: middle;\n",
       "    }\n",
       "\n",
       "    .dataframe tbody tr th {\n",
       "        vertical-align: top;\n",
       "    }\n",
       "\n",
       "    .dataframe thead th {\n",
       "        text-align: right;\n",
       "    }\n",
       "</style>\n",
       "<table border=\"1\" class=\"dataframe\">\n",
       "  <thead>\n",
       "    <tr style=\"text-align: right;\">\n",
       "      <th></th>\n",
       "      <th>user_id</th>\n",
       "      <th>StartAfter2019</th>\n",
       "      <th>companies_worked</th>\n",
       "      <th>country</th>\n",
       "      <th>max_duration</th>\n",
       "    </tr>\n",
       "  </thead>\n",
       "  <tbody>\n",
       "    <tr>\n",
       "      <th>147720</th>\n",
       "      <td>0</td>\n",
       "      <td>0</td>\n",
       "      <td>1</td>\n",
       "      <td>NaN</td>\n",
       "      <td>4870</td>\n",
       "    </tr>\n",
       "    <tr>\n",
       "      <th>180157</th>\n",
       "      <td>2</td>\n",
       "      <td>0</td>\n",
       "      <td>3</td>\n",
       "      <td>TR</td>\n",
       "      <td>547</td>\n",
       "    </tr>\n",
       "    <tr>\n",
       "      <th>30839</th>\n",
       "      <td>5</td>\n",
       "      <td>0</td>\n",
       "      <td>1</td>\n",
       "      <td>NaN</td>\n",
       "      <td>579</td>\n",
       "    </tr>\n",
       "    <tr>\n",
       "      <th>161935</th>\n",
       "      <td>7</td>\n",
       "      <td>0</td>\n",
       "      <td>2</td>\n",
       "      <td>TR</td>\n",
       "      <td>883</td>\n",
       "    </tr>\n",
       "    <tr>\n",
       "      <th>133573</th>\n",
       "      <td>10</td>\n",
       "      <td>0</td>\n",
       "      <td>2</td>\n",
       "      <td>TR</td>\n",
       "      <td>1734</td>\n",
       "    </tr>\n",
       "    <tr>\n",
       "      <th>...</th>\n",
       "      <td>...</td>\n",
       "      <td>...</td>\n",
       "      <td>...</td>\n",
       "      <td>...</td>\n",
       "      <td>...</td>\n",
       "    </tr>\n",
       "    <tr>\n",
       "      <th>186660</th>\n",
       "      <td>66269</td>\n",
       "      <td>0</td>\n",
       "      <td>1</td>\n",
       "      <td>TR</td>\n",
       "      <td>5357</td>\n",
       "    </tr>\n",
       "    <tr>\n",
       "      <th>157505</th>\n",
       "      <td>66270</td>\n",
       "      <td>0</td>\n",
       "      <td>1</td>\n",
       "      <td>NaN</td>\n",
       "      <td>1491</td>\n",
       "    </tr>\n",
       "    <tr>\n",
       "      <th>74600</th>\n",
       "      <td>66271</td>\n",
       "      <td>0</td>\n",
       "      <td>8</td>\n",
       "      <td>TR</td>\n",
       "      <td>6543</td>\n",
       "    </tr>\n",
       "    <tr>\n",
       "      <th>13280</th>\n",
       "      <td>66272</td>\n",
       "      <td>0</td>\n",
       "      <td>5</td>\n",
       "      <td>TR</td>\n",
       "      <td>2344</td>\n",
       "    </tr>\n",
       "    <tr>\n",
       "      <th>64051</th>\n",
       "      <td>66273</td>\n",
       "      <td>1</td>\n",
       "      <td>10</td>\n",
       "      <td>Unsure</td>\n",
       "      <td>1948</td>\n",
       "    </tr>\n",
       "  </tbody>\n",
       "</table>\n",
       "<p>57079 rows × 5 columns</p>\n",
       "</div>"
      ],
      "text/plain": [
       "        user_id  StartAfter2019  companies_worked country  max_duration\n",
       "147720        0               0                 1     NaN          4870\n",
       "180157        2               0                 3      TR           547\n",
       "30839         5               0                 1     NaN           579\n",
       "161935        7               0                 2      TR           883\n",
       "133573       10               0                 2      TR          1734\n",
       "...         ...             ...               ...     ...           ...\n",
       "186660    66269               0                 1      TR          5357\n",
       "157505    66270               0                 1     NaN          1491\n",
       "74600     66271               0                 8      TR          6543\n",
       "13280     66272               0                 5      TR          2344\n",
       "64051     66273               1                10  Unsure          1948\n",
       "\n",
       "[57079 rows x 5 columns]"
      ]
     },
     "execution_count": 152,
     "metadata": {},
     "output_type": "execute_result"
    }
   ],
   "source": [
    "data"
   ]
  },
  {
   "cell_type": "code",
   "execution_count": 153,
   "metadata": {},
   "outputs": [],
   "source": [
    "# Save data to a new csv file in PreparedData folder\n",
    "data.to_csv(os.path.join('PreparedData', 'work_experiences.csv'), index=False)"
   ]
  },
  {
   "attachments": {},
   "cell_type": "markdown",
   "metadata": {},
   "source": [
    "## For the country column\n",
    "TR means user only worked at TR  \n",
    "MIX means user worked at TR and Other  \n",
    "Other means user only worked abroad  "
   ]
  },
  {
   "cell_type": "markdown",
   "metadata": {},
   "source": []
  }
 ],
 "metadata": {
  "kernelspec": {
   "display_name": "Python 3",
   "language": "python",
   "name": "python3"
  },
  "language_info": {
   "codemirror_mode": {
    "name": "ipython",
    "version": 3
   },
   "file_extension": ".py",
   "mimetype": "text/x-python",
   "name": "python",
   "nbconvert_exporter": "python",
   "pygments_lexer": "ipython3",
   "version": "3.9.6"
  },
  "orig_nbformat": 4,
  "vscode": {
   "interpreter": {
    "hash": "88253bda05a853a3e2e108eae53f17c1fe54d0ccc1565ef6af417baa30d1e2de"
   }
  }
 },
 "nbformat": 4,
 "nbformat_minor": 2
}
