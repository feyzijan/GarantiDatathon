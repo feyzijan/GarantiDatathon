{
 "cells": [
  {
   "cell_type": "code",
   "execution_count": 107,
   "metadata": {},
   "outputs": [],
   "source": [
    "import os\n",
    "import pandas as pd"
   ]
  },
  {
   "cell_type": "code",
   "execution_count": 108,
   "metadata": {},
   "outputs": [],
   "source": [
    "path = os.path.join('OriginalData', 'train_users.csv')\n",
    "train = pd.read_csv(path)\n",
    "\n",
    "path = os.path.join('OriginalData', 'test_users.csv')\n",
    "test = pd.read_csv(path)"
   ]
  },
  {
   "cell_type": "code",
   "execution_count": 109,
   "metadata": {},
   "outputs": [],
   "source": [
    "# Set thsi to 2 otherwise they will be nan and i may accidentalyl fill it\n",
    "test[\"moved_after_2019\"] = 2"
   ]
  },
  {
   "attachments": {},
   "cell_type": "markdown",
   "metadata": {},
   "source": [
    "## Add in the data"
   ]
  },
  {
   "attachments": {},
   "cell_type": "markdown",
   "metadata": {},
   "source": [
    "Work experiences"
   ]
  },
  {
   "cell_type": "code",
   "execution_count": 110,
   "metadata": {},
   "outputs": [
    {
     "data": {
      "text/html": [
       "<div>\n",
       "<style scoped>\n",
       "    .dataframe tbody tr th:only-of-type {\n",
       "        vertical-align: middle;\n",
       "    }\n",
       "\n",
       "    .dataframe tbody tr th {\n",
       "        vertical-align: top;\n",
       "    }\n",
       "\n",
       "    .dataframe thead th {\n",
       "        text-align: right;\n",
       "    }\n",
       "</style>\n",
       "<table border=\"1\" class=\"dataframe\">\n",
       "  <thead>\n",
       "    <tr style=\"text-align: right;\">\n",
       "      <th></th>\n",
       "      <th>user_id</th>\n",
       "      <th>industry</th>\n",
       "      <th>location</th>\n",
       "      <th>moved_after_2019</th>\n",
       "      <th>companies_worked</th>\n",
       "      <th>country</th>\n",
       "      <th>max_duration</th>\n",
       "    </tr>\n",
       "  </thead>\n",
       "  <tbody>\n",
       "    <tr>\n",
       "      <th>0</th>\n",
       "      <td>1301</td>\n",
       "      <td>Information Technology and Services</td>\n",
       "      <td>Istanbul, Istanbul, Turkey</td>\n",
       "      <td>1</td>\n",
       "      <td>3.0</td>\n",
       "      <td>TR</td>\n",
       "      <td>1035.0</td>\n",
       "    </tr>\n",
       "    <tr>\n",
       "      <th>1</th>\n",
       "      <td>6950</td>\n",
       "      <td>Internet</td>\n",
       "      <td>Istanbul, Istanbul, Turkey</td>\n",
       "      <td>0</td>\n",
       "      <td>4.0</td>\n",
       "      <td>TR</td>\n",
       "      <td>1402.0</td>\n",
       "    </tr>\n",
       "    <tr>\n",
       "      <th>2</th>\n",
       "      <td>4880</td>\n",
       "      <td>Online Media</td>\n",
       "      <td>Turkey</td>\n",
       "      <td>0</td>\n",
       "      <td>4.0</td>\n",
       "      <td>TR</td>\n",
       "      <td>1216.0</td>\n",
       "    </tr>\n",
       "    <tr>\n",
       "      <th>3</th>\n",
       "      <td>26046</td>\n",
       "      <td>Telecommunications</td>\n",
       "      <td>Istanbul, Istanbul, Turkey</td>\n",
       "      <td>0</td>\n",
       "      <td>1.0</td>\n",
       "      <td>TR</td>\n",
       "      <td>1856.0</td>\n",
       "    </tr>\n",
       "    <tr>\n",
       "      <th>4</th>\n",
       "      <td>11005</td>\n",
       "      <td>Banking</td>\n",
       "      <td>Istanbul, Turkey</td>\n",
       "      <td>0</td>\n",
       "      <td>3.0</td>\n",
       "      <td>TR</td>\n",
       "      <td>2769.0</td>\n",
       "    </tr>\n",
       "  </tbody>\n",
       "</table>\n",
       "</div>"
      ],
      "text/plain": [
       "   user_id                             industry                    location  \\\n",
       "0     1301  Information Technology and Services  Istanbul, Istanbul, Turkey   \n",
       "1     6950                             Internet  Istanbul, Istanbul, Turkey   \n",
       "2     4880                         Online Media                      Turkey   \n",
       "3    26046                   Telecommunications  Istanbul, Istanbul, Turkey   \n",
       "4    11005                              Banking            Istanbul, Turkey   \n",
       "\n",
       "   moved_after_2019  companies_worked country  max_duration  \n",
       "0                 1               3.0      TR        1035.0  \n",
       "1                 0               4.0      TR        1402.0  \n",
       "2                 0               4.0      TR        1216.0  \n",
       "3                 0               1.0      TR        1856.0  \n",
       "4                 0               3.0      TR        2769.0  "
      ]
     },
     "execution_count": 110,
     "metadata": {},
     "output_type": "execute_result"
    }
   ],
   "source": [
    "path = os.path.join('PreparedData', 'work_experiences.csv')\n",
    "data = pd.read_csv(path)\n",
    "\n",
    "train = pd.merge(train, data, how='left', on='user_id')\n",
    "test = pd.merge(test, data, how='left', on='user_id')\n",
    "\n",
    "train.head()"
   ]
  },
  {
   "cell_type": "markdown",
   "metadata": {},
   "source": [
    "Skills"
   ]
  },
  {
   "cell_type": "code",
   "execution_count": 111,
   "metadata": {},
   "outputs": [
    {
     "data": {
      "text/html": [
       "<div>\n",
       "<style scoped>\n",
       "    .dataframe tbody tr th:only-of-type {\n",
       "        vertical-align: middle;\n",
       "    }\n",
       "\n",
       "    .dataframe tbody tr th {\n",
       "        vertical-align: top;\n",
       "    }\n",
       "\n",
       "    .dataframe thead th {\n",
       "        text-align: right;\n",
       "    }\n",
       "</style>\n",
       "<table border=\"1\" class=\"dataframe\">\n",
       "  <thead>\n",
       "    <tr style=\"text-align: right;\">\n",
       "      <th></th>\n",
       "      <th>user_id</th>\n",
       "      <th>industry</th>\n",
       "      <th>location</th>\n",
       "      <th>moved_after_2019</th>\n",
       "      <th>companies_worked</th>\n",
       "      <th>country</th>\n",
       "      <th>max_duration</th>\n",
       "      <th>Business</th>\n",
       "      <th>Design</th>\n",
       "      <th>IT</th>\n",
       "      <th>Other</th>\n",
       "      <th>N_Skills</th>\n",
       "    </tr>\n",
       "  </thead>\n",
       "  <tbody>\n",
       "    <tr>\n",
       "      <th>0</th>\n",
       "      <td>1301</td>\n",
       "      <td>Information Technology and Services</td>\n",
       "      <td>Istanbul, Istanbul, Turkey</td>\n",
       "      <td>1</td>\n",
       "      <td>3.0</td>\n",
       "      <td>TR</td>\n",
       "      <td>1035.0</td>\n",
       "      <td>2.0</td>\n",
       "      <td>0.0</td>\n",
       "      <td>4.0</td>\n",
       "      <td>17.0</td>\n",
       "      <td>23.0</td>\n",
       "    </tr>\n",
       "    <tr>\n",
       "      <th>1</th>\n",
       "      <td>6950</td>\n",
       "      <td>Internet</td>\n",
       "      <td>Istanbul, Istanbul, Turkey</td>\n",
       "      <td>0</td>\n",
       "      <td>4.0</td>\n",
       "      <td>TR</td>\n",
       "      <td>1402.0</td>\n",
       "      <td>0.0</td>\n",
       "      <td>0.0</td>\n",
       "      <td>17.0</td>\n",
       "      <td>32.0</td>\n",
       "      <td>49.0</td>\n",
       "    </tr>\n",
       "    <tr>\n",
       "      <th>2</th>\n",
       "      <td>4880</td>\n",
       "      <td>Online Media</td>\n",
       "      <td>Turkey</td>\n",
       "      <td>0</td>\n",
       "      <td>4.0</td>\n",
       "      <td>TR</td>\n",
       "      <td>1216.0</td>\n",
       "      <td>0.0</td>\n",
       "      <td>2.0</td>\n",
       "      <td>4.0</td>\n",
       "      <td>15.0</td>\n",
       "      <td>21.0</td>\n",
       "    </tr>\n",
       "    <tr>\n",
       "      <th>3</th>\n",
       "      <td>26046</td>\n",
       "      <td>Telecommunications</td>\n",
       "      <td>Istanbul, Istanbul, Turkey</td>\n",
       "      <td>0</td>\n",
       "      <td>1.0</td>\n",
       "      <td>TR</td>\n",
       "      <td>1856.0</td>\n",
       "      <td>0.0</td>\n",
       "      <td>0.0</td>\n",
       "      <td>7.0</td>\n",
       "      <td>23.0</td>\n",
       "      <td>30.0</td>\n",
       "    </tr>\n",
       "    <tr>\n",
       "      <th>4</th>\n",
       "      <td>11005</td>\n",
       "      <td>Banking</td>\n",
       "      <td>Istanbul, Turkey</td>\n",
       "      <td>0</td>\n",
       "      <td>3.0</td>\n",
       "      <td>TR</td>\n",
       "      <td>2769.0</td>\n",
       "      <td>0.0</td>\n",
       "      <td>1.0</td>\n",
       "      <td>10.0</td>\n",
       "      <td>37.0</td>\n",
       "      <td>48.0</td>\n",
       "    </tr>\n",
       "  </tbody>\n",
       "</table>\n",
       "</div>"
      ],
      "text/plain": [
       "   user_id                             industry                    location  \\\n",
       "0     1301  Information Technology and Services  Istanbul, Istanbul, Turkey   \n",
       "1     6950                             Internet  Istanbul, Istanbul, Turkey   \n",
       "2     4880                         Online Media                      Turkey   \n",
       "3    26046                   Telecommunications  Istanbul, Istanbul, Turkey   \n",
       "4    11005                              Banking            Istanbul, Turkey   \n",
       "\n",
       "   moved_after_2019  companies_worked country  max_duration  Business  Design  \\\n",
       "0                 1               3.0      TR        1035.0       2.0     0.0   \n",
       "1                 0               4.0      TR        1402.0       0.0     0.0   \n",
       "2                 0               4.0      TR        1216.0       0.0     2.0   \n",
       "3                 0               1.0      TR        1856.0       0.0     0.0   \n",
       "4                 0               3.0      TR        2769.0       0.0     1.0   \n",
       "\n",
       "     IT  Other  N_Skills  \n",
       "0   4.0   17.0      23.0  \n",
       "1  17.0   32.0      49.0  \n",
       "2   4.0   15.0      21.0  \n",
       "3   7.0   23.0      30.0  \n",
       "4  10.0   37.0      48.0  "
      ]
     },
     "execution_count": 111,
     "metadata": {},
     "output_type": "execute_result"
    }
   ],
   "source": [
    "path = os.path.join('PreparedData', 'skills.csv')\n",
    "data = pd.read_csv(path)\n",
    "\n",
    "train = pd.merge(train, data, how='left', on='user_id')\n",
    "test = pd.merge(test, data, how='left', on='user_id')\n",
    "\n",
    "train.head()"
   ]
  },
  {
   "attachments": {},
   "cell_type": "markdown",
   "metadata": {},
   "source": [
    "Language"
   ]
  },
  {
   "cell_type": "code",
   "execution_count": 112,
   "metadata": {},
   "outputs": [
    {
     "data": {
      "text/html": [
       "<div>\n",
       "<style scoped>\n",
       "    .dataframe tbody tr th:only-of-type {\n",
       "        vertical-align: middle;\n",
       "    }\n",
       "\n",
       "    .dataframe tbody tr th {\n",
       "        vertical-align: top;\n",
       "    }\n",
       "\n",
       "    .dataframe thead th {\n",
       "        text-align: right;\n",
       "    }\n",
       "</style>\n",
       "<table border=\"1\" class=\"dataframe\">\n",
       "  <thead>\n",
       "    <tr style=\"text-align: right;\">\n",
       "      <th></th>\n",
       "      <th>user_id</th>\n",
       "      <th>industry</th>\n",
       "      <th>location</th>\n",
       "      <th>moved_after_2019</th>\n",
       "      <th>companies_worked</th>\n",
       "      <th>country</th>\n",
       "      <th>max_duration</th>\n",
       "      <th>Business</th>\n",
       "      <th>Design</th>\n",
       "      <th>IT</th>\n",
       "      <th>Other</th>\n",
       "      <th>N_Skills</th>\n",
       "      <th>English</th>\n",
       "      <th>German</th>\n",
       "      <th>Turkish</th>\n",
       "      <th>French</th>\n",
       "      <th>Spanish</th>\n",
       "      <th>Chinese</th>\n",
       "      <th>NLanguages</th>\n",
       "    </tr>\n",
       "  </thead>\n",
       "  <tbody>\n",
       "    <tr>\n",
       "      <th>0</th>\n",
       "      <td>1301</td>\n",
       "      <td>Information Technology and Services</td>\n",
       "      <td>Istanbul, Istanbul, Turkey</td>\n",
       "      <td>1</td>\n",
       "      <td>3.0</td>\n",
       "      <td>TR</td>\n",
       "      <td>1035.0</td>\n",
       "      <td>2.0</td>\n",
       "      <td>0.0</td>\n",
       "      <td>4.0</td>\n",
       "      <td>17.0</td>\n",
       "      <td>23.0</td>\n",
       "      <td>3.0</td>\n",
       "      <td>0.0</td>\n",
       "      <td>5.0</td>\n",
       "      <td>0.0</td>\n",
       "      <td>0.0</td>\n",
       "      <td>0.0</td>\n",
       "      <td>4.0</td>\n",
       "    </tr>\n",
       "    <tr>\n",
       "      <th>1</th>\n",
       "      <td>6950</td>\n",
       "      <td>Internet</td>\n",
       "      <td>Istanbul, Istanbul, Turkey</td>\n",
       "      <td>0</td>\n",
       "      <td>4.0</td>\n",
       "      <td>TR</td>\n",
       "      <td>1402.0</td>\n",
       "      <td>0.0</td>\n",
       "      <td>0.0</td>\n",
       "      <td>17.0</td>\n",
       "      <td>32.0</td>\n",
       "      <td>49.0</td>\n",
       "      <td>3.0</td>\n",
       "      <td>0.0</td>\n",
       "      <td>0.0</td>\n",
       "      <td>0.0</td>\n",
       "      <td>0.0</td>\n",
       "      <td>0.0</td>\n",
       "      <td>3.0</td>\n",
       "    </tr>\n",
       "    <tr>\n",
       "      <th>2</th>\n",
       "      <td>4880</td>\n",
       "      <td>Online Media</td>\n",
       "      <td>Turkey</td>\n",
       "      <td>0</td>\n",
       "      <td>4.0</td>\n",
       "      <td>TR</td>\n",
       "      <td>1216.0</td>\n",
       "      <td>0.0</td>\n",
       "      <td>2.0</td>\n",
       "      <td>4.0</td>\n",
       "      <td>15.0</td>\n",
       "      <td>21.0</td>\n",
       "      <td>NaN</td>\n",
       "      <td>NaN</td>\n",
       "      <td>NaN</td>\n",
       "      <td>NaN</td>\n",
       "      <td>NaN</td>\n",
       "      <td>NaN</td>\n",
       "      <td>NaN</td>\n",
       "    </tr>\n",
       "    <tr>\n",
       "      <th>3</th>\n",
       "      <td>26046</td>\n",
       "      <td>Telecommunications</td>\n",
       "      <td>Istanbul, Istanbul, Turkey</td>\n",
       "      <td>0</td>\n",
       "      <td>1.0</td>\n",
       "      <td>TR</td>\n",
       "      <td>1856.0</td>\n",
       "      <td>0.0</td>\n",
       "      <td>0.0</td>\n",
       "      <td>7.0</td>\n",
       "      <td>23.0</td>\n",
       "      <td>30.0</td>\n",
       "      <td>2.0</td>\n",
       "      <td>0.0</td>\n",
       "      <td>0.0</td>\n",
       "      <td>0.0</td>\n",
       "      <td>0.0</td>\n",
       "      <td>0.0</td>\n",
       "      <td>2.0</td>\n",
       "    </tr>\n",
       "    <tr>\n",
       "      <th>4</th>\n",
       "      <td>11005</td>\n",
       "      <td>Banking</td>\n",
       "      <td>Istanbul, Turkey</td>\n",
       "      <td>0</td>\n",
       "      <td>3.0</td>\n",
       "      <td>TR</td>\n",
       "      <td>2769.0</td>\n",
       "      <td>0.0</td>\n",
       "      <td>1.0</td>\n",
       "      <td>10.0</td>\n",
       "      <td>37.0</td>\n",
       "      <td>48.0</td>\n",
       "      <td>3.0</td>\n",
       "      <td>0.0</td>\n",
       "      <td>5.0</td>\n",
       "      <td>0.0</td>\n",
       "      <td>0.0</td>\n",
       "      <td>0.0</td>\n",
       "      <td>3.0</td>\n",
       "    </tr>\n",
       "  </tbody>\n",
       "</table>\n",
       "</div>"
      ],
      "text/plain": [
       "   user_id                             industry                    location  \\\n",
       "0     1301  Information Technology and Services  Istanbul, Istanbul, Turkey   \n",
       "1     6950                             Internet  Istanbul, Istanbul, Turkey   \n",
       "2     4880                         Online Media                      Turkey   \n",
       "3    26046                   Telecommunications  Istanbul, Istanbul, Turkey   \n",
       "4    11005                              Banking            Istanbul, Turkey   \n",
       "\n",
       "   moved_after_2019  companies_worked country  max_duration  Business  Design  \\\n",
       "0                 1               3.0      TR        1035.0       2.0     0.0   \n",
       "1                 0               4.0      TR        1402.0       0.0     0.0   \n",
       "2                 0               4.0      TR        1216.0       0.0     2.0   \n",
       "3                 0               1.0      TR        1856.0       0.0     0.0   \n",
       "4                 0               3.0      TR        2769.0       0.0     1.0   \n",
       "\n",
       "     IT  Other  N_Skills  English  German  Turkish  French  Spanish  Chinese  \\\n",
       "0   4.0   17.0      23.0      3.0     0.0      5.0     0.0      0.0      0.0   \n",
       "1  17.0   32.0      49.0      3.0     0.0      0.0     0.0      0.0      0.0   \n",
       "2   4.0   15.0      21.0      NaN     NaN      NaN     NaN      NaN      NaN   \n",
       "3   7.0   23.0      30.0      2.0     0.0      0.0     0.0      0.0      0.0   \n",
       "4  10.0   37.0      48.0      3.0     0.0      5.0     0.0      0.0      0.0   \n",
       "\n",
       "   NLanguages  \n",
       "0         4.0  \n",
       "1         3.0  \n",
       "2         NaN  \n",
       "3         2.0  \n",
       "4         3.0  "
      ]
     },
     "execution_count": 112,
     "metadata": {},
     "output_type": "execute_result"
    }
   ],
   "source": [
    "path = os.path.join('PreparedData', 'languages.csv')\n",
    "data = pd.read_csv(path)\n",
    "\n",
    "train = pd.merge(train, data, how='left', on='user_id')\n",
    "test = pd.merge(test, data, how='left', on='user_id')\n",
    "\n",
    "train.head()\n"
   ]
  },
  {
   "attachments": {},
   "cell_type": "markdown",
   "metadata": {},
   "source": [
    "Education"
   ]
  },
  {
   "cell_type": "code",
   "execution_count": 113,
   "metadata": {},
   "outputs": [
    {
     "data": {
      "text/html": [
       "<div>\n",
       "<style scoped>\n",
       "    .dataframe tbody tr th:only-of-type {\n",
       "        vertical-align: middle;\n",
       "    }\n",
       "\n",
       "    .dataframe tbody tr th {\n",
       "        vertical-align: top;\n",
       "    }\n",
       "\n",
       "    .dataframe thead th {\n",
       "        text-align: right;\n",
       "    }\n",
       "</style>\n",
       "<table border=\"1\" class=\"dataframe\">\n",
       "  <thead>\n",
       "    <tr style=\"text-align: right;\">\n",
       "      <th></th>\n",
       "      <th>user_id</th>\n",
       "      <th>industry</th>\n",
       "      <th>location</th>\n",
       "      <th>moved_after_2019</th>\n",
       "      <th>companies_worked</th>\n",
       "      <th>country</th>\n",
       "      <th>max_duration</th>\n",
       "      <th>Business</th>\n",
       "      <th>Design</th>\n",
       "      <th>IT</th>\n",
       "      <th>...</th>\n",
       "      <th>German</th>\n",
       "      <th>Turkish</th>\n",
       "      <th>French</th>\n",
       "      <th>Spanish</th>\n",
       "      <th>Chinese</th>\n",
       "      <th>NLanguages</th>\n",
       "      <th>start_date_edu</th>\n",
       "      <th>end_date_edu</th>\n",
       "      <th>degree_edu</th>\n",
       "      <th>field_edu</th>\n",
       "    </tr>\n",
       "  </thead>\n",
       "  <tbody>\n",
       "    <tr>\n",
       "      <th>0</th>\n",
       "      <td>1301</td>\n",
       "      <td>Information Technology and Services</td>\n",
       "      <td>Istanbul, Istanbul, Turkey</td>\n",
       "      <td>1</td>\n",
       "      <td>3.0</td>\n",
       "      <td>TR</td>\n",
       "      <td>1035.0</td>\n",
       "      <td>2.0</td>\n",
       "      <td>0.0</td>\n",
       "      <td>4.0</td>\n",
       "      <td>...</td>\n",
       "      <td>0.0</td>\n",
       "      <td>5.0</td>\n",
       "      <td>0.0</td>\n",
       "      <td>0.0</td>\n",
       "      <td>0.0</td>\n",
       "      <td>4.0</td>\n",
       "      <td>2023-01-01</td>\n",
       "      <td>2023-01-01</td>\n",
       "      <td>2.0</td>\n",
       "      <td>Other</td>\n",
       "    </tr>\n",
       "    <tr>\n",
       "      <th>1</th>\n",
       "      <td>6950</td>\n",
       "      <td>Internet</td>\n",
       "      <td>Istanbul, Istanbul, Turkey</td>\n",
       "      <td>0</td>\n",
       "      <td>4.0</td>\n",
       "      <td>TR</td>\n",
       "      <td>1402.0</td>\n",
       "      <td>0.0</td>\n",
       "      <td>0.0</td>\n",
       "      <td>17.0</td>\n",
       "      <td>...</td>\n",
       "      <td>0.0</td>\n",
       "      <td>0.0</td>\n",
       "      <td>0.0</td>\n",
       "      <td>0.0</td>\n",
       "      <td>0.0</td>\n",
       "      <td>3.0</td>\n",
       "      <td>2023-01-01</td>\n",
       "      <td>2023-01-01</td>\n",
       "      <td>1.0</td>\n",
       "      <td>Other</td>\n",
       "    </tr>\n",
       "    <tr>\n",
       "      <th>2</th>\n",
       "      <td>4880</td>\n",
       "      <td>Online Media</td>\n",
       "      <td>Turkey</td>\n",
       "      <td>0</td>\n",
       "      <td>4.0</td>\n",
       "      <td>TR</td>\n",
       "      <td>1216.0</td>\n",
       "      <td>0.0</td>\n",
       "      <td>2.0</td>\n",
       "      <td>4.0</td>\n",
       "      <td>...</td>\n",
       "      <td>NaN</td>\n",
       "      <td>NaN</td>\n",
       "      <td>NaN</td>\n",
       "      <td>NaN</td>\n",
       "      <td>NaN</td>\n",
       "      <td>NaN</td>\n",
       "      <td>2023-01-01</td>\n",
       "      <td>2023-01-01</td>\n",
       "      <td>2.0</td>\n",
       "      <td>Other</td>\n",
       "    </tr>\n",
       "    <tr>\n",
       "      <th>3</th>\n",
       "      <td>26046</td>\n",
       "      <td>Telecommunications</td>\n",
       "      <td>Istanbul, Istanbul, Turkey</td>\n",
       "      <td>0</td>\n",
       "      <td>1.0</td>\n",
       "      <td>TR</td>\n",
       "      <td>1856.0</td>\n",
       "      <td>0.0</td>\n",
       "      <td>0.0</td>\n",
       "      <td>7.0</td>\n",
       "      <td>...</td>\n",
       "      <td>0.0</td>\n",
       "      <td>0.0</td>\n",
       "      <td>0.0</td>\n",
       "      <td>0.0</td>\n",
       "      <td>0.0</td>\n",
       "      <td>2.0</td>\n",
       "      <td>2023-01-01</td>\n",
       "      <td>2023-01-01</td>\n",
       "      <td>1.0</td>\n",
       "      <td>Business</td>\n",
       "    </tr>\n",
       "    <tr>\n",
       "      <th>4</th>\n",
       "      <td>11005</td>\n",
       "      <td>Banking</td>\n",
       "      <td>Istanbul, Turkey</td>\n",
       "      <td>0</td>\n",
       "      <td>3.0</td>\n",
       "      <td>TR</td>\n",
       "      <td>2769.0</td>\n",
       "      <td>0.0</td>\n",
       "      <td>1.0</td>\n",
       "      <td>10.0</td>\n",
       "      <td>...</td>\n",
       "      <td>0.0</td>\n",
       "      <td>5.0</td>\n",
       "      <td>0.0</td>\n",
       "      <td>0.0</td>\n",
       "      <td>0.0</td>\n",
       "      <td>3.0</td>\n",
       "      <td>2023-01-01</td>\n",
       "      <td>2023-01-01</td>\n",
       "      <td>1.0</td>\n",
       "      <td>Other</td>\n",
       "    </tr>\n",
       "  </tbody>\n",
       "</table>\n",
       "<p>5 rows × 23 columns</p>\n",
       "</div>"
      ],
      "text/plain": [
       "   user_id                             industry                    location  \\\n",
       "0     1301  Information Technology and Services  Istanbul, Istanbul, Turkey   \n",
       "1     6950                             Internet  Istanbul, Istanbul, Turkey   \n",
       "2     4880                         Online Media                      Turkey   \n",
       "3    26046                   Telecommunications  Istanbul, Istanbul, Turkey   \n",
       "4    11005                              Banking            Istanbul, Turkey   \n",
       "\n",
       "   moved_after_2019  companies_worked country  max_duration  Business  Design  \\\n",
       "0                 1               3.0      TR        1035.0       2.0     0.0   \n",
       "1                 0               4.0      TR        1402.0       0.0     0.0   \n",
       "2                 0               4.0      TR        1216.0       0.0     2.0   \n",
       "3                 0               1.0      TR        1856.0       0.0     0.0   \n",
       "4                 0               3.0      TR        2769.0       0.0     1.0   \n",
       "\n",
       "     IT  ...  German  Turkish  French  Spanish  Chinese  NLanguages  \\\n",
       "0   4.0  ...     0.0      5.0     0.0      0.0      0.0         4.0   \n",
       "1  17.0  ...     0.0      0.0     0.0      0.0      0.0         3.0   \n",
       "2   4.0  ...     NaN      NaN     NaN      NaN      NaN         NaN   \n",
       "3   7.0  ...     0.0      0.0     0.0      0.0      0.0         2.0   \n",
       "4  10.0  ...     0.0      5.0     0.0      0.0      0.0         3.0   \n",
       "\n",
       "   start_date_edu  end_date_edu  degree_edu field_edu  \n",
       "0      2023-01-01    2023-01-01         2.0     Other  \n",
       "1      2023-01-01    2023-01-01         1.0     Other  \n",
       "2      2023-01-01    2023-01-01         2.0     Other  \n",
       "3      2023-01-01    2023-01-01         1.0  Business  \n",
       "4      2023-01-01    2023-01-01         1.0     Other  \n",
       "\n",
       "[5 rows x 23 columns]"
      ]
     },
     "execution_count": 113,
     "metadata": {},
     "output_type": "execute_result"
    }
   ],
   "source": [
    "path = os.path.join('PreparedData', 'education.csv')\n",
    "data = pd.read_csv(path)\n",
    "\n",
    "train = pd.merge(train, data, how='left', on='user_id')\n",
    "test = pd.merge(test, data, how='left', on='user_id')\n",
    "\n",
    "train.head()"
   ]
  },
  {
   "attachments": {},
   "cell_type": "markdown",
   "metadata": {},
   "source": [
    "## Deal with Nan Values"
   ]
  },
  {
   "cell_type": "code",
   "execution_count": 114,
   "metadata": {},
   "outputs": [
    {
     "data": {
      "text/plain": [
       "user_id                 0\n",
       "industry               72\n",
       "location                1\n",
       "moved_after_2019        0\n",
       "companies_worked    10252\n",
       "country             10252\n",
       "max_duration        10252\n",
       "Business             3107\n",
       "Design               3107\n",
       "IT                   3107\n",
       "Other                3107\n",
       "N_Skills             3107\n",
       "English             23158\n",
       "German              23158\n",
       "Turkish             23158\n",
       "French              23158\n",
       "Spanish             23158\n",
       "Chinese             23158\n",
       "NLanguages          23158\n",
       "start_date_edu          1\n",
       "end_date_edu            1\n",
       "degree_edu              1\n",
       "field_edu               1\n",
       "dtype: int64"
      ]
     },
     "execution_count": 114,
     "metadata": {},
     "output_type": "execute_result"
    }
   ],
   "source": [
    "train.isnull().sum()"
   ]
  },
  {
   "cell_type": "code",
   "execution_count": 115,
   "metadata": {},
   "outputs": [
    {
     "data": {
      "text/plain": [
       "user_id                0\n",
       "industry              16\n",
       "location               0\n",
       "moved_after_2019       0\n",
       "companies_worked    2729\n",
       "country             2729\n",
       "max_duration        2729\n",
       "Business             765\n",
       "Design               765\n",
       "IT                   765\n",
       "Other                765\n",
       "N_Skills             765\n",
       "English             5826\n",
       "German              5826\n",
       "Turkish             5826\n",
       "French              5826\n",
       "Spanish             5826\n",
       "Chinese             5826\n",
       "NLanguages          5826\n",
       "start_date_edu         2\n",
       "end_date_edu           2\n",
       "degree_edu             2\n",
       "field_edu              2\n",
       "dtype: int64"
      ]
     },
     "execution_count": 115,
     "metadata": {},
     "output_type": "execute_result"
    }
   ],
   "source": [
    "test.isnull().sum()"
   ]
  },
  {
   "attachments": {},
   "cell_type": "markdown",
   "metadata": {},
   "source": [
    "Fill in industry and location as \"Other\""
   ]
  },
  {
   "cell_type": "code",
   "execution_count": 116,
   "metadata": {},
   "outputs": [],
   "source": [
    "train['industry'] = train['industry'].fillna('Other')\n",
    "test['industry'] = test['industry'].fillna('Other')\n",
    "\n",
    "train['location'] = train['location'].fillna('Other')\n",
    "test['location'] = test['location'].fillna('Other')"
   ]
  },
  {
   "attachments": {},
   "cell_type": "markdown",
   "metadata": {},
   "source": [
    "Fill in companies worked as 2\n",
    "-   Note: Later change this to 0,1,2,3,.. etc to see how model works"
   ]
  },
  {
   "cell_type": "code",
   "execution_count": 117,
   "metadata": {},
   "outputs": [],
   "source": [
    "train['companies_worked'] = train['companies_worked'].fillna(2)\n",
    "test['companies_worked'] = test['companies_worked'].fillna(2)"
   ]
  },
  {
   "attachments": {},
   "cell_type": "markdown",
   "metadata": {},
   "source": [
    "Fill max duration as 0 days\n",
    "-   Maybe try this with mean, etc"
   ]
  },
  {
   "cell_type": "code",
   "execution_count": 118,
   "metadata": {},
   "outputs": [],
   "source": [
    "train['max_duration'] = train['max_duration'].fillna(0)\n",
    "test['max_duration'] = test['max_duration'].fillna(0)"
   ]
  },
  {
   "cell_type": "markdown",
   "metadata": {},
   "source": [
    "Fill nan skills with the mean for everyone"
   ]
  },
  {
   "cell_type": "code",
   "execution_count": 119,
   "metadata": {},
   "outputs": [],
   "source": [
    "# Fill counts with 0 for NaNs\n",
    "train['IT'] = train['IT'].fillna(train['IT'].mean().astype(int))\n",
    "train['Business'] = train['Business'].fillna(train['Business'].mean().astype(int))\n",
    "train['Design'] = train['Design'].fillna(train['Design'].mean().astype(int))\n",
    "train['Other'] = train['Other'].fillna(train['Other'].mean().astype(int))\n",
    "\n",
    "\n",
    "# Do the same for the test dataframe\n",
    "test['IT'] = test['IT'].fillna(train['IT'].mean().astype(int))\n",
    "test['Business'] = test['Business'].fillna(train['Business'].mean().astype(int))\n",
    "test['Design'] = test['Design'].fillna(train['Design'].mean().astype(int))\n",
    "test['Other'] = test['Other'].fillna(train['Other'].mean().astype(int))\n",
    "\n",
    "# Hence Compute N_skills as the sum of IT, Business and Design\n",
    "train['N_Skills'] = train['IT'] + train['Business'] + train['Design'] + train['Other']\n",
    "test['N_Skills'] = test['IT'] + test['Business'] + test['Design'] + test['Other']"
   ]
  },
  {
   "attachments": {},
   "cell_type": "markdown",
   "metadata": {},
   "source": [
    "Fill languages with ~0"
   ]
  },
  {
   "cell_type": "code",
   "execution_count": 120,
   "metadata": {},
   "outputs": [],
   "source": [
    "# Fillna as 0 for language columns\n",
    "train['Turkish'] = train['Turkish'].fillna(5)\n",
    "test['Turkish'] = test['Turkish'].fillna(4)\n",
    "\n",
    "train['English'] = train['English'].fillna(2)\n",
    "test['English'] = test['English'].fillna(2)\n",
    "\n",
    "train['German'] = train['German'].fillna(0)\n",
    "test['German'] = test['German'].fillna(0)\n",
    "\n",
    "train['French'] = train['French'].fillna(0)\n",
    "test['French'] = test['French'].fillna(0)\n",
    "\n",
    "train['Spanish'] = train['Spanish'].fillna(0)\n",
    "test['Spanish'] = test['Spanish'].fillna(0)\n",
    "\n",
    "train['Chinese'] = train['Chinese'].fillna(0)\n",
    "test['Chinese'] = test['Chinese'].fillna(0)\n"
   ]
  },
  {
   "attachments": {},
   "cell_type": "markdown",
   "metadata": {},
   "source": [
    "Fill N_languages with mean"
   ]
  },
  {
   "cell_type": "code",
   "execution_count": 121,
   "metadata": {},
   "outputs": [],
   "source": [
    "train['NLanguages'] = train['NLanguages'].fillna(train['NLanguages'].mean().astype(int))\n",
    "test['NLanguages'] = test['NLanguages'].fillna(train['NLanguages'].mean().astype(int))\n"
   ]
  },
  {
   "attachments": {},
   "cell_type": "markdown",
   "metadata": {},
   "source": [
    "Fill Education level with bachelor"
   ]
  },
  {
   "cell_type": "code",
   "execution_count": null,
   "metadata": {},
   "outputs": [],
   "source": []
  },
  {
   "cell_type": "code",
   "execution_count": 122,
   "metadata": {},
   "outputs": [],
   "source": [
    "# Fill degree_edu with 0 for NaNs\n",
    "train['degree_edu'] = train['degree_edu'].fillna(0)\n",
    "test['degree_edu'] = test['degree_edu'].fillna(0)\n",
    "\n",
    "# Fill field_edu as Other\n",
    "train['field_edu'] = train['field_edu'].fillna('Other')\n",
    "test['field_edu'] = test['field_edu'].fillna('Other')\n",
    "\n",
    "# Fill start_date_edu and end_date_edu as both 2023-01-01\n",
    "train['start_date_edu'] = train['start_date_edu'].fillna('2023-01-01')\n",
    "test['start_date_edu'] = test['start_date_edu'].fillna('2023-01-01')\n",
    "\n",
    "train['end_date_edu'] = train['end_date_edu'].fillna('2023-01-01')\n",
    "test['end_date_edu'] = test['end_date_edu'].fillna('2023-01-01')"
   ]
  },
  {
   "attachments": {},
   "cell_type": "markdown",
   "metadata": {},
   "source": [
    "Drop country column "
   ]
  },
  {
   "cell_type": "code",
   "execution_count": 123,
   "metadata": {},
   "outputs": [],
   "source": [
    "train = train.drop('country', axis=1)\n",
    "test = test.drop('country', axis=1)"
   ]
  },
  {
   "attachments": {},
   "cell_type": "markdown",
   "metadata": {},
   "source": [
    "Checks"
   ]
  },
  {
   "cell_type": "code",
   "execution_count": 124,
   "metadata": {},
   "outputs": [
    {
     "data": {
      "text/plain": [
       "52840"
      ]
     },
     "execution_count": 124,
     "metadata": {},
     "output_type": "execute_result"
    }
   ],
   "source": [
    "# Show how many rows have Turkey in the location string\n",
    "train[train['location'].str.contains('Turkey')].shape[0]"
   ]
  },
  {
   "attachments": {},
   "cell_type": "markdown",
   "metadata": {},
   "source": [
    "Location data"
   ]
  },
  {
   "cell_type": "code",
   "execution_count": 125,
   "metadata": {},
   "outputs": [],
   "source": [
    "# Fix these rows\n",
    "# Replace all uppercase İ with normal I\n",
    "train['location'] = train['location'].str.replace('İ', 'I')\n",
    "test['location'] = test['location'].str.replace('İ', 'I')\n",
    "city_names = ['Izmir', 'Bursa', 'Istanbul', 'Ankara', 'Eskisehir', 'Kahramanmaras', 'Kayseri', \"Manisa\", \"Antalya\", \n",
    "              \"Tekirdag\", \"Adana\", \"Konya\", \"Kocaeli\", \"Ordu\", \"Gaziantep\", \"Kahramanmaraş\"]\n",
    "\n",
    "for name in city_names:\n",
    "    train.loc[train['location'].str.contains(name), 'location'] = name + ', Turkey'\n",
    "    test.loc[test['location'].str.contains(name), 'location'] = name + ', Turkey'\n",
    "\n",
    "# Replace location rows with Kahraman Maras, Turkey with Kahramanmaraş, Turkey\n",
    "train.loc[train['location'].str.contains('Kahraman Maras, Turkey'), 'location'] = 'Kahramanmaraş, Turkey'\n",
    "test.loc[test['location'].str.contains('Kahraman Maras, Turkey'), 'location'] = 'Kahramanmaraş, Turkey'"
   ]
  },
  {
   "cell_type": "code",
   "execution_count": 126,
   "metadata": {},
   "outputs": [
    {
     "data": {
      "text/plain": [
       "Istanbul, Turkey                  28391\n",
       "Turkey                            10922\n",
       "Ankara, Turkey                     7708\n",
       "Izmir, Turkey                      1955\n",
       "Kocaeli, Turkey                     557\n",
       "                                  ...  \n",
       "Afyon, Turkey                         1\n",
       "Amsterdam Area                        1\n",
       "Çınarcık, Yalova, Turkey              1\n",
       "Palandoken, Erzurum, Turkey           1\n",
       "Islamabad, Islāmābād, Pakistan        1\n",
       "Name: location, Length: 228, dtype: int64"
      ]
     },
     "execution_count": 126,
     "metadata": {},
     "output_type": "execute_result"
    }
   ],
   "source": [
    "# Show location with most occurences\n",
    "train['location'].value_counts()"
   ]
  },
  {
   "attachments": {},
   "cell_type": "markdown",
   "metadata": {},
   "source": [
    "Deal with location columns"
   ]
  },
  {
   "cell_type": "code",
   "execution_count": 127,
   "metadata": {},
   "outputs": [],
   "source": [
    "# If location contains Turkey, set location to Turkey\n",
    "train.loc[train['location'].str.contains('Turkey'), 'location'] = 'Turkey'\n",
    "test.loc[test['location'].str.contains('Turkey'), 'location'] = 'Turkey'\n",
    "\n",
    "train.loc[train['location'].str.contains('Germany'), 'location'] = 'Germany'\n",
    "test.loc[test['location'].str.contains('Germany'), 'location'] = 'Germany'\n",
    "\n",
    "train.loc[train['location'].str.contains('Netherlands'), 'location'] = 'Netherlands'\n",
    "test.loc[test['location'].str.contains('Netherlands'), 'location'] = 'Netherlands'\n",
    "\n",
    "train.loc[train['location'].str.contains('Pakistan'), 'location'] = 'Pakistan'\n",
    "test.loc[test['location'].str.contains('Pakistan'), 'location'] = 'Pakistan'\n",
    "\n",
    "train.loc[train['location'].str.contains('United Kingdom'), 'location'] = 'United Kingdom'\n",
    "test.loc[test['location'].str.contains('United Kingdom'), 'location'] = 'United Kingdom'\n",
    "\n",
    "# Rename other locations to other\n",
    "train.loc[~train['location'].str.contains('Turkey|Germany|Netherlands|Pakistan|United Kingdom'), 'location'] = 'Other'\n",
    "test.loc[~test['location'].str.contains('Turkey|Germany|Netherlands|Pakistan|United Kingdom'), 'location'] = 'Other'\n"
   ]
  },
  {
   "cell_type": "code",
   "execution_count": 128,
   "metadata": {},
   "outputs": [
    {
     "data": {
      "text/plain": [
       "Turkey            52956\n",
       "Other                30\n",
       "Germany              16\n",
       "Netherlands          10\n",
       "United Kingdom        5\n",
       "Pakistan              2\n",
       "Name: location, dtype: int64"
      ]
     },
     "execution_count": 128,
     "metadata": {},
     "output_type": "execute_result"
    }
   ],
   "source": [
    "# Show top locations\n",
    "train['location'].value_counts()"
   ]
  },
  {
   "attachments": {},
   "cell_type": "markdown",
   "metadata": {},
   "source": [
    "## Check datatypes"
   ]
  },
  {
   "cell_type": "code",
   "execution_count": 129,
   "metadata": {},
   "outputs": [
    {
     "data": {
      "text/plain": [
       "user_id               int64\n",
       "industry             object\n",
       "location             object\n",
       "moved_after_2019      int64\n",
       "companies_worked    float64\n",
       "max_duration        float64\n",
       "Business            float64\n",
       "Design              float64\n",
       "IT                  float64\n",
       "Other               float64\n",
       "N_Skills            float64\n",
       "English             float64\n",
       "German              float64\n",
       "Turkish             float64\n",
       "French              float64\n",
       "Spanish             float64\n",
       "Chinese             float64\n",
       "NLanguages          float64\n",
       "start_date_edu       object\n",
       "end_date_edu         object\n",
       "degree_edu          float64\n",
       "field_edu            object\n",
       "dtype: object"
      ]
     },
     "execution_count": 129,
     "metadata": {},
     "output_type": "execute_result"
    }
   ],
   "source": [
    "test.dtypes"
   ]
  },
  {
   "cell_type": "markdown",
   "metadata": {},
   "source": [
    "Cast columns into int"
   ]
  },
  {
   "cell_type": "code",
   "execution_count": 130,
   "metadata": {},
   "outputs": [],
   "source": [
    "float_columns = train.select_dtypes(include=['float']).columns\n",
    "train[float_columns] = train[float_columns].astype(int)\n",
    "\n",
    "float_columns = test.select_dtypes(include=['float']).columns\n",
    "test[float_columns] = test[float_columns].astype(int)"
   ]
  },
  {
   "attachments": {},
   "cell_type": "markdown",
   "metadata": {},
   "source": [
    "Change dates to datetime"
   ]
  },
  {
   "cell_type": "code",
   "execution_count": 131,
   "metadata": {},
   "outputs": [],
   "source": [
    "# Set the start_date_edu and end_date_edu to datetime\n",
    "train['start_date_edu'] = pd.to_datetime(train['start_date_edu'])\n",
    "test['start_date_edu'] = pd.to_datetime(test['start_date_edu'])\n",
    "\n",
    "train['end_date_edu'] = pd.to_datetime(train['end_date_edu'])\n",
    "test['end_date_edu'] = pd.to_datetime(test['end_date_edu'])"
   ]
  },
  {
   "cell_type": "code",
   "execution_count": 132,
   "metadata": {},
   "outputs": [
    {
     "data": {
      "text/plain": [
       "user_id                      int64\n",
       "industry                    object\n",
       "location                    object\n",
       "moved_after_2019             int64\n",
       "companies_worked             int32\n",
       "max_duration                 int32\n",
       "Business                     int32\n",
       "Design                       int32\n",
       "IT                           int32\n",
       "Other                        int32\n",
       "N_Skills                     int32\n",
       "English                      int32\n",
       "German                       int32\n",
       "Turkish                      int32\n",
       "French                       int32\n",
       "Spanish                      int32\n",
       "Chinese                      int32\n",
       "NLanguages                   int32\n",
       "start_date_edu      datetime64[ns]\n",
       "end_date_edu        datetime64[ns]\n",
       "degree_edu                   int32\n",
       "field_edu                   object\n",
       "dtype: object"
      ]
     },
     "execution_count": 132,
     "metadata": {},
     "output_type": "execute_result"
    }
   ],
   "source": [
    "test.dtypes"
   ]
  },
  {
   "attachments": {},
   "cell_type": "markdown",
   "metadata": {},
   "source": [
    "#### Drop Industry for now as it has too many unique values"
   ]
  },
  {
   "cell_type": "code",
   "execution_count": 99,
   "metadata": {},
   "outputs": [],
   "source": [
    "# Drop industry column\n",
    "train = train.drop('industry', axis=1)\n",
    "test = test.drop('industry', axis=1)"
   ]
  },
  {
   "attachments": {},
   "cell_type": "markdown",
   "metadata": {},
   "source": [
    "Remove users who entered work after 2019 as they all are marked as 0"
   ]
  },
  {
   "cell_type": "code",
   "execution_count": null,
   "metadata": {},
   "outputs": [],
   "source": []
  },
  {
   "cell_type": "code",
   "execution_count": 104,
   "metadata": {},
   "outputs": [],
   "source": [
    "# Save the data\n",
    "train.to_csv(\"PreparedData/train.csv\", index=False)\n",
    "test.to_csv(\"PreparedData/test.csv\", index=False)"
   ]
  },
  {
   "cell_type": "code",
   "execution_count": null,
   "metadata": {},
   "outputs": [],
   "source": []
  }
 ],
 "metadata": {
  "kernelspec": {
   "display_name": "Python 3",
   "language": "python",
   "name": "python3"
  },
  "language_info": {
   "codemirror_mode": {
    "name": "ipython",
    "version": 3
   },
   "file_extension": ".py",
   "mimetype": "text/x-python",
   "name": "python",
   "nbconvert_exporter": "python",
   "pygments_lexer": "ipython3",
   "version": "3.9.6"
  },
  "orig_nbformat": 4,
  "vscode": {
   "interpreter": {
    "hash": "88253bda05a853a3e2e108eae53f17c1fe54d0ccc1565ef6af417baa30d1e2de"
   }
  }
 },
 "nbformat": 4,
 "nbformat_minor": 2
}
