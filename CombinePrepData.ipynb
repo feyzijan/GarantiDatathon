{
 "cells": [
  {
   "cell_type": "code",
   "execution_count": 155,
   "metadata": {},
   "outputs": [],
   "source": [
    "import os\n",
    "import pandas as pd"
   ]
  },
  {
   "cell_type": "code",
   "execution_count": 156,
   "metadata": {},
   "outputs": [],
   "source": [
    "path = os.path.join('OriginalData', 'train_users.csv')\n",
    "train = pd.read_csv(path)\n",
    "\n",
    "path = os.path.join('OriginalData', 'test_users.csv')\n",
    "test = pd.read_csv(path)"
   ]
  },
  {
   "cell_type": "code",
   "execution_count": 157,
   "metadata": {},
   "outputs": [],
   "source": [
    "# Set this to 2 otherwise they will be nan and i may accidentally fill it\n",
    "test[\"moved_after_2019\"] = 2"
   ]
  },
  {
   "attachments": {},
   "cell_type": "markdown",
   "metadata": {},
   "source": [
    "## Add in the data"
   ]
  },
  {
   "attachments": {},
   "cell_type": "markdown",
   "metadata": {},
   "source": [
    "Work experiences"
   ]
  },
  {
   "cell_type": "code",
   "execution_count": 158,
   "metadata": {},
   "outputs": [],
   "source": [
    "path = os.path.join('PreparedData', 'work_experiences.csv')\n",
    "data = pd.read_csv(path)\n",
    "\n",
    "train = pd.merge(train, data, how='left', on='user_id')\n",
    "test = pd.merge(test, data, how='left', on='user_id')"
   ]
  },
  {
   "cell_type": "markdown",
   "metadata": {},
   "source": [
    "Skills"
   ]
  },
  {
   "cell_type": "code",
   "execution_count": 159,
   "metadata": {},
   "outputs": [],
   "source": [
    "path = os.path.join('PreparedData', 'skills.csv')\n",
    "data = pd.read_csv(path)\n",
    "\n",
    "train = pd.merge(train, data, how='left', on='user_id')\n",
    "test = pd.merge(test, data, how='left', on='user_id')"
   ]
  },
  {
   "attachments": {},
   "cell_type": "markdown",
   "metadata": {},
   "source": [
    "Language"
   ]
  },
  {
   "cell_type": "code",
   "execution_count": 160,
   "metadata": {},
   "outputs": [],
   "source": [
    "path = os.path.join('PreparedData', 'languages.csv')\n",
    "data = pd.read_csv(path)\n",
    "\n",
    "train = pd.merge(train, data, how='left', on='user_id')\n",
    "test = pd.merge(test, data, how='left', on='user_id')"
   ]
  },
  {
   "attachments": {},
   "cell_type": "markdown",
   "metadata": {},
   "source": [
    "Education"
   ]
  },
  {
   "cell_type": "code",
   "execution_count": 161,
   "metadata": {},
   "outputs": [],
   "source": [
    "path = os.path.join('PreparedData', 'education.csv')\n",
    "data = pd.read_csv(path)\n",
    "\n",
    "train = pd.merge(train, data, how='left', on='user_id')\n",
    "test = pd.merge(test, data, how='left', on='user_id')"
   ]
  },
  {
   "attachments": {},
   "cell_type": "markdown",
   "metadata": {},
   "source": [
    "## Deal with Nan Values"
   ]
  },
  {
   "cell_type": "code",
   "execution_count": 162,
   "metadata": {},
   "outputs": [
    {
     "data": {
      "text/plain": [
       "user_id                   0\n",
       "industry                 72\n",
       "location                  1\n",
       "moved_after_2019          0\n",
       "StartAfter2019         6466\n",
       "companies_worked       6466\n",
       "positions_worked       6466\n",
       "days_worked            6466\n",
       "max_days_worked        6466\n",
       "min_days_worked        6466\n",
       "avg_days_worked        6466\n",
       "total_days_worked      6466\n",
       "Business               3107\n",
       "Design                 3107\n",
       "IT                     3107\n",
       "Other                  3107\n",
       "N_Skills               3107\n",
       "English               23158\n",
       "German                23158\n",
       "Turkish               23158\n",
       "French                23158\n",
       "Spanish               23158\n",
       "Chinese               23158\n",
       "NLanguages            23158\n",
       "degree_edu                1\n",
       "field_edu                 1\n",
       "Edu_Finished              1\n",
       "Edu_Ongoing               1\n",
       "Unknown_Edu_Status        1\n",
       "dtype: int64"
      ]
     },
     "execution_count": 162,
     "metadata": {},
     "output_type": "execute_result"
    }
   ],
   "source": [
    "train.isnull().sum()"
   ]
  },
  {
   "cell_type": "code",
   "execution_count": 163,
   "metadata": {},
   "outputs": [
    {
     "data": {
      "text/plain": [
       "user_id                  0\n",
       "industry                16\n",
       "location                 0\n",
       "moved_after_2019         0\n",
       "StartAfter2019        2729\n",
       "companies_worked      2729\n",
       "positions_worked      2729\n",
       "days_worked           2729\n",
       "max_days_worked       2729\n",
       "min_days_worked       2729\n",
       "avg_days_worked       2729\n",
       "total_days_worked     2729\n",
       "Business               765\n",
       "Design                 765\n",
       "IT                     765\n",
       "Other                  765\n",
       "N_Skills               765\n",
       "English               5826\n",
       "German                5826\n",
       "Turkish               5826\n",
       "French                5826\n",
       "Spanish               5826\n",
       "Chinese               5826\n",
       "NLanguages            5826\n",
       "degree_edu               2\n",
       "field_edu                2\n",
       "Edu_Finished             2\n",
       "Edu_Ongoing              2\n",
       "Unknown_Edu_Status       2\n",
       "dtype: int64"
      ]
     },
     "execution_count": 163,
     "metadata": {},
     "output_type": "execute_result"
    }
   ],
   "source": [
    "test.isnull().sum()"
   ]
  },
  {
   "attachments": {},
   "cell_type": "markdown",
   "metadata": {},
   "source": [
    "Fill in industry and location as \"Other\" ( there are very few values anyway\")"
   ]
  },
  {
   "cell_type": "code",
   "execution_count": 164,
   "metadata": {},
   "outputs": [],
   "source": [
    "train['industry'] = train['industry'].fillna('Other')\n",
    "test['industry'] = test['industry'].fillna('Other')\n",
    "\n",
    "train['location'] = train['location'].fillna('Other')\n",
    "test['location'] = test['location'].fillna('Other')"
   ]
  },
  {
   "attachments": {},
   "cell_type": "markdown",
   "metadata": {},
   "source": [
    "#### Fill in the company and day columns"
   ]
  },
  {
   "cell_type": "code",
   "execution_count": 165,
   "metadata": {},
   "outputs": [],
   "source": [
    "def fill_company_and_days(train,test,mean=True):\n",
    "    if mean:\n",
    "        # fill in the 'companies_worked', 'positions_worked', 'days_worked','max_days_worked', 'min_days_worked', 'avg_days_worked','total_days_worked' columns as the mean for both train and test dataframes\n",
    "        train['companies_worked'] = train['companies_worked'].fillna(train['companies_worked'].mean())\n",
    "        test['companies_worked'] = test['companies_worked'].fillna(train['companies_worked'].mean())\n",
    "        train['positions_worked'] = train['positions_worked'].fillna(train['positions_worked'].mean())\n",
    "        test['positions_worked'] = test['positions_worked'].fillna(train['positions_worked'].mean())\n",
    "        train['days_worked'] = train['days_worked'].fillna(train['days_worked'].mean())\n",
    "        test['days_worked'] = test['days_worked'].fillna(train['days_worked'].mean())\n",
    "        train['max_days_worked'] = train['max_days_worked'].fillna(train['max_days_worked'].mean())\n",
    "        test['max_days_worked'] = test['max_days_worked'].fillna(train['max_days_worked'].mean())\n",
    "        train['min_days_worked'] = train['min_days_worked'].fillna(train['min_days_worked'].mean())\n",
    "        test['min_days_worked'] = test['min_days_worked'].fillna(train['min_days_worked'].mean())\n",
    "        train['avg_days_worked'] = train['avg_days_worked'].fillna(train['avg_days_worked'].mean())\n",
    "        test['avg_days_worked'] = test['avg_days_worked'].fillna(train['avg_days_worked'].mean())\n",
    "        train['total_days_worked'] = train['total_days_worked'].fillna(train['total_days_worked'].mean())\n",
    "        test['total_days_worked'] = test['total_days_worked'].fillna(train['total_days_worked'].mean())\n",
    "    else:\n",
    "        # Fill all these columns with 0 \n",
    "        train['companies_worked'] = train['companies_worked'].fillna(0)\n",
    "        test['companies_worked'] = test['companies_worked'].fillna(0)\n",
    "        train['positions_worked'] = train['positions_worked'].fillna(0)\n",
    "        test['positions_worked'] = test['positions_worked'].fillna(0)\n",
    "        train['days_worked'] = train['days_worked'].fillna(0)\n",
    "        test['days_worked'] = test['days_worked'].fillna(0)\n",
    "        train['max_days_worked'] = train['max_days_worked'].fillna(0)\n",
    "        test['max_days_worked'] = test['max_days_worked'].fillna(0)\n",
    "        train['min_days_worked'] = train['min_days_worked'].fillna(0)\n",
    "        test['min_days_worked'] = test['min_days_worked'].fillna(0)\n",
    "        train['avg_days_worked'] = train['avg_days_worked'].fillna(0)\n",
    "        test['avg_days_worked'] = test['avg_days_worked'].fillna(0)\n",
    "        train['total_days_worked'] = train['total_days_worked'].fillna(0)\n",
    "        test['total_days_worked'] = test['total_days_worked'].fillna(0)\n",
    "\n",
    "    return train,test"
   ]
  },
  {
   "attachments": {},
   "cell_type": "markdown",
   "metadata": {},
   "source": [
    "For the users with no work data, either assume they are \"avearge\" or that that they have no work data"
   ]
  },
  {
   "cell_type": "code",
   "execution_count": 166,
   "metadata": {},
   "outputs": [],
   "source": [
    "train,test = fill_company_and_days(train,test,mean=True)"
   ]
  },
  {
   "attachments": {},
   "cell_type": "markdown",
   "metadata": {},
   "source": [
    "Fill skills"
   ]
  },
  {
   "cell_type": "code",
   "execution_count": 167,
   "metadata": {},
   "outputs": [],
   "source": [
    "def fill_skills(train,test,mean=True):\n",
    "    if mean:\n",
    "        # Fill in the 'Business', 'Design', 'IT', 'Other', 'N_Skills' as the mean for both dataframes\n",
    "        train['Business'] = train['Business'].fillna(train['Business'].mean())\n",
    "        test['Business'] = test['Business'].fillna(train['Business'].mean())\n",
    "        train['Design'] = train['Design'].fillna(train['Design'].mean())\n",
    "        test['Design'] = test['Design'].fillna(train['Design'].mean())\n",
    "        train['IT'] = train['IT'].fillna(train['IT'].mean())\n",
    "        test['IT'] = test['IT'].fillna(train['IT'].mean())\n",
    "        train['Other'] = train['Other'].fillna(train['Other'].mean())\n",
    "        test['Other'] = test['Other'].fillna(train['Other'].mean())\n",
    "\n",
    "        train['N_Skills'] = train['IT'] + train['Business'] + train['Design'] + train['Other']\n",
    "        test['N_Skills'] = test['IT'] + test['Business'] + test['Design'] + test['Other']\n",
    "    else: \n",
    "        ## Fill in all these as zero\n",
    "        train['Business'] = train['Business'].fillna(0)\n",
    "        test['Business'] = test['Business'].fillna(0)\n",
    "        train['Design'] = train['Design'].fillna(0)\n",
    "        test['Design'] = test['Design'].fillna(0)\n",
    "        train['IT'] = train['IT'].fillna(0)\n",
    "        test['IT'] = test['IT'].fillna(0)\n",
    "        train['Other'] = train['Other'].fillna(0)\n",
    "        test['Other'] = test['Other'].fillna(0)\n",
    "        train['N_Skills'] = train['N_Skills'].fillna(0)\n",
    "        test['N_Skills'] = test['N_Skills'].fillna(0)\n",
    "    return train,test"
   ]
  },
  {
   "cell_type": "code",
   "execution_count": 168,
   "metadata": {},
   "outputs": [],
   "source": [
    "train, test = fill_skills(train,test,mean=True)"
   ]
  },
  {
   "attachments": {},
   "cell_type": "markdown",
   "metadata": {},
   "source": [
    "Fill languages"
   ]
  },
  {
   "cell_type": "code",
   "execution_count": 169,
   "metadata": {},
   "outputs": [],
   "source": [
    "def fill_languages(train,test,mean=1):\n",
    "    if mean:\n",
    "        # Fill in 'English', 'German', 'Turkish', 'French', 'Spanish', 'Chinese', 'NLanguages' columns as mean\n",
    "        train['English'] = train['English'].fillna(train['English'].mean())\n",
    "        test['English'] = test['English'].fillna(train['English'].mean())\n",
    "        train['German'] = train['German'].fillna(train['German'].mean())\n",
    "        test['German'] = test['German'].fillna(train['German'].mean())\n",
    "        train['Turkish'] = train['Turkish'].fillna(train['Turkish'].mean())\n",
    "        test['Turkish'] = test['Turkish'].fillna(train['Turkish'].mean())\n",
    "        train['French'] = train['French'].fillna(train['French'].mean())\n",
    "        test['French'] = test['French'].fillna(train['French'].mean())\n",
    "        train['Spanish'] = train['Spanish'].fillna(train['Spanish'].mean())\n",
    "        test['Spanish'] = test['Spanish'].fillna(train['Spanish'].mean())\n",
    "        train['Chinese'] = train['Chinese'].fillna(train['Chinese'].mean())\n",
    "        test['Chinese'] = test['Chinese'].fillna(train['Chinese'].mean())\n",
    "        train['NLanguages'] = train['NLanguages'].fillna(train['NLanguages'].mean())\n",
    "        test['NLanguages'] = test['NLanguages'].fillna(train['NLanguages'].mean())\n",
    "    else: \n",
    "        # Fill in all these columns as 0\n",
    "        train['English'] = train['English'].fillna(0)\n",
    "        test['English'] = test['English'].fillna(0)\n",
    "        train['German'] = train['German'].fillna(0)\n",
    "        test['German'] = test['German'].fillna(0)\n",
    "        train['Turkish'] = train['Turkish'].fillna(0)\n",
    "        test['Turkish'] = test['Turkish'].fillna(0)\n",
    "        train['French'] = train['French'].fillna(0)\n",
    "        test['French'] = test['French'].fillna(0)\n",
    "        train['Spanish'] = train['Spanish'].fillna(0)\n",
    "        test['Spanish'] = test['Spanish'].fillna(0)\n",
    "        train['Chinese'] = train['Chinese'].fillna(0)\n",
    "        test['Chinese'] = test['Chinese'].fillna(0)\n",
    "        train['NLanguages'] = train['NLanguages'].fillna(0)\n",
    "        test['NLanguages'] = test['NLanguages'].fillna(0)\n",
    "    return train,test\n",
    "\n"
   ]
  },
  {
   "cell_type": "code",
   "execution_count": 170,
   "metadata": {},
   "outputs": [],
   "source": [
    "train, test = fill_languages(train,test,mean=True)"
   ]
  },
  {
   "attachments": {},
   "cell_type": "markdown",
   "metadata": {},
   "source": [
    "Fill unknown edu status columns (only 2 now)"
   ]
  },
  {
   "cell_type": "code",
   "execution_count": 171,
   "metadata": {},
   "outputs": [],
   "source": [
    "# Fill Edu_Finished, Edu_Ongoing, Unknown_Edu_Status as 0\n",
    "train['Edu_Finished'] = train['Edu_Finished'].fillna(0)\n",
    "test['Edu_Finished'] = test['Edu_Finished'].fillna(0)\n",
    "train['Edu_Ongoing'] = train['Edu_Ongoing'].fillna(0)\n",
    "test['Edu_Ongoing'] = test['Edu_Ongoing'].fillna(0)\n",
    "train['Unknown_Edu_Status'] = train['Unknown_Edu_Status'].fillna(1)\n",
    "test['Unknown_Edu_Status'] = test['Unknown_Edu_Status'].fillna(1)\n"
   ]
  },
  {
   "cell_type": "code",
   "execution_count": 172,
   "metadata": {},
   "outputs": [
    {
     "data": {
      "text/plain": [
       "user_id                  0\n",
       "industry                 0\n",
       "location                 0\n",
       "moved_after_2019         0\n",
       "StartAfter2019        2729\n",
       "companies_worked         0\n",
       "positions_worked         0\n",
       "days_worked              0\n",
       "max_days_worked          0\n",
       "min_days_worked          0\n",
       "avg_days_worked          0\n",
       "total_days_worked        0\n",
       "Business                 0\n",
       "Design                   0\n",
       "IT                       0\n",
       "Other                    0\n",
       "N_Skills                 0\n",
       "English                  0\n",
       "German                   0\n",
       "Turkish                  0\n",
       "French                   0\n",
       "Spanish                  0\n",
       "Chinese                  0\n",
       "NLanguages               0\n",
       "degree_edu               2\n",
       "field_edu                2\n",
       "Edu_Finished             0\n",
       "Edu_Ongoing              0\n",
       "Unknown_Edu_Status       0\n",
       "dtype: int64"
      ]
     },
     "execution_count": 172,
     "metadata": {},
     "output_type": "execute_result"
    }
   ],
   "source": [
    "test.isna().sum()"
   ]
  },
  {
   "attachments": {},
   "cell_type": "markdown",
   "metadata": {},
   "source": [
    "Fill degree and field ( only 2 nans)"
   ]
  },
  {
   "cell_type": "code",
   "execution_count": 173,
   "metadata": {},
   "outputs": [],
   "source": [
    "train['degree_edu'] = train['degree_edu'].fillna(0)\n",
    "test['degree_edu'] = test['degree_edu'].fillna(0)\n",
    "\n",
    "train['field_edu'] = train['field_edu'].fillna('Other')\n",
    "test['field_edu'] = test['field_edu'].fillna('Other')"
   ]
  },
  {
   "attachments": {},
   "cell_type": "markdown",
   "metadata": {},
   "source": [
    "### Location data - Ignore for now"
   ]
  },
  {
   "cell_type": "code",
   "execution_count": 174,
   "metadata": {},
   "outputs": [
    {
     "data": {
      "text/plain": [
       "' # Fix these rows\\n#\\xa0Replace all uppercase İ with normal I\\ntrain[\\'location\\'] = train[\\'location\\'].str.replace(\\'İ\\', \\'I\\')\\ntest[\\'location\\'] = test[\\'location\\'].str.replace(\\'İ\\', \\'I\\')\\ncity_names = [\\'Izmir\\', \\'Bursa\\', \\'Istanbul\\', \\'Ankara\\', \\'Eskisehir\\', \\'Kahramanmaras\\', \\'Kayseri\\', \"Manisa\", \"Antalya\", \\n              \"Tekirdag\", \"Adana\", \"Konya\", \"Kocaeli\", \"Ordu\", \"Gaziantep\", \"Kahramanmaraş\"]\\n\\nfor name in city_names:\\n    train.loc[train[\\'location\\'].str.contains(name), \\'location\\'] = name + \\', Turkey\\'\\n    test.loc[test[\\'location\\'].str.contains(name), \\'location\\'] = name + \\', Turkey\\'\\n\\n# Replace location rows with Kahraman Maras, Turkey with Kahramanmaraş, Turkey\\ntrain.loc[train[\\'location\\'].str.contains(\\'Kahraman Maras, Turkey\\'), \\'location\\'] = \\'Kahramanmaraş, Turkey\\'\\ntest.loc[test[\\'location\\'].str.contains(\\'Kahraman Maras, Turkey\\'), \\'location\\'] = \\'Kahramanmaraş, Turkey\\' '"
      ]
     },
     "execution_count": 174,
     "metadata": {},
     "output_type": "execute_result"
    }
   ],
   "source": [
    "\"\"\" # Fix these rows\n",
    "# Replace all uppercase İ with normal I\n",
    "train['location'] = train['location'].str.replace('İ', 'I')\n",
    "test['location'] = test['location'].str.replace('İ', 'I')\n",
    "city_names = ['Izmir', 'Bursa', 'Istanbul', 'Ankara', 'Eskisehir', 'Kahramanmaras', 'Kayseri', \"Manisa\", \"Antalya\", \n",
    "              \"Tekirdag\", \"Adana\", \"Konya\", \"Kocaeli\", \"Ordu\", \"Gaziantep\", \"Kahramanmaraş\"]\n",
    "\n",
    "for name in city_names:\n",
    "    train.loc[train['location'].str.contains(name), 'location'] = name + ', Turkey'\n",
    "    test.loc[test['location'].str.contains(name), 'location'] = name + ', Turkey'\n",
    "\n",
    "# Replace location rows with Kahraman Maras, Turkey with Kahramanmaraş, Turkey\n",
    "train.loc[train['location'].str.contains('Kahraman Maras, Turkey'), 'location'] = 'Kahramanmaraş, Turkey'\n",
    "test.loc[test['location'].str.contains('Kahraman Maras, Turkey'), 'location'] = 'Kahramanmaraş, Turkey' \"\"\""
   ]
  },
  {
   "cell_type": "code",
   "execution_count": 175,
   "metadata": {},
   "outputs": [
    {
     "data": {
      "text/plain": [
       "\" # Show location with most occurences\\ntrain['location'].value_counts() \""
      ]
     },
     "execution_count": 175,
     "metadata": {},
     "output_type": "execute_result"
    }
   ],
   "source": [
    "\"\"\" # Show location with most occurences\n",
    "train['location'].value_counts() \"\"\""
   ]
  },
  {
   "attachments": {},
   "cell_type": "markdown",
   "metadata": {},
   "source": [
    "Deal with location columns"
   ]
  },
  {
   "cell_type": "code",
   "execution_count": 176,
   "metadata": {},
   "outputs": [
    {
     "data": {
      "text/plain": [
       "\" # If location contains Turkey, set location to Turkey\\ntrain.loc[train['location'].str.contains('Turkey'), 'location'] = 'Turkey'\\ntest.loc[test['location'].str.contains('Turkey'), 'location'] = 'Turkey'\\n\\ntrain.loc[train['location'].str.contains('Germany'), 'location'] = 'Germany'\\ntest.loc[test['location'].str.contains('Germany'), 'location'] = 'Germany'\\n\\ntrain.loc[train['location'].str.contains('Netherlands'), 'location'] = 'Netherlands'\\ntest.loc[test['location'].str.contains('Netherlands'), 'location'] = 'Netherlands'\\n\\ntrain.loc[train['location'].str.contains('Pakistan'), 'location'] = 'Pakistan'\\ntest.loc[test['location'].str.contains('Pakistan'), 'location'] = 'Pakistan'\\n\\ntrain.loc[train['location'].str.contains('United Kingdom'), 'location'] = 'United Kingdom'\\ntest.loc[test['location'].str.contains('United Kingdom'), 'location'] = 'United Kingdom'\\n\\n# Rename other locations to other\\ntrain.loc[~train['location'].str.contains('Turkey|Germany|Netherlands|Pakistan|United Kingdom'), 'location'] = 'Other'\\ntest.loc[~test['location'].str.contains('Turkey|Germany|Netherlands|Pakistan|United Kingdom'), 'location'] = 'Other'\\n \""
      ]
     },
     "execution_count": 176,
     "metadata": {},
     "output_type": "execute_result"
    }
   ],
   "source": [
    "\"\"\" # If location contains Turkey, set location to Turkey\n",
    "train.loc[train['location'].str.contains('Turkey'), 'location'] = 'Turkey'\n",
    "test.loc[test['location'].str.contains('Turkey'), 'location'] = 'Turkey'\n",
    "\n",
    "train.loc[train['location'].str.contains('Germany'), 'location'] = 'Germany'\n",
    "test.loc[test['location'].str.contains('Germany'), 'location'] = 'Germany'\n",
    "\n",
    "train.loc[train['location'].str.contains('Netherlands'), 'location'] = 'Netherlands'\n",
    "test.loc[test['location'].str.contains('Netherlands'), 'location'] = 'Netherlands'\n",
    "\n",
    "train.loc[train['location'].str.contains('Pakistan'), 'location'] = 'Pakistan'\n",
    "test.loc[test['location'].str.contains('Pakistan'), 'location'] = 'Pakistan'\n",
    "\n",
    "train.loc[train['location'].str.contains('United Kingdom'), 'location'] = 'United Kingdom'\n",
    "test.loc[test['location'].str.contains('United Kingdom'), 'location'] = 'United Kingdom'\n",
    "\n",
    "# Rename other locations to other\n",
    "train.loc[~train['location'].str.contains('Turkey|Germany|Netherlands|Pakistan|United Kingdom'), 'location'] = 'Other'\n",
    "test.loc[~test['location'].str.contains('Turkey|Germany|Netherlands|Pakistan|United Kingdom'), 'location'] = 'Other'\n",
    " \"\"\""
   ]
  },
  {
   "cell_type": "code",
   "execution_count": 177,
   "metadata": {},
   "outputs": [
    {
     "data": {
      "text/plain": [
       "\" # Show top locations\\ntrain['location'].value_counts() \""
      ]
     },
     "execution_count": 177,
     "metadata": {},
     "output_type": "execute_result"
    }
   ],
   "source": [
    "\"\"\" # Show top locations\n",
    "train['location'].value_counts() \"\"\""
   ]
  },
  {
   "attachments": {},
   "cell_type": "markdown",
   "metadata": {},
   "source": [
    "### Start after 2019 column"
   ]
  },
  {
   "cell_type": "code",
   "execution_count": 178,
   "metadata": {},
   "outputs": [],
   "source": [
    "train.StartAfter2019.fillna(0, inplace=True)\n",
    "test.StartAfter2019.fillna(0, inplace=True)"
   ]
  },
  {
   "attachments": {},
   "cell_type": "markdown",
   "metadata": {},
   "source": [
    "## Check datatypes"
   ]
  },
  {
   "cell_type": "code",
   "execution_count": 179,
   "metadata": {},
   "outputs": [
    {
     "data": {
      "text/plain": [
       "user_id                 int64\n",
       "industry               object\n",
       "location               object\n",
       "moved_after_2019        int64\n",
       "StartAfter2019        float64\n",
       "companies_worked      float64\n",
       "positions_worked      float64\n",
       "days_worked           float64\n",
       "max_days_worked       float64\n",
       "min_days_worked       float64\n",
       "avg_days_worked       float64\n",
       "total_days_worked     float64\n",
       "Business              float64\n",
       "Design                float64\n",
       "IT                    float64\n",
       "Other                 float64\n",
       "N_Skills              float64\n",
       "English               float64\n",
       "German                float64\n",
       "Turkish               float64\n",
       "French                float64\n",
       "Spanish               float64\n",
       "Chinese               float64\n",
       "NLanguages            float64\n",
       "degree_edu            float64\n",
       "field_edu              object\n",
       "Edu_Finished          float64\n",
       "Edu_Ongoing           float64\n",
       "Unknown_Edu_Status    float64\n",
       "dtype: object"
      ]
     },
     "execution_count": 179,
     "metadata": {},
     "output_type": "execute_result"
    }
   ],
   "source": [
    "train.dtypes"
   ]
  },
  {
   "attachments": {},
   "cell_type": "markdown",
   "metadata": {},
   "source": [
    "## Remove users who entered work after 2019 as they all are marked as 0"
   ]
  },
  {
   "cell_type": "markdown",
   "metadata": {},
   "source": [
    "First inspect"
   ]
  },
  {
   "cell_type": "code",
   "execution_count": 180,
   "metadata": {},
   "outputs": [
    {
     "name": "stdout",
     "output_type": "stream",
     "text": [
      "(4077, 29)\n"
     ]
    },
    {
     "data": {
      "text/html": [
       "<div>\n",
       "<style scoped>\n",
       "    .dataframe tbody tr th:only-of-type {\n",
       "        vertical-align: middle;\n",
       "    }\n",
       "\n",
       "    .dataframe tbody tr th {\n",
       "        vertical-align: top;\n",
       "    }\n",
       "\n",
       "    .dataframe thead th {\n",
       "        text-align: right;\n",
       "    }\n",
       "</style>\n",
       "<table border=\"1\" class=\"dataframe\">\n",
       "  <thead>\n",
       "    <tr style=\"text-align: right;\">\n",
       "      <th></th>\n",
       "      <th>user_id</th>\n",
       "      <th>industry</th>\n",
       "      <th>location</th>\n",
       "      <th>moved_after_2019</th>\n",
       "      <th>StartAfter2019</th>\n",
       "      <th>companies_worked</th>\n",
       "      <th>positions_worked</th>\n",
       "      <th>days_worked</th>\n",
       "      <th>max_days_worked</th>\n",
       "      <th>min_days_worked</th>\n",
       "      <th>...</th>\n",
       "      <th>Turkish</th>\n",
       "      <th>French</th>\n",
       "      <th>Spanish</th>\n",
       "      <th>Chinese</th>\n",
       "      <th>NLanguages</th>\n",
       "      <th>degree_edu</th>\n",
       "      <th>field_edu</th>\n",
       "      <th>Edu_Finished</th>\n",
       "      <th>Edu_Ongoing</th>\n",
       "      <th>Unknown_Edu_Status</th>\n",
       "    </tr>\n",
       "  </thead>\n",
       "  <tbody>\n",
       "    <tr>\n",
       "      <th>5</th>\n",
       "      <td>47498</td>\n",
       "      <td>Computer Software</td>\n",
       "      <td>Ankara, Ankara, Turkey</td>\n",
       "      <td>1</td>\n",
       "      <td>1.0</td>\n",
       "      <td>1.0</td>\n",
       "      <td>1.0</td>\n",
       "      <td>-273.0</td>\n",
       "      <td>-273.0</td>\n",
       "      <td>-273.0</td>\n",
       "      <td>...</td>\n",
       "      <td>2.753424</td>\n",
       "      <td>0.079602</td>\n",
       "      <td>0.063092</td>\n",
       "      <td>0.007033</td>\n",
       "      <td>2.039081</td>\n",
       "      <td>2.0</td>\n",
       "      <td>Mathematics</td>\n",
       "      <td>1.0</td>\n",
       "      <td>0.0</td>\n",
       "      <td>0.0</td>\n",
       "    </tr>\n",
       "    <tr>\n",
       "      <th>6</th>\n",
       "      <td>13722</td>\n",
       "      <td>Mobile Games</td>\n",
       "      <td>Istanbul, Turkey</td>\n",
       "      <td>1</td>\n",
       "      <td>1.0</td>\n",
       "      <td>1.0</td>\n",
       "      <td>1.0</td>\n",
       "      <td>-212.0</td>\n",
       "      <td>-212.0</td>\n",
       "      <td>-212.0</td>\n",
       "      <td>...</td>\n",
       "      <td>0.000000</td>\n",
       "      <td>0.000000</td>\n",
       "      <td>0.000000</td>\n",
       "      <td>0.000000</td>\n",
       "      <td>3.000000</td>\n",
       "      <td>3.0</td>\n",
       "      <td>Engineering</td>\n",
       "      <td>1.0</td>\n",
       "      <td>0.0</td>\n",
       "      <td>0.0</td>\n",
       "    </tr>\n",
       "    <tr>\n",
       "      <th>12</th>\n",
       "      <td>33971</td>\n",
       "      <td>Computer Software</td>\n",
       "      <td>Istanbul, Istanbul, Turkey</td>\n",
       "      <td>1</td>\n",
       "      <td>1.0</td>\n",
       "      <td>1.0</td>\n",
       "      <td>1.0</td>\n",
       "      <td>-120.0</td>\n",
       "      <td>-120.0</td>\n",
       "      <td>-120.0</td>\n",
       "      <td>...</td>\n",
       "      <td>2.753424</td>\n",
       "      <td>0.079602</td>\n",
       "      <td>0.063092</td>\n",
       "      <td>0.007033</td>\n",
       "      <td>2.039081</td>\n",
       "      <td>2.0</td>\n",
       "      <td>Engineering</td>\n",
       "      <td>0.0</td>\n",
       "      <td>1.0</td>\n",
       "      <td>0.0</td>\n",
       "    </tr>\n",
       "    <tr>\n",
       "      <th>20</th>\n",
       "      <td>25534</td>\n",
       "      <td>Computer Software</td>\n",
       "      <td>Istanbul, Turkey</td>\n",
       "      <td>1</td>\n",
       "      <td>1.0</td>\n",
       "      <td>1.0</td>\n",
       "      <td>1.0</td>\n",
       "      <td>-31.0</td>\n",
       "      <td>-31.0</td>\n",
       "      <td>-31.0</td>\n",
       "      <td>...</td>\n",
       "      <td>2.753424</td>\n",
       "      <td>0.079602</td>\n",
       "      <td>0.063092</td>\n",
       "      <td>0.007033</td>\n",
       "      <td>2.039081</td>\n",
       "      <td>2.0</td>\n",
       "      <td>Other</td>\n",
       "      <td>1.0</td>\n",
       "      <td>0.0</td>\n",
       "      <td>0.0</td>\n",
       "    </tr>\n",
       "    <tr>\n",
       "      <th>22</th>\n",
       "      <td>472</td>\n",
       "      <td>Internet</td>\n",
       "      <td>Turkey</td>\n",
       "      <td>1</td>\n",
       "      <td>1.0</td>\n",
       "      <td>1.0</td>\n",
       "      <td>1.0</td>\n",
       "      <td>-120.0</td>\n",
       "      <td>-120.0</td>\n",
       "      <td>-120.0</td>\n",
       "      <td>...</td>\n",
       "      <td>2.753424</td>\n",
       "      <td>0.079602</td>\n",
       "      <td>0.063092</td>\n",
       "      <td>0.007033</td>\n",
       "      <td>2.039081</td>\n",
       "      <td>2.0</td>\n",
       "      <td>Engineering</td>\n",
       "      <td>1.0</td>\n",
       "      <td>0.0</td>\n",
       "      <td>0.0</td>\n",
       "    </tr>\n",
       "    <tr>\n",
       "      <th>...</th>\n",
       "      <td>...</td>\n",
       "      <td>...</td>\n",
       "      <td>...</td>\n",
       "      <td>...</td>\n",
       "      <td>...</td>\n",
       "      <td>...</td>\n",
       "      <td>...</td>\n",
       "      <td>...</td>\n",
       "      <td>...</td>\n",
       "      <td>...</td>\n",
       "      <td>...</td>\n",
       "      <td>...</td>\n",
       "      <td>...</td>\n",
       "      <td>...</td>\n",
       "      <td>...</td>\n",
       "      <td>...</td>\n",
       "      <td>...</td>\n",
       "      <td>...</td>\n",
       "      <td>...</td>\n",
       "      <td>...</td>\n",
       "      <td>...</td>\n",
       "    </tr>\n",
       "    <tr>\n",
       "      <th>52976</th>\n",
       "      <td>43924</td>\n",
       "      <td>Higher Education</td>\n",
       "      <td>İzmir, Turkey</td>\n",
       "      <td>1</td>\n",
       "      <td>1.0</td>\n",
       "      <td>1.0</td>\n",
       "      <td>1.0</td>\n",
       "      <td>-273.0</td>\n",
       "      <td>-273.0</td>\n",
       "      <td>-273.0</td>\n",
       "      <td>...</td>\n",
       "      <td>5.000000</td>\n",
       "      <td>0.000000</td>\n",
       "      <td>0.000000</td>\n",
       "      <td>0.000000</td>\n",
       "      <td>2.000000</td>\n",
       "      <td>2.0</td>\n",
       "      <td>Engineering</td>\n",
       "      <td>1.0</td>\n",
       "      <td>0.0</td>\n",
       "      <td>0.0</td>\n",
       "    </tr>\n",
       "    <tr>\n",
       "      <th>52981</th>\n",
       "      <td>23623</td>\n",
       "      <td>Computer Software</td>\n",
       "      <td>Istanbul, Turkey</td>\n",
       "      <td>1</td>\n",
       "      <td>1.0</td>\n",
       "      <td>1.0</td>\n",
       "      <td>1.0</td>\n",
       "      <td>-212.0</td>\n",
       "      <td>-212.0</td>\n",
       "      <td>-212.0</td>\n",
       "      <td>...</td>\n",
       "      <td>5.000000</td>\n",
       "      <td>0.000000</td>\n",
       "      <td>0.000000</td>\n",
       "      <td>0.000000</td>\n",
       "      <td>2.000000</td>\n",
       "      <td>2.0</td>\n",
       "      <td>Other</td>\n",
       "      <td>1.0</td>\n",
       "      <td>0.0</td>\n",
       "      <td>0.0</td>\n",
       "    </tr>\n",
       "    <tr>\n",
       "      <th>52990</th>\n",
       "      <td>22017</td>\n",
       "      <td>Banking</td>\n",
       "      <td>Istanbul, Turkey</td>\n",
       "      <td>1</td>\n",
       "      <td>1.0</td>\n",
       "      <td>1.0</td>\n",
       "      <td>1.0</td>\n",
       "      <td>-90.0</td>\n",
       "      <td>-90.0</td>\n",
       "      <td>-90.0</td>\n",
       "      <td>...</td>\n",
       "      <td>2.753424</td>\n",
       "      <td>0.079602</td>\n",
       "      <td>0.063092</td>\n",
       "      <td>0.007033</td>\n",
       "      <td>2.039081</td>\n",
       "      <td>2.0</td>\n",
       "      <td>Engineering</td>\n",
       "      <td>1.0</td>\n",
       "      <td>0.0</td>\n",
       "      <td>0.0</td>\n",
       "    </tr>\n",
       "    <tr>\n",
       "      <th>52992</th>\n",
       "      <td>48269</td>\n",
       "      <td>Computer Software</td>\n",
       "      <td>Ankara, Ankara, Turkey</td>\n",
       "      <td>1</td>\n",
       "      <td>1.0</td>\n",
       "      <td>1.0</td>\n",
       "      <td>1.0</td>\n",
       "      <td>-120.0</td>\n",
       "      <td>-120.0</td>\n",
       "      <td>-120.0</td>\n",
       "      <td>...</td>\n",
       "      <td>2.753424</td>\n",
       "      <td>0.079602</td>\n",
       "      <td>0.063092</td>\n",
       "      <td>0.007033</td>\n",
       "      <td>2.039081</td>\n",
       "      <td>2.0</td>\n",
       "      <td>Mathematics</td>\n",
       "      <td>1.0</td>\n",
       "      <td>0.0</td>\n",
       "      <td>0.0</td>\n",
       "    </tr>\n",
       "    <tr>\n",
       "      <th>53009</th>\n",
       "      <td>41192</td>\n",
       "      <td>Computer Software</td>\n",
       "      <td>Istanbul, Turkey</td>\n",
       "      <td>1</td>\n",
       "      <td>1.0</td>\n",
       "      <td>1.0</td>\n",
       "      <td>1.0</td>\n",
       "      <td>-181.0</td>\n",
       "      <td>-181.0</td>\n",
       "      <td>-181.0</td>\n",
       "      <td>...</td>\n",
       "      <td>2.753424</td>\n",
       "      <td>0.079602</td>\n",
       "      <td>0.063092</td>\n",
       "      <td>0.007033</td>\n",
       "      <td>2.039081</td>\n",
       "      <td>2.0</td>\n",
       "      <td>Engineering</td>\n",
       "      <td>0.0</td>\n",
       "      <td>1.0</td>\n",
       "      <td>0.0</td>\n",
       "    </tr>\n",
       "  </tbody>\n",
       "</table>\n",
       "<p>4077 rows × 29 columns</p>\n",
       "</div>"
      ],
      "text/plain": [
       "       user_id           industry                    location  \\\n",
       "5        47498  Computer Software      Ankara, Ankara, Turkey   \n",
       "6        13722       Mobile Games            Istanbul, Turkey   \n",
       "12       33971  Computer Software  Istanbul, Istanbul, Turkey   \n",
       "20       25534  Computer Software            Istanbul, Turkey   \n",
       "22         472           Internet                      Turkey   \n",
       "...        ...                ...                         ...   \n",
       "52976    43924   Higher Education               İzmir, Turkey   \n",
       "52981    23623  Computer Software            Istanbul, Turkey   \n",
       "52990    22017            Banking            Istanbul, Turkey   \n",
       "52992    48269  Computer Software      Ankara, Ankara, Turkey   \n",
       "53009    41192  Computer Software            Istanbul, Turkey   \n",
       "\n",
       "       moved_after_2019  StartAfter2019  companies_worked  positions_worked  \\\n",
       "5                     1             1.0               1.0               1.0   \n",
       "6                     1             1.0               1.0               1.0   \n",
       "12                    1             1.0               1.0               1.0   \n",
       "20                    1             1.0               1.0               1.0   \n",
       "22                    1             1.0               1.0               1.0   \n",
       "...                 ...             ...               ...               ...   \n",
       "52976                 1             1.0               1.0               1.0   \n",
       "52981                 1             1.0               1.0               1.0   \n",
       "52990                 1             1.0               1.0               1.0   \n",
       "52992                 1             1.0               1.0               1.0   \n",
       "53009                 1             1.0               1.0               1.0   \n",
       "\n",
       "       days_worked  max_days_worked  min_days_worked  ...   Turkish    French  \\\n",
       "5           -273.0           -273.0           -273.0  ...  2.753424  0.079602   \n",
       "6           -212.0           -212.0           -212.0  ...  0.000000  0.000000   \n",
       "12          -120.0           -120.0           -120.0  ...  2.753424  0.079602   \n",
       "20           -31.0            -31.0            -31.0  ...  2.753424  0.079602   \n",
       "22          -120.0           -120.0           -120.0  ...  2.753424  0.079602   \n",
       "...            ...              ...              ...  ...       ...       ...   \n",
       "52976       -273.0           -273.0           -273.0  ...  5.000000  0.000000   \n",
       "52981       -212.0           -212.0           -212.0  ...  5.000000  0.000000   \n",
       "52990        -90.0            -90.0            -90.0  ...  2.753424  0.079602   \n",
       "52992       -120.0           -120.0           -120.0  ...  2.753424  0.079602   \n",
       "53009       -181.0           -181.0           -181.0  ...  2.753424  0.079602   \n",
       "\n",
       "        Spanish   Chinese  NLanguages  degree_edu    field_edu  Edu_Finished  \\\n",
       "5      0.063092  0.007033    2.039081         2.0  Mathematics           1.0   \n",
       "6      0.000000  0.000000    3.000000         3.0  Engineering           1.0   \n",
       "12     0.063092  0.007033    2.039081         2.0  Engineering           0.0   \n",
       "20     0.063092  0.007033    2.039081         2.0        Other           1.0   \n",
       "22     0.063092  0.007033    2.039081         2.0  Engineering           1.0   \n",
       "...         ...       ...         ...         ...          ...           ...   \n",
       "52976  0.000000  0.000000    2.000000         2.0  Engineering           1.0   \n",
       "52981  0.000000  0.000000    2.000000         2.0        Other           1.0   \n",
       "52990  0.063092  0.007033    2.039081         2.0  Engineering           1.0   \n",
       "52992  0.063092  0.007033    2.039081         2.0  Mathematics           1.0   \n",
       "53009  0.063092  0.007033    2.039081         2.0  Engineering           0.0   \n",
       "\n",
       "       Edu_Ongoing  Unknown_Edu_Status  \n",
       "5              0.0                 0.0  \n",
       "6              0.0                 0.0  \n",
       "12             1.0                 0.0  \n",
       "20             0.0                 0.0  \n",
       "22             0.0                 0.0  \n",
       "...            ...                 ...  \n",
       "52976          0.0                 0.0  \n",
       "52981          0.0                 0.0  \n",
       "52990          0.0                 0.0  \n",
       "52992          0.0                 0.0  \n",
       "53009          1.0                 0.0  \n",
       "\n",
       "[4077 rows x 29 columns]"
      ]
     },
     "execution_count": 180,
     "metadata": {},
     "output_type": "execute_result"
    }
   ],
   "source": [
    "temp = train[train[\"StartAfter2019\"] ==1]\n",
    "#temp = temp[[\"moved_after_2019\", \"StartAfter2019\"]]\n",
    "print(temp.shape)\n",
    "temp[temp[\"moved_after_2019\"] == 1 ]"
   ]
  },
  {
   "cell_type": "code",
   "execution_count": 181,
   "metadata": {},
   "outputs": [
    {
     "name": "stdout",
     "output_type": "stream",
     "text": [
      "(0, 29)\n"
     ]
    },
    {
     "data": {
      "text/html": [
       "<div>\n",
       "<style scoped>\n",
       "    .dataframe tbody tr th:only-of-type {\n",
       "        vertical-align: middle;\n",
       "    }\n",
       "\n",
       "    .dataframe tbody tr th {\n",
       "        vertical-align: top;\n",
       "    }\n",
       "\n",
       "    .dataframe thead th {\n",
       "        text-align: right;\n",
       "    }\n",
       "</style>\n",
       "<table border=\"1\" class=\"dataframe\">\n",
       "  <thead>\n",
       "    <tr style=\"text-align: right;\">\n",
       "      <th></th>\n",
       "      <th>user_id</th>\n",
       "      <th>industry</th>\n",
       "      <th>location</th>\n",
       "      <th>moved_after_2019</th>\n",
       "      <th>StartAfter2019</th>\n",
       "      <th>companies_worked</th>\n",
       "      <th>positions_worked</th>\n",
       "      <th>days_worked</th>\n",
       "      <th>max_days_worked</th>\n",
       "      <th>min_days_worked</th>\n",
       "      <th>...</th>\n",
       "      <th>Turkish</th>\n",
       "      <th>French</th>\n",
       "      <th>Spanish</th>\n",
       "      <th>Chinese</th>\n",
       "      <th>NLanguages</th>\n",
       "      <th>degree_edu</th>\n",
       "      <th>field_edu</th>\n",
       "      <th>Edu_Finished</th>\n",
       "      <th>Edu_Ongoing</th>\n",
       "      <th>Unknown_Edu_Status</th>\n",
       "    </tr>\n",
       "  </thead>\n",
       "  <tbody>\n",
       "  </tbody>\n",
       "</table>\n",
       "<p>0 rows × 29 columns</p>\n",
       "</div>"
      ],
      "text/plain": [
       "Empty DataFrame\n",
       "Columns: [user_id, industry, location, moved_after_2019, StartAfter2019, companies_worked, positions_worked, days_worked, max_days_worked, min_days_worked, avg_days_worked, total_days_worked, Business, Design, IT, Other, N_Skills, English, German, Turkish, French, Spanish, Chinese, NLanguages, degree_edu, field_edu, Edu_Finished, Edu_Ongoing, Unknown_Edu_Status]\n",
       "Index: []\n",
       "\n",
       "[0 rows x 29 columns]"
      ]
     },
     "execution_count": 181,
     "metadata": {},
     "output_type": "execute_result"
    }
   ],
   "source": [
    "temp = test[test[\"StartAfter2019\"] ==1]\n",
    "#temp = temp[[\"moved_after_2019\", \"StartAfter2019\"]]\n",
    "print(temp.shape)\n",
    "temp[temp[\"moved_after_2019\"] == 1 ]"
   ]
  },
  {
   "attachments": {},
   "cell_type": "markdown",
   "metadata": {},
   "source": [
    "Drop entries starting after 0"
   ]
  },
  {
   "cell_type": "code",
   "execution_count": 182,
   "metadata": {},
   "outputs": [],
   "source": [
    "train = train.loc[train[\"StartAfter2019\"]  == 0,:]"
   ]
  },
  {
   "attachments": {},
   "cell_type": "markdown",
   "metadata": {},
   "source": [
    "## Dropping Columns"
   ]
  },
  {
   "attachments": {},
   "cell_type": "markdown",
   "metadata": {},
   "source": [
    "Drop start after 2019 column"
   ]
  },
  {
   "cell_type": "code",
   "execution_count": 183,
   "metadata": {},
   "outputs": [],
   "source": [
    "train.drop(\"StartAfter2019\", axis=1, inplace=True)\n",
    "test.drop(\"StartAfter2019\", axis=1, inplace=True)"
   ]
  },
  {
   "attachments": {},
   "cell_type": "markdown",
   "metadata": {},
   "source": [
    "#### Drop Industry for now as it has too many unique values"
   ]
  },
  {
   "cell_type": "code",
   "execution_count": 184,
   "metadata": {},
   "outputs": [],
   "source": [
    "# Drop industry column\n",
    "train = train.drop('industry', axis=1)\n",
    "test = test.drop('industry', axis=1)"
   ]
  },
  {
   "attachments": {},
   "cell_type": "markdown",
   "metadata": {},
   "source": [
    "Drop location as well"
   ]
  },
  {
   "cell_type": "code",
   "execution_count": 185,
   "metadata": {},
   "outputs": [],
   "source": [
    "train = train.drop('location', axis=1)\n",
    "test = test.drop('location', axis=1)"
   ]
  },
  {
   "cell_type": "code",
   "execution_count": 186,
   "metadata": {},
   "outputs": [],
   "source": [
    "# Save the data\n",
    "train.to_csv(\"PreparedData/train.csv\", index=False)\n",
    "test.to_csv(\"PreparedData/test.csv\", index=False)"
   ]
  }
 ],
 "metadata": {
  "kernelspec": {
   "display_name": "base",
   "language": "python",
   "name": "python3"
  },
  "language_info": {
   "codemirror_mode": {
    "name": "ipython",
    "version": 3
   },
   "file_extension": ".py",
   "mimetype": "text/x-python",
   "name": "python",
   "nbconvert_exporter": "python",
   "pygments_lexer": "ipython3",
   "version": "3.8.16"
  },
  "orig_nbformat": 4,
  "vscode": {
   "interpreter": {
    "hash": "ad2bdc8ecc057115af97d19610ffacc2b4e99fae6737bb82f5d7fb13d2f2c186"
   }
  }
 },
 "nbformat": 4,
 "nbformat_minor": 2
}
