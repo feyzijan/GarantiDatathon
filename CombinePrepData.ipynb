{
 "cells": [
  {
   "cell_type": "code",
   "execution_count": 9,
   "metadata": {},
   "outputs": [],
   "source": [
    "import os\n",
    "import pandas as pd"
   ]
  },
  {
   "cell_type": "code",
   "execution_count": 10,
   "metadata": {},
   "outputs": [],
   "source": [
    "path = os.path.join('OriginalData', 'train_users.csv')\n",
    "train = pd.read_csv(path)\n",
    "\n",
    "path = os.path.join('OriginalData', 'test_users.csv')\n",
    "test = pd.read_csv(path)"
   ]
  },
  {
   "cell_type": "code",
   "execution_count": 11,
   "metadata": {},
   "outputs": [],
   "source": [
    "# Set this to 2 otherwise they will be nan and i may accidentally fill it\n",
    "test[\"moved_after_2019\"] = 2"
   ]
  },
  {
   "attachments": {},
   "cell_type": "markdown",
   "metadata": {},
   "source": [
    "## Add in the data"
   ]
  },
  {
   "attachments": {},
   "cell_type": "markdown",
   "metadata": {},
   "source": [
    "Work experiences"
   ]
  },
  {
   "cell_type": "code",
   "execution_count": 12,
   "metadata": {},
   "outputs": [],
   "source": [
    "path = os.path.join('PreparedData', 'work_experiences.csv')\n",
    "data = pd.read_csv(path)\n",
    "\n",
    "train = pd.merge(train, data, how='left', on='user_id')\n",
    "test = pd.merge(test, data, how='left', on='user_id')"
   ]
  },
  {
   "cell_type": "markdown",
   "metadata": {},
   "source": [
    "Skills"
   ]
  },
  {
   "cell_type": "code",
   "execution_count": 13,
   "metadata": {},
   "outputs": [],
   "source": [
    "path = os.path.join('PreparedData', 'skills.csv')\n",
    "data = pd.read_csv(path)\n",
    "\n",
    "train = pd.merge(train, data, how='left', on='user_id')\n",
    "test = pd.merge(test, data, how='left', on='user_id')"
   ]
  },
  {
   "attachments": {},
   "cell_type": "markdown",
   "metadata": {},
   "source": [
    "Language"
   ]
  },
  {
   "cell_type": "code",
   "execution_count": 14,
   "metadata": {},
   "outputs": [],
   "source": [
    "path = os.path.join('PreparedData', 'languages.csv')\n",
    "data = pd.read_csv(path)\n",
    "\n",
    "train = pd.merge(train, data, how='left', on='user_id')\n",
    "test = pd.merge(test, data, how='left', on='user_id')"
   ]
  },
  {
   "attachments": {},
   "cell_type": "markdown",
   "metadata": {},
   "source": [
    "Education"
   ]
  },
  {
   "cell_type": "code",
   "execution_count": 15,
   "metadata": {},
   "outputs": [],
   "source": [
    "path = os.path.join('PreparedData', 'education.csv')\n",
    "data = pd.read_csv(path)\n",
    "\n",
    "train = pd.merge(train, data, how='left', on='user_id')\n",
    "test = pd.merge(test, data, how='left', on='user_id')"
   ]
  },
  {
   "attachments": {},
   "cell_type": "markdown",
   "metadata": {},
   "source": [
    "## Deal with Nan Values"
   ]
  },
  {
   "cell_type": "code",
   "execution_count": 16,
   "metadata": {},
   "outputs": [
    {
     "data": {
      "text/plain": [
       "user_id                  0\n",
       "industry                72\n",
       "location                 1\n",
       "moved_after_2019         0\n",
       "StartAfter2019        6466\n",
       "companies_worked      6466\n",
       "positions_worked      6466\n",
       "days_worked           6466\n",
       "max_days_worked       6466\n",
       "min_days_worked       6466\n",
       "avg_days_worked       6466\n",
       "total_days_worked     6466\n",
       "Business              3107\n",
       "Design                3107\n",
       "IT                    3107\n",
       "Other                 3107\n",
       "N_Skills              3107\n",
       "English              23158\n",
       "German               23158\n",
       "Turkish              23158\n",
       "French               23158\n",
       "Spanish              23158\n",
       "Chinese              23158\n",
       "NLanguages           23158\n",
       "start_date_edu           1\n",
       "end_date_edu             1\n",
       "degree_edu               1\n",
       "field_edu                1\n",
       "dtype: int64"
      ]
     },
     "execution_count": 16,
     "metadata": {},
     "output_type": "execute_result"
    }
   ],
   "source": [
    "train.isnull().sum()"
   ]
  },
  {
   "cell_type": "code",
   "execution_count": 17,
   "metadata": {},
   "outputs": [
    {
     "data": {
      "text/html": [
       "<div>\n",
       "<style scoped>\n",
       "    .dataframe tbody tr th:only-of-type {\n",
       "        vertical-align: middle;\n",
       "    }\n",
       "\n",
       "    .dataframe tbody tr th {\n",
       "        vertical-align: top;\n",
       "    }\n",
       "\n",
       "    .dataframe thead th {\n",
       "        text-align: right;\n",
       "    }\n",
       "</style>\n",
       "<table border=\"1\" class=\"dataframe\">\n",
       "  <thead>\n",
       "    <tr style=\"text-align: right;\">\n",
       "      <th></th>\n",
       "      <th>user_id</th>\n",
       "      <th>industry</th>\n",
       "      <th>location</th>\n",
       "      <th>moved_after_2019</th>\n",
       "      <th>StartAfter2019</th>\n",
       "      <th>companies_worked</th>\n",
       "      <th>positions_worked</th>\n",
       "      <th>days_worked</th>\n",
       "      <th>max_days_worked</th>\n",
       "      <th>min_days_worked</th>\n",
       "      <th>...</th>\n",
       "      <th>German</th>\n",
       "      <th>Turkish</th>\n",
       "      <th>French</th>\n",
       "      <th>Spanish</th>\n",
       "      <th>Chinese</th>\n",
       "      <th>NLanguages</th>\n",
       "      <th>start_date_edu</th>\n",
       "      <th>end_date_edu</th>\n",
       "      <th>degree_edu</th>\n",
       "      <th>field_edu</th>\n",
       "    </tr>\n",
       "  </thead>\n",
       "  <tbody>\n",
       "    <tr>\n",
       "      <th>11</th>\n",
       "      <td>29026</td>\n",
       "      <td>Computer Software</td>\n",
       "      <td>Istanbul, Turkey</td>\n",
       "      <td>0</td>\n",
       "      <td>NaN</td>\n",
       "      <td>NaN</td>\n",
       "      <td>NaN</td>\n",
       "      <td>NaN</td>\n",
       "      <td>NaN</td>\n",
       "      <td>NaN</td>\n",
       "      <td>...</td>\n",
       "      <td>0.0</td>\n",
       "      <td>5.0</td>\n",
       "      <td>2.0</td>\n",
       "      <td>0.0</td>\n",
       "      <td>0.0</td>\n",
       "      <td>2.0</td>\n",
       "      <td>2017-01</td>\n",
       "      <td>2025-07</td>\n",
       "      <td>2.0</td>\n",
       "      <td>Other</td>\n",
       "    </tr>\n",
       "    <tr>\n",
       "      <th>13</th>\n",
       "      <td>45820</td>\n",
       "      <td>Computer Software</td>\n",
       "      <td>Ankara, Turkey</td>\n",
       "      <td>0</td>\n",
       "      <td>NaN</td>\n",
       "      <td>NaN</td>\n",
       "      <td>NaN</td>\n",
       "      <td>NaN</td>\n",
       "      <td>NaN</td>\n",
       "      <td>NaN</td>\n",
       "      <td>...</td>\n",
       "      <td>0.0</td>\n",
       "      <td>0.0</td>\n",
       "      <td>0.0</td>\n",
       "      <td>0.0</td>\n",
       "      <td>0.0</td>\n",
       "      <td>2.0</td>\n",
       "      <td>2016-01</td>\n",
       "      <td>2022-08</td>\n",
       "      <td>2.0</td>\n",
       "      <td>Engineering</td>\n",
       "    </tr>\n",
       "    <tr>\n",
       "      <th>28</th>\n",
       "      <td>16871</td>\n",
       "      <td>Computer Software</td>\n",
       "      <td>Üsküdar, Istanbul, Turkey</td>\n",
       "      <td>0</td>\n",
       "      <td>NaN</td>\n",
       "      <td>NaN</td>\n",
       "      <td>NaN</td>\n",
       "      <td>NaN</td>\n",
       "      <td>NaN</td>\n",
       "      <td>NaN</td>\n",
       "      <td>...</td>\n",
       "      <td>0.0</td>\n",
       "      <td>5.0</td>\n",
       "      <td>0.0</td>\n",
       "      <td>0.0</td>\n",
       "      <td>0.0</td>\n",
       "      <td>2.0</td>\n",
       "      <td>nan-</td>\n",
       "      <td>nan-</td>\n",
       "      <td>2.0</td>\n",
       "      <td>Engineering</td>\n",
       "    </tr>\n",
       "    <tr>\n",
       "      <th>30</th>\n",
       "      <td>22581</td>\n",
       "      <td>Computer Software</td>\n",
       "      <td>Amasya, Turkey</td>\n",
       "      <td>0</td>\n",
       "      <td>NaN</td>\n",
       "      <td>NaN</td>\n",
       "      <td>NaN</td>\n",
       "      <td>NaN</td>\n",
       "      <td>NaN</td>\n",
       "      <td>NaN</td>\n",
       "      <td>...</td>\n",
       "      <td>NaN</td>\n",
       "      <td>NaN</td>\n",
       "      <td>NaN</td>\n",
       "      <td>NaN</td>\n",
       "      <td>NaN</td>\n",
       "      <td>NaN</td>\n",
       "      <td>2017-09</td>\n",
       "      <td>2021-10</td>\n",
       "      <td>2.0</td>\n",
       "      <td>Other</td>\n",
       "    </tr>\n",
       "    <tr>\n",
       "      <th>33</th>\n",
       "      <td>53525</td>\n",
       "      <td>Program Development</td>\n",
       "      <td>Samsun, Turkey</td>\n",
       "      <td>0</td>\n",
       "      <td>NaN</td>\n",
       "      <td>NaN</td>\n",
       "      <td>NaN</td>\n",
       "      <td>NaN</td>\n",
       "      <td>NaN</td>\n",
       "      <td>NaN</td>\n",
       "      <td>...</td>\n",
       "      <td>NaN</td>\n",
       "      <td>NaN</td>\n",
       "      <td>NaN</td>\n",
       "      <td>NaN</td>\n",
       "      <td>NaN</td>\n",
       "      <td>NaN</td>\n",
       "      <td>nan-</td>\n",
       "      <td>nan-</td>\n",
       "      <td>2.0</td>\n",
       "      <td>Other</td>\n",
       "    </tr>\n",
       "    <tr>\n",
       "      <th>...</th>\n",
       "      <td>...</td>\n",
       "      <td>...</td>\n",
       "      <td>...</td>\n",
       "      <td>...</td>\n",
       "      <td>...</td>\n",
       "      <td>...</td>\n",
       "      <td>...</td>\n",
       "      <td>...</td>\n",
       "      <td>...</td>\n",
       "      <td>...</td>\n",
       "      <td>...</td>\n",
       "      <td>...</td>\n",
       "      <td>...</td>\n",
       "      <td>...</td>\n",
       "      <td>...</td>\n",
       "      <td>...</td>\n",
       "      <td>...</td>\n",
       "      <td>...</td>\n",
       "      <td>...</td>\n",
       "      <td>...</td>\n",
       "      <td>...</td>\n",
       "    </tr>\n",
       "    <tr>\n",
       "      <th>53004</th>\n",
       "      <td>1578</td>\n",
       "      <td>Computer Software</td>\n",
       "      <td>Eyüp, Istanbul, Turkey</td>\n",
       "      <td>0</td>\n",
       "      <td>NaN</td>\n",
       "      <td>NaN</td>\n",
       "      <td>NaN</td>\n",
       "      <td>NaN</td>\n",
       "      <td>NaN</td>\n",
       "      <td>NaN</td>\n",
       "      <td>...</td>\n",
       "      <td>NaN</td>\n",
       "      <td>NaN</td>\n",
       "      <td>NaN</td>\n",
       "      <td>NaN</td>\n",
       "      <td>NaN</td>\n",
       "      <td>NaN</td>\n",
       "      <td>nan-</td>\n",
       "      <td>nan-</td>\n",
       "      <td>2.0</td>\n",
       "      <td>Engineering</td>\n",
       "    </tr>\n",
       "    <tr>\n",
       "      <th>53008</th>\n",
       "      <td>13329</td>\n",
       "      <td>Mining &amp; Metals</td>\n",
       "      <td>Istanbul, Istanbul, Turkey</td>\n",
       "      <td>0</td>\n",
       "      <td>NaN</td>\n",
       "      <td>NaN</td>\n",
       "      <td>NaN</td>\n",
       "      <td>NaN</td>\n",
       "      <td>NaN</td>\n",
       "      <td>NaN</td>\n",
       "      <td>...</td>\n",
       "      <td>NaN</td>\n",
       "      <td>NaN</td>\n",
       "      <td>NaN</td>\n",
       "      <td>NaN</td>\n",
       "      <td>NaN</td>\n",
       "      <td>NaN</td>\n",
       "      <td>nan-</td>\n",
       "      <td>nan-</td>\n",
       "      <td>2.0</td>\n",
       "      <td>Engineering</td>\n",
       "    </tr>\n",
       "    <tr>\n",
       "      <th>53010</th>\n",
       "      <td>47718</td>\n",
       "      <td>Information Technology and Services</td>\n",
       "      <td>Ankara, Turkey</td>\n",
       "      <td>0</td>\n",
       "      <td>NaN</td>\n",
       "      <td>NaN</td>\n",
       "      <td>NaN</td>\n",
       "      <td>NaN</td>\n",
       "      <td>NaN</td>\n",
       "      <td>NaN</td>\n",
       "      <td>...</td>\n",
       "      <td>0.0</td>\n",
       "      <td>0.0</td>\n",
       "      <td>0.0</td>\n",
       "      <td>0.0</td>\n",
       "      <td>0.0</td>\n",
       "      <td>1.0</td>\n",
       "      <td>nan-</td>\n",
       "      <td>nan-</td>\n",
       "      <td>2.0</td>\n",
       "      <td>Business</td>\n",
       "    </tr>\n",
       "    <tr>\n",
       "      <th>53013</th>\n",
       "      <td>20367</td>\n",
       "      <td>Computer Software</td>\n",
       "      <td>Istanbul, Turkey</td>\n",
       "      <td>0</td>\n",
       "      <td>NaN</td>\n",
       "      <td>NaN</td>\n",
       "      <td>NaN</td>\n",
       "      <td>NaN</td>\n",
       "      <td>NaN</td>\n",
       "      <td>NaN</td>\n",
       "      <td>...</td>\n",
       "      <td>NaN</td>\n",
       "      <td>NaN</td>\n",
       "      <td>NaN</td>\n",
       "      <td>NaN</td>\n",
       "      <td>NaN</td>\n",
       "      <td>NaN</td>\n",
       "      <td>nan-</td>\n",
       "      <td>nan-</td>\n",
       "      <td>3.0</td>\n",
       "      <td>Other</td>\n",
       "    </tr>\n",
       "    <tr>\n",
       "      <th>53018</th>\n",
       "      <td>248</td>\n",
       "      <td>Information Technology and Services</td>\n",
       "      <td>Istanbul, Turkey</td>\n",
       "      <td>0</td>\n",
       "      <td>NaN</td>\n",
       "      <td>NaN</td>\n",
       "      <td>NaN</td>\n",
       "      <td>NaN</td>\n",
       "      <td>NaN</td>\n",
       "      <td>NaN</td>\n",
       "      <td>...</td>\n",
       "      <td>0.0</td>\n",
       "      <td>5.0</td>\n",
       "      <td>0.0</td>\n",
       "      <td>0.0</td>\n",
       "      <td>0.0</td>\n",
       "      <td>6.0</td>\n",
       "      <td>nan-</td>\n",
       "      <td>nan-</td>\n",
       "      <td>2.0</td>\n",
       "      <td>Other</td>\n",
       "    </tr>\n",
       "  </tbody>\n",
       "</table>\n",
       "<p>6466 rows × 28 columns</p>\n",
       "</div>"
      ],
      "text/plain": [
       "       user_id                             industry  \\\n",
       "11       29026                    Computer Software   \n",
       "13       45820                    Computer Software   \n",
       "28       16871                    Computer Software   \n",
       "30       22581                    Computer Software   \n",
       "33       53525                  Program Development   \n",
       "...        ...                                  ...   \n",
       "53004     1578                    Computer Software   \n",
       "53008    13329                      Mining & Metals   \n",
       "53010    47718  Information Technology and Services   \n",
       "53013    20367                    Computer Software   \n",
       "53018      248  Information Technology and Services   \n",
       "\n",
       "                         location  moved_after_2019  StartAfter2019  \\\n",
       "11               Istanbul, Turkey                 0             NaN   \n",
       "13                 Ankara, Turkey                 0             NaN   \n",
       "28      Üsküdar, Istanbul, Turkey                 0             NaN   \n",
       "30                 Amasya, Turkey                 0             NaN   \n",
       "33                 Samsun, Turkey                 0             NaN   \n",
       "...                           ...               ...             ...   \n",
       "53004      Eyüp, Istanbul, Turkey                 0             NaN   \n",
       "53008  Istanbul, Istanbul, Turkey                 0             NaN   \n",
       "53010              Ankara, Turkey                 0             NaN   \n",
       "53013            Istanbul, Turkey                 0             NaN   \n",
       "53018            Istanbul, Turkey                 0             NaN   \n",
       "\n",
       "       companies_worked  positions_worked  days_worked  max_days_worked  \\\n",
       "11                  NaN               NaN          NaN              NaN   \n",
       "13                  NaN               NaN          NaN              NaN   \n",
       "28                  NaN               NaN          NaN              NaN   \n",
       "30                  NaN               NaN          NaN              NaN   \n",
       "33                  NaN               NaN          NaN              NaN   \n",
       "...                 ...               ...          ...              ...   \n",
       "53004               NaN               NaN          NaN              NaN   \n",
       "53008               NaN               NaN          NaN              NaN   \n",
       "53010               NaN               NaN          NaN              NaN   \n",
       "53013               NaN               NaN          NaN              NaN   \n",
       "53018               NaN               NaN          NaN              NaN   \n",
       "\n",
       "       min_days_worked  ...  German  Turkish  French  Spanish  Chinese  \\\n",
       "11                 NaN  ...     0.0      5.0     2.0      0.0      0.0   \n",
       "13                 NaN  ...     0.0      0.0     0.0      0.0      0.0   \n",
       "28                 NaN  ...     0.0      5.0     0.0      0.0      0.0   \n",
       "30                 NaN  ...     NaN      NaN     NaN      NaN      NaN   \n",
       "33                 NaN  ...     NaN      NaN     NaN      NaN      NaN   \n",
       "...                ...  ...     ...      ...     ...      ...      ...   \n",
       "53004              NaN  ...     NaN      NaN     NaN      NaN      NaN   \n",
       "53008              NaN  ...     NaN      NaN     NaN      NaN      NaN   \n",
       "53010              NaN  ...     0.0      0.0     0.0      0.0      0.0   \n",
       "53013              NaN  ...     NaN      NaN     NaN      NaN      NaN   \n",
       "53018              NaN  ...     0.0      5.0     0.0      0.0      0.0   \n",
       "\n",
       "       NLanguages  start_date_edu  end_date_edu  degree_edu    field_edu  \n",
       "11            2.0         2017-01       2025-07         2.0        Other  \n",
       "13            2.0         2016-01       2022-08         2.0  Engineering  \n",
       "28            2.0            nan-          nan-         2.0  Engineering  \n",
       "30            NaN         2017-09       2021-10         2.0        Other  \n",
       "33            NaN            nan-          nan-         2.0        Other  \n",
       "...           ...             ...           ...         ...          ...  \n",
       "53004         NaN            nan-          nan-         2.0  Engineering  \n",
       "53008         NaN            nan-          nan-         2.0  Engineering  \n",
       "53010         1.0            nan-          nan-         2.0     Business  \n",
       "53013         NaN            nan-          nan-         3.0        Other  \n",
       "53018         6.0            nan-          nan-         2.0        Other  \n",
       "\n",
       "[6466 rows x 28 columns]"
      ]
     },
     "execution_count": 17,
     "metadata": {},
     "output_type": "execute_result"
    }
   ],
   "source": [
    "train[train[\"StartAfter2019\"].isna()]"
   ]
  },
  {
   "cell_type": "code",
   "execution_count": null,
   "metadata": {},
   "outputs": [],
   "source": []
  },
  {
   "cell_type": "code",
   "execution_count": null,
   "metadata": {},
   "outputs": [],
   "source": []
  },
  {
   "cell_type": "code",
   "execution_count": null,
   "metadata": {},
   "outputs": [],
   "source": []
  },
  {
   "cell_type": "code",
   "execution_count": 123,
   "metadata": {},
   "outputs": [
    {
     "data": {
      "text/plain": [
       "user_id                0\n",
       "industry              16\n",
       "location               0\n",
       "moved_after_2019       0\n",
       "StartAfter2019      2729\n",
       "companies_worked    2729\n",
       "country             4649\n",
       "max_duration        2729\n",
       "Business             765\n",
       "Design               765\n",
       "IT                   765\n",
       "Other                765\n",
       "N_Skills             765\n",
       "English             5826\n",
       "German              5826\n",
       "Turkish             5826\n",
       "French              5826\n",
       "Spanish             5826\n",
       "Chinese             5826\n",
       "NLanguages          5826\n",
       "start_date_edu         2\n",
       "end_date_edu           2\n",
       "degree_edu             2\n",
       "field_edu              2\n",
       "dtype: int64"
      ]
     },
     "execution_count": 123,
     "metadata": {},
     "output_type": "execute_result"
    }
   ],
   "source": [
    "test.isnull().sum()"
   ]
  },
  {
   "attachments": {},
   "cell_type": "markdown",
   "metadata": {},
   "source": [
    "Fill in industry and location as \"Other\""
   ]
  },
  {
   "cell_type": "code",
   "execution_count": 124,
   "metadata": {},
   "outputs": [],
   "source": [
    "train['industry'] = train['industry'].fillna('Other')\n",
    "test['industry'] = test['industry'].fillna('Other')\n",
    "\n",
    "train['location'] = train['location'].fillna('Other')\n",
    "test['location'] = test['location'].fillna('Other')"
   ]
  },
  {
   "attachments": {},
   "cell_type": "markdown",
   "metadata": {},
   "source": [
    "Fill in companies worked as 2\n",
    "-   Note: Later change this to 0,1,2,3,.. etc to see how model works"
   ]
  },
  {
   "cell_type": "code",
   "execution_count": 125,
   "metadata": {},
   "outputs": [],
   "source": [
    "train['companies_worked'] = train['companies_worked'].fillna(2)\n",
    "test['companies_worked'] = test['companies_worked'].fillna(2)"
   ]
  },
  {
   "attachments": {},
   "cell_type": "markdown",
   "metadata": {},
   "source": [
    "Fill max duration as 0 days\n",
    "-   Maybe try this with mean, etc"
   ]
  },
  {
   "cell_type": "code",
   "execution_count": 126,
   "metadata": {},
   "outputs": [],
   "source": [
    "train['max_duration'] = train['max_duration'].fillna(0)\n",
    "test['max_duration'] = test['max_duration'].fillna(0)"
   ]
  },
  {
   "cell_type": "markdown",
   "metadata": {},
   "source": [
    "Fill nan skills with the mean for everyone"
   ]
  },
  {
   "cell_type": "code",
   "execution_count": 127,
   "metadata": {},
   "outputs": [
    {
     "data": {
      "text/plain": [
       "6.087413848373137"
      ]
     },
     "execution_count": 127,
     "metadata": {},
     "output_type": "execute_result"
    }
   ],
   "source": [
    "train[\"IT\"].mean()"
   ]
  },
  {
   "cell_type": "code",
   "execution_count": 128,
   "metadata": {},
   "outputs": [
    {
     "data": {
      "text/plain": [
       "user_id               int64\n",
       "industry             object\n",
       "location             object\n",
       "moved_after_2019      int64\n",
       "StartAfter2019      float64\n",
       "companies_worked    float64\n",
       "country              object\n",
       "max_duration        float64\n",
       "Business            float64\n",
       "Design              float64\n",
       "IT                  float64\n",
       "Other               float64\n",
       "N_Skills            float64\n",
       "English             float64\n",
       "German              float64\n",
       "Turkish             float64\n",
       "French              float64\n",
       "Spanish             float64\n",
       "Chinese             float64\n",
       "NLanguages          float64\n",
       "start_date_edu       object\n",
       "end_date_edu         object\n",
       "degree_edu          float64\n",
       "field_edu            object\n",
       "dtype: object"
      ]
     },
     "execution_count": 128,
     "metadata": {},
     "output_type": "execute_result"
    }
   ],
   "source": [
    "train.dtypes"
   ]
  },
  {
   "cell_type": "code",
   "execution_count": 129,
   "metadata": {},
   "outputs": [],
   "source": [
    "# Fill counts with 0 for NaNs\n",
    "train['IT'] = train['IT'].fillna(train['IT'].mean()).astype(int)\n",
    "train['Business'] = train['Business'].fillna(train['Business'].mean()).astype(int)\n",
    "train['Design'] = train['Design'].fillna(train['Design'].mean()).astype(int)\n",
    "train['Other'] = train['Other'].fillna(train['Other'].mean()).astype(int)\n",
    "\n",
    "\n",
    "# Do the same for the test dataframe\n",
    "test['IT'] = test['IT'].fillna(train['IT'].mean()).astype(int)\n",
    "test['Business'] = test['Business'].fillna(train['Business'].mean()).astype(int)\n",
    "test['Design'] = test['Design'].fillna(train['Design'].mean()).astype(int)\n",
    "test['Other'] = test['Other'].fillna(train['Other'].mean()).astype(int)\n",
    "\n",
    "# Hence Compute N_skills as the sum of IT, Business and Design\n",
    "train['N_Skills'] = train['IT'] + train['Business'] + train['Design'] + train['Other']\n",
    "test['N_Skills'] = test['IT'] + test['Business'] + test['Design'] + test['Other']"
   ]
  },
  {
   "attachments": {},
   "cell_type": "markdown",
   "metadata": {},
   "source": [
    "Fill languages with ~0"
   ]
  },
  {
   "cell_type": "code",
   "execution_count": 130,
   "metadata": {},
   "outputs": [],
   "source": [
    "# Fillna as 0 for language columns\n",
    "train['Turkish'] = train['Turkish'].fillna(5)\n",
    "test['Turkish'] = test['Turkish'].fillna(4)\n",
    "\n",
    "train['English'] = train['English'].fillna(2)\n",
    "test['English'] = test['English'].fillna(2)\n",
    "\n",
    "train['German'] = train['German'].fillna(0)\n",
    "test['German'] = test['German'].fillna(0)\n",
    "\n",
    "train['French'] = train['French'].fillna(0)\n",
    "test['French'] = test['French'].fillna(0)\n",
    "\n",
    "train['Spanish'] = train['Spanish'].fillna(0)\n",
    "test['Spanish'] = test['Spanish'].fillna(0)\n",
    "\n",
    "train['Chinese'] = train['Chinese'].fillna(0)\n",
    "test['Chinese'] = test['Chinese'].fillna(0)\n"
   ]
  },
  {
   "attachments": {},
   "cell_type": "markdown",
   "metadata": {},
   "source": [
    "Fill N_languages with mean"
   ]
  },
  {
   "cell_type": "code",
   "execution_count": 131,
   "metadata": {},
   "outputs": [],
   "source": [
    "train['NLanguages'] = train['NLanguages'].fillna(train['NLanguages'].mean()).astype(int)\n",
    "test['NLanguages'] = test['NLanguages'].fillna(train['NLanguages'].mean()).astype(int)"
   ]
  },
  {
   "attachments": {},
   "cell_type": "markdown",
   "metadata": {},
   "source": [
    "Fill Education level with bachelor"
   ]
  },
  {
   "cell_type": "code",
   "execution_count": 132,
   "metadata": {},
   "outputs": [],
   "source": [
    "# Fill degree_edu with 0 for NaNs\n",
    "train['degree_edu'] = train['degree_edu'].fillna(0)\n",
    "test['degree_edu'] = test['degree_edu'].fillna(0)\n",
    "\n",
    "# Fill field_edu as Other\n",
    "train['field_edu'] = train['field_edu'].fillna('Other')\n",
    "test['field_edu'] = test['field_edu'].fillna('Other')\n",
    "\n",
    "# Fill start_date_edu and end_date_edu as both 2023-01-01\n",
    "train['start_date_edu'] = train['start_date_edu'].fillna('2023-01-01')\n",
    "test['start_date_edu'] = test['start_date_edu'].fillna('2023-01-01')\n",
    "\n",
    "train['end_date_edu'] = train['end_date_edu'].fillna('2023-01-01')\n",
    "test['end_date_edu'] = test['end_date_edu'].fillna('2023-01-01')"
   ]
  },
  {
   "attachments": {},
   "cell_type": "markdown",
   "metadata": {},
   "source": [
    "Drop country column or not"
   ]
  },
  {
   "cell_type": "code",
   "execution_count": 133,
   "metadata": {},
   "outputs": [
    {
     "data": {
      "text/plain": [
       "\" train = train.drop('country', axis=1)\\ntest = test.drop('country', axis=1) \""
      ]
     },
     "execution_count": 133,
     "metadata": {},
     "output_type": "execute_result"
    }
   ],
   "source": [
    "\"\"\" train = train.drop('country', axis=1)\n",
    "test = test.drop('country', axis=1) \"\"\""
   ]
  },
  {
   "attachments": {},
   "cell_type": "markdown",
   "metadata": {},
   "source": [
    "Checks"
   ]
  },
  {
   "cell_type": "code",
   "execution_count": 134,
   "metadata": {},
   "outputs": [
    {
     "data": {
      "text/plain": [
       "52840"
      ]
     },
     "execution_count": 134,
     "metadata": {},
     "output_type": "execute_result"
    }
   ],
   "source": [
    "# Show how many rows have Turkey in the location string\n",
    "train[train['location'].str.contains('Turkey')].shape[0]"
   ]
  },
  {
   "attachments": {},
   "cell_type": "markdown",
   "metadata": {},
   "source": [
    "Location data"
   ]
  },
  {
   "cell_type": "code",
   "execution_count": 135,
   "metadata": {},
   "outputs": [],
   "source": [
    "# Fix these rows\n",
    "# Replace all uppercase İ with normal I\n",
    "train['location'] = train['location'].str.replace('İ', 'I')\n",
    "test['location'] = test['location'].str.replace('İ', 'I')\n",
    "city_names = ['Izmir', 'Bursa', 'Istanbul', 'Ankara', 'Eskisehir', 'Kahramanmaras', 'Kayseri', \"Manisa\", \"Antalya\", \n",
    "              \"Tekirdag\", \"Adana\", \"Konya\", \"Kocaeli\", \"Ordu\", \"Gaziantep\", \"Kahramanmaraş\"]\n",
    "\n",
    "for name in city_names:\n",
    "    train.loc[train['location'].str.contains(name), 'location'] = name + ', Turkey'\n",
    "    test.loc[test['location'].str.contains(name), 'location'] = name + ', Turkey'\n",
    "\n",
    "# Replace location rows with Kahraman Maras, Turkey with Kahramanmaraş, Turkey\n",
    "train.loc[train['location'].str.contains('Kahraman Maras, Turkey'), 'location'] = 'Kahramanmaraş, Turkey'\n",
    "test.loc[test['location'].str.contains('Kahraman Maras, Turkey'), 'location'] = 'Kahramanmaraş, Turkey'"
   ]
  },
  {
   "cell_type": "code",
   "execution_count": 136,
   "metadata": {},
   "outputs": [
    {
     "data": {
      "text/plain": [
       "Istanbul, Turkey                  28391\n",
       "Turkey                            10922\n",
       "Ankara, Turkey                     7708\n",
       "Izmir, Turkey                      1955\n",
       "Kocaeli, Turkey                     557\n",
       "                                  ...  \n",
       "Afyon, Turkey                         1\n",
       "Amsterdam Area                        1\n",
       "Çınarcık, Yalova, Turkey              1\n",
       "Palandoken, Erzurum, Turkey           1\n",
       "Islamabad, Islāmābād, Pakistan        1\n",
       "Name: location, Length: 228, dtype: int64"
      ]
     },
     "execution_count": 136,
     "metadata": {},
     "output_type": "execute_result"
    }
   ],
   "source": [
    "# Show location with most occurences\n",
    "train['location'].value_counts()"
   ]
  },
  {
   "attachments": {},
   "cell_type": "markdown",
   "metadata": {},
   "source": [
    "Deal with location columns"
   ]
  },
  {
   "cell_type": "code",
   "execution_count": 137,
   "metadata": {},
   "outputs": [],
   "source": [
    "# If location contains Turkey, set location to Turkey\n",
    "train.loc[train['location'].str.contains('Turkey'), 'location'] = 'Turkey'\n",
    "test.loc[test['location'].str.contains('Turkey'), 'location'] = 'Turkey'\n",
    "\n",
    "train.loc[train['location'].str.contains('Germany'), 'location'] = 'Germany'\n",
    "test.loc[test['location'].str.contains('Germany'), 'location'] = 'Germany'\n",
    "\n",
    "train.loc[train['location'].str.contains('Netherlands'), 'location'] = 'Netherlands'\n",
    "test.loc[test['location'].str.contains('Netherlands'), 'location'] = 'Netherlands'\n",
    "\n",
    "train.loc[train['location'].str.contains('Pakistan'), 'location'] = 'Pakistan'\n",
    "test.loc[test['location'].str.contains('Pakistan'), 'location'] = 'Pakistan'\n",
    "\n",
    "train.loc[train['location'].str.contains('United Kingdom'), 'location'] = 'United Kingdom'\n",
    "test.loc[test['location'].str.contains('United Kingdom'), 'location'] = 'United Kingdom'\n",
    "\n",
    "# Rename other locations to other\n",
    "train.loc[~train['location'].str.contains('Turkey|Germany|Netherlands|Pakistan|United Kingdom'), 'location'] = 'Other'\n",
    "test.loc[~test['location'].str.contains('Turkey|Germany|Netherlands|Pakistan|United Kingdom'), 'location'] = 'Other'\n"
   ]
  },
  {
   "cell_type": "code",
   "execution_count": 138,
   "metadata": {},
   "outputs": [
    {
     "data": {
      "text/plain": [
       "Turkey            52956\n",
       "Other                30\n",
       "Germany              16\n",
       "Netherlands          10\n",
       "United Kingdom        5\n",
       "Pakistan              2\n",
       "Name: location, dtype: int64"
      ]
     },
     "execution_count": 138,
     "metadata": {},
     "output_type": "execute_result"
    }
   ],
   "source": [
    "# Show top locations\n",
    "train['location'].value_counts()"
   ]
  },
  {
   "attachments": {},
   "cell_type": "markdown",
   "metadata": {},
   "source": [
    "Start after 2019 column"
   ]
  },
  {
   "cell_type": "code",
   "execution_count": 139,
   "metadata": {},
   "outputs": [],
   "source": [
    "train.StartAfter2019.fillna(0, inplace=True)\n",
    "test.StartAfter2019.fillna(0, inplace=True)"
   ]
  },
  {
   "attachments": {},
   "cell_type": "markdown",
   "metadata": {},
   "source": [
    "Fill unknown countries as unsure"
   ]
  },
  {
   "cell_type": "code",
   "execution_count": 140,
   "metadata": {},
   "outputs": [],
   "source": [
    "train.country.fillna(\"Unsure\",inplace=True)\n",
    "test.country.fillna(\"Unsure\",inplace=True)"
   ]
  },
  {
   "attachments": {},
   "cell_type": "markdown",
   "metadata": {},
   "source": [
    "## Check datatypes"
   ]
  },
  {
   "cell_type": "code",
   "execution_count": 141,
   "metadata": {},
   "outputs": [
    {
     "data": {
      "text/plain": [
       "user_id             0\n",
       "industry            0\n",
       "location            0\n",
       "moved_after_2019    0\n",
       "StartAfter2019      0\n",
       "companies_worked    0\n",
       "country             0\n",
       "max_duration        0\n",
       "Business            0\n",
       "Design              0\n",
       "IT                  0\n",
       "Other               0\n",
       "N_Skills            0\n",
       "English             0\n",
       "German              0\n",
       "Turkish             0\n",
       "French              0\n",
       "Spanish             0\n",
       "Chinese             0\n",
       "NLanguages          0\n",
       "start_date_edu      0\n",
       "end_date_edu        0\n",
       "degree_edu          0\n",
       "field_edu           0\n",
       "dtype: int64"
      ]
     },
     "execution_count": 141,
     "metadata": {},
     "output_type": "execute_result"
    }
   ],
   "source": [
    "train.isna().sum()"
   ]
  },
  {
   "cell_type": "code",
   "execution_count": 142,
   "metadata": {},
   "outputs": [
    {
     "data": {
      "text/plain": [
       "user_id               int64\n",
       "industry             object\n",
       "location             object\n",
       "moved_after_2019      int64\n",
       "StartAfter2019      float64\n",
       "companies_worked    float64\n",
       "country              object\n",
       "max_duration        float64\n",
       "Business              int32\n",
       "Design                int32\n",
       "IT                    int32\n",
       "Other                 int32\n",
       "N_Skills              int32\n",
       "English             float64\n",
       "German              float64\n",
       "Turkish             float64\n",
       "French              float64\n",
       "Spanish             float64\n",
       "Chinese             float64\n",
       "NLanguages            int32\n",
       "start_date_edu       object\n",
       "end_date_edu         object\n",
       "degree_edu          float64\n",
       "field_edu            object\n",
       "dtype: object"
      ]
     },
     "execution_count": 142,
     "metadata": {},
     "output_type": "execute_result"
    }
   ],
   "source": [
    "test.dtypes"
   ]
  },
  {
   "cell_type": "markdown",
   "metadata": {},
   "source": [
    "Cast columns into int"
   ]
  },
  {
   "cell_type": "code",
   "execution_count": 143,
   "metadata": {},
   "outputs": [],
   "source": [
    "float_columns = train.select_dtypes(include=['float']).columns\n",
    "train[float_columns] = train[float_columns].astype(int)\n",
    "\n",
    "float_columns = test.select_dtypes(include=['float']).columns\n",
    "test[float_columns] = test[float_columns].astype(int)"
   ]
  },
  {
   "attachments": {},
   "cell_type": "markdown",
   "metadata": {},
   "source": [
    "Change dates to datetime"
   ]
  },
  {
   "cell_type": "code",
   "execution_count": 144,
   "metadata": {},
   "outputs": [],
   "source": [
    "# Set the start_date_edu and end_date_edu to datetime\n",
    "train['start_date_edu'] = pd.to_datetime(train['start_date_edu'])\n",
    "test['start_date_edu'] = pd.to_datetime(test['start_date_edu'])\n",
    "\n",
    "train['end_date_edu'] = pd.to_datetime(train['end_date_edu'])\n",
    "test['end_date_edu'] = pd.to_datetime(test['end_date_edu'])"
   ]
  },
  {
   "cell_type": "code",
   "execution_count": 145,
   "metadata": {},
   "outputs": [
    {
     "data": {
      "text/plain": [
       "user_id                      int64\n",
       "industry                    object\n",
       "location                    object\n",
       "moved_after_2019             int64\n",
       "StartAfter2019               int32\n",
       "companies_worked             int32\n",
       "country                     object\n",
       "max_duration                 int32\n",
       "Business                     int32\n",
       "Design                       int32\n",
       "IT                           int32\n",
       "Other                        int32\n",
       "N_Skills                     int32\n",
       "English                      int32\n",
       "German                       int32\n",
       "Turkish                      int32\n",
       "French                       int32\n",
       "Spanish                      int32\n",
       "Chinese                      int32\n",
       "NLanguages                   int32\n",
       "start_date_edu      datetime64[ns]\n",
       "end_date_edu        datetime64[ns]\n",
       "degree_edu                   int32\n",
       "field_edu                   object\n",
       "dtype: object"
      ]
     },
     "execution_count": 145,
     "metadata": {},
     "output_type": "execute_result"
    }
   ],
   "source": [
    "test.dtypes"
   ]
  },
  {
   "attachments": {},
   "cell_type": "markdown",
   "metadata": {},
   "source": [
    "#### Drop Industry for now as it has too many unique values"
   ]
  },
  {
   "cell_type": "code",
   "execution_count": 146,
   "metadata": {},
   "outputs": [],
   "source": [
    "# Drop industry column\n",
    "train = train.drop('industry', axis=1)\n",
    "test = test.drop('industry', axis=1)"
   ]
  },
  {
   "attachments": {},
   "cell_type": "markdown",
   "metadata": {},
   "source": [
    "Remove users who entered work after 2019 as they all are marked as 0"
   ]
  },
  {
   "attachments": {},
   "cell_type": "markdown",
   "metadata": {},
   "source": [
    "First inspect"
   ]
  },
  {
   "cell_type": "code",
   "execution_count": 147,
   "metadata": {},
   "outputs": [
    {
     "name": "stdout",
     "output_type": "stream",
     "text": [
      "(9816, 23)\n"
     ]
    },
    {
     "data": {
      "text/html": [
       "<div>\n",
       "<style scoped>\n",
       "    .dataframe tbody tr th:only-of-type {\n",
       "        vertical-align: middle;\n",
       "    }\n",
       "\n",
       "    .dataframe tbody tr th {\n",
       "        vertical-align: top;\n",
       "    }\n",
       "\n",
       "    .dataframe thead th {\n",
       "        text-align: right;\n",
       "    }\n",
       "</style>\n",
       "<table border=\"1\" class=\"dataframe\">\n",
       "  <thead>\n",
       "    <tr style=\"text-align: right;\">\n",
       "      <th></th>\n",
       "      <th>user_id</th>\n",
       "      <th>location</th>\n",
       "      <th>moved_after_2019</th>\n",
       "      <th>StartAfter2019</th>\n",
       "      <th>companies_worked</th>\n",
       "      <th>country</th>\n",
       "      <th>max_duration</th>\n",
       "      <th>Business</th>\n",
       "      <th>Design</th>\n",
       "      <th>IT</th>\n",
       "      <th>...</th>\n",
       "      <th>German</th>\n",
       "      <th>Turkish</th>\n",
       "      <th>French</th>\n",
       "      <th>Spanish</th>\n",
       "      <th>Chinese</th>\n",
       "      <th>NLanguages</th>\n",
       "      <th>start_date_edu</th>\n",
       "      <th>end_date_edu</th>\n",
       "      <th>degree_edu</th>\n",
       "      <th>field_edu</th>\n",
       "    </tr>\n",
       "  </thead>\n",
       "  <tbody>\n",
       "    <tr>\n",
       "      <th>5</th>\n",
       "      <td>47498</td>\n",
       "      <td>Turkey</td>\n",
       "      <td>1</td>\n",
       "      <td>1</td>\n",
       "      <td>1</td>\n",
       "      <td>Unsure</td>\n",
       "      <td>-273</td>\n",
       "      <td>0</td>\n",
       "      <td>0</td>\n",
       "      <td>9</td>\n",
       "      <td>...</td>\n",
       "      <td>0</td>\n",
       "      <td>5</td>\n",
       "      <td>0</td>\n",
       "      <td>0</td>\n",
       "      <td>0</td>\n",
       "      <td>2</td>\n",
       "      <td>2100-01-01</td>\n",
       "      <td>2100-01-01</td>\n",
       "      <td>2</td>\n",
       "      <td>Mathematics</td>\n",
       "    </tr>\n",
       "    <tr>\n",
       "      <th>6</th>\n",
       "      <td>13722</td>\n",
       "      <td>Turkey</td>\n",
       "      <td>1</td>\n",
       "      <td>1</td>\n",
       "      <td>1</td>\n",
       "      <td>TR</td>\n",
       "      <td>-212</td>\n",
       "      <td>0</td>\n",
       "      <td>0</td>\n",
       "      <td>6</td>\n",
       "      <td>...</td>\n",
       "      <td>0</td>\n",
       "      <td>0</td>\n",
       "      <td>0</td>\n",
       "      <td>0</td>\n",
       "      <td>0</td>\n",
       "      <td>3</td>\n",
       "      <td>2100-01-01</td>\n",
       "      <td>2100-01-01</td>\n",
       "      <td>3</td>\n",
       "      <td>Engineering</td>\n",
       "    </tr>\n",
       "    <tr>\n",
       "      <th>8</th>\n",
       "      <td>14242</td>\n",
       "      <td>Turkey</td>\n",
       "      <td>1</td>\n",
       "      <td>1</td>\n",
       "      <td>6</td>\n",
       "      <td>TR</td>\n",
       "      <td>1918</td>\n",
       "      <td>0</td>\n",
       "      <td>0</td>\n",
       "      <td>9</td>\n",
       "      <td>...</td>\n",
       "      <td>0</td>\n",
       "      <td>2</td>\n",
       "      <td>0</td>\n",
       "      <td>0</td>\n",
       "      <td>0</td>\n",
       "      <td>3</td>\n",
       "      <td>2100-01-01</td>\n",
       "      <td>2100-01-01</td>\n",
       "      <td>3</td>\n",
       "      <td>Engineering</td>\n",
       "    </tr>\n",
       "    <tr>\n",
       "      <th>12</th>\n",
       "      <td>33971</td>\n",
       "      <td>Turkey</td>\n",
       "      <td>1</td>\n",
       "      <td>1</td>\n",
       "      <td>1</td>\n",
       "      <td>Unsure</td>\n",
       "      <td>-120</td>\n",
       "      <td>0</td>\n",
       "      <td>0</td>\n",
       "      <td>5</td>\n",
       "      <td>...</td>\n",
       "      <td>0</td>\n",
       "      <td>5</td>\n",
       "      <td>0</td>\n",
       "      <td>0</td>\n",
       "      <td>0</td>\n",
       "      <td>2</td>\n",
       "      <td>2100-01-01</td>\n",
       "      <td>2021-09-01</td>\n",
       "      <td>2</td>\n",
       "      <td>Engineering</td>\n",
       "    </tr>\n",
       "    <tr>\n",
       "      <th>20</th>\n",
       "      <td>25534</td>\n",
       "      <td>Turkey</td>\n",
       "      <td>1</td>\n",
       "      <td>1</td>\n",
       "      <td>1</td>\n",
       "      <td>TR</td>\n",
       "      <td>-31</td>\n",
       "      <td>0</td>\n",
       "      <td>0</td>\n",
       "      <td>3</td>\n",
       "      <td>...</td>\n",
       "      <td>0</td>\n",
       "      <td>5</td>\n",
       "      <td>0</td>\n",
       "      <td>0</td>\n",
       "      <td>0</td>\n",
       "      <td>2</td>\n",
       "      <td>2100-01-01</td>\n",
       "      <td>2100-01-01</td>\n",
       "      <td>2</td>\n",
       "      <td>Other</td>\n",
       "    </tr>\n",
       "    <tr>\n",
       "      <th>...</th>\n",
       "      <td>...</td>\n",
       "      <td>...</td>\n",
       "      <td>...</td>\n",
       "      <td>...</td>\n",
       "      <td>...</td>\n",
       "      <td>...</td>\n",
       "      <td>...</td>\n",
       "      <td>...</td>\n",
       "      <td>...</td>\n",
       "      <td>...</td>\n",
       "      <td>...</td>\n",
       "      <td>...</td>\n",
       "      <td>...</td>\n",
       "      <td>...</td>\n",
       "      <td>...</td>\n",
       "      <td>...</td>\n",
       "      <td>...</td>\n",
       "      <td>...</td>\n",
       "      <td>...</td>\n",
       "      <td>...</td>\n",
       "      <td>...</td>\n",
       "    </tr>\n",
       "    <tr>\n",
       "      <th>52990</th>\n",
       "      <td>22017</td>\n",
       "      <td>Turkey</td>\n",
       "      <td>1</td>\n",
       "      <td>1</td>\n",
       "      <td>1</td>\n",
       "      <td>TR</td>\n",
       "      <td>-90</td>\n",
       "      <td>0</td>\n",
       "      <td>0</td>\n",
       "      <td>6</td>\n",
       "      <td>...</td>\n",
       "      <td>0</td>\n",
       "      <td>5</td>\n",
       "      <td>0</td>\n",
       "      <td>0</td>\n",
       "      <td>0</td>\n",
       "      <td>2</td>\n",
       "      <td>2100-01-01</td>\n",
       "      <td>2100-01-01</td>\n",
       "      <td>2</td>\n",
       "      <td>Engineering</td>\n",
       "    </tr>\n",
       "    <tr>\n",
       "      <th>52992</th>\n",
       "      <td>48269</td>\n",
       "      <td>Turkey</td>\n",
       "      <td>1</td>\n",
       "      <td>1</td>\n",
       "      <td>1</td>\n",
       "      <td>Unsure</td>\n",
       "      <td>-120</td>\n",
       "      <td>0</td>\n",
       "      <td>1</td>\n",
       "      <td>3</td>\n",
       "      <td>...</td>\n",
       "      <td>0</td>\n",
       "      <td>5</td>\n",
       "      <td>0</td>\n",
       "      <td>0</td>\n",
       "      <td>0</td>\n",
       "      <td>2</td>\n",
       "      <td>2100-01-01</td>\n",
       "      <td>2100-01-01</td>\n",
       "      <td>2</td>\n",
       "      <td>Mathematics</td>\n",
       "    </tr>\n",
       "    <tr>\n",
       "      <th>52994</th>\n",
       "      <td>17736</td>\n",
       "      <td>Turkey</td>\n",
       "      <td>1</td>\n",
       "      <td>1</td>\n",
       "      <td>2</td>\n",
       "      <td>TR</td>\n",
       "      <td>4017</td>\n",
       "      <td>0</td>\n",
       "      <td>0</td>\n",
       "      <td>11</td>\n",
       "      <td>...</td>\n",
       "      <td>0</td>\n",
       "      <td>0</td>\n",
       "      <td>0</td>\n",
       "      <td>0</td>\n",
       "      <td>0</td>\n",
       "      <td>2</td>\n",
       "      <td>2100-01-01</td>\n",
       "      <td>2100-01-01</td>\n",
       "      <td>3</td>\n",
       "      <td>Engineering</td>\n",
       "    </tr>\n",
       "    <tr>\n",
       "      <th>53009</th>\n",
       "      <td>41192</td>\n",
       "      <td>Turkey</td>\n",
       "      <td>1</td>\n",
       "      <td>1</td>\n",
       "      <td>1</td>\n",
       "      <td>Unsure</td>\n",
       "      <td>-181</td>\n",
       "      <td>0</td>\n",
       "      <td>0</td>\n",
       "      <td>1</td>\n",
       "      <td>...</td>\n",
       "      <td>0</td>\n",
       "      <td>5</td>\n",
       "      <td>0</td>\n",
       "      <td>0</td>\n",
       "      <td>0</td>\n",
       "      <td>2</td>\n",
       "      <td>2017-07-01</td>\n",
       "      <td>2021-09-01</td>\n",
       "      <td>2</td>\n",
       "      <td>Engineering</td>\n",
       "    </tr>\n",
       "    <tr>\n",
       "      <th>53011</th>\n",
       "      <td>855</td>\n",
       "      <td>Turkey</td>\n",
       "      <td>1</td>\n",
       "      <td>1</td>\n",
       "      <td>3</td>\n",
       "      <td>Unsure</td>\n",
       "      <td>1064</td>\n",
       "      <td>0</td>\n",
       "      <td>0</td>\n",
       "      <td>4</td>\n",
       "      <td>...</td>\n",
       "      <td>0</td>\n",
       "      <td>5</td>\n",
       "      <td>0</td>\n",
       "      <td>0</td>\n",
       "      <td>0</td>\n",
       "      <td>2</td>\n",
       "      <td>2100-01-01</td>\n",
       "      <td>2100-01-01</td>\n",
       "      <td>2</td>\n",
       "      <td>Other</td>\n",
       "    </tr>\n",
       "  </tbody>\n",
       "</table>\n",
       "<p>9816 rows × 23 columns</p>\n",
       "</div>"
      ],
      "text/plain": [
       "       user_id location  moved_after_2019  StartAfter2019  companies_worked  \\\n",
       "5        47498   Turkey                 1               1                 1   \n",
       "6        13722   Turkey                 1               1                 1   \n",
       "8        14242   Turkey                 1               1                 6   \n",
       "12       33971   Turkey                 1               1                 1   \n",
       "20       25534   Turkey                 1               1                 1   \n",
       "...        ...      ...               ...             ...               ...   \n",
       "52990    22017   Turkey                 1               1                 1   \n",
       "52992    48269   Turkey                 1               1                 1   \n",
       "52994    17736   Turkey                 1               1                 2   \n",
       "53009    41192   Turkey                 1               1                 1   \n",
       "53011      855   Turkey                 1               1                 3   \n",
       "\n",
       "      country  max_duration  Business  Design  IT  ...  German  Turkish  \\\n",
       "5      Unsure          -273         0       0   9  ...       0        5   \n",
       "6          TR          -212         0       0   6  ...       0        0   \n",
       "8          TR          1918         0       0   9  ...       0        2   \n",
       "12     Unsure          -120         0       0   5  ...       0        5   \n",
       "20         TR           -31         0       0   3  ...       0        5   \n",
       "...       ...           ...       ...     ...  ..  ...     ...      ...   \n",
       "52990      TR           -90         0       0   6  ...       0        5   \n",
       "52992  Unsure          -120         0       1   3  ...       0        5   \n",
       "52994      TR          4017         0       0  11  ...       0        0   \n",
       "53009  Unsure          -181         0       0   1  ...       0        5   \n",
       "53011  Unsure          1064         0       0   4  ...       0        5   \n",
       "\n",
       "       French  Spanish  Chinese  NLanguages  start_date_edu  end_date_edu  \\\n",
       "5           0        0        0           2      2100-01-01    2100-01-01   \n",
       "6           0        0        0           3      2100-01-01    2100-01-01   \n",
       "8           0        0        0           3      2100-01-01    2100-01-01   \n",
       "12          0        0        0           2      2100-01-01    2021-09-01   \n",
       "20          0        0        0           2      2100-01-01    2100-01-01   \n",
       "...       ...      ...      ...         ...             ...           ...   \n",
       "52990       0        0        0           2      2100-01-01    2100-01-01   \n",
       "52992       0        0        0           2      2100-01-01    2100-01-01   \n",
       "52994       0        0        0           2      2100-01-01    2100-01-01   \n",
       "53009       0        0        0           2      2017-07-01    2021-09-01   \n",
       "53011       0        0        0           2      2100-01-01    2100-01-01   \n",
       "\n",
       "       degree_edu    field_edu  \n",
       "5               2  Mathematics  \n",
       "6               3  Engineering  \n",
       "8               3  Engineering  \n",
       "12              2  Engineering  \n",
       "20              2        Other  \n",
       "...           ...          ...  \n",
       "52990           2  Engineering  \n",
       "52992           2  Mathematics  \n",
       "52994           3  Engineering  \n",
       "53009           2  Engineering  \n",
       "53011           2        Other  \n",
       "\n",
       "[9816 rows x 23 columns]"
      ]
     },
     "execution_count": 147,
     "metadata": {},
     "output_type": "execute_result"
    }
   ],
   "source": [
    "temp = train[train[\"StartAfter2019\"] ==1]\n",
    "#temp = temp[[\"moved_after_2019\", \"StartAfter2019\"]]\n",
    "print(temp.shape)\n",
    "temp[temp[\"moved_after_2019\"] == 1 ]"
   ]
  },
  {
   "cell_type": "code",
   "execution_count": 148,
   "metadata": {},
   "outputs": [
    {
     "name": "stdout",
     "output_type": "stream",
     "text": [
      "(0, 23)\n"
     ]
    },
    {
     "data": {
      "text/html": [
       "<div>\n",
       "<style scoped>\n",
       "    .dataframe tbody tr th:only-of-type {\n",
       "        vertical-align: middle;\n",
       "    }\n",
       "\n",
       "    .dataframe tbody tr th {\n",
       "        vertical-align: top;\n",
       "    }\n",
       "\n",
       "    .dataframe thead th {\n",
       "        text-align: right;\n",
       "    }\n",
       "</style>\n",
       "<table border=\"1\" class=\"dataframe\">\n",
       "  <thead>\n",
       "    <tr style=\"text-align: right;\">\n",
       "      <th></th>\n",
       "      <th>user_id</th>\n",
       "      <th>location</th>\n",
       "      <th>moved_after_2019</th>\n",
       "      <th>StartAfter2019</th>\n",
       "      <th>companies_worked</th>\n",
       "      <th>country</th>\n",
       "      <th>max_duration</th>\n",
       "      <th>Business</th>\n",
       "      <th>Design</th>\n",
       "      <th>IT</th>\n",
       "      <th>...</th>\n",
       "      <th>German</th>\n",
       "      <th>Turkish</th>\n",
       "      <th>French</th>\n",
       "      <th>Spanish</th>\n",
       "      <th>Chinese</th>\n",
       "      <th>NLanguages</th>\n",
       "      <th>start_date_edu</th>\n",
       "      <th>end_date_edu</th>\n",
       "      <th>degree_edu</th>\n",
       "      <th>field_edu</th>\n",
       "    </tr>\n",
       "  </thead>\n",
       "  <tbody>\n",
       "  </tbody>\n",
       "</table>\n",
       "<p>0 rows × 23 columns</p>\n",
       "</div>"
      ],
      "text/plain": [
       "Empty DataFrame\n",
       "Columns: [user_id, location, moved_after_2019, StartAfter2019, companies_worked, country, max_duration, Business, Design, IT, Other, N_Skills, English, German, Turkish, French, Spanish, Chinese, NLanguages, start_date_edu, end_date_edu, degree_edu, field_edu]\n",
       "Index: []\n",
       "\n",
       "[0 rows x 23 columns]"
      ]
     },
     "execution_count": 148,
     "metadata": {},
     "output_type": "execute_result"
    }
   ],
   "source": [
    "temp = test[test[\"StartAfter2019\"] ==1]\n",
    "#temp = temp[[\"moved_after_2019\", \"StartAfter2019\"]]\n",
    "print(temp.shape)\n",
    "temp[temp[\"moved_after_2019\"] == 1 ]"
   ]
  },
  {
   "attachments": {},
   "cell_type": "markdown",
   "metadata": {},
   "source": [
    "Drop entries"
   ]
  },
  {
   "cell_type": "code",
   "execution_count": 151,
   "metadata": {},
   "outputs": [],
   "source": [
    "train = train.loc[train[\"StartAfter2019\"]  == 0,:]\n",
    "train.drop(\"StartAfter2019\", axis=1, inplace=True)\n",
    "test.drop(\"StartAfter2019\", axis=1, inplace=True)"
   ]
  },
  {
   "cell_type": "code",
   "execution_count": 152,
   "metadata": {},
   "outputs": [],
   "source": [
    "# Save the data\n",
    "train.to_csv(\"PreparedData/train.csv\", index=False)\n",
    "test.to_csv(\"PreparedData/test.csv\", index=False)"
   ]
  },
  {
   "cell_type": "code",
   "execution_count": null,
   "metadata": {},
   "outputs": [],
   "source": []
  }
 ],
 "metadata": {
  "kernelspec": {
   "display_name": "base",
   "language": "python",
   "name": "python3"
  },
  "language_info": {
   "codemirror_mode": {
    "name": "ipython",
    "version": 3
   },
   "file_extension": ".py",
   "mimetype": "text/x-python",
   "name": "python",
   "nbconvert_exporter": "python",
   "pygments_lexer": "ipython3",
   "version": "3.8.16"
  },
  "orig_nbformat": 4,
  "vscode": {
   "interpreter": {
    "hash": "ad2bdc8ecc057115af97d19610ffacc2b4e99fae6737bb82f5d7fb13d2f2c186"
   }
  }
 },
 "nbformat": 4,
 "nbformat_minor": 2
}
