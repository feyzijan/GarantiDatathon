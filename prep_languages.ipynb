{
 "cells": [
  {
   "cell_type": "code",
   "execution_count": null,
   "metadata": {},
   "outputs": [],
   "source": [
    "import pandas as pd"
   ]
  },
  {
   "cell_type": "code",
   "execution_count": null,
   "metadata": {},
   "outputs": [],
   "source": [
    "df = pd.read_csv(\"OriginalData/languages.csv\")\n",
    "df"
   ]
  },
  {
   "attachments": {},
   "cell_type": "markdown",
   "metadata": {},
   "source": [
    "Fix up proficiencies"
   ]
  },
  {
   "cell_type": "code",
   "execution_count": null,
   "metadata": {},
   "outputs": [],
   "source": [
    "profs = df.proficiency.unique()\n",
    "profs"
   ]
  },
  {
   "attachments": {},
   "cell_type": "markdown",
   "metadata": {},
   "source": [
    "Replace with numerical values as such:\n",
    "- nan:default_nan, currently set as 2\n",
    "- elementary:1\n",
    "- limited working:2\n",
    "- professional working:3\n",
    "- full_professional:4\n",
    "- native_or_bilingual:5"
   ]
  },
  {
   "cell_type": "code",
   "execution_count": null,
   "metadata": {},
   "outputs": [],
   "source": [
    "default_nan = 2\n",
    "df.proficiency.replace(profs,[4,5,1,default_nan,3,2],inplace=True)"
   ]
  },
  {
   "attachments": {},
   "cell_type": "markdown",
   "metadata": {},
   "source": [
    "Clear up Languages"
   ]
  },
  {
   "cell_type": "code",
   "execution_count": null,
   "metadata": {},
   "outputs": [],
   "source": [
    "langs = df.language.unique().tolist()\n",
    "langs.sort()\n",
    "langs"
   ]
  },
  {
   "attachments": {},
   "cell_type": "markdown",
   "metadata": {},
   "source": [
    "Group similar languages together, mark all but the most popular languages as \"Other\""
   ]
  },
  {
   "cell_type": "code",
   "execution_count": null,
   "metadata": {},
   "outputs": [],
   "source": [
    "from fuzzywuzzy import fuzz\n",
    "from collections import defaultdict\n",
    "\n",
    "def group_strings(strings, reference_strings, similarity_threshold):\n",
    "    groups = defaultdict(list)\n",
    "    for i, string1 in enumerate(reference_strings):\n",
    "        for j, string2 in enumerate(strings):\n",
    "            similarity = fuzz.token_set_ratio(string1, string2)\n",
    "            if similarity >= similarity_threshold:\n",
    "                groups[string1].append(string2)\n",
    "    return groups\n"
   ]
  },
  {
   "cell_type": "code",
   "execution_count": null,
   "metadata": {},
   "outputs": [],
   "source": [
    "lang_groups = [\"English\",\"German\", \"Turkish\", \"French\", \"Spanish\", \"Chinese\",\n",
    "\"İngilizce\", \"Almanca\", \"Türkçe\", \"Fransizca\", \"İspanyolca\", \"Çince\"]"
   ]
  },
  {
   "cell_type": "code",
   "execution_count": null,
   "metadata": {},
   "outputs": [],
   "source": [
    "groups = group_strings(langs,lang_groups, 75)"
   ]
  },
  {
   "cell_type": "code",
   "execution_count": null,
   "metadata": {},
   "outputs": [],
   "source": [
    "for key in groups.keys():\n",
    "    print(\"Key: \", key)\n",
    "    print(\"Values: \", groups[key])\n",
    "    print(\"-------------------\")"
   ]
  },
  {
   "cell_type": "code",
   "execution_count": null,
   "metadata": {},
   "outputs": [],
   "source": [
    "other=[]\n",
    "for lang in langs:\n",
    "    found=False\n",
    "    for group in groups.values():\n",
    "        if lang in group:\n",
    "            found=True\n",
    "            break\n",
    "    if not found:\n",
    "        other.append(lang)"
   ]
  },
  {
   "cell_type": "code",
   "execution_count": null,
   "metadata": {},
   "outputs": [],
   "source": [
    "english = groups[\"English\"] + groups[\"İngilizce\"]\n",
    "german = groups[\"German\"] + groups[\"Almanca\"]\n",
    "turkish = groups[\"Turkish\"] + groups[\"Türkçe\"]\n",
    "french = groups[\"French\"] + groups[\"Fransizca\"]\n",
    "spanish = groups[\"Spanish\"] + groups[\"İspanyolca\"]\n",
    "chinese = groups[\"Chinese\"] + groups[\"Çince\"]"
   ]
  },
  {
   "attachments": {},
   "cell_type": "markdown",
   "metadata": {},
   "source": [
    "Now replace the languages in the dataframe"
   ]
  },
  {
   "cell_type": "code",
   "execution_count": null,
   "metadata": {},
   "outputs": [],
   "source": [
    "df.loc[df.language.isin(english), \"language\"] = \"English\"\n",
    "df.loc[df.language.isin(german),\"language\"] = \"German\"\n",
    "df.loc[df.language.isin(turkish),\"language\"] = \"Turkish\"\n",
    "df.loc[df.language.isin(french),\"language\"] = \"French\"\n",
    "df.loc[df.language.isin(spanish),\"language\"] = \"Spanish\"\n",
    "df.loc[df.language.isin(chinese),\"language\"] = \"Chinese\"\n",
    "df.loc[df.language.isin(other),\"language\"] = \"Other\""
   ]
  },
  {
   "cell_type": "code",
   "execution_count": null,
   "metadata": {},
   "outputs": [],
   "source": [
    "lang_important = [\"English\", \"German\", \"Turkish\", \"French\", \"Spanish\", \"Chinese\"]"
   ]
  },
  {
   "attachments": {},
   "cell_type": "markdown",
   "metadata": {},
   "source": [
    "## Further clearing"
   ]
  },
  {
   "attachments": {},
   "cell_type": "markdown",
   "metadata": {},
   "source": [
    "Set these languages as columns, with their values being the proficiency (0 if no proficiency), add new column #languages known,"
   ]
  },
  {
   "cell_type": "code",
   "execution_count": null,
   "metadata": {},
   "outputs": [],
   "source": [
    "df.head()"
   ]
  },
  {
   "cell_type": "code",
   "execution_count": null,
   "metadata": {},
   "outputs": [],
   "source": [
    "n_langs = df[\"user_id\"].value_counts().reset_index().rename(columns={'index': 'user_id', 'user_id': 'N_languages'})"
   ]
  },
  {
   "cell_type": "code",
   "execution_count": null,
   "metadata": {},
   "outputs": [],
   "source": [
    "n_langs.isna().sum()"
   ]
  },
  {
   "cell_type": "code",
   "execution_count": null,
   "metadata": {},
   "outputs": [],
   "source": [
    "for lang in lang_important:\n",
    "    df[lang] = 0\n",
    "\n",
    "for lang in lang_important:\n",
    "    mask = df['language'] == lang\n",
    "    df.loc[mask, lang] = df.loc[mask, 'proficiency']"
   ]
  },
  {
   "cell_type": "code",
   "execution_count": null,
   "metadata": {},
   "outputs": [],
   "source": [
    "df.drop(columns=[\"language\", \"proficiency\"], inplace=True)"
   ]
  },
  {
   "cell_type": "code",
   "execution_count": null,
   "metadata": {},
   "outputs": [],
   "source": [
    "df = df.groupby('user_id').sum().reset_index()"
   ]
  },
  {
   "cell_type": "code",
   "execution_count": null,
   "metadata": {},
   "outputs": [],
   "source": [
    "df[\"NLanguages\"] = n_langs[\"N_languages\"]"
   ]
  },
  {
   "cell_type": "code",
   "execution_count": null,
   "metadata": {},
   "outputs": [],
   "source": [
    "df"
   ]
  },
  {
   "attachments": {},
   "cell_type": "markdown",
   "metadata": {},
   "source": [
    "Save"
   ]
  },
  {
   "cell_type": "code",
   "execution_count": null,
   "metadata": {},
   "outputs": [],
   "source": [
    "df.to_csv(\"PreparedData/languages.csv\", index=False)"
   ]
  },
  {
   "cell_type": "code",
   "execution_count": null,
   "metadata": {},
   "outputs": [],
   "source": []
  }
 ],
 "metadata": {
  "kernelspec": {
   "display_name": "Python 3",
   "language": "python",
   "name": "python3"
  },
  "language_info": {
   "codemirror_mode": {
    "name": "ipython",
    "version": 3
   },
   "file_extension": ".py",
   "mimetype": "text/x-python",
   "name": "python",
   "nbconvert_exporter": "python",
   "pygments_lexer": "ipython3",
   "version": "3.11.1"
  },
  "orig_nbformat": 4,
  "vscode": {
   "interpreter": {
    "hash": "aee8b7b246df8f9039afb4144a1f6fd8d2ca17a180786b69acc140d282b71a49"
   }
  }
 },
 "nbformat": 4,
 "nbformat_minor": 2
}
