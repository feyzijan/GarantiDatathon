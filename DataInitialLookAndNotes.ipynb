{
 "cells": [
  {
   "attachments": {},
   "cell_type": "markdown",
   "metadata": {},
   "source": [
    "This file is used to merge all the original datasets into one while performing exploratory data analysis"
   ]
  },
  {
   "cell_type": "code",
   "execution_count": 81,
   "metadata": {},
   "outputs": [],
   "source": [
    "import pandas as pd\n",
    "import numpy as np\n",
    "from matplotlib import pyplot as plt\n",
    "import seaborn as sns\n",
    "import math\n",
    "from termcolor import colored"
   ]
  },
  {
   "attachments": {},
   "cell_type": "markdown",
   "metadata": {},
   "source": [
    "Import dataframes and take a look"
   ]
  },
  {
   "cell_type": "code",
   "execution_count": 94,
   "metadata": {},
   "outputs": [],
   "source": [
    "df_ed = pd.read_csv('OriginalData/education.csv')\n",
    "df_lang = pd.read_csv('OriginalData/languages.csv')\n",
    "df_skill = pd.read_csv('OriginalData/skills.csv')\n",
    "df_work = pd.read_csv('OriginalData/work_experiences.csv')"
   ]
  },
  {
   "attachments": {},
   "cell_type": "markdown",
   "metadata": {},
   "source": [
    "Function to print properties of a dataframe"
   ]
  },
  {
   "cell_type": "code",
   "execution_count": 83,
   "metadata": {},
   "outputs": [],
   "source": [
    "def check_df(df):\n",
    "    print(\"Shape: \",df.shape)\n",
    "    print(\"Data Types: \")\n",
    "    print(df.dtypes)\n",
    "    print(\"Head \")\n",
    "    display(df.head())\n",
    "    print(\"Info \")\n",
    "    print(df.info())\n",
    "    print(\"Description \")\n",
    "    display(df.describe().T)\n",
    "    print(\"NaNs \")\n",
    "    print(df.isnull().sum())\n",
    "    print(\"Quantiles \")\n",
    "    display(df.describe([0, 0.05, 0.50, 0.95, 0.99]).T)\n",
    "    print(\"Unique Values in categorical columns\")\n",
    "    cols = df.select_dtypes(include=['object']).columns\n",
    "    for col in cols:\n",
    "        print(col, \": \" ,df[col].unique().shape[0])\n",
    "    \n",
    "    "
   ]
  },
  {
   "cell_type": "markdown",
   "metadata": {},
   "source": [
    "## Education Data"
   ]
  },
  {
   "cell_type": "code",
   "execution_count": 84,
   "metadata": {},
   "outputs": [
    {
     "name": "stdout",
     "output_type": "stream",
     "text": [
      "Shape:  (142575, 6)\n",
      "Data Types: \n",
      "user_id               int64\n",
      "school_name          object\n",
      "degree               object\n",
      "fields_of_study      object\n",
      "start_year_month    float64\n",
      "end_year_month      float64\n",
      "dtype: object\n",
      "Head \n"
     ]
    },
    {
     "data": {
      "text/html": [
       "<div>\n",
       "<style scoped>\n",
       "    .dataframe tbody tr th:only-of-type {\n",
       "        vertical-align: middle;\n",
       "    }\n",
       "\n",
       "    .dataframe tbody tr th {\n",
       "        vertical-align: top;\n",
       "    }\n",
       "\n",
       "    .dataframe thead th {\n",
       "        text-align: right;\n",
       "    }\n",
       "</style>\n",
       "<table border=\"1\" class=\"dataframe\">\n",
       "  <thead>\n",
       "    <tr style=\"text-align: right;\">\n",
       "      <th></th>\n",
       "      <th>user_id</th>\n",
       "      <th>school_name</th>\n",
       "      <th>degree</th>\n",
       "      <th>fields_of_study</th>\n",
       "      <th>start_year_month</th>\n",
       "      <th>end_year_month</th>\n",
       "    </tr>\n",
       "  </thead>\n",
       "  <tbody>\n",
       "    <tr>\n",
       "      <th>0</th>\n",
       "      <td>0</td>\n",
       "      <td>Anadolu Üniversitesi</td>\n",
       "      <td>NaN</td>\n",
       "      <td>NaN</td>\n",
       "      <td>NaN</td>\n",
       "      <td>NaN</td>\n",
       "    </tr>\n",
       "    <tr>\n",
       "      <th>1</th>\n",
       "      <td>0</td>\n",
       "      <td>Adıyaman Üniversitesi</td>\n",
       "      <td>NaN</td>\n",
       "      <td>NaN</td>\n",
       "      <td>NaN</td>\n",
       "      <td>NaN</td>\n",
       "    </tr>\n",
       "    <tr>\n",
       "      <th>2</th>\n",
       "      <td>0</td>\n",
       "      <td>Fırat Üniversitesi</td>\n",
       "      <td>NaN</td>\n",
       "      <td>NaN</td>\n",
       "      <td>NaN</td>\n",
       "      <td>NaN</td>\n",
       "    </tr>\n",
       "    <tr>\n",
       "      <th>3</th>\n",
       "      <td>1</td>\n",
       "      <td>Fırat Üniversitesi</td>\n",
       "      <td>Yüksek Lisans</td>\n",
       "      <td>Yazılım Mühendisliği</td>\n",
       "      <td>NaN</td>\n",
       "      <td>NaN</td>\n",
       "    </tr>\n",
       "    <tr>\n",
       "      <th>4</th>\n",
       "      <td>1</td>\n",
       "      <td>Fırat Üniversitesi</td>\n",
       "      <td>Lisans</td>\n",
       "      <td>Yazılım Mühendisliği</td>\n",
       "      <td>NaN</td>\n",
       "      <td>NaN</td>\n",
       "    </tr>\n",
       "  </tbody>\n",
       "</table>\n",
       "</div>"
      ],
      "text/plain": [
       "   user_id            school_name         degree       fields_of_study  \\\n",
       "0        0   Anadolu Üniversitesi            NaN                   NaN   \n",
       "1        0  Adıyaman Üniversitesi            NaN                   NaN   \n",
       "2        0     Fırat Üniversitesi            NaN                   NaN   \n",
       "3        1     Fırat Üniversitesi  Yüksek Lisans  Yazılım Mühendisliği   \n",
       "4        1     Fırat Üniversitesi         Lisans  Yazılım Mühendisliği   \n",
       "\n",
       "   start_year_month  end_year_month  \n",
       "0               NaN             NaN  \n",
       "1               NaN             NaN  \n",
       "2               NaN             NaN  \n",
       "3               NaN             NaN  \n",
       "4               NaN             NaN  "
      ]
     },
     "metadata": {},
     "output_type": "display_data"
    },
    {
     "name": "stdout",
     "output_type": "stream",
     "text": [
      "Info \n",
      "<class 'pandas.core.frame.DataFrame'>\n",
      "RangeIndex: 142575 entries, 0 to 142574\n",
      "Data columns (total 6 columns):\n",
      " #   Column            Non-Null Count   Dtype  \n",
      "---  ------            --------------   -----  \n",
      " 0   user_id           142575 non-null  int64  \n",
      " 1   school_name       142575 non-null  object \n",
      " 2   degree            106733 non-null  object \n",
      " 3   fields_of_study   122737 non-null  object \n",
      " 4   start_year_month  8202 non-null    float64\n",
      " 5   end_year_month    7590 non-null    float64\n",
      "dtypes: float64(2), int64(1), object(3)\n",
      "memory usage: 6.5+ MB\n",
      "None\n",
      "Description \n"
     ]
    },
    {
     "data": {
      "text/html": [
       "<div>\n",
       "<style scoped>\n",
       "    .dataframe tbody tr th:only-of-type {\n",
       "        vertical-align: middle;\n",
       "    }\n",
       "\n",
       "    .dataframe tbody tr th {\n",
       "        vertical-align: top;\n",
       "    }\n",
       "\n",
       "    .dataframe thead th {\n",
       "        text-align: right;\n",
       "    }\n",
       "</style>\n",
       "<table border=\"1\" class=\"dataframe\">\n",
       "  <thead>\n",
       "    <tr style=\"text-align: right;\">\n",
       "      <th></th>\n",
       "      <th>count</th>\n",
       "      <th>mean</th>\n",
       "      <th>std</th>\n",
       "      <th>min</th>\n",
       "      <th>25%</th>\n",
       "      <th>50%</th>\n",
       "      <th>75%</th>\n",
       "      <th>max</th>\n",
       "    </tr>\n",
       "  </thead>\n",
       "  <tbody>\n",
       "    <tr>\n",
       "      <th>user_id</th>\n",
       "      <td>142575.0</td>\n",
       "      <td>33234.221799</td>\n",
       "      <td>19089.852710</td>\n",
       "      <td>0.0</td>\n",
       "      <td>16907.5</td>\n",
       "      <td>33015.0</td>\n",
       "      <td>49636.0</td>\n",
       "      <td>66273.0</td>\n",
       "    </tr>\n",
       "    <tr>\n",
       "      <th>start_year_month</th>\n",
       "      <td>8202.0</td>\n",
       "      <td>201589.231041</td>\n",
       "      <td>660.950242</td>\n",
       "      <td>197009.0</td>\n",
       "      <td>201409.0</td>\n",
       "      <td>201809.0</td>\n",
       "      <td>202102.0</td>\n",
       "      <td>202111.0</td>\n",
       "    </tr>\n",
       "    <tr>\n",
       "      <th>end_year_month</th>\n",
       "      <td>7590.0</td>\n",
       "      <td>201866.930962</td>\n",
       "      <td>612.396043</td>\n",
       "      <td>197406.0</td>\n",
       "      <td>201708.0</td>\n",
       "      <td>202106.0</td>\n",
       "      <td>202206.0</td>\n",
       "      <td>203009.0</td>\n",
       "    </tr>\n",
       "  </tbody>\n",
       "</table>\n",
       "</div>"
      ],
      "text/plain": [
       "                     count           mean           std       min       25%  \\\n",
       "user_id           142575.0   33234.221799  19089.852710       0.0   16907.5   \n",
       "start_year_month    8202.0  201589.231041    660.950242  197009.0  201409.0   \n",
       "end_year_month      7590.0  201866.930962    612.396043  197406.0  201708.0   \n",
       "\n",
       "                       50%       75%       max  \n",
       "user_id            33015.0   49636.0   66273.0  \n",
       "start_year_month  201809.0  202102.0  202111.0  \n",
       "end_year_month    202106.0  202206.0  203009.0  "
      ]
     },
     "metadata": {},
     "output_type": "display_data"
    },
    {
     "name": "stdout",
     "output_type": "stream",
     "text": [
      "NaNs \n",
      "user_id                  0\n",
      "school_name              0\n",
      "degree               35842\n",
      "fields_of_study      19838\n",
      "start_year_month    134373\n",
      "end_year_month      134985\n",
      "dtype: int64\n",
      "Quantiles \n"
     ]
    },
    {
     "data": {
      "text/html": [
       "<div>\n",
       "<style scoped>\n",
       "    .dataframe tbody tr th:only-of-type {\n",
       "        vertical-align: middle;\n",
       "    }\n",
       "\n",
       "    .dataframe tbody tr th {\n",
       "        vertical-align: top;\n",
       "    }\n",
       "\n",
       "    .dataframe thead th {\n",
       "        text-align: right;\n",
       "    }\n",
       "</style>\n",
       "<table border=\"1\" class=\"dataframe\">\n",
       "  <thead>\n",
       "    <tr style=\"text-align: right;\">\n",
       "      <th></th>\n",
       "      <th>count</th>\n",
       "      <th>mean</th>\n",
       "      <th>std</th>\n",
       "      <th>min</th>\n",
       "      <th>0%</th>\n",
       "      <th>5%</th>\n",
       "      <th>50%</th>\n",
       "      <th>95%</th>\n",
       "      <th>99%</th>\n",
       "      <th>max</th>\n",
       "    </tr>\n",
       "  </thead>\n",
       "  <tbody>\n",
       "    <tr>\n",
       "      <th>user_id</th>\n",
       "      <td>142575.0</td>\n",
       "      <td>33234.221799</td>\n",
       "      <td>19089.852710</td>\n",
       "      <td>0.0</td>\n",
       "      <td>0.0</td>\n",
       "      <td>3690.0</td>\n",
       "      <td>33015.0</td>\n",
       "      <td>63249.0</td>\n",
       "      <td>65716.0</td>\n",
       "      <td>66273.0</td>\n",
       "    </tr>\n",
       "    <tr>\n",
       "      <th>start_year_month</th>\n",
       "      <td>8202.0</td>\n",
       "      <td>201589.231041</td>\n",
       "      <td>660.950242</td>\n",
       "      <td>197009.0</td>\n",
       "      <td>197009.0</td>\n",
       "      <td>200209.0</td>\n",
       "      <td>201809.0</td>\n",
       "      <td>202110.0</td>\n",
       "      <td>202110.0</td>\n",
       "      <td>202111.0</td>\n",
       "    </tr>\n",
       "    <tr>\n",
       "      <th>end_year_month</th>\n",
       "      <td>7590.0</td>\n",
       "      <td>201866.930962</td>\n",
       "      <td>612.396043</td>\n",
       "      <td>197406.0</td>\n",
       "      <td>197406.0</td>\n",
       "      <td>200507.0</td>\n",
       "      <td>202106.0</td>\n",
       "      <td>202407.0</td>\n",
       "      <td>202509.0</td>\n",
       "      <td>203009.0</td>\n",
       "    </tr>\n",
       "  </tbody>\n",
       "</table>\n",
       "</div>"
      ],
      "text/plain": [
       "                     count           mean           std       min        0%  \\\n",
       "user_id           142575.0   33234.221799  19089.852710       0.0       0.0   \n",
       "start_year_month    8202.0  201589.231041    660.950242  197009.0  197009.0   \n",
       "end_year_month      7590.0  201866.930962    612.396043  197406.0  197406.0   \n",
       "\n",
       "                        5%       50%       95%       99%       max  \n",
       "user_id             3690.0   33015.0   63249.0   65716.0   66273.0  \n",
       "start_year_month  200209.0  201809.0  202110.0  202110.0  202111.0  \n",
       "end_year_month    200507.0  202106.0  202407.0  202509.0  203009.0  "
      ]
     },
     "metadata": {},
     "output_type": "display_data"
    },
    {
     "name": "stdout",
     "output_type": "stream",
     "text": [
      "Unique Values in categorical columns\n",
      "school_name :  11113\n",
      "degree :  5889\n",
      "fields_of_study :  11049\n"
     ]
    }
   ],
   "source": [
    "check_df(df_ed)"
   ]
  },
  {
   "cell_type": "code",
   "execution_count": 102,
   "metadata": {},
   "outputs": [
    {
     "name": "stdout",
     "output_type": "stream",
     "text": [
      "There are  66271  unique user\n"
     ]
    }
   ],
   "source": [
    "print(\"There are \", df_ed[\"user_id\"].nunique(), \" unique user\")"
   ]
  },
  {
   "attachments": {},
   "cell_type": "markdown",
   "metadata": {},
   "source": [
    "Take a look at the cateorical columns\n",
    "- Print each one and take a look in the text editor "
   ]
  },
  {
   "cell_type": "code",
   "execution_count": 85,
   "metadata": {},
   "outputs": [
    {
     "ename": "SyntaxError",
     "evalue": "unexpected EOF while parsing (184973442.py, line 5)",
     "output_type": "error",
     "traceback": [
      "\u001b[1;36m  File \u001b[1;32m\"C:\\Users\\feyzi\\AppData\\Local\\Temp\\ipykernel_27572\\184973442.py\"\u001b[1;36m, line \u001b[1;32m5\u001b[0m\n\u001b[1;33m    #print(elem)\u001b[0m\n\u001b[1;37m                ^\u001b[0m\n\u001b[1;31mSyntaxError\u001b[0m\u001b[1;31m:\u001b[0m unexpected EOF while parsing\n"
     ]
    }
   ],
   "source": [
    "#list =df_ed.degree.unique()\n",
    "#list = df_ed[\"fields_of_study\"].unique()\n",
    "list = df_ed[\"school_name\"].unique()\n",
    "for elem in list:\n",
    "    #print(elem)"
   ]
  },
  {
   "attachments": {},
   "cell_type": "markdown",
   "metadata": {},
   "source": [
    "Notes\n",
    "- Field of study: Need some way to reduce the number of categories by grouping similar objects, (eg all Computer science related subjects)\n",
    "- Degree: Whole thing is a mess, need to reduce to : Primary, High school, Bachelor, Master, PHD only\n",
    "- School_name: Maybe categorise into rankings? Eg. 1=School in top 100, 2=in top 200 etc"
   ]
  },
  {
   "attachments": {},
   "cell_type": "markdown",
   "metadata": {},
   "source": [
    "Take a look at the dates\n",
    "- Check the distribution of dates\n",
    "- Check if anyone lacks a starting date but has an end date"
   ]
  },
  {
   "cell_type": "code",
   "execution_count": 86,
   "metadata": {},
   "outputs": [
    {
     "data": {
      "text/plain": [
       "Index(['user_id', 'school_name', 'degree', 'fields_of_study',\n",
       "       'start_year_month', 'end_year_month'],\n",
       "      dtype='object')"
      ]
     },
     "execution_count": 86,
     "metadata": {},
     "output_type": "execute_result"
    }
   ],
   "source": [
    "cols = df_ed.columns\n",
    "cols"
   ]
  },
  {
   "cell_type": "code",
   "execution_count": 87,
   "metadata": {},
   "outputs": [
    {
     "data": {
      "text/plain": [
       "792"
      ]
     },
     "execution_count": 87,
     "metadata": {},
     "output_type": "execute_result"
    }
   ],
   "source": [
    "# These people only have an end date\n",
    "df_ed[(df_ed[cols[-2]].isna()) & ~(df_ed[cols[-1]].isna())].shape[0] "
   ]
  },
  {
   "cell_type": "code",
   "execution_count": 88,
   "metadata": {},
   "outputs": [
    {
     "data": {
      "text/plain": [
       "1404"
      ]
     },
     "execution_count": 88,
     "metadata": {},
     "output_type": "execute_result"
    }
   ],
   "source": [
    "# These people only have a start date\n",
    "df_ed[~(df_ed[cols[-2]].isna()) & (df_ed[cols[-1]].isna())].shape[0] "
   ]
  },
  {
   "cell_type": "code",
   "execution_count": 89,
   "metadata": {},
   "outputs": [
    {
     "data": {
      "text/plain": [
       "133581"
      ]
     },
     "execution_count": 89,
     "metadata": {},
     "output_type": "execute_result"
    }
   ],
   "source": [
    "# These people only have no date\n",
    "df_ed[(df_ed[cols[-2]].isna()) & (df_ed[cols[-1]].isna())].shape[0] "
   ]
  },
  {
   "cell_type": "code",
   "execution_count": 90,
   "metadata": {},
   "outputs": [
    {
     "data": {
      "text/plain": [
       "<AxesSubplot: >"
      ]
     },
     "execution_count": 90,
     "metadata": {},
     "output_type": "execute_result"
    },
    {
     "data": {
      "image/png": "[encoded data removed]",
      "text/plain": [
       "<Figure size 640x480 with 1 Axes>"
      ]
     },
     "metadata": {},
     "output_type": "display_data"
    }
   ],
   "source": [
    "df_ed[cols[-2]].hist(grid=\"False\",bins=40,legend=True)"
   ]
  },
  {
   "cell_type": "code",
   "execution_count": 91,
   "metadata": {},
   "outputs": [
    {
     "data": {
      "text/plain": [
       "<AxesSubplot: >"
      ]
     },
     "execution_count": 91,
     "metadata": {},
     "output_type": "execute_result"
    },
    {
     "data": {
      "image/png": "[encoded data removed]",
      "text/plain": [
       "<Figure size 640x480 with 1 Axes>"
      ]
     },
     "metadata": {},
     "output_type": "display_data"
    }
   ],
   "source": [
    "df_ed[cols[-1]].hist(grid=\"False\",bins=40,legend=True)"
   ]
  },
  {
   "attachments": {},
   "cell_type": "markdown",
   "metadata": {},
   "source": [
    "## Language Data"
   ]
  },
  {
   "cell_type": "code",
   "execution_count": 95,
   "metadata": {},
   "outputs": [
    {
     "name": "stdout",
     "output_type": "stream",
     "text": [
      "Shape:  (76062, 3)\n",
      "Data Types: \n",
      "user_id         int64\n",
      "language       object\n",
      "proficiency    object\n",
      "dtype: object\n",
      "Head \n"
     ]
    },
    {
     "data": {
      "text/html": [
       "<div>\n",
       "<style scoped>\n",
       "    .dataframe tbody tr th:only-of-type {\n",
       "        vertical-align: middle;\n",
       "    }\n",
       "\n",
       "    .dataframe tbody tr th {\n",
       "        vertical-align: top;\n",
       "    }\n",
       "\n",
       "    .dataframe thead th {\n",
       "        text-align: right;\n",
       "    }\n",
       "</style>\n",
       "<table border=\"1\" class=\"dataframe\">\n",
       "  <thead>\n",
       "    <tr style=\"text-align: right;\">\n",
       "      <th></th>\n",
       "      <th>user_id</th>\n",
       "      <th>language</th>\n",
       "      <th>proficiency</th>\n",
       "    </tr>\n",
       "  </thead>\n",
       "  <tbody>\n",
       "    <tr>\n",
       "      <th>0</th>\n",
       "      <td>8</td>\n",
       "      <td>İngilizce</td>\n",
       "      <td>full_professional</td>\n",
       "    </tr>\n",
       "    <tr>\n",
       "      <th>1</th>\n",
       "      <td>8</td>\n",
       "      <td>Türkçe</td>\n",
       "      <td>native_or_bilingual</td>\n",
       "    </tr>\n",
       "    <tr>\n",
       "      <th>2</th>\n",
       "      <td>8</td>\n",
       "      <td>Fransızca</td>\n",
       "      <td>elementary</td>\n",
       "    </tr>\n",
       "    <tr>\n",
       "      <th>3</th>\n",
       "      <td>10</td>\n",
       "      <td>ingilizce</td>\n",
       "      <td>NaN</td>\n",
       "    </tr>\n",
       "    <tr>\n",
       "      <th>4</th>\n",
       "      <td>11</td>\n",
       "      <td>Turkish</td>\n",
       "      <td>native_or_bilingual</td>\n",
       "    </tr>\n",
       "  </tbody>\n",
       "</table>\n",
       "</div>"
      ],
      "text/plain": [
       "   user_id   language          proficiency\n",
       "0        8  İngilizce    full_professional\n",
       "1        8     Türkçe  native_or_bilingual\n",
       "2        8  Fransızca           elementary\n",
       "3       10  ingilizce                  NaN\n",
       "4       11    Turkish  native_or_bilingual"
      ]
     },
     "metadata": {},
     "output_type": "display_data"
    },
    {
     "name": "stdout",
     "output_type": "stream",
     "text": [
      "Info \n",
      "<class 'pandas.core.frame.DataFrame'>\n",
      "RangeIndex: 76062 entries, 0 to 76061\n",
      "Data columns (total 3 columns):\n",
      " #   Column       Non-Null Count  Dtype \n",
      "---  ------       --------------  ----- \n",
      " 0   user_id      76062 non-null  int64 \n",
      " 1   language     76062 non-null  object\n",
      " 2   proficiency  65401 non-null  object\n",
      "dtypes: int64(1), object(2)\n",
      "memory usage: 1.7+ MB\n",
      "None\n",
      "Description \n"
     ]
    },
    {
     "data": {
      "text/html": [
       "<div>\n",
       "<style scoped>\n",
       "    .dataframe tbody tr th:only-of-type {\n",
       "        vertical-align: middle;\n",
       "    }\n",
       "\n",
       "    .dataframe tbody tr th {\n",
       "        vertical-align: top;\n",
       "    }\n",
       "\n",
       "    .dataframe thead th {\n",
       "        text-align: right;\n",
       "    }\n",
       "</style>\n",
       "<table border=\"1\" class=\"dataframe\">\n",
       "  <thead>\n",
       "    <tr style=\"text-align: right;\">\n",
       "      <th></th>\n",
       "      <th>count</th>\n",
       "      <th>mean</th>\n",
       "      <th>std</th>\n",
       "      <th>min</th>\n",
       "      <th>25%</th>\n",
       "      <th>50%</th>\n",
       "      <th>75%</th>\n",
       "      <th>max</th>\n",
       "    </tr>\n",
       "  </thead>\n",
       "  <tbody>\n",
       "    <tr>\n",
       "      <th>user_id</th>\n",
       "      <td>76062.0</td>\n",
       "      <td>32981.29965</td>\n",
       "      <td>19103.673868</td>\n",
       "      <td>8.0</td>\n",
       "      <td>16409.0</td>\n",
       "      <td>32061.0</td>\n",
       "      <td>49683.0</td>\n",
       "      <td>66273.0</td>\n",
       "    </tr>\n",
       "  </tbody>\n",
       "</table>\n",
       "</div>"
      ],
      "text/plain": [
       "           count         mean           std  min      25%      50%      75%  \\\n",
       "user_id  76062.0  32981.29965  19103.673868  8.0  16409.0  32061.0  49683.0   \n",
       "\n",
       "             max  \n",
       "user_id  66273.0  "
      ]
     },
     "metadata": {},
     "output_type": "display_data"
    },
    {
     "name": "stdout",
     "output_type": "stream",
     "text": [
      "NaNs \n",
      "user_id            0\n",
      "language           0\n",
      "proficiency    10661\n",
      "dtype: int64\n",
      "Quantiles \n"
     ]
    },
    {
     "data": {
      "text/html": [
       "<div>\n",
       "<style scoped>\n",
       "    .dataframe tbody tr th:only-of-type {\n",
       "        vertical-align: middle;\n",
       "    }\n",
       "\n",
       "    .dataframe tbody tr th {\n",
       "        vertical-align: top;\n",
       "    }\n",
       "\n",
       "    .dataframe thead th {\n",
       "        text-align: right;\n",
       "    }\n",
       "</style>\n",
       "<table border=\"1\" class=\"dataframe\">\n",
       "  <thead>\n",
       "    <tr style=\"text-align: right;\">\n",
       "      <th></th>\n",
       "      <th>count</th>\n",
       "      <th>mean</th>\n",
       "      <th>std</th>\n",
       "      <th>min</th>\n",
       "      <th>0%</th>\n",
       "      <th>5%</th>\n",
       "      <th>50%</th>\n",
       "      <th>95%</th>\n",
       "      <th>99%</th>\n",
       "      <th>max</th>\n",
       "    </tr>\n",
       "  </thead>\n",
       "  <tbody>\n",
       "    <tr>\n",
       "      <th>user_id</th>\n",
       "      <td>76062.0</td>\n",
       "      <td>32981.29965</td>\n",
       "      <td>19103.673868</td>\n",
       "      <td>8.0</td>\n",
       "      <td>8.0</td>\n",
       "      <td>4086.05</td>\n",
       "      <td>32061.0</td>\n",
       "      <td>63227.95</td>\n",
       "      <td>65725.0</td>\n",
       "      <td>66273.0</td>\n",
       "    </tr>\n",
       "  </tbody>\n",
       "</table>\n",
       "</div>"
      ],
      "text/plain": [
       "           count         mean           std  min   0%       5%      50%  \\\n",
       "user_id  76062.0  32981.29965  19103.673868  8.0  8.0  4086.05  32061.0   \n",
       "\n",
       "              95%      99%      max  \n",
       "user_id  63227.95  65725.0  66273.0  "
      ]
     },
     "metadata": {},
     "output_type": "display_data"
    },
    {
     "name": "stdout",
     "output_type": "stream",
     "text": [
      "Unique Values in categorical columns\n",
      "language :  513\n",
      "proficiency :  6\n"
     ]
    }
   ],
   "source": [
    "check_df(df_lang)"
   ]
  },
  {
   "cell_type": "code",
   "execution_count": 100,
   "metadata": {},
   "outputs": [
    {
     "name": "stdout",
     "output_type": "stream",
     "text": [
      "There are  37290  unique user\n"
     ]
    }
   ],
   "source": [
    "print(\"There are \", df_lang[\"user_id\"].nunique(), \" unique user\")"
   ]
  },
  {
   "cell_type": "code",
   "execution_count": 101,
   "metadata": {},
   "outputs": [
    {
     "data": {
      "text/plain": [
       "İngilizce                          20702\n",
       "English                            14863\n",
       "Türkçe                             14007\n",
       "Turkish                             8261\n",
       "Almanca                             3732\n",
       "                                   ...  \n",
       "İngilizce (Upper-Intermediate)         1\n",
       "Wollof                                 1\n",
       "Adıge dili                             1\n",
       "Circassian                             1\n",
       "Swiss German (Schweizerdeutsch)        1\n",
       "Name: language, Length: 513, dtype: int64"
      ]
     },
     "execution_count": 101,
     "metadata": {},
     "output_type": "execute_result"
    }
   ],
   "source": [
    "df_lang[\"language\"].value_counts()"
   ]
  },
  {
   "cell_type": "code",
   "execution_count": 103,
   "metadata": {},
   "outputs": [
    {
     "data": {
      "text/plain": [
       "native_or_bilingual     22026\n",
       "professional_working    18306\n",
       "elementary               8971\n",
       "full_professional        8389\n",
       "limited_working          7709\n",
       "Name: proficiency, dtype: int64"
      ]
     },
     "execution_count": 103,
     "metadata": {},
     "output_type": "execute_result"
    }
   ],
   "source": [
    "df_lang[\"proficiency\"].value_counts()"
   ]
  },
  {
   "attachments": {},
   "cell_type": "markdown",
   "metadata": {},
   "source": [
    "Notes\n",
    "- Lots of users lack language data, unsure what to do with them, perhaps assume they don't know a foreign language\n",
    "- Same languages appear mulitpel times due to inconsistent spelling, merge these\n",
    "- Ignore obscure languages that 1-2 people speak\n",
    "- Turn the language data into a categorical variable, like one hot encoding the 5 most popular languages, ignoring the rest, and having a column to mark #lagnauges one knows"
   ]
  },
  {
   "attachments": {},
   "cell_type": "markdown",
   "metadata": {},
   "source": [
    "## Skills data"
   ]
  },
  {
   "cell_type": "code",
   "execution_count": 104,
   "metadata": {},
   "outputs": [
    {
     "name": "stdout",
     "output_type": "stream",
     "text": [
      "Shape:  (1398443, 2)\n",
      "Data Types: \n",
      "user_id     int64\n",
      "skill      object\n",
      "dtype: object\n",
      "Head \n"
     ]
    },
    {
     "data": {
      "text/html": [
       "<div>\n",
       "<style scoped>\n",
       "    .dataframe tbody tr th:only-of-type {\n",
       "        vertical-align: middle;\n",
       "    }\n",
       "\n",
       "    .dataframe tbody tr th {\n",
       "        vertical-align: top;\n",
       "    }\n",
       "\n",
       "    .dataframe thead th {\n",
       "        text-align: right;\n",
       "    }\n",
       "</style>\n",
       "<table border=\"1\" class=\"dataframe\">\n",
       "  <thead>\n",
       "    <tr style=\"text-align: right;\">\n",
       "      <th></th>\n",
       "      <th>user_id</th>\n",
       "      <th>skill</th>\n",
       "    </tr>\n",
       "  </thead>\n",
       "  <tbody>\n",
       "    <tr>\n",
       "      <th>0</th>\n",
       "      <td>1</td>\n",
       "      <td>Mühendislik</td>\n",
       "    </tr>\n",
       "    <tr>\n",
       "      <th>1</th>\n",
       "      <td>1</td>\n",
       "      <td>Eğitim</td>\n",
       "    </tr>\n",
       "    <tr>\n",
       "      <th>2</th>\n",
       "      <td>2</td>\n",
       "      <td>Android</td>\n",
       "    </tr>\n",
       "    <tr>\n",
       "      <th>3</th>\n",
       "      <td>2</td>\n",
       "      <td>Java</td>\n",
       "    </tr>\n",
       "    <tr>\n",
       "      <th>4</th>\n",
       "      <td>2</td>\n",
       "      <td>3D Studio Max</td>\n",
       "    </tr>\n",
       "  </tbody>\n",
       "</table>\n",
       "</div>"
      ],
      "text/plain": [
       "   user_id          skill\n",
       "0        1    Mühendislik\n",
       "1        1         Eğitim\n",
       "2        2        Android\n",
       "3        2           Java\n",
       "4        2  3D Studio Max"
      ]
     },
     "metadata": {},
     "output_type": "display_data"
    },
    {
     "name": "stdout",
     "output_type": "stream",
     "text": [
      "Info \n",
      "<class 'pandas.core.frame.DataFrame'>\n",
      "RangeIndex: 1398443 entries, 0 to 1398442\n",
      "Data columns (total 2 columns):\n",
      " #   Column   Non-Null Count    Dtype \n",
      "---  ------   --------------    ----- \n",
      " 0   user_id  1398443 non-null  int64 \n",
      " 1   skill    1398443 non-null  object\n",
      "dtypes: int64(1), object(1)\n",
      "memory usage: 21.3+ MB\n",
      "None\n",
      "Description \n"
     ]
    },
    {
     "data": {
      "text/html": [
       "<div>\n",
       "<style scoped>\n",
       "    .dataframe tbody tr th:only-of-type {\n",
       "        vertical-align: middle;\n",
       "    }\n",
       "\n",
       "    .dataframe tbody tr th {\n",
       "        vertical-align: top;\n",
       "    }\n",
       "\n",
       "    .dataframe thead th {\n",
       "        text-align: right;\n",
       "    }\n",
       "</style>\n",
       "<table border=\"1\" class=\"dataframe\">\n",
       "  <thead>\n",
       "    <tr style=\"text-align: right;\">\n",
       "      <th></th>\n",
       "      <th>count</th>\n",
       "      <th>mean</th>\n",
       "      <th>std</th>\n",
       "      <th>min</th>\n",
       "      <th>25%</th>\n",
       "      <th>50%</th>\n",
       "      <th>75%</th>\n",
       "      <th>max</th>\n",
       "    </tr>\n",
       "  </thead>\n",
       "  <tbody>\n",
       "    <tr>\n",
       "      <th>user_id</th>\n",
       "      <td>1398443.0</td>\n",
       "      <td>33077.666533</td>\n",
       "      <td>19259.24418</td>\n",
       "      <td>1.0</td>\n",
       "      <td>16322.0</td>\n",
       "      <td>32949.0</td>\n",
       "      <td>49796.0</td>\n",
       "      <td>66273.0</td>\n",
       "    </tr>\n",
       "  </tbody>\n",
       "</table>\n",
       "</div>"
      ],
      "text/plain": [
       "             count          mean          std  min      25%      50%      75%  \\\n",
       "user_id  1398443.0  33077.666533  19259.24418  1.0  16322.0  32949.0  49796.0   \n",
       "\n",
       "             max  \n",
       "user_id  66273.0  "
      ]
     },
     "metadata": {},
     "output_type": "display_data"
    },
    {
     "name": "stdout",
     "output_type": "stream",
     "text": [
      "NaNs \n",
      "user_id    0\n",
      "skill      0\n",
      "dtype: int64\n",
      "Quantiles \n"
     ]
    },
    {
     "data": {
      "text/html": [
       "<div>\n",
       "<style scoped>\n",
       "    .dataframe tbody tr th:only-of-type {\n",
       "        vertical-align: middle;\n",
       "    }\n",
       "\n",
       "    .dataframe tbody tr th {\n",
       "        vertical-align: top;\n",
       "    }\n",
       "\n",
       "    .dataframe thead th {\n",
       "        text-align: right;\n",
       "    }\n",
       "</style>\n",
       "<table border=\"1\" class=\"dataframe\">\n",
       "  <thead>\n",
       "    <tr style=\"text-align: right;\">\n",
       "      <th></th>\n",
       "      <th>count</th>\n",
       "      <th>mean</th>\n",
       "      <th>std</th>\n",
       "      <th>min</th>\n",
       "      <th>0%</th>\n",
       "      <th>5%</th>\n",
       "      <th>50%</th>\n",
       "      <th>95%</th>\n",
       "      <th>99%</th>\n",
       "      <th>max</th>\n",
       "    </tr>\n",
       "  </thead>\n",
       "  <tbody>\n",
       "    <tr>\n",
       "      <th>user_id</th>\n",
       "      <td>1398443.0</td>\n",
       "      <td>33077.666533</td>\n",
       "      <td>19259.24418</td>\n",
       "      <td>1.0</td>\n",
       "      <td>1.0</td>\n",
       "      <td>3312.0</td>\n",
       "      <td>32949.0</td>\n",
       "      <td>63168.0</td>\n",
       "      <td>65725.0</td>\n",
       "      <td>66273.0</td>\n",
       "    </tr>\n",
       "  </tbody>\n",
       "</table>\n",
       "</div>"
      ],
      "text/plain": [
       "             count          mean          std  min   0%      5%      50%  \\\n",
       "user_id  1398443.0  33077.666533  19259.24418  1.0  1.0  3312.0  32949.0   \n",
       "\n",
       "             95%      99%      max  \n",
       "user_id  63168.0  65725.0  66273.0  "
      ]
     },
     "metadata": {},
     "output_type": "display_data"
    },
    {
     "name": "stdout",
     "output_type": "stream",
     "text": [
      "Unique Values in categorical columns\n",
      "skill :  53025\n"
     ]
    }
   ],
   "source": [
    "check_df(df_skill)"
   ]
  },
  {
   "cell_type": "code",
   "execution_count": 105,
   "metadata": {},
   "outputs": [
    {
     "data": {
      "text/plain": [
       "62402"
      ]
     },
     "execution_count": 105,
     "metadata": {},
     "output_type": "execute_result"
    }
   ],
   "source": [
    "df_skill[\"user_id\"].nunique()"
   ]
  },
  {
   "attachments": {},
   "cell_type": "markdown",
   "metadata": {},
   "source": [
    "Notes:\n",
    "- Some users have no skills, decide whether to mark them as skilless or aveage skilled\n",
    "- Lots of unique skills, need to put into broad categores, or have a variable to represent number of skills known"
   ]
  },
  {
   "attachments": {},
   "cell_type": "markdown",
   "metadata": {},
   "source": [
    "## Work Data"
   ]
  },
  {
   "cell_type": "code",
   "execution_count": 106,
   "metadata": {},
   "outputs": [
    {
     "name": "stdout",
     "output_type": "stream",
     "text": [
      "Shape:  (187019, 4)\n",
      "Data Types: \n",
      "user_id              int64\n",
      "company_id           int64\n",
      "location            object\n",
      "start_year_month     int64\n",
      "dtype: object\n",
      "Head \n"
     ]
    },
    {
     "data": {
      "text/html": [
       "<div>\n",
       "<style scoped>\n",
       "    .dataframe tbody tr th:only-of-type {\n",
       "        vertical-align: middle;\n",
       "    }\n",
       "\n",
       "    .dataframe tbody tr th {\n",
       "        vertical-align: top;\n",
       "    }\n",
       "\n",
       "    .dataframe thead th {\n",
       "        text-align: right;\n",
       "    }\n",
       "</style>\n",
       "<table border=\"1\" class=\"dataframe\">\n",
       "  <thead>\n",
       "    <tr style=\"text-align: right;\">\n",
       "      <th></th>\n",
       "      <th>user_id</th>\n",
       "      <th>company_id</th>\n",
       "      <th>location</th>\n",
       "      <th>start_year_month</th>\n",
       "    </tr>\n",
       "  </thead>\n",
       "  <tbody>\n",
       "    <tr>\n",
       "      <th>0</th>\n",
       "      <td>53442</td>\n",
       "      <td>2651</td>\n",
       "      <td>Istanbul, Turkey</td>\n",
       "      <td>201509</td>\n",
       "    </tr>\n",
       "    <tr>\n",
       "      <th>1</th>\n",
       "      <td>34558</td>\n",
       "      <td>815</td>\n",
       "      <td>Istanbul, Turkey</td>\n",
       "      <td>201210</td>\n",
       "    </tr>\n",
       "    <tr>\n",
       "      <th>2</th>\n",
       "      <td>63761</td>\n",
       "      <td>26354</td>\n",
       "      <td>NaN</td>\n",
       "      <td>200010</td>\n",
       "    </tr>\n",
       "    <tr>\n",
       "      <th>3</th>\n",
       "      <td>10738</td>\n",
       "      <td>89</td>\n",
       "      <td>NaN</td>\n",
       "      <td>201610</td>\n",
       "    </tr>\n",
       "    <tr>\n",
       "      <th>4</th>\n",
       "      <td>8711</td>\n",
       "      <td>3113</td>\n",
       "      <td>Istanbul, Turkey</td>\n",
       "      <td>201801</td>\n",
       "    </tr>\n",
       "  </tbody>\n",
       "</table>\n",
       "</div>"
      ],
      "text/plain": [
       "   user_id  company_id          location  start_year_month\n",
       "0    53442        2651  Istanbul, Turkey            201509\n",
       "1    34558         815  Istanbul, Turkey            201210\n",
       "2    63761       26354               NaN            200010\n",
       "3    10738          89               NaN            201610\n",
       "4     8711        3113  Istanbul, Turkey            201801"
      ]
     },
     "metadata": {},
     "output_type": "display_data"
    },
    {
     "name": "stdout",
     "output_type": "stream",
     "text": [
      "Info \n",
      "<class 'pandas.core.frame.DataFrame'>\n",
      "RangeIndex: 187019 entries, 0 to 187018\n",
      "Data columns (total 4 columns):\n",
      " #   Column            Non-Null Count   Dtype \n",
      "---  ------            --------------   ----- \n",
      " 0   user_id           187019 non-null  int64 \n",
      " 1   company_id        187019 non-null  int64 \n",
      " 2   location          125605 non-null  object\n",
      " 3   start_year_month  187019 non-null  int64 \n",
      "dtypes: int64(3), object(1)\n",
      "memory usage: 5.7+ MB\n",
      "None\n",
      "Description \n"
     ]
    },
    {
     "data": {
      "text/html": [
       "<div>\n",
       "<style scoped>\n",
       "    .dataframe tbody tr th:only-of-type {\n",
       "        vertical-align: middle;\n",
       "    }\n",
       "\n",
       "    .dataframe tbody tr th {\n",
       "        vertical-align: top;\n",
       "    }\n",
       "\n",
       "    .dataframe thead th {\n",
       "        text-align: right;\n",
       "    }\n",
       "</style>\n",
       "<table border=\"1\" class=\"dataframe\">\n",
       "  <thead>\n",
       "    <tr style=\"text-align: right;\">\n",
       "      <th></th>\n",
       "      <th>count</th>\n",
       "      <th>mean</th>\n",
       "      <th>std</th>\n",
       "      <th>min</th>\n",
       "      <th>25%</th>\n",
       "      <th>50%</th>\n",
       "      <th>75%</th>\n",
       "      <th>max</th>\n",
       "    </tr>\n",
       "  </thead>\n",
       "  <tbody>\n",
       "    <tr>\n",
       "      <th>user_id</th>\n",
       "      <td>187019.0</td>\n",
       "      <td>33570.105909</td>\n",
       "      <td>19327.660769</td>\n",
       "      <td>0.0</td>\n",
       "      <td>16822.0</td>\n",
       "      <td>33465.0</td>\n",
       "      <td>50436.0</td>\n",
       "      <td>66273.0</td>\n",
       "    </tr>\n",
       "    <tr>\n",
       "      <th>company_id</th>\n",
       "      <td>187019.0</td>\n",
       "      <td>5331.810329</td>\n",
       "      <td>6411.691207</td>\n",
       "      <td>0.0</td>\n",
       "      <td>890.0</td>\n",
       "      <td>2380.0</td>\n",
       "      <td>7461.0</td>\n",
       "      <td>26885.0</td>\n",
       "    </tr>\n",
       "    <tr>\n",
       "      <th>start_year_month</th>\n",
       "      <td>187019.0</td>\n",
       "      <td>201452.024457</td>\n",
       "      <td>448.488659</td>\n",
       "      <td>196103.0</td>\n",
       "      <td>201211.0</td>\n",
       "      <td>201603.0</td>\n",
       "      <td>201805.0</td>\n",
       "      <td>201912.0</td>\n",
       "    </tr>\n",
       "  </tbody>\n",
       "</table>\n",
       "</div>"
      ],
      "text/plain": [
       "                     count           mean           std       min       25%  \\\n",
       "user_id           187019.0   33570.105909  19327.660769       0.0   16822.0   \n",
       "company_id        187019.0    5331.810329   6411.691207       0.0     890.0   \n",
       "start_year_month  187019.0  201452.024457    448.488659  196103.0  201211.0   \n",
       "\n",
       "                       50%       75%       max  \n",
       "user_id            33465.0   50436.0   66273.0  \n",
       "company_id          2380.0    7461.0   26885.0  \n",
       "start_year_month  201603.0  201805.0  201912.0  "
      ]
     },
     "metadata": {},
     "output_type": "display_data"
    },
    {
     "name": "stdout",
     "output_type": "stream",
     "text": [
      "NaNs \n",
      "user_id                 0\n",
      "company_id              0\n",
      "location            61414\n",
      "start_year_month        0\n",
      "dtype: int64\n",
      "Quantiles \n"
     ]
    },
    {
     "data": {
      "text/html": [
       "<div>\n",
       "<style scoped>\n",
       "    .dataframe tbody tr th:only-of-type {\n",
       "        vertical-align: middle;\n",
       "    }\n",
       "\n",
       "    .dataframe tbody tr th {\n",
       "        vertical-align: top;\n",
       "    }\n",
       "\n",
       "    .dataframe thead th {\n",
       "        text-align: right;\n",
       "    }\n",
       "</style>\n",
       "<table border=\"1\" class=\"dataframe\">\n",
       "  <thead>\n",
       "    <tr style=\"text-align: right;\">\n",
       "      <th></th>\n",
       "      <th>count</th>\n",
       "      <th>mean</th>\n",
       "      <th>std</th>\n",
       "      <th>min</th>\n",
       "      <th>0%</th>\n",
       "      <th>5%</th>\n",
       "      <th>50%</th>\n",
       "      <th>95%</th>\n",
       "      <th>99%</th>\n",
       "      <th>max</th>\n",
       "    </tr>\n",
       "  </thead>\n",
       "  <tbody>\n",
       "    <tr>\n",
       "      <th>user_id</th>\n",
       "      <td>187019.0</td>\n",
       "      <td>33570.105909</td>\n",
       "      <td>19327.660769</td>\n",
       "      <td>0.0</td>\n",
       "      <td>0.0</td>\n",
       "      <td>3668.0</td>\n",
       "      <td>33465.0</td>\n",
       "      <td>63494.0</td>\n",
       "      <td>65800.00</td>\n",
       "      <td>66273.0</td>\n",
       "    </tr>\n",
       "    <tr>\n",
       "      <th>company_id</th>\n",
       "      <td>187019.0</td>\n",
       "      <td>5331.810329</td>\n",
       "      <td>6411.691207</td>\n",
       "      <td>0.0</td>\n",
       "      <td>0.0</td>\n",
       "      <td>76.0</td>\n",
       "      <td>2380.0</td>\n",
       "      <td>20428.0</td>\n",
       "      <td>25380.82</td>\n",
       "      <td>26885.0</td>\n",
       "    </tr>\n",
       "    <tr>\n",
       "      <th>start_year_month</th>\n",
       "      <td>187019.0</td>\n",
       "      <td>201452.024457</td>\n",
       "      <td>448.488659</td>\n",
       "      <td>196103.0</td>\n",
       "      <td>196103.0</td>\n",
       "      <td>200603.0</td>\n",
       "      <td>201603.0</td>\n",
       "      <td>201908.0</td>\n",
       "      <td>201911.00</td>\n",
       "      <td>201912.0</td>\n",
       "    </tr>\n",
       "  </tbody>\n",
       "</table>\n",
       "</div>"
      ],
      "text/plain": [
       "                     count           mean           std       min        0%  \\\n",
       "user_id           187019.0   33570.105909  19327.660769       0.0       0.0   \n",
       "company_id        187019.0    5331.810329   6411.691207       0.0       0.0   \n",
       "start_year_month  187019.0  201452.024457    448.488659  196103.0  196103.0   \n",
       "\n",
       "                        5%       50%       95%        99%       max  \n",
       "user_id             3668.0   33465.0   63494.0   65800.00   66273.0  \n",
       "company_id            76.0    2380.0   20428.0   25380.82   26885.0  \n",
       "start_year_month  200603.0  201603.0  201908.0  201911.00  201912.0  "
      ]
     },
     "metadata": {},
     "output_type": "display_data"
    },
    {
     "name": "stdout",
     "output_type": "stream",
     "text": [
      "Unique Values in categorical columns\n",
      "location :  6128\n"
     ]
    }
   ],
   "source": [
    "check_df(df_work)"
   ]
  },
  {
   "cell_type": "code",
   "execution_count": 112,
   "metadata": {},
   "outputs": [
    {
     "name": "stdout",
     "output_type": "stream",
     "text": [
      "User count:  57079 \n",
      "Company count:  20837\n"
     ]
    }
   ],
   "source": [
    "print(\"User count: \", df_work[\"user_id\"].nunique(),\n",
    "\"\\nCompany count: \", df_work[\"company_id\"].nunique())\n",
    "\n"
   ]
  },
  {
   "cell_type": "code",
   "execution_count": 114,
   "metadata": {},
   "outputs": [
    {
     "data": {
      "text/plain": [
       "<AxesSubplot: >"
      ]
     },
     "execution_count": 114,
     "metadata": {},
     "output_type": "execute_result"
    },
    {
     "data": {
      "image/png": "[encoded data removed]",
      "text/plain": [
       "<Figure size 640x480 with 1 Axes>"
      ]
     },
     "metadata": {},
     "output_type": "display_data"
    }
   ],
   "source": [
    "df_work[\"start_year_month\"].hist(grid=\"False\",bins=40,legend=True)"
   ]
  },
  {
   "attachments": {},
   "cell_type": "markdown",
   "metadata": {},
   "source": [
    "Notes:\n",
    "- Smt on the forum about ppl starting in 2019 all being marked with the same label (not left), so remove these from the training data\n",
    "    - First check this is indeed the case, and that none of these users are in the test data\n",
    "    - Company id is really useless as a predictive feature other than for clustering\n",
    "    - Location data also too messy, maybe divide to countries"
   ]
  },
  {
   "cell_type": "markdown",
   "metadata": {},
   "source": []
  }
 ],
 "metadata": {
  "kernelspec": {
   "display_name": "base",
   "language": "python",
   "name": "python3"
  },
  "language_info": {
   "codemirror_mode": {
    "name": "ipython",
    "version": 3
   },
   "file_extension": ".py",
   "mimetype": "text/x-python",
   "name": "python",
   "nbconvert_exporter": "python",
   "pygments_lexer": "ipython3",
   "version": "3.8.16"
  },
  "orig_nbformat": 4,
  "vscode": {
   "interpreter": {
    "hash": "ad2bdc8ecc057115af97d19610ffacc2b4e99fae6737bb82f5d7fb13d2f2c186"
   }
  }
 },
 "nbformat": 4,
 "nbformat_minor": 2
}
