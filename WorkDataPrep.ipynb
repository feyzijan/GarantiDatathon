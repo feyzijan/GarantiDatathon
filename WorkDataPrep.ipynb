{
 "cells": [
  {
   "attachments": {},
   "cell_type": "markdown",
   "metadata": {},
   "source": [
    "# Preparing the work_experiences.csv file"
   ]
  },
  {
   "cell_type": "code",
   "execution_count": 88,
   "metadata": {},
   "outputs": [],
   "source": [
    "import pandas as pd\n",
    "import os\n",
    "pd.options.display.max_rows = 50"
   ]
  },
  {
   "cell_type": "code",
   "execution_count": 89,
   "metadata": {},
   "outputs": [
    {
     "data": {
      "text/html": [
       "<div>\n",
       "<style scoped>\n",
       "    .dataframe tbody tr th:only-of-type {\n",
       "        vertical-align: middle;\n",
       "    }\n",
       "\n",
       "    .dataframe tbody tr th {\n",
       "        vertical-align: top;\n",
       "    }\n",
       "\n",
       "    .dataframe thead th {\n",
       "        text-align: right;\n",
       "    }\n",
       "</style>\n",
       "<table border=\"1\" class=\"dataframe\">\n",
       "  <thead>\n",
       "    <tr style=\"text-align: right;\">\n",
       "      <th></th>\n",
       "      <th>user_id</th>\n",
       "      <th>company_id</th>\n",
       "      <th>location</th>\n",
       "      <th>start_year_month</th>\n",
       "    </tr>\n",
       "  </thead>\n",
       "  <tbody>\n",
       "    <tr>\n",
       "      <th>0</th>\n",
       "      <td>53442</td>\n",
       "      <td>2651</td>\n",
       "      <td>Istanbul, Turkey</td>\n",
       "      <td>201509</td>\n",
       "    </tr>\n",
       "    <tr>\n",
       "      <th>1</th>\n",
       "      <td>34558</td>\n",
       "      <td>815</td>\n",
       "      <td>Istanbul, Turkey</td>\n",
       "      <td>201210</td>\n",
       "    </tr>\n",
       "    <tr>\n",
       "      <th>2</th>\n",
       "      <td>63761</td>\n",
       "      <td>26354</td>\n",
       "      <td>NaN</td>\n",
       "      <td>200010</td>\n",
       "    </tr>\n",
       "    <tr>\n",
       "      <th>3</th>\n",
       "      <td>10738</td>\n",
       "      <td>89</td>\n",
       "      <td>NaN</td>\n",
       "      <td>201610</td>\n",
       "    </tr>\n",
       "    <tr>\n",
       "      <th>4</th>\n",
       "      <td>8711</td>\n",
       "      <td>3113</td>\n",
       "      <td>Istanbul, Turkey</td>\n",
       "      <td>201801</td>\n",
       "    </tr>\n",
       "  </tbody>\n",
       "</table>\n",
       "</div>"
      ],
      "text/plain": [
       "   user_id  company_id          location  start_year_month\n",
       "0    53442        2651  Istanbul, Turkey            201509\n",
       "1    34558         815  Istanbul, Turkey            201210\n",
       "2    63761       26354               NaN            200010\n",
       "3    10738          89               NaN            201610\n",
       "4     8711        3113  Istanbul, Turkey            201801"
      ]
     },
     "execution_count": 89,
     "metadata": {},
     "output_type": "execute_result"
    }
   ],
   "source": [
    "path = os.path.join('Originaldata', 'work_experiences.csv')\n",
    "df = pd.read_csv(path)\n",
    "df.head()"
   ]
  },
  {
   "attachments": {},
   "cell_type": "markdown",
   "metadata": {},
   "source": [
    "Check nan values"
   ]
  },
  {
   "cell_type": "code",
   "execution_count": 90,
   "metadata": {},
   "outputs": [
    {
     "data": {
      "text/plain": [
       "user_id                 0\n",
       "company_id              0\n",
       "location            61414\n",
       "start_year_month        0\n",
       "dtype: int64"
      ]
     },
     "execution_count": 90,
     "metadata": {},
     "output_type": "execute_result"
    }
   ],
   "source": [
    "df.isnull().sum()"
   ]
  },
  {
   "attachments": {},
   "cell_type": "markdown",
   "metadata": {},
   "source": [
    "Check unique values"
   ]
  },
  {
   "cell_type": "code",
   "execution_count": 91,
   "metadata": {},
   "outputs": [
    {
     "data": {
      "text/plain": [
       "user_id             57079\n",
       "company_id          20837\n",
       "location             6127\n",
       "start_year_month      397\n",
       "dtype: int64"
      ]
     },
     "execution_count": 91,
     "metadata": {},
     "output_type": "execute_result"
    }
   ],
   "source": [
    "df.nunique()"
   ]
  },
  {
   "attachments": {},
   "cell_type": "markdown",
   "metadata": {},
   "source": [
    "Fix up date formatting - convert to datetime"
   ]
  },
  {
   "cell_type": "code",
   "execution_count": 92,
   "metadata": {},
   "outputs": [],
   "source": [
    "# Put a '-' at in between the year and day in the format \"yyyydd\"\n",
    "df['start_year_month'] = df['start_year_month'].apply(lambda x: str(x)[:4] + '-' + str(x)[4:])\n",
    "# Turn the start_year_month column into a datetime object\n",
    "df['start_year_month'] = pd.to_datetime(df['start_year_month'], format='%Y-%m')\n",
    "# Rename the column to \"start_date\"\n",
    "df.rename(columns={'start_year_month': 'start_date'}, inplace=True)"
   ]
  },
  {
   "cell_type": "markdown",
   "metadata": {},
   "source": [
    "Sort by user "
   ]
  },
  {
   "cell_type": "code",
   "execution_count": 93,
   "metadata": {},
   "outputs": [],
   "source": [
    "df.sort_values(by=['user_id', 'start_date'], ascending=True, inplace=True)"
   ]
  },
  {
   "cell_type": "code",
   "execution_count": 94,
   "metadata": {},
   "outputs": [
    {
     "data": {
      "text/html": [
       "<div>\n",
       "<style scoped>\n",
       "    .dataframe tbody tr th:only-of-type {\n",
       "        vertical-align: middle;\n",
       "    }\n",
       "\n",
       "    .dataframe tbody tr th {\n",
       "        vertical-align: top;\n",
       "    }\n",
       "\n",
       "    .dataframe thead th {\n",
       "        text-align: right;\n",
       "    }\n",
       "</style>\n",
       "<table border=\"1\" class=\"dataframe\">\n",
       "  <thead>\n",
       "    <tr style=\"text-align: right;\">\n",
       "      <th></th>\n",
       "      <th>user_id</th>\n",
       "      <th>company_id</th>\n",
       "      <th>location</th>\n",
       "      <th>start_date</th>\n",
       "    </tr>\n",
       "  </thead>\n",
       "  <tbody>\n",
       "    <tr>\n",
       "      <th>147720</th>\n",
       "      <td>0</td>\n",
       "      <td>0</td>\n",
       "      <td>Serbest Çalışmalar</td>\n",
       "      <td>2005-09-01</td>\n",
       "    </tr>\n",
       "    <tr>\n",
       "      <th>174454</th>\n",
       "      <td>0</td>\n",
       "      <td>0</td>\n",
       "      <td>Visual Studio Asp.Net Developer</td>\n",
       "      <td>2005-09-01</td>\n",
       "    </tr>\n",
       "    <tr>\n",
       "      <th>760</th>\n",
       "      <td>2</td>\n",
       "      <td>9</td>\n",
       "      <td>Elazig, Turkey</td>\n",
       "      <td>2016-12-01</td>\n",
       "    </tr>\n",
       "    <tr>\n",
       "      <th>19762</th>\n",
       "      <td>2</td>\n",
       "      <td>7</td>\n",
       "      <td>Elazig, Turkey</td>\n",
       "      <td>2017-06-01</td>\n",
       "    </tr>\n",
       "    <tr>\n",
       "      <th>180157</th>\n",
       "      <td>2</td>\n",
       "      <td>10</td>\n",
       "      <td>Mersin, Turkey</td>\n",
       "      <td>2018-06-01</td>\n",
       "    </tr>\n",
       "  </tbody>\n",
       "</table>\n",
       "</div>"
      ],
      "text/plain": [
       "        user_id  company_id                         location start_date\n",
       "147720        0           0               Serbest Çalışmalar 2005-09-01\n",
       "174454        0           0  Visual Studio Asp.Net Developer 2005-09-01\n",
       "760           2           9                   Elazig, Turkey 2016-12-01\n",
       "19762         2           7                   Elazig, Turkey 2017-06-01\n",
       "180157        2          10                   Mersin, Turkey 2018-06-01"
      ]
     },
     "execution_count": 94,
     "metadata": {},
     "output_type": "execute_result"
    }
   ],
   "source": [
    "df.head()"
   ]
  },
  {
   "attachments": {},
   "cell_type": "markdown",
   "metadata": {},
   "source": [
    "####  Mark rows where the start date is after 2019, using datetime"
   ]
  },
  {
   "cell_type": "code",
   "execution_count": 95,
   "metadata": {},
   "outputs": [],
   "source": [
    "df[\"StartAfter2019\"] = 0 \n",
    "df.loc[df['start_date'] >= '2019-01-01',\"StartAfter2019\"] = 1"
   ]
  },
  {
   "attachments": {},
   "cell_type": "markdown",
   "metadata": {},
   "source": [
    "## Remove duplicates"
   ]
  },
  {
   "attachments": {},
   "cell_type": "markdown",
   "metadata": {},
   "source": [
    "Some users have multiple jobs starting at the same day at the same company, delete these."
   ]
  },
  {
   "cell_type": "code",
   "execution_count": 96,
   "metadata": {},
   "outputs": [],
   "source": [
    "df = df.sort_values(by=['user_id', 'start_date'])\n",
    "df = df.drop_duplicates(subset=['user_id', 'start_date', 'company_id'], keep='first')"
   ]
  },
  {
   "attachments": {},
   "cell_type": "markdown",
   "metadata": {},
   "source": [
    "### New features"
   ]
  },
  {
   "attachments": {},
   "cell_type": "markdown",
   "metadata": {},
   "source": [
    "- companies_worked : # unique companies worked at\n",
    "- positions_worked : # positions, recounting the ones at the same company"
   ]
  },
  {
   "cell_type": "code",
   "execution_count": 97,
   "metadata": {},
   "outputs": [],
   "source": [
    "df['companies_worked'] = df.groupby('user_id')['company_id'].transform('nunique')\n",
    "df['positions_worked'] = df.groupby('user_id')['company_id'].transform('count')"
   ]
  },
  {
   "attachments": {},
   "cell_type": "markdown",
   "metadata": {},
   "source": [
    "Check if these two columns are ever different"
   ]
  },
  {
   "cell_type": "code",
   "execution_count": 101,
   "metadata": {},
   "outputs": [
    {
     "data": {
      "text/plain": [
       "(82379, 7)"
      ]
     },
     "execution_count": 101,
     "metadata": {},
     "output_type": "execute_result"
    }
   ],
   "source": [
    "df[df['companies_worked'] != df['positions_worked']].shape"
   ]
  },
  {
   "attachments": {},
   "cell_type": "markdown",
   "metadata": {},
   "source": [
    "Yeah they are so lets keep them both"
   ]
  },
  {
   "attachments": {},
   "cell_type": "markdown",
   "metadata": {},
   "source": [
    "Working Length"
   ]
  },
  {
   "attachments": {},
   "cell_type": "markdown",
   "metadata": {},
   "source": [
    "- Number of days worked at each position\n",
    "     - Subtract first starting date from the next, or from 2019-01-01 if there is no next start date"
   ]
  },
  {
   "cell_type": "code",
   "execution_count": 105,
   "metadata": {},
   "outputs": [],
   "source": [
    "df['next_start_date'] = df.groupby('user_id')['start_date'].shift(-1)\n",
    "df['next_start_date'].fillna(pd.Timestamp('2019-01-01'), inplace=True)\n",
    "df['days_worked'] = (df['next_start_date'] - df['start_date']).dt.days\n",
    "df.drop(['next_start_date'], axis=1, inplace=True)"
   ]
  },
  {
   "cell_type": "code",
   "execution_count": 106,
   "metadata": {},
   "outputs": [
    {
     "data": {
      "text/html": [
       "<div>\n",
       "<style scoped>\n",
       "    .dataframe tbody tr th:only-of-type {\n",
       "        vertical-align: middle;\n",
       "    }\n",
       "\n",
       "    .dataframe tbody tr th {\n",
       "        vertical-align: top;\n",
       "    }\n",
       "\n",
       "    .dataframe thead th {\n",
       "        text-align: right;\n",
       "    }\n",
       "</style>\n",
       "<table border=\"1\" class=\"dataframe\">\n",
       "  <thead>\n",
       "    <tr style=\"text-align: right;\">\n",
       "      <th></th>\n",
       "      <th>user_id</th>\n",
       "      <th>company_id</th>\n",
       "      <th>location</th>\n",
       "      <th>start_date</th>\n",
       "      <th>StartAfter2019</th>\n",
       "      <th>companies_worked</th>\n",
       "      <th>positions_worked</th>\n",
       "      <th>days_worked</th>\n",
       "    </tr>\n",
       "  </thead>\n",
       "  <tbody>\n",
       "    <tr>\n",
       "      <th>147720</th>\n",
       "      <td>0</td>\n",
       "      <td>0</td>\n",
       "      <td>Serbest Çalışmalar</td>\n",
       "      <td>2005-09-01</td>\n",
       "      <td>0</td>\n",
       "      <td>1</td>\n",
       "      <td>1</td>\n",
       "      <td>4870</td>\n",
       "    </tr>\n",
       "    <tr>\n",
       "      <th>760</th>\n",
       "      <td>2</td>\n",
       "      <td>9</td>\n",
       "      <td>Elazig, Turkey</td>\n",
       "      <td>2016-12-01</td>\n",
       "      <td>0</td>\n",
       "      <td>3</td>\n",
       "      <td>3</td>\n",
       "      <td>182</td>\n",
       "    </tr>\n",
       "    <tr>\n",
       "      <th>19762</th>\n",
       "      <td>2</td>\n",
       "      <td>7</td>\n",
       "      <td>Elazig, Turkey</td>\n",
       "      <td>2017-06-01</td>\n",
       "      <td>0</td>\n",
       "      <td>3</td>\n",
       "      <td>3</td>\n",
       "      <td>365</td>\n",
       "    </tr>\n",
       "    <tr>\n",
       "      <th>180157</th>\n",
       "      <td>2</td>\n",
       "      <td>10</td>\n",
       "      <td>Mersin, Turkey</td>\n",
       "      <td>2018-06-01</td>\n",
       "      <td>0</td>\n",
       "      <td>3</td>\n",
       "      <td>3</td>\n",
       "      <td>214</td>\n",
       "    </tr>\n",
       "    <tr>\n",
       "      <th>30839</th>\n",
       "      <td>5</td>\n",
       "      <td>15</td>\n",
       "      <td>İstanbul</td>\n",
       "      <td>2017-06-01</td>\n",
       "      <td>0</td>\n",
       "      <td>1</td>\n",
       "      <td>1</td>\n",
       "      <td>579</td>\n",
       "    </tr>\n",
       "    <tr>\n",
       "      <th>...</th>\n",
       "      <td>...</td>\n",
       "      <td>...</td>\n",
       "      <td>...</td>\n",
       "      <td>...</td>\n",
       "      <td>...</td>\n",
       "      <td>...</td>\n",
       "      <td>...</td>\n",
       "      <td>...</td>\n",
       "    </tr>\n",
       "    <tr>\n",
       "      <th>24178</th>\n",
       "      <td>66273</td>\n",
       "      <td>1509</td>\n",
       "      <td>NaN</td>\n",
       "      <td>2017-08-01</td>\n",
       "      <td>0</td>\n",
       "      <td>10</td>\n",
       "      <td>10</td>\n",
       "      <td>396</td>\n",
       "    </tr>\n",
       "    <tr>\n",
       "      <th>92682</th>\n",
       "      <td>66273</td>\n",
       "      <td>2412</td>\n",
       "      <td>NaN</td>\n",
       "      <td>2018-09-01</td>\n",
       "      <td>0</td>\n",
       "      <td>10</td>\n",
       "      <td>10</td>\n",
       "      <td>30</td>\n",
       "    </tr>\n",
       "    <tr>\n",
       "      <th>108913</th>\n",
       "      <td>66273</td>\n",
       "      <td>3843</td>\n",
       "      <td>NaN</td>\n",
       "      <td>2018-10-01</td>\n",
       "      <td>0</td>\n",
       "      <td>10</td>\n",
       "      <td>10</td>\n",
       "      <td>273</td>\n",
       "    </tr>\n",
       "    <tr>\n",
       "      <th>184334</th>\n",
       "      <td>66273</td>\n",
       "      <td>13444</td>\n",
       "      <td>NaN</td>\n",
       "      <td>2019-07-01</td>\n",
       "      <td>1</td>\n",
       "      <td>10</td>\n",
       "      <td>10</td>\n",
       "      <td>92</td>\n",
       "    </tr>\n",
       "    <tr>\n",
       "      <th>64051</th>\n",
       "      <td>66273</td>\n",
       "      <td>5863</td>\n",
       "      <td>NaN</td>\n",
       "      <td>2019-10-01</td>\n",
       "      <td>1</td>\n",
       "      <td>10</td>\n",
       "      <td>10</td>\n",
       "      <td>-273</td>\n",
       "    </tr>\n",
       "  </tbody>\n",
       "</table>\n",
       "<p>186283 rows × 8 columns</p>\n",
       "</div>"
      ],
      "text/plain": [
       "        user_id  company_id            location start_date  StartAfter2019  \\\n",
       "147720        0           0  Serbest Çalışmalar 2005-09-01               0   \n",
       "760           2           9      Elazig, Turkey 2016-12-01               0   \n",
       "19762         2           7      Elazig, Turkey 2017-06-01               0   \n",
       "180157        2          10      Mersin, Turkey 2018-06-01               0   \n",
       "30839         5          15            İstanbul 2017-06-01               0   \n",
       "...         ...         ...                 ...        ...             ...   \n",
       "24178     66273        1509                 NaN 2017-08-01               0   \n",
       "92682     66273        2412                 NaN 2018-09-01               0   \n",
       "108913    66273        3843                 NaN 2018-10-01               0   \n",
       "184334    66273       13444                 NaN 2019-07-01               1   \n",
       "64051     66273        5863                 NaN 2019-10-01               1   \n",
       "\n",
       "        companies_worked  positions_worked  days_worked  \n",
       "147720                 1                 1         4870  \n",
       "760                    3                 3          182  \n",
       "19762                  3                 3          365  \n",
       "180157                 3                 3          214  \n",
       "30839                  1                 1          579  \n",
       "...                  ...               ...          ...  \n",
       "24178                 10                10          396  \n",
       "92682                 10                10           30  \n",
       "108913                10                10          273  \n",
       "184334                10                10           92  \n",
       "64051                 10                10         -273  \n",
       "\n",
       "[186283 rows x 8 columns]"
      ]
     },
     "execution_count": 106,
     "metadata": {},
     "output_type": "execute_result"
    }
   ],
   "source": [
    "df"
   ]
  },
  {
   "attachments": {},
   "cell_type": "markdown",
   "metadata": {},
   "source": [
    "Create four new features\n",
    "- Max days worked\n",
    "- Min days worked\n",
    "- Average days worked\n",
    "- Total days worked\n"
   ]
  },
  {
   "cell_type": "code",
   "execution_count": 110,
   "metadata": {},
   "outputs": [],
   "source": [
    "# Create for new columns: max days worked, min days worked, average days worked total days worked\n",
    "df['max_days_worked'] = df.groupby('user_id')['days_worked'].transform('max')\n",
    "df['min_days_worked'] = df.groupby('user_id')['days_worked'].transform('min')\n",
    "df['avg_days_worked'] = df.groupby('user_id')['days_worked'].transform('mean').astype(int)\n",
    "df['total_days_worked'] = df.groupby('user_id')['days_worked'].transform('sum')"
   ]
  },
  {
   "attachments": {},
   "cell_type": "markdown",
   "metadata": {},
   "source": [
    "Now keep the first "
   ]
  },
  {
   "cell_type": "code",
   "execution_count": null,
   "metadata": {},
   "outputs": [],
   "source": [
    "df = df.sort_values(by=['user_id', 'start_date'])\n",
    "df = df.drop_duplicates(subset=['user_id', 'start_date', 'company_id'], keep='first')"
   ]
  },
  {
   "attachments": {},
   "cell_type": "markdown",
   "metadata": {},
   "source": [
    "## Ignore location column for now as it is very hard to accurately categorize it"
   ]
  },
  {
   "attachments": {},
   "cell_type": "markdown",
   "metadata": {},
   "source": [
    "The location column is all over the place, so we normalize it."
   ]
  },
  {
   "cell_type": "markdown",
   "metadata": {},
   "source": [
    "Some users worked only in turkey, others abroad and/or in Turkey\n",
    "Mark users as TR, MIX, or Other if unknown"
   ]
  },
  {
   "cell_type": "code",
   "execution_count": null,
   "metadata": {},
   "outputs": [],
   "source": [
    "# save location df for inspection\n",
    "df.location.value_counts().to_frame().to_csv('locations.csv')"
   ]
  },
  {
   "cell_type": "code",
   "execution_count": null,
   "metadata": {},
   "outputs": [],
   "source": [
    "# Make country column lowercase\n",
    "df['location'] = df['location'].apply(lambda x: str(x).lower())"
   ]
  },
  {
   "cell_type": "code",
   "execution_count": null,
   "metadata": {},
   "outputs": [],
   "source": [
    "from unidecode import unidecode"
   ]
  },
  {
   "cell_type": "code",
   "execution_count": null,
   "metadata": {},
   "outputs": [],
   "source": [
    "df.location = df.location.astype(str)\n",
    "locations =  df.location.unique().tolist()\n",
    "locations = [unidecode(string) for string in locations]\n",
    "locations.sort()"
   ]
  },
  {
   "cell_type": "code",
   "execution_count": null,
   "metadata": {},
   "outputs": [],
   "source": [
    "from fuzzywuzzy import fuzz\n",
    "from collections import defaultdict\n",
    "\n",
    "def group_strings(strings, reference_strings, similarity_threshold):\n",
    "    groups = {key: [] for key in reference_strings.keys()}\n",
    "    groups[\"Other\"] = []\n",
    "    key_list = [key for key in reference_strings.keys()]\n",
    "    for i, string1 in enumerate(strings):\n",
    "        max_similarity = 0\n",
    "        similarities = []\n",
    "        for key, values in reference_strings.items():\n",
    "            similarities.append(max([fuzz.partial_ratio(string1, val) for val in values]))\n",
    "        idx = np.argmax(similarities)\n",
    "        if similarities[idx] >= similarity_threshold:\n",
    "            groups[key_list[idx]].append((string1,similarities[idx]))\n",
    "        else:\n",
    "            groups[\"Other\"].append((string1,similarities[idx]))\n",
    "    for key in groups.keys():\n",
    "        groups[key] = [string for string, sim in sorted(groups[key], key=lambda x: -x[1])]\n",
    "    return groups"
   ]
  },
  {
   "cell_type": "code",
   "execution_count": null,
   "metadata": {},
   "outputs": [],
   "source": [
    "location_groups = {\n",
    "    \"TR\":[\"Turkey\", \"Türkiye\",\"Adana\", \"Adiyaman\", \"Afyonkarahisar\", \"Agri\", \"Aksaray\", \"Amasya\", \"Ankara\", \"Antalya\", \"Ardahan\", \"Artvin\", \"Aydin\", \n",
    "    \"Balikesir\", \"Bartin\", \"Batman\", \"Bayburt\", \"Bilecik\", \"Bingol\", \"Bitlis\", \"Bolu\", \"Burdur\", \"Bursa\", \"Canakkale\", \"Cankiri\", \"Corum\", \"Denizli\",\n",
    "     \"Diyarbakir\", \"Düzce\", \"Edirne\", \"Elazig\", \"Erzincan\", \"Erzurum\", \"EskiSehir\", \"Gaziantep\", \"Giresun\", \"GümüShane\", \"HakkAri\", \"Hatay\", \"Igdir\", \n",
    "     \"Isparta\", \"İstanbul\", \"İzmir\", \"Kahramanmaras\", \"Karabük\", \"Karaman\", \"Kars\", \"Kastamonu\", \"Kayseri\", \"Kilis\", \"Kirikkale\", \"Kirklareli\", \"KirSehir\",\n",
    "      \"Kocaeli\", \"Konya\", \"Kütahya\", \"Malatya\", \"Manisa\", \"Mardin\", \"Mersin\", \"Mugla\", \"MuS\", \"NevSehir\", \"Nigde\", \"Ordu\", \"Osmaniye\", \"Rize\", \"Sakarya\", \n",
    "      \"Samsun\", \"Sanliurfa\", \"Siirt\", \"Sinop\", \"Sivas\", \"Sirnak\", \"Tekirdag\", \"Tokat\", \"Trabzon\", \"Tunceli\", \"USak\", \"Van\", \"Yalova\", \"Yozgat\", \"Zonguldak\",\n",
    "      \"Akbank\"],\n",
    "    \"Unsure\":[\"Unknown\"]\n",
    "}"
   ]
  },
  {
   "cell_type": "code",
   "execution_count": null,
   "metadata": {},
   "outputs": [],
   "source": [
    "groups= group_strings(locations, location_groups, 60)"
   ]
  },
  {
   "cell_type": "code",
   "execution_count": null,
   "metadata": {},
   "outputs": [],
   "source": [
    "for key,value in groups.items():\n",
    "    df.loc[df.location.isin(groups[key]), \"country\"]  = key"
   ]
  },
  {
   "cell_type": "markdown",
   "metadata": {},
   "source": [
    "For the country column:\n",
    "- TR means user only worked at TR  \n",
    "- MIX means user worked at TR and Other  \n",
    "- Other means user only worked abroad  "
   ]
  },
  {
   "attachments": {},
   "cell_type": "markdown",
   "metadata": {},
   "source": [
    "## Keep single row for each user"
   ]
  },
  {
   "attachments": {},
   "cell_type": "markdown",
   "metadata": {},
   "source": [
    "Drop some cols"
   ]
  },
  {
   "cell_type": "code",
   "execution_count": 112,
   "metadata": {},
   "outputs": [],
   "source": [
    "df.drop('company_id', axis=1, inplace=True)\n",
    "df.drop('location', axis=1, inplace=True)\n",
    "df.drop('start_date', axis=1, inplace=True)"
   ]
  },
  {
   "cell_type": "code",
   "execution_count": 113,
   "metadata": {},
   "outputs": [],
   "source": [
    "df.drop_duplicates(subset='user_id', keep='first', inplace=True)"
   ]
  },
  {
   "cell_type": "code",
   "execution_count": 116,
   "metadata": {},
   "outputs": [],
   "source": [
    "# Save df to a new csv file in Prepareddf folder\n",
    "df.to_csv(os.path.join('Prepareddata', 'work_experiences.csv'), index=False)"
   ]
  },
  {
   "cell_type": "markdown",
   "metadata": {},
   "source": []
  }
 ],
 "metadata": {
  "kernelspec": {
   "display_name": "base",
   "language": "python",
   "name": "python3"
  },
  "language_info": {
   "codemirror_mode": {
    "name": "ipython",
    "version": 3
   },
   "file_extension": ".py",
   "mimetype": "text/x-python",
   "name": "python",
   "nbconvert_exporter": "python",
   "pygments_lexer": "ipython3",
   "version": "3.8.16"
  },
  "orig_nbformat": 4,
  "vscode": {
   "interpreter": {
    "hash": "ad2bdc8ecc057115af97d19610ffacc2b4e99fae6737bb82f5d7fb13d2f2c186"
   }
  }
 },
 "nbformat": 4,
 "nbformat_minor": 2
}
