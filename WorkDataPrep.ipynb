{
 "cells": [
  {
   "attachments": {},
   "cell_type": "markdown",
   "metadata": {},
   "source": [
    "# Preparing the work_experiences.csv file"
   ]
  },
  {
   "cell_type": "code",
   "execution_count": 23,
   "metadata": {},
   "outputs": [],
   "source": [
    "import pandas as pd\n",
    "import os"
   ]
  },
  {
   "cell_type": "code",
   "execution_count": 24,
   "metadata": {},
   "outputs": [],
   "source": [
    "path = os.path.join('OriginalData', 'work_experiences.csv')\n",
    "data = pd.read_csv(path)"
   ]
  },
  {
   "cell_type": "code",
   "execution_count": 25,
   "metadata": {},
   "outputs": [
    {
     "data": {
      "text/html": [
       "<div>\n",
       "<style scoped>\n",
       "    .dataframe tbody tr th:only-of-type {\n",
       "        vertical-align: middle;\n",
       "    }\n",
       "\n",
       "    .dataframe tbody tr th {\n",
       "        vertical-align: top;\n",
       "    }\n",
       "\n",
       "    .dataframe thead th {\n",
       "        text-align: right;\n",
       "    }\n",
       "</style>\n",
       "<table border=\"1\" class=\"dataframe\">\n",
       "  <thead>\n",
       "    <tr style=\"text-align: right;\">\n",
       "      <th></th>\n",
       "      <th>user_id</th>\n",
       "      <th>company_id</th>\n",
       "      <th>location</th>\n",
       "      <th>start_year_month</th>\n",
       "    </tr>\n",
       "  </thead>\n",
       "  <tbody>\n",
       "    <tr>\n",
       "      <th>0</th>\n",
       "      <td>53442</td>\n",
       "      <td>2651</td>\n",
       "      <td>Istanbul, Turkey</td>\n",
       "      <td>201509</td>\n",
       "    </tr>\n",
       "    <tr>\n",
       "      <th>1</th>\n",
       "      <td>34558</td>\n",
       "      <td>815</td>\n",
       "      <td>Istanbul, Turkey</td>\n",
       "      <td>201210</td>\n",
       "    </tr>\n",
       "    <tr>\n",
       "      <th>2</th>\n",
       "      <td>63761</td>\n",
       "      <td>26354</td>\n",
       "      <td>NaN</td>\n",
       "      <td>200010</td>\n",
       "    </tr>\n",
       "    <tr>\n",
       "      <th>3</th>\n",
       "      <td>10738</td>\n",
       "      <td>89</td>\n",
       "      <td>NaN</td>\n",
       "      <td>201610</td>\n",
       "    </tr>\n",
       "    <tr>\n",
       "      <th>4</th>\n",
       "      <td>8711</td>\n",
       "      <td>3113</td>\n",
       "      <td>Istanbul, Turkey</td>\n",
       "      <td>201801</td>\n",
       "    </tr>\n",
       "    <tr>\n",
       "      <th>...</th>\n",
       "      <td>...</td>\n",
       "      <td>...</td>\n",
       "      <td>...</td>\n",
       "      <td>...</td>\n",
       "    </tr>\n",
       "    <tr>\n",
       "      <th>187014</th>\n",
       "      <td>22180</td>\n",
       "      <td>15065</td>\n",
       "      <td>Gebze</td>\n",
       "      <td>201205</td>\n",
       "    </tr>\n",
       "    <tr>\n",
       "      <th>187015</th>\n",
       "      <td>55822</td>\n",
       "      <td>25076</td>\n",
       "      <td>stajer</td>\n",
       "      <td>201506</td>\n",
       "    </tr>\n",
       "    <tr>\n",
       "      <th>187016</th>\n",
       "      <td>13750</td>\n",
       "      <td>1607</td>\n",
       "      <td>NaN</td>\n",
       "      <td>201901</td>\n",
       "    </tr>\n",
       "    <tr>\n",
       "      <th>187017</th>\n",
       "      <td>3679</td>\n",
       "      <td>1414</td>\n",
       "      <td>Ankara, Turkey</td>\n",
       "      <td>201807</td>\n",
       "    </tr>\n",
       "    <tr>\n",
       "      <th>187018</th>\n",
       "      <td>40056</td>\n",
       "      <td>14626</td>\n",
       "      <td>İstanbul, Türkiye</td>\n",
       "      <td>201303</td>\n",
       "    </tr>\n",
       "  </tbody>\n",
       "</table>\n",
       "<p>187019 rows × 4 columns</p>\n",
       "</div>"
      ],
      "text/plain": [
       "        user_id  company_id           location  start_year_month\n",
       "0         53442        2651   Istanbul, Turkey            201509\n",
       "1         34558         815   Istanbul, Turkey            201210\n",
       "2         63761       26354                NaN            200010\n",
       "3         10738          89                NaN            201610\n",
       "4          8711        3113   Istanbul, Turkey            201801\n",
       "...         ...         ...                ...               ...\n",
       "187014    22180       15065              Gebze            201205\n",
       "187015    55822       25076             stajer            201506\n",
       "187016    13750        1607                NaN            201901\n",
       "187017     3679        1414     Ankara, Turkey            201807\n",
       "187018    40056       14626  İstanbul, Türkiye            201303\n",
       "\n",
       "[187019 rows x 4 columns]"
      ]
     },
     "execution_count": 25,
     "metadata": {},
     "output_type": "execute_result"
    }
   ],
   "source": [
    "data"
   ]
  },
  {
   "cell_type": "code",
   "execution_count": 26,
   "metadata": {},
   "outputs": [
    {
     "data": {
      "text/plain": [
       "user_id                 0\n",
       "company_id              0\n",
       "location            61414\n",
       "start_year_month        0\n",
       "dtype: int64"
      ]
     },
     "execution_count": 26,
     "metadata": {},
     "output_type": "execute_result"
    }
   ],
   "source": [
    "# Show summary of NaN values\n",
    "data.isnull().sum()"
   ]
  },
  {
   "cell_type": "code",
   "execution_count": 27,
   "metadata": {},
   "outputs": [
    {
     "data": {
      "text/plain": [
       "user_id             57079\n",
       "company_id          20837\n",
       "location             6127\n",
       "start_year_month      397\n",
       "dtype: int64"
      ]
     },
     "execution_count": 27,
     "metadata": {},
     "output_type": "execute_result"
    }
   ],
   "source": [
    "# Show how many unique values there are for each column\n",
    "data.nunique()"
   ]
  },
  {
   "cell_type": "code",
   "execution_count": 28,
   "metadata": {},
   "outputs": [],
   "source": [
    "# Assume NaN values are Turkey\n",
    "data.fillna('Turkey', inplace=True)"
   ]
  },
  {
   "cell_type": "code",
   "execution_count": 29,
   "metadata": {},
   "outputs": [],
   "source": [
    "# Put a '-' at in between the year and day in the format \"yyyydd\"\n",
    "data['start_year_month'] = data['start_year_month'].apply(lambda x: str(x)[:4] + '-' + str(x)[4:])\n",
    "# Turn the start_year_month column into a datetime object\n",
    "data['start_year_month'] = pd.to_datetime(data['start_year_month'], format='%Y-%m')\n",
    "# Rename the column to \"start_date\"\n",
    "data.rename(columns={'start_year_month': 'start_date'}, inplace=True)"
   ]
  },
  {
   "cell_type": "code",
   "execution_count": 8,
   "metadata": {},
   "outputs": [],
   "source": [
    "# Drop rows where the start_date is after 2019, using datetime\n",
    "data.drop(data[data['start_date'] > '2019-01-01'].index, inplace=True)"
   ]
  },
  {
   "cell_type": "code",
   "execution_count": 32,
   "metadata": {},
   "outputs": [
    {
     "data": {
      "text/html": [
       "<div>\n",
       "<style scoped>\n",
       "    .dataframe tbody tr th:only-of-type {\n",
       "        vertical-align: middle;\n",
       "    }\n",
       "\n",
       "    .dataframe tbody tr th {\n",
       "        vertical-align: top;\n",
       "    }\n",
       "\n",
       "    .dataframe thead th {\n",
       "        text-align: right;\n",
       "    }\n",
       "</style>\n",
       "<table border=\"1\" class=\"dataframe\">\n",
       "  <thead>\n",
       "    <tr style=\"text-align: right;\">\n",
       "      <th></th>\n",
       "      <th>user_id</th>\n",
       "      <th>company_id</th>\n",
       "      <th>location</th>\n",
       "      <th>start_date</th>\n",
       "    </tr>\n",
       "  </thead>\n",
       "  <tbody>\n",
       "    <tr>\n",
       "      <th>12</th>\n",
       "      <td>20753</td>\n",
       "      <td>35</td>\n",
       "      <td>Istanbul, Turkey</td>\n",
       "      <td>2019-10-01</td>\n",
       "    </tr>\n",
       "    <tr>\n",
       "      <th>15</th>\n",
       "      <td>12816</td>\n",
       "      <td>10649</td>\n",
       "      <td>Turkey</td>\n",
       "      <td>2019-05-01</td>\n",
       "    </tr>\n",
       "    <tr>\n",
       "      <th>22</th>\n",
       "      <td>48615</td>\n",
       "      <td>194</td>\n",
       "      <td>Turkey</td>\n",
       "      <td>2019-08-01</td>\n",
       "    </tr>\n",
       "    <tr>\n",
       "      <th>30</th>\n",
       "      <td>16486</td>\n",
       "      <td>3581</td>\n",
       "      <td>Istanbul, Turkey</td>\n",
       "      <td>2019-06-01</td>\n",
       "    </tr>\n",
       "    <tr>\n",
       "      <th>36</th>\n",
       "      <td>27136</td>\n",
       "      <td>955</td>\n",
       "      <td>İstanbul</td>\n",
       "      <td>2019-08-01</td>\n",
       "    </tr>\n",
       "    <tr>\n",
       "      <th>...</th>\n",
       "      <td>...</td>\n",
       "      <td>...</td>\n",
       "      <td>...</td>\n",
       "      <td>...</td>\n",
       "    </tr>\n",
       "    <tr>\n",
       "      <th>186998</th>\n",
       "      <td>64402</td>\n",
       "      <td>1495</td>\n",
       "      <td>Kocaeli, Turkey</td>\n",
       "      <td>2019-10-01</td>\n",
       "    </tr>\n",
       "    <tr>\n",
       "      <th>187003</th>\n",
       "      <td>24364</td>\n",
       "      <td>1562</td>\n",
       "      <td>Turkey</td>\n",
       "      <td>2019-07-01</td>\n",
       "    </tr>\n",
       "    <tr>\n",
       "      <th>187006</th>\n",
       "      <td>24832</td>\n",
       "      <td>16069</td>\n",
       "      <td>Istanbul, Turkey</td>\n",
       "      <td>2019-07-01</td>\n",
       "    </tr>\n",
       "    <tr>\n",
       "      <th>187010</th>\n",
       "      <td>3356</td>\n",
       "      <td>2155</td>\n",
       "      <td>Izmir, Turkey</td>\n",
       "      <td>2019-07-01</td>\n",
       "    </tr>\n",
       "    <tr>\n",
       "      <th>187013</th>\n",
       "      <td>45870</td>\n",
       "      <td>22268</td>\n",
       "      <td>Turkey</td>\n",
       "      <td>2019-07-01</td>\n",
       "    </tr>\n",
       "  </tbody>\n",
       "</table>\n",
       "<p>23891 rows × 4 columns</p>\n",
       "</div>"
      ],
      "text/plain": [
       "        user_id  company_id          location start_date\n",
       "12        20753          35  Istanbul, Turkey 2019-10-01\n",
       "15        12816       10649            Turkey 2019-05-01\n",
       "22        48615         194            Turkey 2019-08-01\n",
       "30        16486        3581  Istanbul, Turkey 2019-06-01\n",
       "36        27136         955          İstanbul 2019-08-01\n",
       "...         ...         ...               ...        ...\n",
       "186998    64402        1495   Kocaeli, Turkey 2019-10-01\n",
       "187003    24364        1562            Turkey 2019-07-01\n",
       "187006    24832       16069  Istanbul, Turkey 2019-07-01\n",
       "187010     3356        2155     Izmir, Turkey 2019-07-01\n",
       "187013    45870       22268            Turkey 2019-07-01\n",
       "\n",
       "[23891 rows x 4 columns]"
      ]
     },
     "execution_count": 32,
     "metadata": {},
     "output_type": "execute_result"
    }
   ],
   "source": [
    "data[data['start_date'] > '2019-01-01']"
   ]
  },
  {
   "cell_type": "code",
   "execution_count": null,
   "metadata": {},
   "outputs": [],
   "source": []
  },
  {
   "cell_type": "code",
   "execution_count": 9,
   "metadata": {},
   "outputs": [],
   "source": [
    "# Create a new column called \"companies_changed\" for each user_id\n",
    "# This column will be the amount of companies the user has changed\n",
    "data['companies_worked'] = data.groupby('user_id')['company_id'].transform('nunique')"
   ]
  },
  {
   "attachments": {},
   "cell_type": "markdown",
   "metadata": {},
   "source": [
    "The location column is all over the place, so we normalize it."
   ]
  },
  {
   "cell_type": "code",
   "execution_count": 10,
   "metadata": {},
   "outputs": [],
   "source": [
    "# Make country column lowercase\n",
    "data['location'] = data['location'].apply(lambda x: str(x).lower())\n",
    "\n",
    "# If country contains Turkish characters ş ü ö or ğ, change it to \"Turkey\"\n",
    "data['country'] = data['location'].apply(lambda x: 'TR' if 'ş' in str(x) \n",
    "                                        or 'ü' in str(x) or 'ö' in str(x)\n",
    "                                        or 'ğ' in str(x) or 'ı' in str(x)\n",
    "                                        or 'ç' in str(x) or 'turkey' in str(x) \n",
    "                                        or 'türkiye' in str(x) or 'i̇' in str(x)\n",
    "                                        else 'Other')\n",
    "\n",
    "# If a user has both TR and Other, change it to MIX\n",
    "data['country'] = data.groupby('user_id')['country'].transform(lambda x: 'MIX' if 'TR' in x.values and 'Other' in x.values else x)\n"
   ]
  },
  {
   "cell_type": "code",
   "execution_count": 11,
   "metadata": {},
   "outputs": [],
   "source": [
    "# Create a new column called \"max_duration\" for each user_id\n",
    "# This is the maximum difference between the start dates of the user's work experiences\n",
    "data['max_duration'] = data.groupby('user_id')['start_date'].transform('max') - data.groupby('user_id')['start_date'].transform('min')"
   ]
  },
  {
   "cell_type": "code",
   "execution_count": 12,
   "metadata": {},
   "outputs": [],
   "source": [
    "# For rows where the max_duration is 0, calculate the time between it's start_date and today\n",
    "data.loc[data['max_duration'] == '0 days', 'max_duration'] = pd.to_datetime('2019-01-01') - data.loc[data['max_duration'] == '0 days', 'start_date']\n"
   ]
  },
  {
   "cell_type": "code",
   "execution_count": 13,
   "metadata": {},
   "outputs": [
    {
     "data": {
      "text/html": [
       "<div>\n",
       "<style scoped>\n",
       "    .dataframe tbody tr th:only-of-type {\n",
       "        vertical-align: middle;\n",
       "    }\n",
       "\n",
       "    .dataframe tbody tr th {\n",
       "        vertical-align: top;\n",
       "    }\n",
       "\n",
       "    .dataframe thead th {\n",
       "        text-align: right;\n",
       "    }\n",
       "</style>\n",
       "<table border=\"1\" class=\"dataframe\">\n",
       "  <thead>\n",
       "    <tr style=\"text-align: right;\">\n",
       "      <th></th>\n",
       "      <th>user_id</th>\n",
       "      <th>company_id</th>\n",
       "      <th>location</th>\n",
       "      <th>start_date</th>\n",
       "      <th>companies_worked</th>\n",
       "      <th>country</th>\n",
       "      <th>max_duration</th>\n",
       "    </tr>\n",
       "  </thead>\n",
       "  <tbody>\n",
       "    <tr>\n",
       "      <th>0</th>\n",
       "      <td>53442</td>\n",
       "      <td>2651</td>\n",
       "      <td>istanbul, turkey</td>\n",
       "      <td>2015-09-01</td>\n",
       "      <td>3</td>\n",
       "      <td>TR</td>\n",
       "      <td>1918 days</td>\n",
       "    </tr>\n",
       "    <tr>\n",
       "      <th>23603</th>\n",
       "      <td>53442</td>\n",
       "      <td>4957</td>\n",
       "      <td>kocaeli, türkiye</td>\n",
       "      <td>2012-11-01</td>\n",
       "      <td>3</td>\n",
       "      <td>TR</td>\n",
       "      <td>1918 days</td>\n",
       "    </tr>\n",
       "    <tr>\n",
       "      <th>44058</th>\n",
       "      <td>53442</td>\n",
       "      <td>2651</td>\n",
       "      <td>istanbul, turkey</td>\n",
       "      <td>2018-02-01</td>\n",
       "      <td>3</td>\n",
       "      <td>TR</td>\n",
       "      <td>1918 days</td>\n",
       "    </tr>\n",
       "    <tr>\n",
       "      <th>57313</th>\n",
       "      <td>53442</td>\n",
       "      <td>3803</td>\n",
       "      <td>turkey</td>\n",
       "      <td>2013-09-01</td>\n",
       "      <td>3</td>\n",
       "      <td>TR</td>\n",
       "      <td>1918 days</td>\n",
       "    </tr>\n",
       "  </tbody>\n",
       "</table>\n",
       "</div>"
      ],
      "text/plain": [
       "       user_id  company_id          location start_date  companies_worked  \\\n",
       "0        53442        2651  istanbul, turkey 2015-09-01                 3   \n",
       "23603    53442        4957  kocaeli, türkiye 2012-11-01                 3   \n",
       "44058    53442        2651  istanbul, turkey 2018-02-01                 3   \n",
       "57313    53442        3803            turkey 2013-09-01                 3   \n",
       "\n",
       "      country max_duration  \n",
       "0          TR    1918 days  \n",
       "23603      TR    1918 days  \n",
       "44058      TR    1918 days  \n",
       "57313      TR    1918 days  "
      ]
     },
     "execution_count": 13,
     "metadata": {},
     "output_type": "execute_result"
    }
   ],
   "source": [
    "# Show user 53442\n",
    "data[data['user_id'] == 53442]"
   ]
  },
  {
   "cell_type": "code",
   "execution_count": 14,
   "metadata": {},
   "outputs": [],
   "source": [
    "# Drop location column\n",
    "data.drop('location', axis=1, inplace=True)\n",
    "# Drop start_date column\n",
    "data.drop('start_date', axis=1, inplace=True)"
   ]
  },
  {
   "attachments": {},
   "cell_type": "markdown",
   "metadata": {},
   "source": [
    "Now we only want a single row for each user_id, a summary cleaned up for each user"
   ]
  },
  {
   "cell_type": "code",
   "execution_count": 15,
   "metadata": {},
   "outputs": [
    {
     "data": {
      "text/html": [
       "<div>\n",
       "<style scoped>\n",
       "    .dataframe tbody tr th:only-of-type {\n",
       "        vertical-align: middle;\n",
       "    }\n",
       "\n",
       "    .dataframe tbody tr th {\n",
       "        vertical-align: top;\n",
       "    }\n",
       "\n",
       "    .dataframe thead th {\n",
       "        text-align: right;\n",
       "    }\n",
       "</style>\n",
       "<table border=\"1\" class=\"dataframe\">\n",
       "  <thead>\n",
       "    <tr style=\"text-align: right;\">\n",
       "      <th></th>\n",
       "      <th>user_id</th>\n",
       "      <th>company_id</th>\n",
       "      <th>companies_worked</th>\n",
       "      <th>country</th>\n",
       "      <th>max_duration</th>\n",
       "    </tr>\n",
       "  </thead>\n",
       "  <tbody>\n",
       "    <tr>\n",
       "      <th>0</th>\n",
       "      <td>53442</td>\n",
       "      <td>2651</td>\n",
       "      <td>3</td>\n",
       "      <td>TR</td>\n",
       "      <td>1918 days</td>\n",
       "    </tr>\n",
       "    <tr>\n",
       "      <th>23603</th>\n",
       "      <td>53442</td>\n",
       "      <td>4957</td>\n",
       "      <td>3</td>\n",
       "      <td>TR</td>\n",
       "      <td>1918 days</td>\n",
       "    </tr>\n",
       "    <tr>\n",
       "      <th>44058</th>\n",
       "      <td>53442</td>\n",
       "      <td>2651</td>\n",
       "      <td>3</td>\n",
       "      <td>TR</td>\n",
       "      <td>1918 days</td>\n",
       "    </tr>\n",
       "    <tr>\n",
       "      <th>57313</th>\n",
       "      <td>53442</td>\n",
       "      <td>3803</td>\n",
       "      <td>3</td>\n",
       "      <td>TR</td>\n",
       "      <td>1918 days</td>\n",
       "    </tr>\n",
       "  </tbody>\n",
       "</table>\n",
       "</div>"
      ],
      "text/plain": [
       "       user_id  company_id  companies_worked country max_duration\n",
       "0        53442        2651                 3      TR    1918 days\n",
       "23603    53442        4957                 3      TR    1918 days\n",
       "44058    53442        2651                 3      TR    1918 days\n",
       "57313    53442        3803                 3      TR    1918 days"
      ]
     },
     "execution_count": 15,
     "metadata": {},
     "output_type": "execute_result"
    }
   ],
   "source": [
    "# Show user 53442\n",
    "data[data['user_id'] == 53442]"
   ]
  },
  {
   "cell_type": "code",
   "execution_count": 16,
   "metadata": {},
   "outputs": [],
   "source": [
    "# Drop company_id column\n",
    "data.drop('company_id', axis=1, inplace=True)\n",
    "# Leave only the first row for each user_id\n",
    "data.drop_duplicates(subset='user_id', keep='first', inplace=True)"
   ]
  },
  {
   "cell_type": "code",
   "execution_count": 17,
   "metadata": {},
   "outputs": [
    {
     "data": {
      "text/html": [
       "<div>\n",
       "<style scoped>\n",
       "    .dataframe tbody tr th:only-of-type {\n",
       "        vertical-align: middle;\n",
       "    }\n",
       "\n",
       "    .dataframe tbody tr th {\n",
       "        vertical-align: top;\n",
       "    }\n",
       "\n",
       "    .dataframe thead th {\n",
       "        text-align: right;\n",
       "    }\n",
       "</style>\n",
       "<table border=\"1\" class=\"dataframe\">\n",
       "  <thead>\n",
       "    <tr style=\"text-align: right;\">\n",
       "      <th></th>\n",
       "      <th>user_id</th>\n",
       "      <th>companies_worked</th>\n",
       "      <th>country</th>\n",
       "      <th>max_duration</th>\n",
       "    </tr>\n",
       "  </thead>\n",
       "  <tbody>\n",
       "    <tr>\n",
       "      <th>31252</th>\n",
       "      <td>53018</td>\n",
       "      <td>3</td>\n",
       "      <td>TR</td>\n",
       "      <td>1310 days</td>\n",
       "    </tr>\n",
       "  </tbody>\n",
       "</table>\n",
       "</div>"
      ],
      "text/plain": [
       "       user_id  companies_worked country max_duration\n",
       "31252    53018                 3      TR    1310 days"
      ]
     },
     "execution_count": 17,
     "metadata": {},
     "output_type": "execute_result"
    }
   ],
   "source": [
    "# Show user 53442\n",
    "data[data['user_id'] == 53018]"
   ]
  },
  {
   "attachments": {},
   "cell_type": "markdown",
   "metadata": {},
   "source": [
    "- Sort and convert days to int"
   ]
  },
  {
   "cell_type": "code",
   "execution_count": 18,
   "metadata": {},
   "outputs": [],
   "source": [
    "data.sort_values(by='user_id', inplace=True)\n",
    "data.max_duration = data.max_duration.apply(lambda x: x.days)"
   ]
  },
  {
   "cell_type": "code",
   "execution_count": 19,
   "metadata": {},
   "outputs": [
    {
     "data": {
      "text/html": [
       "<div>\n",
       "<style scoped>\n",
       "    .dataframe tbody tr th:only-of-type {\n",
       "        vertical-align: middle;\n",
       "    }\n",
       "\n",
       "    .dataframe tbody tr th {\n",
       "        vertical-align: top;\n",
       "    }\n",
       "\n",
       "    .dataframe thead th {\n",
       "        text-align: right;\n",
       "    }\n",
       "</style>\n",
       "<table border=\"1\" class=\"dataframe\">\n",
       "  <thead>\n",
       "    <tr style=\"text-align: right;\">\n",
       "      <th></th>\n",
       "      <th>user_id</th>\n",
       "      <th>companies_worked</th>\n",
       "      <th>country</th>\n",
       "      <th>max_duration</th>\n",
       "    </tr>\n",
       "  </thead>\n",
       "  <tbody>\n",
       "    <tr>\n",
       "      <th>147720</th>\n",
       "      <td>0</td>\n",
       "      <td>1</td>\n",
       "      <td>MIX</td>\n",
       "      <td>4870</td>\n",
       "    </tr>\n",
       "    <tr>\n",
       "      <th>760</th>\n",
       "      <td>2</td>\n",
       "      <td>3</td>\n",
       "      <td>TR</td>\n",
       "      <td>547</td>\n",
       "    </tr>\n",
       "    <tr>\n",
       "      <th>30839</th>\n",
       "      <td>5</td>\n",
       "      <td>1</td>\n",
       "      <td>TR</td>\n",
       "      <td>579</td>\n",
       "    </tr>\n",
       "    <tr>\n",
       "      <th>17649</th>\n",
       "      <td>7</td>\n",
       "      <td>2</td>\n",
       "      <td>MIX</td>\n",
       "      <td>883</td>\n",
       "    </tr>\n",
       "    <tr>\n",
       "      <th>4573</th>\n",
       "      <td>10</td>\n",
       "      <td>2</td>\n",
       "      <td>MIX</td>\n",
       "      <td>1734</td>\n",
       "    </tr>\n",
       "    <tr>\n",
       "      <th>...</th>\n",
       "      <td>...</td>\n",
       "      <td>...</td>\n",
       "      <td>...</td>\n",
       "      <td>...</td>\n",
       "    </tr>\n",
       "    <tr>\n",
       "      <th>133051</th>\n",
       "      <td>66269</td>\n",
       "      <td>1</td>\n",
       "      <td>TR</td>\n",
       "      <td>5357</td>\n",
       "    </tr>\n",
       "    <tr>\n",
       "      <th>94856</th>\n",
       "      <td>66270</td>\n",
       "      <td>1</td>\n",
       "      <td>TR</td>\n",
       "      <td>1491</td>\n",
       "    </tr>\n",
       "    <tr>\n",
       "      <th>24772</th>\n",
       "      <td>66271</td>\n",
       "      <td>7</td>\n",
       "      <td>TR</td>\n",
       "      <td>5479</td>\n",
       "    </tr>\n",
       "    <tr>\n",
       "      <th>13280</th>\n",
       "      <td>66272</td>\n",
       "      <td>5</td>\n",
       "      <td>TR</td>\n",
       "      <td>2344</td>\n",
       "    </tr>\n",
       "    <tr>\n",
       "      <th>978</th>\n",
       "      <td>66273</td>\n",
       "      <td>8</td>\n",
       "      <td>TR</td>\n",
       "      <td>1583</td>\n",
       "    </tr>\n",
       "  </tbody>\n",
       "</table>\n",
       "<p>53293 rows × 4 columns</p>\n",
       "</div>"
      ],
      "text/plain": [
       "        user_id  companies_worked country  max_duration\n",
       "147720        0                 1     MIX          4870\n",
       "760           2                 3      TR           547\n",
       "30839         5                 1      TR           579\n",
       "17649         7                 2     MIX           883\n",
       "4573         10                 2     MIX          1734\n",
       "...         ...               ...     ...           ...\n",
       "133051    66269                 1      TR          5357\n",
       "94856     66270                 1      TR          1491\n",
       "24772     66271                 7      TR          5479\n",
       "13280     66272                 5      TR          2344\n",
       "978       66273                 8      TR          1583\n",
       "\n",
       "[53293 rows x 4 columns]"
      ]
     },
     "execution_count": 19,
     "metadata": {},
     "output_type": "execute_result"
    }
   ],
   "source": [
    "data"
   ]
  },
  {
   "cell_type": "code",
   "execution_count": 20,
   "metadata": {},
   "outputs": [],
   "source": [
    "# Save data to a new csv file in PreparedData folder\n",
    "data.to_csv(os.path.join('PreparedData', 'work_experiences.csv'), index=False)"
   ]
  },
  {
   "attachments": {},
   "cell_type": "markdown",
   "metadata": {},
   "source": [
    "## For the country column\n",
    "TR means user only worked at TR  \n",
    "MIX means user worked at TR and Other  \n",
    "Other means user only worked abroad  "
   ]
  }
 ],
 "metadata": {
  "kernelspec": {
   "display_name": "base",
   "language": "python",
   "name": "python3"
  },
  "language_info": {
   "codemirror_mode": {
    "name": "ipython",
    "version": 3
   },
   "file_extension": ".py",
   "mimetype": "text/x-python",
   "name": "python",
   "nbconvert_exporter": "python",
   "pygments_lexer": "ipython3",
   "version": "3.8.16"
  },
  "orig_nbformat": 4,
  "vscode": {
   "interpreter": {
    "hash": "ad2bdc8ecc057115af97d19610ffacc2b4e99fae6737bb82f5d7fb13d2f2c186"
   }
  }
 },
 "nbformat": 4,
 "nbformat_minor": 2
}
