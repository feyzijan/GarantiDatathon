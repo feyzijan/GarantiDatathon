{
 "cells": [
  {
   "cell_type": "code",
   "execution_count": 24,
   "metadata": {
    "ExecuteTime": {
     "end_time": "2023-01-15T17:48:51.114425Z",
     "start_time": "2023-01-15T17:48:51.108919Z"
    }
   },
   "outputs": [],
   "source": [
    "import matplotlib.pyplot as plt\n",
    "import numpy as np\n",
    "import matplotlib.pyplot as plt\n",
    "import matplotlib\n",
    "import pandas as pd\n",
    "pd.set_option('display.max_columns', None)\n",
    "from tensorflow import keras\n",
    "from tensorflow.keras.models import Sequential\n",
    "from sklearn.preprocessing import StandardScaler\n",
    "from tensorflow.keras.models import Sequential\n",
    "from tensorflow.keras.layers import Dense\n",
    "from tensorflow.keras.utils import *\n",
    "from sklearn.model_selection import train_test_split \n",
    "from sklearn.utils import shuffle\n",
    "from tensorflow.keras.callbacks import EarlyStopping\n",
    "from tensorflow.keras.metrics import RootMeanSquaredError\n",
    "import tensorflow as tf"
   ]
  },
  {
   "attachments": {},
   "cell_type": "markdown",
   "metadata": {},
   "source": [
    "#### Load Data"
   ]
  },
  {
   "cell_type": "code",
   "execution_count": 25,
   "metadata": {
    "ExecuteTime": {
     "end_time": "2023-01-15T17:48:24.933310Z",
     "start_time": "2023-01-15T17:48:24.772191Z"
    }
   },
   "outputs": [],
   "source": [
    "test = pd.read_csv(\"../PreparedData/test.csv\")\n",
    "train = pd.read_csv(\"../PreparedData/train.csv\")"
   ]
  },
  {
   "attachments": {},
   "cell_type": "markdown",
   "metadata": {},
   "source": [
    "# Final Tweaks to Data before feeding into Neural Network"
   ]
  },
  {
   "attachments": {},
   "cell_type": "markdown",
   "metadata": {},
   "source": [
    "## One hot encode categorical columns"
   ]
  },
  {
   "cell_type": "code",
   "execution_count": 26,
   "metadata": {},
   "outputs": [
    {
     "data": {
      "text/plain": [
       "'field_edu'"
      ]
     },
     "execution_count": 26,
     "metadata": {},
     "output_type": "execute_result"
    }
   ],
   "source": [
    "columns_to_encode = train.columns[train.dtypes == 'object']\n",
    "columns_to_encode[0]"
   ]
  },
  {
   "cell_type": "code",
   "execution_count": 27,
   "metadata": {},
   "outputs": [
    {
     "data": {
      "text/html": [
       "<div>\n",
       "<style scoped>\n",
       "    .dataframe tbody tr th:only-of-type {\n",
       "        vertical-align: middle;\n",
       "    }\n",
       "\n",
       "    .dataframe tbody tr th {\n",
       "        vertical-align: top;\n",
       "    }\n",
       "\n",
       "    .dataframe thead th {\n",
       "        text-align: right;\n",
       "    }\n",
       "</style>\n",
       "<table border=\"1\" class=\"dataframe\">\n",
       "  <thead>\n",
       "    <tr style=\"text-align: right;\">\n",
       "      <th></th>\n",
       "      <th>user_id</th>\n",
       "      <th>moved_after_2019</th>\n",
       "      <th>companies_worked</th>\n",
       "      <th>positions_worked</th>\n",
       "      <th>days_worked</th>\n",
       "      <th>max_days_worked</th>\n",
       "      <th>min_days_worked</th>\n",
       "      <th>avg_days_worked</th>\n",
       "      <th>total_days_worked</th>\n",
       "      <th>Business</th>\n",
       "      <th>Design</th>\n",
       "      <th>IT</th>\n",
       "      <th>Other</th>\n",
       "      <th>N_Skills</th>\n",
       "      <th>English</th>\n",
       "      <th>German</th>\n",
       "      <th>Turkish</th>\n",
       "      <th>French</th>\n",
       "      <th>Spanish</th>\n",
       "      <th>Chinese</th>\n",
       "      <th>NLanguages</th>\n",
       "      <th>degree_edu</th>\n",
       "      <th>Edu_Finished</th>\n",
       "      <th>Edu_Ongoing</th>\n",
       "      <th>Unknown_Edu_Status</th>\n",
       "      <th>field_edu_Engineering</th>\n",
       "      <th>field_edu_Mathematics</th>\n",
       "      <th>field_edu_Other</th>\n",
       "      <th>field_edu_Science</th>\n",
       "    </tr>\n",
       "  </thead>\n",
       "  <tbody>\n",
       "    <tr>\n",
       "      <th>0</th>\n",
       "      <td>1301</td>\n",
       "      <td>1</td>\n",
       "      <td>4.0</td>\n",
       "      <td>4.0</td>\n",
       "      <td>153.0</td>\n",
       "      <td>882.0</td>\n",
       "      <td>-304.0</td>\n",
       "      <td>335.0</td>\n",
       "      <td>1341.0</td>\n",
       "      <td>2.0</td>\n",
       "      <td>0.0</td>\n",
       "      <td>4.0</td>\n",
       "      <td>17.0</td>\n",
       "      <td>23.0</td>\n",
       "      <td>3.000000</td>\n",
       "      <td>0.00000</td>\n",
       "      <td>5.000000</td>\n",
       "      <td>0.000000</td>\n",
       "      <td>0.000000</td>\n",
       "      <td>0.000000</td>\n",
       "      <td>4.000000</td>\n",
       "      <td>2.0</td>\n",
       "      <td>1.0</td>\n",
       "      <td>0.0</td>\n",
       "      <td>0.0</td>\n",
       "      <td>0</td>\n",
       "      <td>0</td>\n",
       "      <td>1</td>\n",
       "      <td>0</td>\n",
       "    </tr>\n",
       "    <tr>\n",
       "      <th>1</th>\n",
       "      <td>6950</td>\n",
       "      <td>0</td>\n",
       "      <td>4.0</td>\n",
       "      <td>6.0</td>\n",
       "      <td>426.0</td>\n",
       "      <td>699.0</td>\n",
       "      <td>182.0</td>\n",
       "      <td>350.0</td>\n",
       "      <td>2101.0</td>\n",
       "      <td>0.0</td>\n",
       "      <td>0.0</td>\n",
       "      <td>17.0</td>\n",
       "      <td>32.0</td>\n",
       "      <td>49.0</td>\n",
       "      <td>3.000000</td>\n",
       "      <td>0.00000</td>\n",
       "      <td>0.000000</td>\n",
       "      <td>0.000000</td>\n",
       "      <td>0.000000</td>\n",
       "      <td>0.000000</td>\n",
       "      <td>3.000000</td>\n",
       "      <td>1.0</td>\n",
       "      <td>1.0</td>\n",
       "      <td>0.0</td>\n",
       "      <td>0.0</td>\n",
       "      <td>0</td>\n",
       "      <td>0</td>\n",
       "      <td>1</td>\n",
       "      <td>0</td>\n",
       "    </tr>\n",
       "    <tr>\n",
       "      <th>2</th>\n",
       "      <td>4880</td>\n",
       "      <td>0</td>\n",
       "      <td>4.0</td>\n",
       "      <td>4.0</td>\n",
       "      <td>424.0</td>\n",
       "      <td>610.0</td>\n",
       "      <td>273.0</td>\n",
       "      <td>456.0</td>\n",
       "      <td>1826.0</td>\n",
       "      <td>0.0</td>\n",
       "      <td>2.0</td>\n",
       "      <td>4.0</td>\n",
       "      <td>15.0</td>\n",
       "      <td>21.0</td>\n",
       "      <td>3.000871</td>\n",
       "      <td>0.29212</td>\n",
       "      <td>2.753424</td>\n",
       "      <td>0.079602</td>\n",
       "      <td>0.063092</td>\n",
       "      <td>0.007033</td>\n",
       "      <td>2.039081</td>\n",
       "      <td>2.0</td>\n",
       "      <td>1.0</td>\n",
       "      <td>0.0</td>\n",
       "      <td>0.0</td>\n",
       "      <td>0</td>\n",
       "      <td>0</td>\n",
       "      <td>1</td>\n",
       "      <td>0</td>\n",
       "    </tr>\n",
       "    <tr>\n",
       "      <th>3</th>\n",
       "      <td>26046</td>\n",
       "      <td>0</td>\n",
       "      <td>1.0</td>\n",
       "      <td>4.0</td>\n",
       "      <td>395.0</td>\n",
       "      <td>1553.0</td>\n",
       "      <td>395.0</td>\n",
       "      <td>852.0</td>\n",
       "      <td>3409.0</td>\n",
       "      <td>0.0</td>\n",
       "      <td>0.0</td>\n",
       "      <td>7.0</td>\n",
       "      <td>23.0</td>\n",
       "      <td>30.0</td>\n",
       "      <td>2.000000</td>\n",
       "      <td>0.00000</td>\n",
       "      <td>0.000000</td>\n",
       "      <td>0.000000</td>\n",
       "      <td>0.000000</td>\n",
       "      <td>0.000000</td>\n",
       "      <td>2.000000</td>\n",
       "      <td>2.0</td>\n",
       "      <td>1.0</td>\n",
       "      <td>0.0</td>\n",
       "      <td>0.0</td>\n",
       "      <td>0</td>\n",
       "      <td>0</td>\n",
       "      <td>0</td>\n",
       "      <td>0</td>\n",
       "    </tr>\n",
       "    <tr>\n",
       "      <th>4</th>\n",
       "      <td>11005</td>\n",
       "      <td>0</td>\n",
       "      <td>3.0</td>\n",
       "      <td>3.0</td>\n",
       "      <td>334.0</td>\n",
       "      <td>2435.0</td>\n",
       "      <td>334.0</td>\n",
       "      <td>1136.0</td>\n",
       "      <td>3409.0</td>\n",
       "      <td>0.0</td>\n",
       "      <td>1.0</td>\n",
       "      <td>10.0</td>\n",
       "      <td>37.0</td>\n",
       "      <td>48.0</td>\n",
       "      <td>3.000000</td>\n",
       "      <td>0.00000</td>\n",
       "      <td>5.000000</td>\n",
       "      <td>0.000000</td>\n",
       "      <td>0.000000</td>\n",
       "      <td>0.000000</td>\n",
       "      <td>3.000000</td>\n",
       "      <td>1.0</td>\n",
       "      <td>1.0</td>\n",
       "      <td>0.0</td>\n",
       "      <td>0.0</td>\n",
       "      <td>0</td>\n",
       "      <td>0</td>\n",
       "      <td>1</td>\n",
       "      <td>0</td>\n",
       "    </tr>\n",
       "  </tbody>\n",
       "</table>\n",
       "</div>"
      ],
      "text/plain": [
       "   user_id  moved_after_2019  companies_worked  positions_worked  days_worked  \\\n",
       "0     1301                 1               4.0               4.0        153.0   \n",
       "1     6950                 0               4.0               6.0        426.0   \n",
       "2     4880                 0               4.0               4.0        424.0   \n",
       "3    26046                 0               1.0               4.0        395.0   \n",
       "4    11005                 0               3.0               3.0        334.0   \n",
       "\n",
       "   max_days_worked  min_days_worked  avg_days_worked  total_days_worked  \\\n",
       "0            882.0           -304.0            335.0             1341.0   \n",
       "1            699.0            182.0            350.0             2101.0   \n",
       "2            610.0            273.0            456.0             1826.0   \n",
       "3           1553.0            395.0            852.0             3409.0   \n",
       "4           2435.0            334.0           1136.0             3409.0   \n",
       "\n",
       "   Business  Design    IT  Other  N_Skills   English   German   Turkish  \\\n",
       "0       2.0     0.0   4.0   17.0      23.0  3.000000  0.00000  5.000000   \n",
       "1       0.0     0.0  17.0   32.0      49.0  3.000000  0.00000  0.000000   \n",
       "2       0.0     2.0   4.0   15.0      21.0  3.000871  0.29212  2.753424   \n",
       "3       0.0     0.0   7.0   23.0      30.0  2.000000  0.00000  0.000000   \n",
       "4       0.0     1.0  10.0   37.0      48.0  3.000000  0.00000  5.000000   \n",
       "\n",
       "     French   Spanish   Chinese  NLanguages  degree_edu  Edu_Finished  \\\n",
       "0  0.000000  0.000000  0.000000    4.000000         2.0           1.0   \n",
       "1  0.000000  0.000000  0.000000    3.000000         1.0           1.0   \n",
       "2  0.079602  0.063092  0.007033    2.039081         2.0           1.0   \n",
       "3  0.000000  0.000000  0.000000    2.000000         2.0           1.0   \n",
       "4  0.000000  0.000000  0.000000    3.000000         1.0           1.0   \n",
       "\n",
       "   Edu_Ongoing  Unknown_Edu_Status  field_edu_Engineering  \\\n",
       "0          0.0                 0.0                      0   \n",
       "1          0.0                 0.0                      0   \n",
       "2          0.0                 0.0                      0   \n",
       "3          0.0                 0.0                      0   \n",
       "4          0.0                 0.0                      0   \n",
       "\n",
       "   field_edu_Mathematics  field_edu_Other  field_edu_Science  \n",
       "0                      0                1                  0  \n",
       "1                      0                1                  0  \n",
       "2                      0                1                  0  \n",
       "3                      0                0                  0  \n",
       "4                      0                1                  0  "
      ]
     },
     "execution_count": 27,
     "metadata": {},
     "output_type": "execute_result"
    }
   ],
   "source": [
    "train = pd.get_dummies(train,columns= columns_to_encode, drop_first=True)\n",
    "train.head(5)"
   ]
  },
  {
   "cell_type": "code",
   "execution_count": 28,
   "metadata": {},
   "outputs": [
    {
     "data": {
      "text/html": [
       "<div>\n",
       "<style scoped>\n",
       "    .dataframe tbody tr th:only-of-type {\n",
       "        vertical-align: middle;\n",
       "    }\n",
       "\n",
       "    .dataframe tbody tr th {\n",
       "        vertical-align: top;\n",
       "    }\n",
       "\n",
       "    .dataframe thead th {\n",
       "        text-align: right;\n",
       "    }\n",
       "</style>\n",
       "<table border=\"1\" class=\"dataframe\">\n",
       "  <thead>\n",
       "    <tr style=\"text-align: right;\">\n",
       "      <th></th>\n",
       "      <th>user_id</th>\n",
       "      <th>moved_after_2019</th>\n",
       "      <th>companies_worked</th>\n",
       "      <th>positions_worked</th>\n",
       "      <th>days_worked</th>\n",
       "      <th>max_days_worked</th>\n",
       "      <th>min_days_worked</th>\n",
       "      <th>avg_days_worked</th>\n",
       "      <th>total_days_worked</th>\n",
       "      <th>Business</th>\n",
       "      <th>Design</th>\n",
       "      <th>IT</th>\n",
       "      <th>Other</th>\n",
       "      <th>N_Skills</th>\n",
       "      <th>English</th>\n",
       "      <th>German</th>\n",
       "      <th>Turkish</th>\n",
       "      <th>French</th>\n",
       "      <th>Spanish</th>\n",
       "      <th>Chinese</th>\n",
       "      <th>NLanguages</th>\n",
       "      <th>degree_edu</th>\n",
       "      <th>Edu_Finished</th>\n",
       "      <th>Edu_Ongoing</th>\n",
       "      <th>Unknown_Edu_Status</th>\n",
       "      <th>field_edu_Engineering</th>\n",
       "      <th>field_edu_Mathematics</th>\n",
       "      <th>field_edu_Other</th>\n",
       "      <th>field_edu_Science</th>\n",
       "    </tr>\n",
       "  </thead>\n",
       "  <tbody>\n",
       "    <tr>\n",
       "      <th>0</th>\n",
       "      <td>17449</td>\n",
       "      <td>2</td>\n",
       "      <td>3.000000</td>\n",
       "      <td>3.000000</td>\n",
       "      <td>0.000000</td>\n",
       "      <td>4017.000000</td>\n",
       "      <td>0.000000</td>\n",
       "      <td>2191.000000</td>\n",
       "      <td>6574.000000</td>\n",
       "      <td>1.0</td>\n",
       "      <td>0.0</td>\n",
       "      <td>11.0</td>\n",
       "      <td>22.0</td>\n",
       "      <td>34.0</td>\n",
       "      <td>3.000871</td>\n",
       "      <td>0.29212</td>\n",
       "      <td>2.753424</td>\n",
       "      <td>0.079602</td>\n",
       "      <td>0.063092</td>\n",
       "      <td>0.007033</td>\n",
       "      <td>2.039081</td>\n",
       "      <td>2.0</td>\n",
       "      <td>1.0</td>\n",
       "      <td>0.0</td>\n",
       "      <td>0.0</td>\n",
       "      <td>1</td>\n",
       "      <td>0</td>\n",
       "      <td>0</td>\n",
       "      <td>0</td>\n",
       "    </tr>\n",
       "    <tr>\n",
       "      <th>1</th>\n",
       "      <td>33967</td>\n",
       "      <td>2</td>\n",
       "      <td>2.000000</td>\n",
       "      <td>2.000000</td>\n",
       "      <td>730.000000</td>\n",
       "      <td>730.000000</td>\n",
       "      <td>214.000000</td>\n",
       "      <td>472.000000</td>\n",
       "      <td>944.000000</td>\n",
       "      <td>2.0</td>\n",
       "      <td>9.0</td>\n",
       "      <td>1.0</td>\n",
       "      <td>19.0</td>\n",
       "      <td>31.0</td>\n",
       "      <td>5.000000</td>\n",
       "      <td>0.00000</td>\n",
       "      <td>5.000000</td>\n",
       "      <td>0.000000</td>\n",
       "      <td>0.000000</td>\n",
       "      <td>1.000000</td>\n",
       "      <td>2.000000</td>\n",
       "      <td>4.0</td>\n",
       "      <td>1.0</td>\n",
       "      <td>0.0</td>\n",
       "      <td>0.0</td>\n",
       "      <td>1</td>\n",
       "      <td>0</td>\n",
       "      <td>0</td>\n",
       "      <td>0</td>\n",
       "    </tr>\n",
       "    <tr>\n",
       "      <th>2</th>\n",
       "      <td>2110</td>\n",
       "      <td>2</td>\n",
       "      <td>2.814964</td>\n",
       "      <td>3.309003</td>\n",
       "      <td>884.214057</td>\n",
       "      <td>1262.226409</td>\n",
       "      <td>281.970936</td>\n",
       "      <td>726.630486</td>\n",
       "      <td>2088.604064</td>\n",
       "      <td>3.0</td>\n",
       "      <td>0.0</td>\n",
       "      <td>2.0</td>\n",
       "      <td>8.0</td>\n",
       "      <td>13.0</td>\n",
       "      <td>2.000000</td>\n",
       "      <td>1.00000</td>\n",
       "      <td>5.000000</td>\n",
       "      <td>0.000000</td>\n",
       "      <td>0.000000</td>\n",
       "      <td>0.000000</td>\n",
       "      <td>4.000000</td>\n",
       "      <td>2.0</td>\n",
       "      <td>1.0</td>\n",
       "      <td>0.0</td>\n",
       "      <td>0.0</td>\n",
       "      <td>0</td>\n",
       "      <td>0</td>\n",
       "      <td>1</td>\n",
       "      <td>0</td>\n",
       "    </tr>\n",
       "    <tr>\n",
       "      <th>3</th>\n",
       "      <td>55082</td>\n",
       "      <td>2</td>\n",
       "      <td>2.000000</td>\n",
       "      <td>2.000000</td>\n",
       "      <td>2011.000000</td>\n",
       "      <td>2011.000000</td>\n",
       "      <td>699.000000</td>\n",
       "      <td>1355.000000</td>\n",
       "      <td>2710.000000</td>\n",
       "      <td>0.0</td>\n",
       "      <td>0.0</td>\n",
       "      <td>12.0</td>\n",
       "      <td>25.0</td>\n",
       "      <td>37.0</td>\n",
       "      <td>2.000000</td>\n",
       "      <td>0.00000</td>\n",
       "      <td>2.000000</td>\n",
       "      <td>0.000000</td>\n",
       "      <td>0.000000</td>\n",
       "      <td>0.000000</td>\n",
       "      <td>1.000000</td>\n",
       "      <td>2.0</td>\n",
       "      <td>1.0</td>\n",
       "      <td>0.0</td>\n",
       "      <td>0.0</td>\n",
       "      <td>0</td>\n",
       "      <td>0</td>\n",
       "      <td>0</td>\n",
       "      <td>0</td>\n",
       "    </tr>\n",
       "    <tr>\n",
       "      <th>4</th>\n",
       "      <td>37165</td>\n",
       "      <td>2</td>\n",
       "      <td>1.000000</td>\n",
       "      <td>1.000000</td>\n",
       "      <td>944.000000</td>\n",
       "      <td>944.000000</td>\n",
       "      <td>944.000000</td>\n",
       "      <td>944.000000</td>\n",
       "      <td>944.000000</td>\n",
       "      <td>0.0</td>\n",
       "      <td>0.0</td>\n",
       "      <td>0.0</td>\n",
       "      <td>4.0</td>\n",
       "      <td>4.0</td>\n",
       "      <td>4.000000</td>\n",
       "      <td>0.00000</td>\n",
       "      <td>5.000000</td>\n",
       "      <td>0.000000</td>\n",
       "      <td>0.000000</td>\n",
       "      <td>0.000000</td>\n",
       "      <td>2.000000</td>\n",
       "      <td>1.0</td>\n",
       "      <td>1.0</td>\n",
       "      <td>0.0</td>\n",
       "      <td>0.0</td>\n",
       "      <td>1</td>\n",
       "      <td>0</td>\n",
       "      <td>0</td>\n",
       "      <td>0</td>\n",
       "    </tr>\n",
       "  </tbody>\n",
       "</table>\n",
       "</div>"
      ],
      "text/plain": [
       "   user_id  moved_after_2019  companies_worked  positions_worked  days_worked  \\\n",
       "0    17449                 2          3.000000          3.000000     0.000000   \n",
       "1    33967                 2          2.000000          2.000000   730.000000   \n",
       "2     2110                 2          2.814964          3.309003   884.214057   \n",
       "3    55082                 2          2.000000          2.000000  2011.000000   \n",
       "4    37165                 2          1.000000          1.000000   944.000000   \n",
       "\n",
       "   max_days_worked  min_days_worked  avg_days_worked  total_days_worked  \\\n",
       "0      4017.000000         0.000000      2191.000000        6574.000000   \n",
       "1       730.000000       214.000000       472.000000         944.000000   \n",
       "2      1262.226409       281.970936       726.630486        2088.604064   \n",
       "3      2011.000000       699.000000      1355.000000        2710.000000   \n",
       "4       944.000000       944.000000       944.000000         944.000000   \n",
       "\n",
       "   Business  Design    IT  Other  N_Skills   English   German   Turkish  \\\n",
       "0       1.0     0.0  11.0   22.0      34.0  3.000871  0.29212  2.753424   \n",
       "1       2.0     9.0   1.0   19.0      31.0  5.000000  0.00000  5.000000   \n",
       "2       3.0     0.0   2.0    8.0      13.0  2.000000  1.00000  5.000000   \n",
       "3       0.0     0.0  12.0   25.0      37.0  2.000000  0.00000  2.000000   \n",
       "4       0.0     0.0   0.0    4.0       4.0  4.000000  0.00000  5.000000   \n",
       "\n",
       "     French   Spanish   Chinese  NLanguages  degree_edu  Edu_Finished  \\\n",
       "0  0.079602  0.063092  0.007033    2.039081         2.0           1.0   \n",
       "1  0.000000  0.000000  1.000000    2.000000         4.0           1.0   \n",
       "2  0.000000  0.000000  0.000000    4.000000         2.0           1.0   \n",
       "3  0.000000  0.000000  0.000000    1.000000         2.0           1.0   \n",
       "4  0.000000  0.000000  0.000000    2.000000         1.0           1.0   \n",
       "\n",
       "   Edu_Ongoing  Unknown_Edu_Status  field_edu_Engineering  \\\n",
       "0          0.0                 0.0                      1   \n",
       "1          0.0                 0.0                      1   \n",
       "2          0.0                 0.0                      0   \n",
       "3          0.0                 0.0                      0   \n",
       "4          0.0                 0.0                      1   \n",
       "\n",
       "   field_edu_Mathematics  field_edu_Other  field_edu_Science  \n",
       "0                      0                0                  0  \n",
       "1                      0                0                  0  \n",
       "2                      0                1                  0  \n",
       "3                      0                0                  0  \n",
       "4                      0                0                  0  "
      ]
     },
     "execution_count": 28,
     "metadata": {},
     "output_type": "execute_result"
    }
   ],
   "source": [
    "test = pd.get_dummies(test,columns= columns_to_encode, drop_first=True)\n",
    "test.head(5)"
   ]
  },
  {
   "attachments": {},
   "cell_type": "markdown",
   "metadata": {},
   "source": [
    "### Set bool columns to int"
   ]
  },
  {
   "cell_type": "code",
   "execution_count": 29,
   "metadata": {},
   "outputs": [],
   "source": [
    "train[train.columns[train.dtypes == 'bool']] = train[train.columns[train.dtypes == 'bool']].astype(int)\n",
    "test[test.columns[test.dtypes == 'bool']] = test[test.columns[test.dtypes == 'bool']].astype(int)"
   ]
  },
  {
   "attachments": {},
   "cell_type": "markdown",
   "metadata": {},
   "source": [
    "Drop some columns"
   ]
  },
  {
   "cell_type": "code",
   "execution_count": 30,
   "metadata": {},
   "outputs": [
    {
     "data": {
      "text/plain": [
       "Index(['user_id', 'moved_after_2019', 'companies_worked', 'positions_worked',\n",
       "       'days_worked', 'max_days_worked', 'min_days_worked', 'avg_days_worked',\n",
       "       'total_days_worked', 'Business', 'Design', 'IT', 'Other', 'N_Skills',\n",
       "       'English', 'German', 'Turkish', 'French', 'Spanish', 'Chinese',\n",
       "       'NLanguages', 'degree_edu', 'Edu_Finished', 'Edu_Ongoing',\n",
       "       'Unknown_Edu_Status', 'field_edu_Engineering', 'field_edu_Mathematics',\n",
       "       'field_edu_Other', 'field_edu_Science'],\n",
       "      dtype='object')"
      ]
     },
     "execution_count": 30,
     "metadata": {},
     "output_type": "execute_result"
    }
   ],
   "source": [
    "train.columns"
   ]
  },
  {
   "cell_type": "code",
   "execution_count": 31,
   "metadata": {},
   "outputs": [],
   "source": [
    "columns_to_drop =  ['German', 'Turkish', 'French', 'Spanish', 'Chinese']"
   ]
  },
  {
   "cell_type": "code",
   "execution_count": 32,
   "metadata": {},
   "outputs": [],
   "source": [
    "train.drop(columns_to_drop, axis=1, inplace=True)\n",
    "test.drop(columns_to_drop, axis=1, inplace=True)"
   ]
  },
  {
   "cell_type": "code",
   "execution_count": 33,
   "metadata": {},
   "outputs": [
    {
     "data": {
      "text/html": [
       "<div>\n",
       "<style scoped>\n",
       "    .dataframe tbody tr th:only-of-type {\n",
       "        vertical-align: middle;\n",
       "    }\n",
       "\n",
       "    .dataframe tbody tr th {\n",
       "        vertical-align: top;\n",
       "    }\n",
       "\n",
       "    .dataframe thead th {\n",
       "        text-align: right;\n",
       "    }\n",
       "</style>\n",
       "<table border=\"1\" class=\"dataframe\">\n",
       "  <thead>\n",
       "    <tr style=\"text-align: right;\">\n",
       "      <th></th>\n",
       "      <th>user_id</th>\n",
       "      <th>moved_after_2019</th>\n",
       "      <th>companies_worked</th>\n",
       "      <th>positions_worked</th>\n",
       "      <th>days_worked</th>\n",
       "      <th>max_days_worked</th>\n",
       "      <th>min_days_worked</th>\n",
       "      <th>avg_days_worked</th>\n",
       "      <th>total_days_worked</th>\n",
       "      <th>Business</th>\n",
       "      <th>Design</th>\n",
       "      <th>IT</th>\n",
       "      <th>Other</th>\n",
       "      <th>N_Skills</th>\n",
       "      <th>English</th>\n",
       "      <th>NLanguages</th>\n",
       "      <th>degree_edu</th>\n",
       "      <th>Edu_Finished</th>\n",
       "      <th>Edu_Ongoing</th>\n",
       "      <th>Unknown_Edu_Status</th>\n",
       "      <th>field_edu_Engineering</th>\n",
       "      <th>field_edu_Mathematics</th>\n",
       "      <th>field_edu_Other</th>\n",
       "      <th>field_edu_Science</th>\n",
       "    </tr>\n",
       "  </thead>\n",
       "  <tbody>\n",
       "    <tr>\n",
       "      <th>0</th>\n",
       "      <td>1301</td>\n",
       "      <td>1</td>\n",
       "      <td>4.0</td>\n",
       "      <td>4.0</td>\n",
       "      <td>153.0</td>\n",
       "      <td>882.0</td>\n",
       "      <td>-304.0</td>\n",
       "      <td>335.0</td>\n",
       "      <td>1341.0</td>\n",
       "      <td>2.0</td>\n",
       "      <td>0.0</td>\n",
       "      <td>4.0</td>\n",
       "      <td>17.0</td>\n",
       "      <td>23.0</td>\n",
       "      <td>3.000000</td>\n",
       "      <td>4.000000</td>\n",
       "      <td>2.0</td>\n",
       "      <td>1.0</td>\n",
       "      <td>0.0</td>\n",
       "      <td>0.0</td>\n",
       "      <td>0</td>\n",
       "      <td>0</td>\n",
       "      <td>1</td>\n",
       "      <td>0</td>\n",
       "    </tr>\n",
       "    <tr>\n",
       "      <th>1</th>\n",
       "      <td>6950</td>\n",
       "      <td>0</td>\n",
       "      <td>4.0</td>\n",
       "      <td>6.0</td>\n",
       "      <td>426.0</td>\n",
       "      <td>699.0</td>\n",
       "      <td>182.0</td>\n",
       "      <td>350.0</td>\n",
       "      <td>2101.0</td>\n",
       "      <td>0.0</td>\n",
       "      <td>0.0</td>\n",
       "      <td>17.0</td>\n",
       "      <td>32.0</td>\n",
       "      <td>49.0</td>\n",
       "      <td>3.000000</td>\n",
       "      <td>3.000000</td>\n",
       "      <td>1.0</td>\n",
       "      <td>1.0</td>\n",
       "      <td>0.0</td>\n",
       "      <td>0.0</td>\n",
       "      <td>0</td>\n",
       "      <td>0</td>\n",
       "      <td>1</td>\n",
       "      <td>0</td>\n",
       "    </tr>\n",
       "    <tr>\n",
       "      <th>2</th>\n",
       "      <td>4880</td>\n",
       "      <td>0</td>\n",
       "      <td>4.0</td>\n",
       "      <td>4.0</td>\n",
       "      <td>424.0</td>\n",
       "      <td>610.0</td>\n",
       "      <td>273.0</td>\n",
       "      <td>456.0</td>\n",
       "      <td>1826.0</td>\n",
       "      <td>0.0</td>\n",
       "      <td>2.0</td>\n",
       "      <td>4.0</td>\n",
       "      <td>15.0</td>\n",
       "      <td>21.0</td>\n",
       "      <td>3.000871</td>\n",
       "      <td>2.039081</td>\n",
       "      <td>2.0</td>\n",
       "      <td>1.0</td>\n",
       "      <td>0.0</td>\n",
       "      <td>0.0</td>\n",
       "      <td>0</td>\n",
       "      <td>0</td>\n",
       "      <td>1</td>\n",
       "      <td>0</td>\n",
       "    </tr>\n",
       "    <tr>\n",
       "      <th>3</th>\n",
       "      <td>26046</td>\n",
       "      <td>0</td>\n",
       "      <td>1.0</td>\n",
       "      <td>4.0</td>\n",
       "      <td>395.0</td>\n",
       "      <td>1553.0</td>\n",
       "      <td>395.0</td>\n",
       "      <td>852.0</td>\n",
       "      <td>3409.0</td>\n",
       "      <td>0.0</td>\n",
       "      <td>0.0</td>\n",
       "      <td>7.0</td>\n",
       "      <td>23.0</td>\n",
       "      <td>30.0</td>\n",
       "      <td>2.000000</td>\n",
       "      <td>2.000000</td>\n",
       "      <td>2.0</td>\n",
       "      <td>1.0</td>\n",
       "      <td>0.0</td>\n",
       "      <td>0.0</td>\n",
       "      <td>0</td>\n",
       "      <td>0</td>\n",
       "      <td>0</td>\n",
       "      <td>0</td>\n",
       "    </tr>\n",
       "    <tr>\n",
       "      <th>4</th>\n",
       "      <td>11005</td>\n",
       "      <td>0</td>\n",
       "      <td>3.0</td>\n",
       "      <td>3.0</td>\n",
       "      <td>334.0</td>\n",
       "      <td>2435.0</td>\n",
       "      <td>334.0</td>\n",
       "      <td>1136.0</td>\n",
       "      <td>3409.0</td>\n",
       "      <td>0.0</td>\n",
       "      <td>1.0</td>\n",
       "      <td>10.0</td>\n",
       "      <td>37.0</td>\n",
       "      <td>48.0</td>\n",
       "      <td>3.000000</td>\n",
       "      <td>3.000000</td>\n",
       "      <td>1.0</td>\n",
       "      <td>1.0</td>\n",
       "      <td>0.0</td>\n",
       "      <td>0.0</td>\n",
       "      <td>0</td>\n",
       "      <td>0</td>\n",
       "      <td>1</td>\n",
       "      <td>0</td>\n",
       "    </tr>\n",
       "  </tbody>\n",
       "</table>\n",
       "</div>"
      ],
      "text/plain": [
       "   user_id  moved_after_2019  companies_worked  positions_worked  days_worked  \\\n",
       "0     1301                 1               4.0               4.0        153.0   \n",
       "1     6950                 0               4.0               6.0        426.0   \n",
       "2     4880                 0               4.0               4.0        424.0   \n",
       "3    26046                 0               1.0               4.0        395.0   \n",
       "4    11005                 0               3.0               3.0        334.0   \n",
       "\n",
       "   max_days_worked  min_days_worked  avg_days_worked  total_days_worked  \\\n",
       "0            882.0           -304.0            335.0             1341.0   \n",
       "1            699.0            182.0            350.0             2101.0   \n",
       "2            610.0            273.0            456.0             1826.0   \n",
       "3           1553.0            395.0            852.0             3409.0   \n",
       "4           2435.0            334.0           1136.0             3409.0   \n",
       "\n",
       "   Business  Design    IT  Other  N_Skills   English  NLanguages  degree_edu  \\\n",
       "0       2.0     0.0   4.0   17.0      23.0  3.000000    4.000000         2.0   \n",
       "1       0.0     0.0  17.0   32.0      49.0  3.000000    3.000000         1.0   \n",
       "2       0.0     2.0   4.0   15.0      21.0  3.000871    2.039081         2.0   \n",
       "3       0.0     0.0   7.0   23.0      30.0  2.000000    2.000000         2.0   \n",
       "4       0.0     1.0  10.0   37.0      48.0  3.000000    3.000000         1.0   \n",
       "\n",
       "   Edu_Finished  Edu_Ongoing  Unknown_Edu_Status  field_edu_Engineering  \\\n",
       "0           1.0          0.0                 0.0                      0   \n",
       "1           1.0          0.0                 0.0                      0   \n",
       "2           1.0          0.0                 0.0                      0   \n",
       "3           1.0          0.0                 0.0                      0   \n",
       "4           1.0          0.0                 0.0                      0   \n",
       "\n",
       "   field_edu_Mathematics  field_edu_Other  field_edu_Science  \n",
       "0                      0                1                  0  \n",
       "1                      0                1                  0  \n",
       "2                      0                1                  0  \n",
       "3                      0                0                  0  \n",
       "4                      0                1                  0  "
      ]
     },
     "execution_count": 33,
     "metadata": {},
     "output_type": "execute_result"
    }
   ],
   "source": [
    "train.head()"
   ]
  },
  {
   "attachments": {},
   "cell_type": "markdown",
   "metadata": {
    "ExecuteTime": {
     "end_time": "2023-01-15T17:48:26.005478Z",
     "start_time": "2023-01-15T17:48:25.946883Z"
    }
   },
   "source": [
    "## Standard scaling"
   ]
  },
  {
   "cell_type": "code",
   "execution_count": 34,
   "metadata": {},
   "outputs": [
    {
     "data": {
      "text/plain": [
       "Index(['user_id', 'moved_after_2019', 'companies_worked', 'positions_worked',\n",
       "       'days_worked', 'max_days_worked', 'min_days_worked', 'avg_days_worked',\n",
       "       'total_days_worked', 'Business', 'Design', 'IT', 'Other', 'N_Skills',\n",
       "       'English', 'NLanguages', 'degree_edu', 'Edu_Finished', 'Edu_Ongoing',\n",
       "       'Unknown_Edu_Status', 'field_edu_Engineering', 'field_edu_Mathematics',\n",
       "       'field_edu_Other', 'field_edu_Science'],\n",
       "      dtype='object')"
      ]
     },
     "execution_count": 34,
     "metadata": {},
     "output_type": "execute_result"
    }
   ],
   "source": [
    "train.columns"
   ]
  },
  {
   "cell_type": "code",
   "execution_count": 35,
   "metadata": {},
   "outputs": [],
   "source": [
    "#features_to_scale = train.columns[train.dtypes == 'float64']\n",
    "features_to_scale = ['companies_worked', 'positions_worked',\n",
    "       'days_worked', 'max_days_worked', 'min_days_worked', 'avg_days_worked',\n",
    "       'total_days_worked', 'Business', 'Design', 'IT', 'Other', 'N_Skills',\n",
    "       'English', 'NLanguages', 'degree_edu']"
   ]
  },
  {
   "cell_type": "code",
   "execution_count": 36,
   "metadata": {},
   "outputs": [],
   "source": [
    "from sklearn.preprocessing import StandardScaler\n",
    "\n",
    "\n",
    "scaler = StandardScaler()\n",
    "train_scale = train[features_to_scale]\n",
    "scaler.fit(train_scale)\n",
    "X_scaled = scaler.transform(train_scale)\n",
    "train[features_to_scale] = X_scaled\n",
    "\n",
    "\n",
    "scaler = StandardScaler()\n",
    "test_scale  = test[features_to_scale]\n",
    "scaler.fit(train_scale)\n",
    "X_scaled = scaler.transform(test_scale)\n",
    "test[features_to_scale] = X_scaled\n"
   ]
  },
  {
   "attachments": {},
   "cell_type": "markdown",
   "metadata": {},
   "source": [
    "Drop user id column"
   ]
  },
  {
   "cell_type": "code",
   "execution_count": 37,
   "metadata": {},
   "outputs": [],
   "source": [
    "# store them just in case\n",
    "train_users = train['user_id']\n",
    "test_users = test['user_id']\n",
    "\n",
    "train = train.drop(['user_id'], axis=1)\n",
    "test = test.drop(['user_id'], axis=1)"
   ]
  },
  {
   "cell_type": "code",
   "execution_count": 38,
   "metadata": {},
   "outputs": [
    {
     "data": {
      "text/plain": [
       "Index(['moved_after_2019', 'companies_worked', 'positions_worked',\n",
       "       'days_worked', 'max_days_worked', 'min_days_worked', 'avg_days_worked',\n",
       "       'total_days_worked', 'Business', 'Design', 'IT', 'Other', 'N_Skills',\n",
       "       'English', 'NLanguages', 'degree_edu', 'Edu_Finished', 'Edu_Ongoing',\n",
       "       'Unknown_Edu_Status', 'field_edu_Engineering', 'field_edu_Mathematics',\n",
       "       'field_edu_Other', 'field_edu_Science'],\n",
       "      dtype='object')"
      ]
     },
     "execution_count": 38,
     "metadata": {},
     "output_type": "execute_result"
    }
   ],
   "source": [
    "train.columns"
   ]
  },
  {
   "attachments": {},
   "cell_type": "markdown",
   "metadata": {},
   "source": [
    "Drop labels"
   ]
  },
  {
   "cell_type": "code",
   "execution_count": 39,
   "metadata": {
    "ExecuteTime": {
     "end_time": "2023-01-15T17:48:27.312958Z",
     "start_time": "2023-01-15T17:48:27.252348Z"
    }
   },
   "outputs": [],
   "source": [
    "y = train['moved_after_2019']\n",
    "#y_test = test['Litres']\n",
    "\n",
    "train = train.drop(labels=['moved_after_2019'],axis=1)\n",
    "\n",
    "X_test = test.drop(labels=['moved_after_2019'],axis=1)\n"
   ]
  },
  {
   "cell_type": "markdown",
   "metadata": {},
   "source": [
    "Train, test, valid split"
   ]
  },
  {
   "cell_type": "code",
   "execution_count": 40,
   "metadata": {
    "ExecuteTime": {
     "end_time": "2023-01-15T17:48:27.638084Z",
     "start_time": "2023-01-15T17:48:27.630229Z"
    }
   },
   "outputs": [],
   "source": [
    "# Test train split\n",
    "X_train_, X_train_test, y_train_, y_train_test = train_test_split(train, y, test_size=0.2, stratify=y)\n",
    "\n",
    "# Train valid split\n",
    "X_train, X_valid, y_train, y_valid = train_test_split(X_train_, y_train_, test_size=0.2,stratify=y_train_)\n"
   ]
  },
  {
   "cell_type": "markdown",
   "metadata": {},
   "source": [
    "Performance Plotting Functions"
   ]
  },
  {
   "cell_type": "code",
   "execution_count": 49,
   "metadata": {
    "ExecuteTime": {
     "end_time": "2023-01-15T17:48:28.446157Z",
     "start_time": "2023-01-15T17:48:28.426039Z"
    }
   },
   "outputs": [],
   "source": [
    "def model_evolution_loss(history,y_lim1=0,y_lim2=0.75):  \n",
    "    # summarize history for loss\n",
    "    plt.ylim(y_lim1,y_lim2)\n",
    "    plt.plot(history.history['val_loss'],color='r',label=\"Validation\")\n",
    "    plt.plot(history.history['loss'],color='b',label=\"Training\")\n",
    "    plt.title('model loss')\n",
    "    plt.ylabel('loss')\n",
    "    plt.xlabel('epoch')\n",
    "    plt.legend()\n",
    "    plt.show()\n",
    "\n",
    "def model_evolution_metric(history,metric,y_lim1=0,y_lim2=0.75):  \n",
    "    # summarize history for loss\n",
    "    plt.ylim(y_lim1,y_lim2)\n",
    "    plt.plot(history.history[f'val_{metric}'],color='r',label=\"Validation\")\n",
    "    plt.plot(history.history[f'{metric}'],color='b',label=\"Training\")\n",
    "    plt.title(f'model {metric}')\n",
    "    plt.ylabel('loss')\n",
    "    plt.xlabel('epoch')\n",
    "    plt.legend()\n",
    "    plt.show()\n",
    "\n",
    "# Evaluate accuracy on training set\n",
    "def test_set_evalution(model, X_train, X_valid, y_train, y_valid,X_train_test,y_train_test):\n",
    "    print(\"Train set evaluation:\", model.evaluate(X_train,y_train))\n",
    "    print(\"Valid set evaluation:\", model.evaluate(X_valid,y_valid))\n",
    "    print(\"Test set evaluation:\", model.evaluate(X_train_test,y_train_test))"
   ]
  },
  {
   "cell_type": "code",
   "execution_count": 42,
   "metadata": {
    "ExecuteTime": {
     "end_time": "2023-01-15T17:48:32.677856Z",
     "start_time": "2023-01-15T17:48:32.666088Z"
    }
   },
   "outputs": [
    {
     "data": {
      "text/plain": [
       "22"
      ]
     },
     "execution_count": 42,
     "metadata": {},
     "output_type": "execute_result"
    }
   ],
   "source": [
    "n_input = X_train.shape[1]\n",
    "n_input"
   ]
  },
  {
   "cell_type": "markdown",
   "metadata": {},
   "source": [
    "Design NN"
   ]
  },
  {
   "attachments": {},
   "cell_type": "markdown",
   "metadata": {},
   "source": [
    "NN1"
   ]
  },
  {
   "cell_type": "code",
   "execution_count": 123,
   "metadata": {},
   "outputs": [
    {
     "name": "stdout",
     "output_type": "stream",
     "text": [
      "Epoch 1/200\n",
      "31/31 [==============================] - 1s 12ms/step - loss: 0.6087 - accuracy: 0.6747 - val_loss: 0.5416 - val_accuracy: 0.7403\n",
      "Epoch 2/200\n",
      "31/31 [==============================] - 0s 6ms/step - loss: 0.4692 - accuracy: 0.7826 - val_loss: 0.3696 - val_accuracy: 0.8486\n",
      "Epoch 3/200\n",
      "31/31 [==============================] - 0s 7ms/step - loss: 0.2909 - accuracy: 0.8823 - val_loss: 0.2193 - val_accuracy: 0.9093\n",
      "Epoch 4/200\n",
      "31/31 [==============================] - 0s 6ms/step - loss: 0.1869 - accuracy: 0.9243 - val_loss: 0.1612 - val_accuracy: 0.9312\n",
      "Epoch 5/200\n",
      "31/31 [==============================] - 0s 6ms/step - loss: 0.1426 - accuracy: 0.9401 - val_loss: 0.1283 - val_accuracy: 0.9460\n",
      "Epoch 6/200\n",
      "31/31 [==============================] - 0s 6ms/step - loss: 0.1158 - accuracy: 0.9513 - val_loss: 0.1076 - val_accuracy: 0.9556\n",
      "Epoch 7/200\n",
      "31/31 [==============================] - 0s 6ms/step - loss: 0.0986 - accuracy: 0.9576 - val_loss: 0.0939 - val_accuracy: 0.9612\n",
      "Epoch 8/200\n",
      "31/31 [==============================] - 0s 6ms/step - loss: 0.0841 - accuracy: 0.9645 - val_loss: 0.0830 - val_accuracy: 0.9645\n",
      "Epoch 9/200\n",
      "31/31 [==============================] - 0s 6ms/step - loss: 0.0759 - accuracy: 0.9676 - val_loss: 0.0775 - val_accuracy: 0.9696\n",
      "Epoch 10/200\n",
      "31/31 [==============================] - 0s 6ms/step - loss: 0.0690 - accuracy: 0.9715 - val_loss: 0.0714 - val_accuracy: 0.9715\n",
      "Epoch 11/200\n",
      "31/31 [==============================] - 0s 6ms/step - loss: 0.0641 - accuracy: 0.9730 - val_loss: 0.0668 - val_accuracy: 0.9719\n",
      "Epoch 12/200\n",
      "31/31 [==============================] - 0s 6ms/step - loss: 0.0589 - accuracy: 0.9756 - val_loss: 0.0644 - val_accuracy: 0.9741\n",
      "Epoch 13/200\n",
      "31/31 [==============================] - 0s 6ms/step - loss: 0.0540 - accuracy: 0.9776 - val_loss: 0.0597 - val_accuracy: 0.9755\n",
      "Epoch 14/200\n",
      "31/31 [==============================] - 0s 6ms/step - loss: 0.0521 - accuracy: 0.9781 - val_loss: 0.0573 - val_accuracy: 0.9755\n",
      "Epoch 15/200\n",
      "31/31 [==============================] - 0s 6ms/step - loss: 0.0485 - accuracy: 0.9799 - val_loss: 0.0527 - val_accuracy: 0.9775\n",
      "Epoch 16/200\n",
      "31/31 [==============================] - 0s 6ms/step - loss: 0.0473 - accuracy: 0.9808 - val_loss: 0.0583 - val_accuracy: 0.9759\n",
      "Epoch 17/200\n",
      "31/31 [==============================] - 0s 6ms/step - loss: 0.0454 - accuracy: 0.9812 - val_loss: 0.0532 - val_accuracy: 0.9787\n",
      "Epoch 18/200\n",
      "31/31 [==============================] - 0s 6ms/step - loss: 0.0423 - accuracy: 0.9824 - val_loss: 0.0498 - val_accuracy: 0.9800\n",
      "Epoch 19/200\n",
      "31/31 [==============================] - 0s 6ms/step - loss: 0.0403 - accuracy: 0.9835 - val_loss: 0.0470 - val_accuracy: 0.9807\n",
      "Epoch 20/200\n",
      "31/31 [==============================] - 0s 8ms/step - loss: 0.0386 - accuracy: 0.9839 - val_loss: 0.0489 - val_accuracy: 0.9802\n",
      "Epoch 21/200\n",
      "31/31 [==============================] - 0s 7ms/step - loss: 0.0375 - accuracy: 0.9845 - val_loss: 0.0459 - val_accuracy: 0.9805\n",
      "Epoch 22/200\n",
      "31/31 [==============================] - 0s 7ms/step - loss: 0.0351 - accuracy: 0.9857 - val_loss: 0.0461 - val_accuracy: 0.9821\n",
      "Epoch 23/200\n",
      "31/31 [==============================] - 0s 6ms/step - loss: 0.0351 - accuracy: 0.9855 - val_loss: 0.0434 - val_accuracy: 0.9830\n",
      "Epoch 24/200\n",
      "31/31 [==============================] - 0s 6ms/step - loss: 0.0335 - accuracy: 0.9858 - val_loss: 0.0456 - val_accuracy: 0.9817\n",
      "Epoch 25/200\n",
      "31/31 [==============================] - 0s 7ms/step - loss: 0.0327 - accuracy: 0.9868 - val_loss: 0.0441 - val_accuracy: 0.9816\n",
      "Epoch 26/200\n",
      "31/31 [==============================] - 0s 8ms/step - loss: 0.0328 - accuracy: 0.9862 - val_loss: 0.0418 - val_accuracy: 0.9820\n",
      "Epoch 27/200\n",
      "31/31 [==============================] - 0s 7ms/step - loss: 0.0304 - accuracy: 0.9876 - val_loss: 0.0413 - val_accuracy: 0.9840\n",
      "Epoch 28/200\n",
      "31/31 [==============================] - 0s 6ms/step - loss: 0.0298 - accuracy: 0.9882 - val_loss: 0.0394 - val_accuracy: 0.9843\n",
      "Epoch 29/200\n",
      "31/31 [==============================] - 0s 6ms/step - loss: 0.0301 - accuracy: 0.9876 - val_loss: 0.0407 - val_accuracy: 0.9835\n",
      "Epoch 30/200\n",
      "31/31 [==============================] - 0s 7ms/step - loss: 0.0288 - accuracy: 0.9881 - val_loss: 0.0426 - val_accuracy: 0.9831\n",
      "Epoch 31/200\n",
      "31/31 [==============================] - 0s 7ms/step - loss: 0.0288 - accuracy: 0.9877 - val_loss: 0.0406 - val_accuracy: 0.9833\n",
      "Epoch 32/200\n",
      "31/31 [==============================] - 0s 8ms/step - loss: 0.0270 - accuracy: 0.9885 - val_loss: 0.0397 - val_accuracy: 0.9842\n",
      "Epoch 33/200\n",
      "31/31 [==============================] - 0s 6ms/step - loss: 0.0275 - accuracy: 0.9890 - val_loss: 0.0399 - val_accuracy: 0.9830\n",
      "Epoch 34/200\n",
      "31/31 [==============================] - 0s 6ms/step - loss: 0.0263 - accuracy: 0.9893 - val_loss: 0.0387 - val_accuracy: 0.9839\n",
      "Epoch 35/200\n",
      "31/31 [==============================] - 0s 6ms/step - loss: 0.0259 - accuracy: 0.9894 - val_loss: 0.0385 - val_accuracy: 0.9839\n",
      "Epoch 36/200\n",
      "31/31 [==============================] - 0s 6ms/step - loss: 0.0259 - accuracy: 0.9891 - val_loss: 0.0392 - val_accuracy: 0.9835\n",
      "Epoch 37/200\n",
      "31/31 [==============================] - 0s 6ms/step - loss: 0.0244 - accuracy: 0.9901 - val_loss: 0.0368 - val_accuracy: 0.9857\n",
      "Epoch 38/200\n",
      "31/31 [==============================] - 0s 6ms/step - loss: 0.0237 - accuracy: 0.9906 - val_loss: 0.0362 - val_accuracy: 0.9856\n",
      "Epoch 39/200\n",
      "31/31 [==============================] - 0s 7ms/step - loss: 0.0241 - accuracy: 0.9902 - val_loss: 0.0376 - val_accuracy: 0.9861\n",
      "Epoch 40/200\n",
      "31/31 [==============================] - 0s 6ms/step - loss: 0.0238 - accuracy: 0.9901 - val_loss: 0.0398 - val_accuracy: 0.9840\n",
      "Epoch 41/200\n",
      "31/31 [==============================] - 0s 5ms/step - loss: 0.0238 - accuracy: 0.9904 - val_loss: 0.0363 - val_accuracy: 0.9857\n",
      "Epoch 42/200\n",
      "31/31 [==============================] - 0s 6ms/step - loss: 0.0238 - accuracy: 0.9900 - val_loss: 0.0406 - val_accuracy: 0.9842\n",
      "Epoch 43/200\n",
      "31/31 [==============================] - 0s 6ms/step - loss: 0.0225 - accuracy: 0.9906 - val_loss: 0.0363 - val_accuracy: 0.9858\n",
      "Epoch 44/200\n",
      "31/31 [==============================] - 0s 6ms/step - loss: 0.0218 - accuracy: 0.9911 - val_loss: 0.0381 - val_accuracy: 0.9851\n",
      "Epoch 45/200\n",
      "31/31 [==============================] - 0s 6ms/step - loss: 0.0215 - accuracy: 0.9910 - val_loss: 0.0391 - val_accuracy: 0.9853\n",
      "Epoch 46/200\n",
      "31/31 [==============================] - 0s 6ms/step - loss: 0.0214 - accuracy: 0.9910 - val_loss: 0.0376 - val_accuracy: 0.9856\n",
      "Epoch 47/200\n",
      "31/31 [==============================] - 0s 7ms/step - loss: 0.0225 - accuracy: 0.9905 - val_loss: 0.0413 - val_accuracy: 0.9838\n",
      "Epoch 48/200\n",
      "31/31 [==============================] - 0s 6ms/step - loss: 0.0215 - accuracy: 0.9910 - val_loss: 0.0392 - val_accuracy: 0.9847\n",
      "Epoch 49/200\n",
      "31/31 [==============================] - 0s 7ms/step - loss: 0.0212 - accuracy: 0.9917 - val_loss: 0.0362 - val_accuracy: 0.9870\n",
      "Epoch 50/200\n",
      "31/31 [==============================] - 0s 7ms/step - loss: 0.0199 - accuracy: 0.9918 - val_loss: 0.0378 - val_accuracy: 0.9856\n",
      "Epoch 51/200\n",
      "31/31 [==============================] - 0s 6ms/step - loss: 0.0213 - accuracy: 0.9913 - val_loss: 0.0436 - val_accuracy: 0.9835\n",
      "Epoch 52/200\n",
      "31/31 [==============================] - 0s 6ms/step - loss: 0.0214 - accuracy: 0.9911 - val_loss: 0.0393 - val_accuracy: 0.9843\n",
      "Epoch 53/200\n",
      "31/31 [==============================] - 0s 6ms/step - loss: 0.0196 - accuracy: 0.9919 - val_loss: 0.0382 - val_accuracy: 0.9866\n",
      "Epoch 54/200\n",
      "31/31 [==============================] - 0s 6ms/step - loss: 0.0218 - accuracy: 0.9913 - val_loss: 0.0379 - val_accuracy: 0.9848\n",
      "Epoch 55/200\n",
      "31/31 [==============================] - 0s 6ms/step - loss: 0.0198 - accuracy: 0.9917 - val_loss: 0.0394 - val_accuracy: 0.9860\n",
      "Epoch 56/200\n",
      "31/31 [==============================] - 0s 7ms/step - loss: 0.0201 - accuracy: 0.9922 - val_loss: 0.0348 - val_accuracy: 0.9858\n",
      "Epoch 57/200\n",
      "31/31 [==============================] - 0s 6ms/step - loss: 0.0202 - accuracy: 0.9919 - val_loss: 0.0364 - val_accuracy: 0.9861\n",
      "Epoch 58/200\n",
      "31/31 [==============================] - 0s 6ms/step - loss: 0.0185 - accuracy: 0.9926 - val_loss: 0.0372 - val_accuracy: 0.9868\n",
      "Epoch 59/200\n",
      "31/31 [==============================] - 0s 6ms/step - loss: 0.0178 - accuracy: 0.9929 - val_loss: 0.0347 - val_accuracy: 0.9874\n",
      "Epoch 60/200\n",
      "31/31 [==============================] - 0s 5ms/step - loss: 0.0174 - accuracy: 0.9929 - val_loss: 0.0392 - val_accuracy: 0.9852\n",
      "Epoch 61/200\n",
      "31/31 [==============================] - 0s 5ms/step - loss: 0.0193 - accuracy: 0.9923 - val_loss: 0.0354 - val_accuracy: 0.9865\n",
      "Epoch 62/200\n",
      "31/31 [==============================] - 0s 6ms/step - loss: 0.0189 - accuracy: 0.9922 - val_loss: 0.0478 - val_accuracy: 0.9848\n",
      "Epoch 63/200\n",
      "31/31 [==============================] - 0s 5ms/step - loss: 0.0222 - accuracy: 0.9907 - val_loss: 0.0452 - val_accuracy: 0.9843\n",
      "Epoch 64/200\n",
      "31/31 [==============================] - 0s 6ms/step - loss: 0.0194 - accuracy: 0.9920 - val_loss: 0.0338 - val_accuracy: 0.9866\n",
      "Epoch 65/200\n",
      "31/31 [==============================] - 0s 6ms/step - loss: 0.0182 - accuracy: 0.9923 - val_loss: 0.0384 - val_accuracy: 0.9851\n",
      "Epoch 66/200\n",
      "31/31 [==============================] - 0s 5ms/step - loss: 0.0172 - accuracy: 0.9926 - val_loss: 0.0352 - val_accuracy: 0.9875\n",
      "Epoch 67/200\n",
      "31/31 [==============================] - 0s 5ms/step - loss: 0.0177 - accuracy: 0.9924 - val_loss: 0.0343 - val_accuracy: 0.9861\n",
      "Epoch 68/200\n",
      "31/31 [==============================] - 0s 5ms/step - loss: 0.0157 - accuracy: 0.9935 - val_loss: 0.0380 - val_accuracy: 0.9862\n",
      "Epoch 69/200\n",
      "31/31 [==============================] - 0s 6ms/step - loss: 0.0159 - accuracy: 0.9937 - val_loss: 0.0354 - val_accuracy: 0.9871\n",
      "Epoch 70/200\n",
      "31/31 [==============================] - 0s 5ms/step - loss: 0.0155 - accuracy: 0.9938 - val_loss: 0.0422 - val_accuracy: 0.9848\n",
      "Epoch 71/200\n",
      "31/31 [==============================] - 0s 5ms/step - loss: 0.0169 - accuracy: 0.9937 - val_loss: 0.0359 - val_accuracy: 0.9871\n",
      "Epoch 72/200\n",
      "31/31 [==============================] - 0s 5ms/step - loss: 0.0162 - accuracy: 0.9936 - val_loss: 0.0365 - val_accuracy: 0.9867\n",
      "Epoch 73/200\n",
      "31/31 [==============================] - 0s 6ms/step - loss: 0.0165 - accuracy: 0.9934 - val_loss: 0.0396 - val_accuracy: 0.9866\n",
      "Epoch 74/200\n",
      "31/31 [==============================] - 0s 6ms/step - loss: 0.0160 - accuracy: 0.9938 - val_loss: 0.0520 - val_accuracy: 0.9811\n",
      "Epoch 75/200\n",
      "31/31 [==============================] - 0s 8ms/step - loss: 0.0166 - accuracy: 0.9934 - val_loss: 0.0347 - val_accuracy: 0.9876\n",
      "Epoch 76/200\n",
      "31/31 [==============================] - 0s 6ms/step - loss: 0.0154 - accuracy: 0.9940 - val_loss: 0.0386 - val_accuracy: 0.9867\n",
      "Epoch 77/200\n",
      "31/31 [==============================] - 0s 6ms/step - loss: 0.0148 - accuracy: 0.9938 - val_loss: 0.0380 - val_accuracy: 0.9854\n",
      "Epoch 78/200\n",
      "31/31 [==============================] - 0s 5ms/step - loss: 0.0144 - accuracy: 0.9942 - val_loss: 0.0361 - val_accuracy: 0.9870\n",
      "Epoch 79/200\n",
      "31/31 [==============================] - 0s 5ms/step - loss: 0.0145 - accuracy: 0.9943 - val_loss: 0.0393 - val_accuracy: 0.9875\n",
      "Epoch 80/200\n",
      "31/31 [==============================] - 0s 5ms/step - loss: 0.0165 - accuracy: 0.9930 - val_loss: 0.0401 - val_accuracy: 0.9849\n",
      "Epoch 81/200\n",
      "31/31 [==============================] - 0s 6ms/step - loss: 0.0183 - accuracy: 0.9923 - val_loss: 0.0385 - val_accuracy: 0.9863\n",
      "Epoch 82/200\n",
      "31/31 [==============================] - 0s 5ms/step - loss: 0.0161 - accuracy: 0.9932 - val_loss: 0.0375 - val_accuracy: 0.9872\n",
      "Epoch 83/200\n",
      "31/31 [==============================] - 0s 5ms/step - loss: 0.0135 - accuracy: 0.9948 - val_loss: 0.0360 - val_accuracy: 0.9879\n",
      "Epoch 84/200\n",
      "31/31 [==============================] - 0s 5ms/step - loss: 0.0134 - accuracy: 0.9947 - val_loss: 0.0432 - val_accuracy: 0.9868\n",
      "Epoch 85/200\n",
      "31/31 [==============================] - 0s 6ms/step - loss: 0.0166 - accuracy: 0.9930 - val_loss: 0.0402 - val_accuracy: 0.9857\n",
      "Epoch 86/200\n",
      "31/31 [==============================] - 0s 5ms/step - loss: 0.0160 - accuracy: 0.9940 - val_loss: 0.0401 - val_accuracy: 0.9868\n",
      "Epoch 87/200\n",
      "31/31 [==============================] - 0s 6ms/step - loss: 0.0126 - accuracy: 0.9955 - val_loss: 0.0366 - val_accuracy: 0.9880\n",
      "Epoch 88/200\n",
      "31/31 [==============================] - 0s 6ms/step - loss: 0.0130 - accuracy: 0.9948 - val_loss: 0.0374 - val_accuracy: 0.9886\n",
      "Epoch 89/200\n",
      "31/31 [==============================] - 0s 6ms/step - loss: 0.0120 - accuracy: 0.9958 - val_loss: 0.0390 - val_accuracy: 0.9867\n",
      "Epoch 90/200\n",
      "31/31 [==============================] - 0s 6ms/step - loss: 0.0121 - accuracy: 0.9953 - val_loss: 0.0368 - val_accuracy: 0.9877\n",
      "Epoch 91/200\n",
      "31/31 [==============================] - 0s 5ms/step - loss: 0.0125 - accuracy: 0.9952 - val_loss: 0.0377 - val_accuracy: 0.9885\n",
      "Epoch 92/200\n",
      "31/31 [==============================] - 0s 5ms/step - loss: 0.0142 - accuracy: 0.9944 - val_loss: 0.0427 - val_accuracy: 0.9863\n",
      "Epoch 93/200\n",
      "31/31 [==============================] - 0s 6ms/step - loss: 0.0138 - accuracy: 0.9945 - val_loss: 0.0375 - val_accuracy: 0.9881\n",
      "Epoch 94/200\n",
      "31/31 [==============================] - 0s 6ms/step - loss: 0.0121 - accuracy: 0.9954 - val_loss: 0.0385 - val_accuracy: 0.9883\n",
      "Epoch 95/200\n",
      "31/31 [==============================] - 0s 6ms/step - loss: 0.0131 - accuracy: 0.9944 - val_loss: 0.0386 - val_accuracy: 0.9880\n",
      "Epoch 96/200\n",
      "31/31 [==============================] - 0s 6ms/step - loss: 0.0121 - accuracy: 0.9954 - val_loss: 0.0407 - val_accuracy: 0.9877\n",
      "Epoch 97/200\n",
      "31/31 [==============================] - 0s 6ms/step - loss: 0.0117 - accuracy: 0.9954 - val_loss: 0.0407 - val_accuracy: 0.9880\n",
      "Epoch 98/200\n",
      "31/31 [==============================] - 0s 6ms/step - loss: 0.0142 - accuracy: 0.9943 - val_loss: 0.0422 - val_accuracy: 0.9871\n",
      "Epoch 99/200\n",
      "31/31 [==============================] - 0s 7ms/step - loss: 0.0114 - accuracy: 0.9960 - val_loss: 0.0398 - val_accuracy: 0.9880\n",
      "Epoch 100/200\n",
      "31/31 [==============================] - 0s 7ms/step - loss: 0.0109 - accuracy: 0.9965 - val_loss: 0.0390 - val_accuracy: 0.9880\n",
      "Epoch 101/200\n",
      "31/31 [==============================] - 0s 7ms/step - loss: 0.0106 - accuracy: 0.9962 - val_loss: 0.0407 - val_accuracy: 0.9877\n",
      "Epoch 102/200\n",
      "31/31 [==============================] - 0s 7ms/step - loss: 0.0119 - accuracy: 0.9954 - val_loss: 0.0421 - val_accuracy: 0.9885\n",
      "Epoch 103/200\n",
      "31/31 [==============================] - 0s 6ms/step - loss: 0.0131 - accuracy: 0.9948 - val_loss: 0.0413 - val_accuracy: 0.9891\n",
      "Epoch 104/200\n",
      "31/31 [==============================] - 0s 7ms/step - loss: 0.0112 - accuracy: 0.9955 - val_loss: 0.0478 - val_accuracy: 0.9863\n",
      "Epoch 105/200\n",
      "31/31 [==============================] - 0s 6ms/step - loss: 0.0117 - accuracy: 0.9958 - val_loss: 0.0463 - val_accuracy: 0.9872\n",
      "Epoch 106/200\n",
      "31/31 [==============================] - 0s 6ms/step - loss: 0.0139 - accuracy: 0.9938 - val_loss: 0.0409 - val_accuracy: 0.9890\n",
      "Epoch 107/200\n",
      "31/31 [==============================] - 0s 6ms/step - loss: 0.0121 - accuracy: 0.9952 - val_loss: 0.0396 - val_accuracy: 0.9874\n",
      "Epoch 108/200\n",
      "31/31 [==============================] - 0s 5ms/step - loss: 0.0113 - accuracy: 0.9958 - val_loss: 0.0482 - val_accuracy: 0.9860\n",
      "Epoch 109/200\n",
      "31/31 [==============================] - 0s 5ms/step - loss: 0.0131 - accuracy: 0.9949 - val_loss: 0.0420 - val_accuracy: 0.9879\n",
      "Epoch 110/200\n",
      "31/31 [==============================] - 0s 6ms/step - loss: 0.0133 - accuracy: 0.9944 - val_loss: 0.0398 - val_accuracy: 0.9883\n",
      "Epoch 111/200\n",
      "31/31 [==============================] - 0s 6ms/step - loss: 0.0104 - accuracy: 0.9964 - val_loss: 0.0445 - val_accuracy: 0.9876\n",
      "Epoch 112/200\n",
      "31/31 [==============================] - 0s 6ms/step - loss: 0.0121 - accuracy: 0.9955 - val_loss: 0.0416 - val_accuracy: 0.9875\n",
      "Epoch 113/200\n",
      "31/31 [==============================] - 0s 5ms/step - loss: 0.0118 - accuracy: 0.9951 - val_loss: 0.0417 - val_accuracy: 0.9880\n",
      "Epoch 114/200\n",
      "31/31 [==============================] - 0s 5ms/step - loss: 0.0104 - accuracy: 0.9962 - val_loss: 0.0405 - val_accuracy: 0.9888\n",
      "Epoch 115/200\n",
      "31/31 [==============================] - 0s 5ms/step - loss: 0.0106 - accuracy: 0.9960 - val_loss: 0.0415 - val_accuracy: 0.9874\n",
      "Epoch 116/200\n",
      "31/31 [==============================] - 0s 5ms/step - loss: 0.0112 - accuracy: 0.9958 - val_loss: 0.0417 - val_accuracy: 0.9871\n",
      "Epoch 117/200\n",
      "31/31 [==============================] - 0s 5ms/step - loss: 0.0124 - accuracy: 0.9953 - val_loss: 0.0430 - val_accuracy: 0.9872\n",
      "Epoch 118/200\n",
      "31/31 [==============================] - 0s 6ms/step - loss: 0.0115 - accuracy: 0.9955 - val_loss: 0.0429 - val_accuracy: 0.9877\n",
      "Epoch 119/200\n",
      "31/31 [==============================] - 0s 5ms/step - loss: 0.0141 - accuracy: 0.9943 - val_loss: 0.0467 - val_accuracy: 0.9875\n",
      "Epoch 120/200\n",
      "31/31 [==============================] - 0s 5ms/step - loss: 0.0116 - accuracy: 0.9955 - val_loss: 0.0477 - val_accuracy: 0.9857\n",
      "Epoch 121/200\n",
      "31/31 [==============================] - 0s 5ms/step - loss: 0.0107 - accuracy: 0.9957 - val_loss: 0.0454 - val_accuracy: 0.9868\n",
      "Epoch 122/200\n",
      "31/31 [==============================] - 0s 5ms/step - loss: 0.0101 - accuracy: 0.9962 - val_loss: 0.0414 - val_accuracy: 0.9884\n",
      "Epoch 123/200\n",
      "31/31 [==============================] - 0s 6ms/step - loss: 0.0099 - accuracy: 0.9961 - val_loss: 0.0408 - val_accuracy: 0.9897\n",
      "Epoch 124/200\n",
      "31/31 [==============================] - 0s 6ms/step - loss: 0.0098 - accuracy: 0.9961 - val_loss: 0.0450 - val_accuracy: 0.9863\n",
      "Epoch 125/200\n",
      "31/31 [==============================] - 0s 6ms/step - loss: 0.0088 - accuracy: 0.9970 - val_loss: 0.0407 - val_accuracy: 0.9888\n",
      "Epoch 126/200\n",
      "31/31 [==============================] - 0s 6ms/step - loss: 0.0088 - accuracy: 0.9971 - val_loss: 0.0444 - val_accuracy: 0.9879\n",
      "Epoch 127/200\n",
      "31/31 [==============================] - 0s 6ms/step - loss: 0.0100 - accuracy: 0.9961 - val_loss: 0.0425 - val_accuracy: 0.9889\n",
      "Epoch 128/200\n",
      "31/31 [==============================] - 0s 6ms/step - loss: 0.0090 - accuracy: 0.9966 - val_loss: 0.0418 - val_accuracy: 0.9885\n",
      "Epoch 129/200\n",
      "31/31 [==============================] - 0s 6ms/step - loss: 0.0089 - accuracy: 0.9969 - val_loss: 0.0435 - val_accuracy: 0.9886\n",
      "Epoch 130/200\n",
      "31/31 [==============================] - 0s 6ms/step - loss: 0.0076 - accuracy: 0.9976 - val_loss: 0.0436 - val_accuracy: 0.9880\n",
      "Epoch 131/200\n",
      "31/31 [==============================] - 0s 6ms/step - loss: 0.0111 - accuracy: 0.9958 - val_loss: 0.0433 - val_accuracy: 0.9880\n",
      "Epoch 132/200\n",
      "31/31 [==============================] - 0s 6ms/step - loss: 0.0115 - accuracy: 0.9952 - val_loss: 0.0459 - val_accuracy: 0.9866\n",
      "Epoch 133/200\n",
      "31/31 [==============================] - 0s 9ms/step - loss: 0.0110 - accuracy: 0.9956 - val_loss: 0.0481 - val_accuracy: 0.9881\n",
      "Epoch 134/200\n",
      "31/31 [==============================] - 0s 9ms/step - loss: 0.0103 - accuracy: 0.9958 - val_loss: 0.0452 - val_accuracy: 0.9879\n",
      "Epoch 135/200\n",
      "31/31 [==============================] - 0s 8ms/step - loss: 0.0097 - accuracy: 0.9964 - val_loss: 0.0418 - val_accuracy: 0.9890\n",
      "Epoch 136/200\n",
      "31/31 [==============================] - 0s 9ms/step - loss: 0.0089 - accuracy: 0.9966 - val_loss: 0.0470 - val_accuracy: 0.9868\n",
      "Epoch 137/200\n",
      "31/31 [==============================] - 0s 7ms/step - loss: 0.0111 - accuracy: 0.9952 - val_loss: 0.0444 - val_accuracy: 0.9886\n",
      "Epoch 138/200\n",
      "31/31 [==============================] - 0s 8ms/step - loss: 0.0123 - accuracy: 0.9947 - val_loss: 0.0472 - val_accuracy: 0.9870\n",
      "Epoch 139/200\n",
      "31/31 [==============================] - 0s 7ms/step - loss: 0.0112 - accuracy: 0.9954 - val_loss: 0.0511 - val_accuracy: 0.9870\n",
      "Epoch 140/200\n",
      "31/31 [==============================] - 0s 8ms/step - loss: 0.0095 - accuracy: 0.9964 - val_loss: 0.0454 - val_accuracy: 0.9886\n",
      "Epoch 141/200\n",
      "31/31 [==============================] - 0s 8ms/step - loss: 0.0092 - accuracy: 0.9966 - val_loss: 0.0438 - val_accuracy: 0.9880\n",
      "Epoch 142/200\n",
      "31/31 [==============================] - 0s 7ms/step - loss: 0.0082 - accuracy: 0.9969 - val_loss: 0.0480 - val_accuracy: 0.9870\n",
      "Epoch 143/200\n",
      "31/31 [==============================] - 0s 7ms/step - loss: 0.0087 - accuracy: 0.9969 - val_loss: 0.0474 - val_accuracy: 0.9877\n",
      "Epoch 144/200\n",
      "31/31 [==============================] - 0s 6ms/step - loss: 0.0103 - accuracy: 0.9959 - val_loss: 0.0454 - val_accuracy: 0.9872\n",
      "Epoch 145/200\n",
      "31/31 [==============================] - 0s 6ms/step - loss: 0.0094 - accuracy: 0.9965 - val_loss: 0.0590 - val_accuracy: 0.9861\n",
      "Epoch 146/200\n",
      "31/31 [==============================] - 0s 7ms/step - loss: 0.0133 - accuracy: 0.9943 - val_loss: 0.0457 - val_accuracy: 0.9876\n",
      "Epoch 147/200\n",
      "31/31 [==============================] - 0s 6ms/step - loss: 0.0092 - accuracy: 0.9966 - val_loss: 0.0430 - val_accuracy: 0.9889\n",
      "Epoch 148/200\n",
      "31/31 [==============================] - 0s 6ms/step - loss: 0.0076 - accuracy: 0.9976 - val_loss: 0.0436 - val_accuracy: 0.9890\n",
      "Epoch 149/200\n",
      "31/31 [==============================] - 0s 7ms/step - loss: 0.0073 - accuracy: 0.9976 - val_loss: 0.0466 - val_accuracy: 0.9879\n",
      "Epoch 150/200\n",
      "31/31 [==============================] - 0s 6ms/step - loss: 0.0076 - accuracy: 0.9968 - val_loss: 0.0455 - val_accuracy: 0.9885\n",
      "Epoch 151/200\n",
      "31/31 [==============================] - 0s 7ms/step - loss: 0.0082 - accuracy: 0.9967 - val_loss: 0.0434 - val_accuracy: 0.9884\n",
      "Epoch 152/200\n",
      "31/31 [==============================] - 0s 7ms/step - loss: 0.0091 - accuracy: 0.9965 - val_loss: 0.0492 - val_accuracy: 0.9868\n",
      "Epoch 153/200\n",
      "31/31 [==============================] - 0s 7ms/step - loss: 0.0102 - accuracy: 0.9958 - val_loss: 0.0559 - val_accuracy: 0.9863\n",
      "Epoch 154/200\n",
      "31/31 [==============================] - 0s 6ms/step - loss: 0.0098 - accuracy: 0.9963 - val_loss: 0.0487 - val_accuracy: 0.9876\n",
      "Epoch 155/200\n",
      "31/31 [==============================] - 0s 6ms/step - loss: 0.0086 - accuracy: 0.9968 - val_loss: 0.0462 - val_accuracy: 0.9883\n",
      "Epoch 156/200\n",
      "31/31 [==============================] - 0s 6ms/step - loss: 0.0083 - accuracy: 0.9972 - val_loss: 0.0430 - val_accuracy: 0.9881\n",
      "Epoch 157/200\n",
      "31/31 [==============================] - 0s 7ms/step - loss: 0.0110 - accuracy: 0.9957 - val_loss: 0.0455 - val_accuracy: 0.9890\n",
      "Epoch 158/200\n",
      "31/31 [==============================] - 0s 7ms/step - loss: 0.0128 - accuracy: 0.9950 - val_loss: 0.0522 - val_accuracy: 0.9879\n",
      "Epoch 159/200\n",
      "31/31 [==============================] - 0s 6ms/step - loss: 0.0110 - accuracy: 0.9954 - val_loss: 0.0496 - val_accuracy: 0.9881\n",
      "Epoch 160/200\n",
      "31/31 [==============================] - 0s 6ms/step - loss: 0.0111 - accuracy: 0.9955 - val_loss: 0.0456 - val_accuracy: 0.9876\n",
      "Epoch 161/200\n",
      "31/31 [==============================] - 0s 8ms/step - loss: 0.0083 - accuracy: 0.9969 - val_loss: 0.0454 - val_accuracy: 0.9879\n",
      "Epoch 162/200\n",
      "31/31 [==============================] - 0s 7ms/step - loss: 0.0085 - accuracy: 0.9975 - val_loss: 0.0529 - val_accuracy: 0.9879\n",
      "Epoch 163/200\n",
      "31/31 [==============================] - 0s 6ms/step - loss: 0.0076 - accuracy: 0.9971 - val_loss: 0.0439 - val_accuracy: 0.9886\n",
      "Epoch 164/200\n",
      "31/31 [==============================] - 0s 6ms/step - loss: 0.0069 - accuracy: 0.9975 - val_loss: 0.0476 - val_accuracy: 0.9881\n",
      "Epoch 165/200\n",
      "31/31 [==============================] - 0s 6ms/step - loss: 0.0078 - accuracy: 0.9971 - val_loss: 0.0435 - val_accuracy: 0.9897\n",
      "Epoch 166/200\n",
      "31/31 [==============================] - 0s 6ms/step - loss: 0.0076 - accuracy: 0.9975 - val_loss: 0.0492 - val_accuracy: 0.9889\n",
      "Epoch 167/200\n",
      "31/31 [==============================] - 0s 8ms/step - loss: 0.0094 - accuracy: 0.9967 - val_loss: 0.0484 - val_accuracy: 0.9881\n",
      "Epoch 168/200\n",
      "31/31 [==============================] - 0s 8ms/step - loss: 0.0071 - accuracy: 0.9974 - val_loss: 0.0473 - val_accuracy: 0.9888\n",
      "Epoch 169/200\n",
      "31/31 [==============================] - 0s 8ms/step - loss: 0.0059 - accuracy: 0.9980 - val_loss: 0.0465 - val_accuracy: 0.9889\n",
      "Epoch 170/200\n",
      "31/31 [==============================] - 0s 8ms/step - loss: 0.0071 - accuracy: 0.9976 - val_loss: 0.0497 - val_accuracy: 0.9880\n",
      "Epoch 171/200\n",
      "31/31 [==============================] - 0s 7ms/step - loss: 0.0065 - accuracy: 0.9976 - val_loss: 0.0469 - val_accuracy: 0.9885\n",
      "Epoch 172/200\n",
      "31/31 [==============================] - 0s 8ms/step - loss: 0.0059 - accuracy: 0.9982 - val_loss: 0.0501 - val_accuracy: 0.9880\n",
      "Epoch 173/200\n",
      "31/31 [==============================] - 0s 8ms/step - loss: 0.0067 - accuracy: 0.9977 - val_loss: 0.0495 - val_accuracy: 0.9881\n",
      "Epoch 174/200\n",
      "31/31 [==============================] - 0s 9ms/step - loss: 0.0091 - accuracy: 0.9969 - val_loss: 0.0536 - val_accuracy: 0.9883\n",
      "Epoch 175/200\n",
      "31/31 [==============================] - 0s 8ms/step - loss: 0.0082 - accuracy: 0.9968 - val_loss: 0.0481 - val_accuracy: 0.9891\n",
      "Epoch 176/200\n",
      "31/31 [==============================] - 0s 7ms/step - loss: 0.0066 - accuracy: 0.9976 - val_loss: 0.0490 - val_accuracy: 0.9889\n",
      "Epoch 177/200\n",
      "31/31 [==============================] - 0s 7ms/step - loss: 0.0067 - accuracy: 0.9978 - val_loss: 0.0501 - val_accuracy: 0.9886\n",
      "Epoch 178/200\n",
      "31/31 [==============================] - 0s 7ms/step - loss: 0.0091 - accuracy: 0.9963 - val_loss: 0.0514 - val_accuracy: 0.9883\n",
      "Epoch 179/200\n",
      "31/31 [==============================] - 0s 6ms/step - loss: 0.0078 - accuracy: 0.9974 - val_loss: 0.0468 - val_accuracy: 0.9883\n",
      "Epoch 180/200\n",
      "31/31 [==============================] - 0s 8ms/step - loss: 0.0065 - accuracy: 0.9979 - val_loss: 0.0502 - val_accuracy: 0.9876\n",
      "Epoch 181/200\n",
      "31/31 [==============================] - 0s 7ms/step - loss: 0.0074 - accuracy: 0.9972 - val_loss: 0.0518 - val_accuracy: 0.9877\n",
      "Epoch 182/200\n",
      "31/31 [==============================] - 0s 7ms/step - loss: 0.0089 - accuracy: 0.9966 - val_loss: 0.0557 - val_accuracy: 0.9879\n",
      "Epoch 183/200\n",
      "31/31 [==============================] - 0s 6ms/step - loss: 0.0077 - accuracy: 0.9970 - val_loss: 0.0485 - val_accuracy: 0.9888\n",
      "Epoch 184/200\n",
      "31/31 [==============================] - 0s 6ms/step - loss: 0.0067 - accuracy: 0.9976 - val_loss: 0.0532 - val_accuracy: 0.9886\n",
      "Epoch 185/200\n",
      "31/31 [==============================] - 0s 6ms/step - loss: 0.0093 - accuracy: 0.9966 - val_loss: 0.0543 - val_accuracy: 0.9868\n",
      "Epoch 186/200\n",
      "31/31 [==============================] - 0s 6ms/step - loss: 0.0085 - accuracy: 0.9968 - val_loss: 0.0506 - val_accuracy: 0.9874\n",
      "Epoch 187/200\n",
      "31/31 [==============================] - 0s 6ms/step - loss: 0.0075 - accuracy: 0.9972 - val_loss: 0.0470 - val_accuracy: 0.9889\n",
      "Epoch 188/200\n",
      "31/31 [==============================] - 0s 6ms/step - loss: 0.0095 - accuracy: 0.9961 - val_loss: 0.0504 - val_accuracy: 0.9885\n",
      "Epoch 189/200\n",
      "31/31 [==============================] - 0s 6ms/step - loss: 0.0068 - accuracy: 0.9975 - val_loss: 0.0515 - val_accuracy: 0.9883\n",
      "Epoch 190/200\n",
      "31/31 [==============================] - 0s 6ms/step - loss: 0.0061 - accuracy: 0.9982 - val_loss: 0.0521 - val_accuracy: 0.9886\n",
      "Epoch 191/200\n",
      "31/31 [==============================] - 0s 7ms/step - loss: 0.0063 - accuracy: 0.9977 - val_loss: 0.0514 - val_accuracy: 0.9880\n",
      "Epoch 192/200\n",
      "31/31 [==============================] - 0s 6ms/step - loss: 0.0072 - accuracy: 0.9975 - val_loss: 0.0521 - val_accuracy: 0.9874\n",
      "Epoch 193/200\n",
      "31/31 [==============================] - 0s 6ms/step - loss: 0.0096 - accuracy: 0.9960 - val_loss: 0.0579 - val_accuracy: 0.9863\n",
      "Epoch 194/200\n",
      "31/31 [==============================] - 0s 6ms/step - loss: 0.0072 - accuracy: 0.9973 - val_loss: 0.0481 - val_accuracy: 0.9886\n",
      "Epoch 195/200\n",
      "31/31 [==============================] - 0s 8ms/step - loss: 0.0061 - accuracy: 0.9980 - val_loss: 0.0481 - val_accuracy: 0.9894\n",
      "Epoch 196/200\n",
      "31/31 [==============================] - 0s 6ms/step - loss: 0.0052 - accuracy: 0.9985 - val_loss: 0.0524 - val_accuracy: 0.9883\n",
      "Epoch 197/200\n",
      "31/31 [==============================] - 0s 7ms/step - loss: 0.0054 - accuracy: 0.9982 - val_loss: 0.0509 - val_accuracy: 0.9888\n",
      "Epoch 198/200\n",
      "31/31 [==============================] - 0s 7ms/step - loss: 0.0055 - accuracy: 0.9983 - val_loss: 0.0502 - val_accuracy: 0.9888\n",
      "Epoch 199/200\n",
      "31/31 [==============================] - 0s 6ms/step - loss: 0.0058 - accuracy: 0.9980 - val_loss: 0.0515 - val_accuracy: 0.9885\n",
      "Epoch 200/200\n",
      "31/31 [==============================] - 0s 6ms/step - loss: 0.0061 - accuracy: 0.9980 - val_loss: 0.0495 - val_accuracy: 0.9889\n"
     ]
    }
   ],
   "source": [
    "inputs = tf.keras.Input(shape=(n_input,))\n",
    "x = tf.keras.layers.Dense(32, activation='relu')(inputs)\n",
    "x = tf.keras.layers.Dense(32, activation='relu')(x)\n",
    "x = tf.keras.layers.Dense(32, activation='relu')(x)\n",
    "x = tf.keras.layers.Dense(16, activation='relu')(x)\n",
    "outputs = tf.keras.layers.Dense(1, activation='sigmoid')(x)\n",
    "\n",
    "\n",
    "model = tf.keras.Model(inputs=inputs, outputs=outputs)\n",
    "\n",
    "# Compiling the model with binary crossentropy loss and categorical accuracy metrics\n",
    "model.compile(optimizer='adam', loss='binary_crossentropy', metrics=['accuracy'])\n",
    "\n",
    "# Fitting the model with your training data\n",
    "#model.fit(X_train, y_train, epochs=10, batch_size=32)\n",
    "early_stopping = EarlyStopping(monitor='val_loss', mode='min', patience=5, restore_best_weights=True)\n",
    "\n",
    "history = model.fit(X_train, y_train, epochs=200, batch_size = 1024,validation_data=(X_valid,y_valid), verbose=1)\n",
    "#history = model.fit(X_train, y_train, epochs=200, batch_size = 1024,validation_data=(X_valid,y_valid),verbose=1,callbacks=[early_stopping])\n"
   ]
  },
  {
   "cell_type": "code",
   "execution_count": 74,
   "metadata": {
    "ExecuteTime": {
     "end_time": "2023-01-15T17:48:33.944284Z",
     "start_time": "2023-01-15T17:48:33.764940Z"
    }
   },
   "outputs": [
    {
     "data": {
      "text/plain": [
       "' model = Sequential()\\n\\n# hidden layers\\n\\nmodel.add(Dense(units=16, activation=\\'relu\\', input_dim=n_input))\\nmodel.add(Dense(units=16,activation=\\'relu\\'))\\nmodel.add(Dense(units=16,activation=\\'relu\\'))\\nmodel.add(Dense(units=8,activation=\\'relu\\'))\\nmodel.add(Dense(units=8,activation=\\'relu\\'))\\n\\n# final layer\\nmodel.add(Dense(units=1,activation=tf.keras.layers.ThresholdedReLU(theta=0.5,)))\\n\\n# Compile model\\nmodel.compile(loss=tf.keras.losses.CategoricalCrossentropy(), optimizer=\\'SGD\\', metrics=[\"CategoricalAccuracy\"])\\n\\n# Train NN with Early stopping on valid\\nearly_stopping = EarlyStopping(monitor=\\'val_loss\\', mode=\\'min\\', patience=5, restore_best_weights=True)\\n\\nhistory = model.fit(X_train, y_train, epochs=100, batch_size = 1024,validation_data=(X_valid,y_valid), verbose=1,callbacks=[early_stopping])\\n '"
      ]
     },
     "execution_count": 74,
     "metadata": {},
     "output_type": "execute_result"
    }
   ],
   "source": [
    "\"\"\" model = Sequential()\n",
    "\n",
    "# hidden layers\n",
    "\n",
    "model.add(Dense(units=16, activation='relu', input_dim=n_input))\n",
    "model.add(Dense(units=16,activation='relu'))\n",
    "model.add(Dense(units=16,activation='relu'))\n",
    "model.add(Dense(units=8,activation='relu'))\n",
    "model.add(Dense(units=8,activation='relu'))\n",
    "\n",
    "# final layer\n",
    "model.add(Dense(units=1,activation=tf.keras.layers.ThresholdedReLU(theta=0.5,)))\n",
    "\n",
    "# Compile model\n",
    "model.compile(loss=tf.keras.losses.CategoricalCrossentropy(), optimizer='SGD', metrics=[\"CategoricalAccuracy\"])\n",
    "\n",
    "# Train NN with Early stopping on valid\n",
    "early_stopping = EarlyStopping(monitor='val_loss', mode='min', patience=5, restore_best_weights=True)\n",
    "\n",
    "history = model.fit(X_train, y_train, epochs=100, batch_size = 1024,validation_data=(X_valid,y_valid), verbose=1,callbacks=[early_stopping])\n",
    " \"\"\""
   ]
  },
  {
   "cell_type": "code",
   "execution_count": 124,
   "metadata": {
    "ExecuteTime": {
     "end_time": "2023-01-15T17:48:47.509313Z",
     "start_time": "2023-01-15T17:48:47.489893Z"
    }
   },
   "outputs": [
    {
     "data": {
      "text/plain": [
       "dict_keys(['loss', 'accuracy', 'val_loss', 'val_accuracy'])"
      ]
     },
     "execution_count": 124,
     "metadata": {},
     "output_type": "execute_result"
    }
   ],
   "source": [
    "history.history.keys()"
   ]
  },
  {
   "cell_type": "code",
   "execution_count": 125,
   "metadata": {
    "ExecuteTime": {
     "end_time": "2023-01-15T17:48:35.941497Z",
     "start_time": "2023-01-15T17:48:35.756768Z"
    }
   },
   "outputs": [
    {
     "data": {
      "image/png": "[encoded data removed]",
      "text/plain": [
       "<Figure size 640x480 with 1 Axes>"
      ]
     },
     "metadata": {},
     "output_type": "display_data"
    },
    {
     "data": {
      "image/png": "[encoded data removed]",
      "text/plain": [
       "<Figure size 640x480 with 1 Axes>"
      ]
     },
     "metadata": {},
     "output_type": "display_data"
    }
   ],
   "source": [
    "# Plot model evolution\n",
    "model_evolution_loss(history,y_lim1=0.0,y_lim2=0.4)\n",
    "model_evolution_metric(history,\"accuracy\",y_lim1=0.9,y_lim2=1)"
   ]
  },
  {
   "cell_type": "code",
   "execution_count": 126,
   "metadata": {},
   "outputs": [
    {
     "name": "stdout",
     "output_type": "stream",
     "text": [
      "979/979 [==============================] - 3s 3ms/step - loss: 0.0056 - accuracy: 0.9982\n",
      "Train set evaluation: [0.005601869430392981, 0.9981802105903625]\n",
      "245/245 [==============================] - 1s 3ms/step - loss: 0.0495 - accuracy: 0.9889\n",
      "Valid set evaluation: [0.04951261356472969, 0.9888902902603149]\n",
      "306/306 [==============================] - 1s 3ms/step - loss: 0.0539 - accuracy: 0.9877\n",
      "Test set evaluation: [0.053886279463768005, 0.9877413511276245]\n",
      "306/306 [==============================] - 1s 3ms/step - loss: 0.0539 - accuracy: 0.9877\n"
     ]
    },
    {
     "data": {
      "text/plain": [
       "[0.053886279463768005, 0.9877413511276245]"
      ]
     },
     "execution_count": 126,
     "metadata": {},
     "output_type": "execute_result"
    }
   ],
   "source": [
    "# print metrics\n",
    "test_set_evalution(model, X_train, X_valid, y_train, y_valid,X_train_test,y_train_test)\n",
    "model.evaluate(X_train_test,y_train_test)"
   ]
  },
  {
   "attachments": {},
   "cell_type": "markdown",
   "metadata": {},
   "source": [
    "Apply thresholding anad evaluate accuracy"
   ]
  },
  {
   "cell_type": "code",
   "execution_count": 133,
   "metadata": {},
   "outputs": [
    {
     "name": "stdout",
     "output_type": "stream",
     "text": [
      "979/979 [==============================] - 2s 2ms/step\n",
      "245/245 [==============================] - 0s 1ms/step\n",
      "306/306 [==============================] - 1s 2ms/step\n"
     ]
    }
   ],
   "source": [
    "y_train_pred = model.predict(X_train)\n",
    "y_valid_pred = model.predict(X_valid)\n",
    "y_train_test_pred = model.predict(X_train_test)"
   ]
  },
  {
   "cell_type": "code",
   "execution_count": 128,
   "metadata": {},
   "outputs": [],
   "source": [
    "from sklearn.metrics import accuracy_score\n",
    "\n",
    "def evaluate_thresholds(threshold,y_tp, y_t, y_vp, y_v, y_ttp, y_tt):\n",
    "    print(\"Threshold: \" , threshold)\n",
    "    y_tp[ y_tp > threshold ] = 1\n",
    "    y_tp[ y_tp <= threshold ] = 0\n",
    "    # do the same for the other arrays\n",
    "    y_vp[ y_vp > threshold ] = 1\n",
    "    y_vp[ y_vp <= threshold ] = 0\n",
    "    y_ttp[ y_ttp > threshold ] = 1\n",
    "    y_ttp[ y_ttp <= threshold ] = 0\n",
    "    print(\"Train: \", accuracy_score(y_t, y_tp), \" Validation: \", accuracy_score(y_v, y_vp), \n",
    "    \"Test: \", accuracy_score(y_tt, y_ttp))\n",
    "    "
   ]
  },
  {
   "cell_type": "code",
   "execution_count": 134,
   "metadata": {},
   "outputs": [
    {
     "name": "stdout",
     "output_type": "stream",
     "text": [
      "Threshold:  0.2\n",
      "Train:  0.9954983717514846  Validation:  0.986719448346316 Test:  0.9856982327101849\n"
     ]
    }
   ],
   "source": [
    "evaluate_thresholds(0.2,y_train_pred, y_train, y_valid_pred, y_valid, y_train_test_pred, y_train_test)"
   ]
  },
  {
   "cell_type": "code",
   "execution_count": 103,
   "metadata": {},
   "outputs": [
    {
     "name": "stdout",
     "output_type": "stream",
     "text": [
      "0.9998722942340846\n",
      "0.9876133316306985\n",
      "0.987230564919808\n"
     ]
    }
   ],
   "source": [
    "print(accuracy_score(y_train, y_train_pred))\n",
    "print(accuracy_score(y_valid, y_valid_pred))\n",
    "print(accuracy_score(y_train_test, y_train_test_pred))"
   ]
  },
  {
   "cell_type": "code",
   "execution_count": 104,
   "metadata": {},
   "outputs": [
    {
     "name": "stdout",
     "output_type": "stream",
     "text": [
      "0.3360257965647149\n",
      "0.33610011492785086\n",
      "0.33598937583001326\n"
     ]
    }
   ],
   "source": [
    "print(y_train.mean())\n",
    "print(y_valid.mean())\n",
    "print(y_train_test.mean())"
   ]
  },
  {
   "cell_type": "markdown",
   "metadata": {},
   "source": [
    "## Now do prediction"
   ]
  },
  {
   "cell_type": "code",
   "execution_count": 139,
   "metadata": {},
   "outputs": [
    {
     "data": {
      "text/plain": [
       "(13255, 22)"
      ]
     },
     "execution_count": 139,
     "metadata": {},
     "output_type": "execute_result"
    }
   ],
   "source": [
    "X_test.shape"
   ]
  },
  {
   "cell_type": "code",
   "execution_count": 146,
   "metadata": {},
   "outputs": [
    {
     "name": "stdout",
     "output_type": "stream",
     "text": [
      "415/415 [==============================] - 1s 2ms/step\n"
     ]
    }
   ],
   "source": [
    "y_test_pred = model.predict(X_test) "
   ]
  },
  {
   "cell_type": "code",
   "execution_count": 147,
   "metadata": {},
   "outputs": [
    {
     "name": "stdout",
     "output_type": "stream",
     "text": [
      "(13255, 22)\n",
      "(13255, 1)\n",
      "0.015972553\n",
      "211.71619\n"
     ]
    }
   ],
   "source": [
    "print(X_test.shape)\n",
    "print(y_test_pred.shape)\n",
    "print(y_test_pred.mean())\n",
    "print(y_test_pred.sum())"
   ]
  },
  {
   "cell_type": "code",
   "execution_count": 148,
   "metadata": {},
   "outputs": [],
   "source": [
    "threshold = 0.9\n",
    "y_test_pred[y_test_pred < threshold] = 0\n",
    "y_test_pred[y_test_pred >= threshold] = 1"
   ]
  },
  {
   "cell_type": "code",
   "execution_count": 149,
   "metadata": {},
   "outputs": [
    {
     "name": "stdout",
     "output_type": "stream",
     "text": [
      "0.010033949\n",
      "133.0\n"
     ]
    }
   ],
   "source": [
    "print(y_test_pred.mean())\n",
    "print(y_test_pred.sum())"
   ]
  },
  {
   "cell_type": "code",
   "execution_count": 113,
   "metadata": {},
   "outputs": [],
   "source": [
    "submission = pd.read_csv(\"..\\OriginalData\\submission.csv\")"
   ]
  },
  {
   "cell_type": "code",
   "execution_count": 114,
   "metadata": {},
   "outputs": [
    {
     "data": {
      "text/html": [
       "<div>\n",
       "<style scoped>\n",
       "    .dataframe tbody tr th:only-of-type {\n",
       "        vertical-align: middle;\n",
       "    }\n",
       "\n",
       "    .dataframe tbody tr th {\n",
       "        vertical-align: top;\n",
       "    }\n",
       "\n",
       "    .dataframe thead th {\n",
       "        text-align: right;\n",
       "    }\n",
       "</style>\n",
       "<table border=\"1\" class=\"dataframe\">\n",
       "  <thead>\n",
       "    <tr style=\"text-align: right;\">\n",
       "      <th></th>\n",
       "      <th>user_id</th>\n",
       "      <th>moved_after_2019</th>\n",
       "    </tr>\n",
       "  </thead>\n",
       "  <tbody>\n",
       "    <tr>\n",
       "      <th>0</th>\n",
       "      <td>17449</td>\n",
       "      <td>NaN</td>\n",
       "    </tr>\n",
       "    <tr>\n",
       "      <th>1</th>\n",
       "      <td>33967</td>\n",
       "      <td>NaN</td>\n",
       "    </tr>\n",
       "    <tr>\n",
       "      <th>2</th>\n",
       "      <td>2110</td>\n",
       "      <td>NaN</td>\n",
       "    </tr>\n",
       "    <tr>\n",
       "      <th>3</th>\n",
       "      <td>55082</td>\n",
       "      <td>NaN</td>\n",
       "    </tr>\n",
       "    <tr>\n",
       "      <th>4</th>\n",
       "      <td>37165</td>\n",
       "      <td>NaN</td>\n",
       "    </tr>\n",
       "  </tbody>\n",
       "</table>\n",
       "</div>"
      ],
      "text/plain": [
       "   user_id  moved_after_2019\n",
       "0    17449               NaN\n",
       "1    33967               NaN\n",
       "2     2110               NaN\n",
       "3    55082               NaN\n",
       "4    37165               NaN"
      ]
     },
     "execution_count": 114,
     "metadata": {},
     "output_type": "execute_result"
    }
   ],
   "source": [
    "submission.head()"
   ]
  },
  {
   "cell_type": "code",
   "execution_count": 116,
   "metadata": {},
   "outputs": [
    {
     "data": {
      "text/html": [
       "<div>\n",
       "<style scoped>\n",
       "    .dataframe tbody tr th:only-of-type {\n",
       "        vertical-align: middle;\n",
       "    }\n",
       "\n",
       "    .dataframe tbody tr th {\n",
       "        vertical-align: top;\n",
       "    }\n",
       "\n",
       "    .dataframe thead th {\n",
       "        text-align: right;\n",
       "    }\n",
       "</style>\n",
       "<table border=\"1\" class=\"dataframe\">\n",
       "  <thead>\n",
       "    <tr style=\"text-align: right;\">\n",
       "      <th></th>\n",
       "      <th>user_id</th>\n",
       "      <th>moved_after_2019</th>\n",
       "    </tr>\n",
       "  </thead>\n",
       "  <tbody>\n",
       "    <tr>\n",
       "      <th>0</th>\n",
       "      <td>17449</td>\n",
       "      <td>0</td>\n",
       "    </tr>\n",
       "    <tr>\n",
       "      <th>1</th>\n",
       "      <td>33967</td>\n",
       "      <td>0</td>\n",
       "    </tr>\n",
       "    <tr>\n",
       "      <th>2</th>\n",
       "      <td>2110</td>\n",
       "      <td>0</td>\n",
       "    </tr>\n",
       "    <tr>\n",
       "      <th>3</th>\n",
       "      <td>55082</td>\n",
       "      <td>0</td>\n",
       "    </tr>\n",
       "    <tr>\n",
       "      <th>4</th>\n",
       "      <td>37165</td>\n",
       "      <td>0</td>\n",
       "    </tr>\n",
       "    <tr>\n",
       "      <th>...</th>\n",
       "      <td>...</td>\n",
       "      <td>...</td>\n",
       "    </tr>\n",
       "    <tr>\n",
       "      <th>13250</th>\n",
       "      <td>32847</td>\n",
       "      <td>0</td>\n",
       "    </tr>\n",
       "    <tr>\n",
       "      <th>13251</th>\n",
       "      <td>20054</td>\n",
       "      <td>0</td>\n",
       "    </tr>\n",
       "    <tr>\n",
       "      <th>13252</th>\n",
       "      <td>7029</td>\n",
       "      <td>0</td>\n",
       "    </tr>\n",
       "    <tr>\n",
       "      <th>13253</th>\n",
       "      <td>56130</td>\n",
       "      <td>0</td>\n",
       "    </tr>\n",
       "    <tr>\n",
       "      <th>13254</th>\n",
       "      <td>16036</td>\n",
       "      <td>0</td>\n",
       "    </tr>\n",
       "  </tbody>\n",
       "</table>\n",
       "<p>13255 rows × 2 columns</p>\n",
       "</div>"
      ],
      "text/plain": [
       "       user_id  moved_after_2019\n",
       "0        17449                 0\n",
       "1        33967                 0\n",
       "2         2110                 0\n",
       "3        55082                 0\n",
       "4        37165                 0\n",
       "...        ...               ...\n",
       "13250    32847                 0\n",
       "13251    20054                 0\n",
       "13252     7029                 0\n",
       "13253    56130                 0\n",
       "13254    16036                 0\n",
       "\n",
       "[13255 rows x 2 columns]"
      ]
     },
     "execution_count": 116,
     "metadata": {},
     "output_type": "execute_result"
    }
   ],
   "source": [
    "submission.moved_after_2019 = y_test_pred.astype(int)\n",
    "submission"
   ]
  },
  {
   "cell_type": "code",
   "execution_count": 119,
   "metadata": {},
   "outputs": [
    {
     "data": {
      "text/plain": [
       "0    13087\n",
       "1      168\n",
       "Name: moved_after_2019, dtype: int64"
      ]
     },
     "execution_count": 119,
     "metadata": {},
     "output_type": "execute_result"
    }
   ],
   "source": [
    "submission.moved_after_2019.value_counts()"
   ]
  },
  {
   "cell_type": "code",
   "execution_count": 121,
   "metadata": {},
   "outputs": [],
   "source": [
    "submission.to_csv(f\"..\\Submissions\\submission_t{threshold}.csv\",index=False)"
   ]
  },
  {
   "cell_type": "code",
   "execution_count": null,
   "metadata": {},
   "outputs": [],
   "source": []
  },
  {
   "cell_type": "code",
   "execution_count": null,
   "metadata": {},
   "outputs": [],
   "source": []
  }
 ],
 "metadata": {
  "kernelspec": {
   "display_name": "Python 3 (ipykernel)",
   "language": "python",
   "name": "python3"
  },
  "language_info": {
   "codemirror_mode": {
    "name": "ipython",
    "version": 3
   },
   "file_extension": ".py",
   "mimetype": "text/x-python",
   "name": "python",
   "nbconvert_exporter": "python",
   "pygments_lexer": "ipython3",
   "version": "3.10.8"
  },
  "vscode": {
   "interpreter": {
    "hash": "0572de3ec0de3db14d810fe000b3b4fa7d1570197df366e4e138b540c1876b21"
   }
  }
 },
 "nbformat": 4,
 "nbformat_minor": 2
}
