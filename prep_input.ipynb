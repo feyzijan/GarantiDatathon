{
 "cells": [
  {
   "cell_type": "code",
   "execution_count": 17,
   "metadata": {},
   "outputs": [],
   "source": [
    "import os\n",
    "import pandas as pd"
   ]
  },
  {
   "attachments": {},
   "cell_type": "markdown",
   "metadata": {},
   "source": [
    "Adding the prepared data into the train_users.csv and test_users.csv"
   ]
  },
  {
   "cell_type": "code",
   "execution_count": 18,
   "metadata": {},
   "outputs": [],
   "source": [
    "path = os.path.join('OriginalData', 'train_users.csv')\n",
    "train = pd.read_csv(path)\n",
    "\n",
    "path = os.path.join('OriginalData', 'test_users.csv')\n",
    "test = pd.read_csv(path)"
   ]
  },
  {
   "cell_type": "code",
   "execution_count": 19,
   "metadata": {},
   "outputs": [
    {
     "data": {
      "text/html": [
       "<div>\n",
       "<style scoped>\n",
       "    .dataframe tbody tr th:only-of-type {\n",
       "        vertical-align: middle;\n",
       "    }\n",
       "\n",
       "    .dataframe tbody tr th {\n",
       "        vertical-align: top;\n",
       "    }\n",
       "\n",
       "    .dataframe thead th {\n",
       "        text-align: right;\n",
       "    }\n",
       "</style>\n",
       "<table border=\"1\" class=\"dataframe\">\n",
       "  <thead>\n",
       "    <tr style=\"text-align: right;\">\n",
       "      <th></th>\n",
       "      <th>user_id</th>\n",
       "      <th>industry</th>\n",
       "      <th>location</th>\n",
       "      <th>moved_after_2019</th>\n",
       "    </tr>\n",
       "  </thead>\n",
       "  <tbody>\n",
       "    <tr>\n",
       "      <th>0</th>\n",
       "      <td>1301</td>\n",
       "      <td>Information Technology and Services</td>\n",
       "      <td>Istanbul, Istanbul, Turkey</td>\n",
       "      <td>1</td>\n",
       "    </tr>\n",
       "    <tr>\n",
       "      <th>1</th>\n",
       "      <td>6950</td>\n",
       "      <td>Internet</td>\n",
       "      <td>Istanbul, Istanbul, Turkey</td>\n",
       "      <td>0</td>\n",
       "    </tr>\n",
       "    <tr>\n",
       "      <th>2</th>\n",
       "      <td>4880</td>\n",
       "      <td>Online Media</td>\n",
       "      <td>Turkey</td>\n",
       "      <td>0</td>\n",
       "    </tr>\n",
       "    <tr>\n",
       "      <th>3</th>\n",
       "      <td>26046</td>\n",
       "      <td>Telecommunications</td>\n",
       "      <td>Istanbul, Istanbul, Turkey</td>\n",
       "      <td>0</td>\n",
       "    </tr>\n",
       "    <tr>\n",
       "      <th>4</th>\n",
       "      <td>11005</td>\n",
       "      <td>Banking</td>\n",
       "      <td>Istanbul, Turkey</td>\n",
       "      <td>0</td>\n",
       "    </tr>\n",
       "  </tbody>\n",
       "</table>\n",
       "</div>"
      ],
      "text/plain": [
       "   user_id                             industry                    location  \\\n",
       "0     1301  Information Technology and Services  Istanbul, Istanbul, Turkey   \n",
       "1     6950                             Internet  Istanbul, Istanbul, Turkey   \n",
       "2     4880                         Online Media                      Turkey   \n",
       "3    26046                   Telecommunications  Istanbul, Istanbul, Turkey   \n",
       "4    11005                              Banking            Istanbul, Turkey   \n",
       "\n",
       "   moved_after_2019  \n",
       "0                 1  \n",
       "1                 0  \n",
       "2                 0  \n",
       "3                 0  \n",
       "4                 0  "
      ]
     },
     "execution_count": 19,
     "metadata": {},
     "output_type": "execute_result"
    }
   ],
   "source": [
    "train.head()"
   ]
  },
  {
   "cell_type": "code",
   "execution_count": 20,
   "metadata": {},
   "outputs": [
    {
     "data": {
      "text/html": [
       "<div>\n",
       "<style scoped>\n",
       "    .dataframe tbody tr th:only-of-type {\n",
       "        vertical-align: middle;\n",
       "    }\n",
       "\n",
       "    .dataframe tbody tr th {\n",
       "        vertical-align: top;\n",
       "    }\n",
       "\n",
       "    .dataframe thead th {\n",
       "        text-align: right;\n",
       "    }\n",
       "</style>\n",
       "<table border=\"1\" class=\"dataframe\">\n",
       "  <thead>\n",
       "    <tr style=\"text-align: right;\">\n",
       "      <th></th>\n",
       "      <th>user_id</th>\n",
       "      <th>industry</th>\n",
       "      <th>location</th>\n",
       "    </tr>\n",
       "  </thead>\n",
       "  <tbody>\n",
       "    <tr>\n",
       "      <th>0</th>\n",
       "      <td>17449</td>\n",
       "      <td>Research</td>\n",
       "      <td>Turkey</td>\n",
       "    </tr>\n",
       "    <tr>\n",
       "      <th>1</th>\n",
       "      <td>33967</td>\n",
       "      <td>Computer Software</td>\n",
       "      <td>Istanbul, Istanbul, Turkey</td>\n",
       "    </tr>\n",
       "    <tr>\n",
       "      <th>2</th>\n",
       "      <td>2110</td>\n",
       "      <td>Automotive</td>\n",
       "      <td>Turkey</td>\n",
       "    </tr>\n",
       "    <tr>\n",
       "      <th>3</th>\n",
       "      <td>55082</td>\n",
       "      <td>Internet</td>\n",
       "      <td>Turkey</td>\n",
       "    </tr>\n",
       "    <tr>\n",
       "      <th>4</th>\n",
       "      <td>37165</td>\n",
       "      <td>Electrical/Electronic Manufacturing</td>\n",
       "      <td>Turkey</td>\n",
       "    </tr>\n",
       "  </tbody>\n",
       "</table>\n",
       "</div>"
      ],
      "text/plain": [
       "   user_id                             industry                    location\n",
       "0    17449                             Research                      Turkey\n",
       "1    33967                    Computer Software  Istanbul, Istanbul, Turkey\n",
       "2     2110                           Automotive                      Turkey\n",
       "3    55082                             Internet                      Turkey\n",
       "4    37165  Electrical/Electronic Manufacturing                      Turkey"
      ]
     },
     "execution_count": 20,
     "metadata": {},
     "output_type": "execute_result"
    }
   ],
   "source": [
    "test.head()"
   ]
  },
  {
   "attachments": {},
   "cell_type": "markdown",
   "metadata": {},
   "source": [
    "Adding in work experiences"
   ]
  },
  {
   "cell_type": "code",
   "execution_count": 21,
   "metadata": {},
   "outputs": [],
   "source": [
    "path = os.path.join('PreparedData', 'work_experiences.csv')\n",
    "work_experiences = pd.read_csv(path)"
   ]
  },
  {
   "cell_type": "code",
   "execution_count": 22,
   "metadata": {},
   "outputs": [],
   "source": [
    "# From the work_experiences.csv file, we can see that the work experiences are for each user, so we can merge the work experiences with the train and test dataframes.\n",
    "train = pd.merge(train, work_experiences, how='left', on='user_id')\n",
    "test = pd.merge(test, work_experiences, how='left', on='user_id')"
   ]
  },
  {
   "cell_type": "code",
   "execution_count": 23,
   "metadata": {},
   "outputs": [
    {
     "data": {
      "text/html": [
       "<div>\n",
       "<style scoped>\n",
       "    .dataframe tbody tr th:only-of-type {\n",
       "        vertical-align: middle;\n",
       "    }\n",
       "\n",
       "    .dataframe tbody tr th {\n",
       "        vertical-align: top;\n",
       "    }\n",
       "\n",
       "    .dataframe thead th {\n",
       "        text-align: right;\n",
       "    }\n",
       "</style>\n",
       "<table border=\"1\" class=\"dataframe\">\n",
       "  <thead>\n",
       "    <tr style=\"text-align: right;\">\n",
       "      <th></th>\n",
       "      <th>user_id</th>\n",
       "      <th>industry</th>\n",
       "      <th>location</th>\n",
       "      <th>moved_after_2019</th>\n",
       "      <th>companies_worked</th>\n",
       "      <th>country</th>\n",
       "      <th>max_duration</th>\n",
       "    </tr>\n",
       "  </thead>\n",
       "  <tbody>\n",
       "    <tr>\n",
       "      <th>0</th>\n",
       "      <td>1301</td>\n",
       "      <td>Information Technology and Services</td>\n",
       "      <td>Istanbul, Istanbul, Turkey</td>\n",
       "      <td>1</td>\n",
       "      <td>3.0</td>\n",
       "      <td>TR</td>\n",
       "      <td>1035 days</td>\n",
       "    </tr>\n",
       "    <tr>\n",
       "      <th>1</th>\n",
       "      <td>6950</td>\n",
       "      <td>Internet</td>\n",
       "      <td>Istanbul, Istanbul, Turkey</td>\n",
       "      <td>0</td>\n",
       "      <td>4.0</td>\n",
       "      <td>TR</td>\n",
       "      <td>1402 days</td>\n",
       "    </tr>\n",
       "    <tr>\n",
       "      <th>2</th>\n",
       "      <td>4880</td>\n",
       "      <td>Online Media</td>\n",
       "      <td>Turkey</td>\n",
       "      <td>0</td>\n",
       "      <td>4.0</td>\n",
       "      <td>TR</td>\n",
       "      <td>1216 days</td>\n",
       "    </tr>\n",
       "    <tr>\n",
       "      <th>3</th>\n",
       "      <td>26046</td>\n",
       "      <td>Telecommunications</td>\n",
       "      <td>Istanbul, Istanbul, Turkey</td>\n",
       "      <td>0</td>\n",
       "      <td>1.0</td>\n",
       "      <td>TR</td>\n",
       "      <td>1856 days</td>\n",
       "    </tr>\n",
       "    <tr>\n",
       "      <th>4</th>\n",
       "      <td>11005</td>\n",
       "      <td>Banking</td>\n",
       "      <td>Istanbul, Turkey</td>\n",
       "      <td>0</td>\n",
       "      <td>3.0</td>\n",
       "      <td>TR</td>\n",
       "      <td>2769 days</td>\n",
       "    </tr>\n",
       "  </tbody>\n",
       "</table>\n",
       "</div>"
      ],
      "text/plain": [
       "   user_id                             industry                    location  \\\n",
       "0     1301  Information Technology and Services  Istanbul, Istanbul, Turkey   \n",
       "1     6950                             Internet  Istanbul, Istanbul, Turkey   \n",
       "2     4880                         Online Media                      Turkey   \n",
       "3    26046                   Telecommunications  Istanbul, Istanbul, Turkey   \n",
       "4    11005                              Banking            Istanbul, Turkey   \n",
       "\n",
       "   moved_after_2019  companies_worked country max_duration  \n",
       "0                 1               3.0      TR    1035 days  \n",
       "1                 0               4.0      TR    1402 days  \n",
       "2                 0               4.0      TR    1216 days  \n",
       "3                 0               1.0      TR    1856 days  \n",
       "4                 0               3.0      TR    2769 days  "
      ]
     },
     "execution_count": 23,
     "metadata": {},
     "output_type": "execute_result"
    }
   ],
   "source": [
    "test.head()"
   ]
  }
 ],
 "metadata": {
  "kernelspec": {
   "display_name": "Python 3",
   "language": "python",
   "name": "python3"
  },
  "language_info": {
   "codemirror_mode": {
    "name": "ipython",
    "version": 3
   },
   "file_extension": ".py",
   "mimetype": "text/x-python",
   "name": "python",
   "nbconvert_exporter": "python",
   "pygments_lexer": "ipython3",
   "version": "3.11.1"
  },
  "orig_nbformat": 4,
  "vscode": {
   "interpreter": {
    "hash": "aee8b7b246df8f9039afb4144a1f6fd8d2ca17a180786b69acc140d282b71a49"
   }
  }
 },
 "nbformat": 4,
 "nbformat_minor": 2
}
